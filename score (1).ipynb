{
 "cells": [
  {
   "cell_type": "code",
   "execution_count": null,
   "id": "periodic-freeze",
   "metadata": {},
   "outputs": [],
   "source": [
    "# ---------------------------------------------------------\n",
    "# Copyright (c) Microsoft Corporation. All rights reserved.\n",
    "# ---------------------------------------------------------\n",
    "import json\n",
    "import logging\n",
    "import os\n",
    "import pickle\n",
    "import numpy as np\n",
    "import pandas as pd\n",
    "import joblib"
   ]
  },
  {
   "cell_type": "code",
   "execution_count": null,
   "id": "breathing-holly",
   "metadata": {},
   "outputs": [],
   "source": [
    "import azureml.automl.core\n",
    "from azureml.automl.core.shared import logging_utilities, log_server\n",
    "from azureml.telemetry import INSTRUMENTATION_KEY"
   ]
  },
  {
   "cell_type": "code",
   "execution_count": null,
   "id": "deadly-discount",
   "metadata": {
    "lines_to_next_cell": 2
   },
   "outputs": [],
   "source": [
    "from inference_schema.schema_decorators import input_schema, output_schema\n",
    "from inference_schema.parameter_types.numpy_parameter_type import NumpyParameterType\n",
    "from inference_schema.parameter_types.pandas_parameter_type import PandasParameterType"
   ]
  },
  {
   "cell_type": "code",
   "execution_count": null,
   "id": "verbal-synthetic",
   "metadata": {},
   "outputs": [],
   "source": [
    "input_sample = pd.DataFrame({\"city_development_index\": pd.Series([0.0], dtype=\"float64\"), \"gender\": pd.Series([\"example_value\"], dtype=\"object\"), \"relevent_experience\": pd.Series([\"example_value\"], dtype=\"object\"), \"enrolled_university\": pd.Series([\"example_value\"], dtype=\"object\"), \"education_level\": pd.Series([\"example_value\"], dtype=\"object\"), \"major_discipline\": pd.Series([\"example_value\"], dtype=\"object\"), \"experience\": pd.Series([\"example_value\"], dtype=\"object\"), \"company_size\": pd.Series([\"example_value\"], dtype=\"object\"), \"company_type\": pd.Series([\"example_value\"], dtype=\"object\"), \"last_new_job\": pd.Series([\"example_value\"], dtype=\"object\"), \"training_hours\": pd.Series([0], dtype=\"int64\")})\n",
    "output_sample = np.array([0])\n",
    "try:\n",
    "    log_server.enable_telemetry(INSTRUMENTATION_KEY)\n",
    "    log_server.set_verbosity('INFO')\n",
    "    logger = logging.getLogger('azureml.automl.core.scoring_script')\n",
    "except:\n",
    "    pass"
   ]
  },
  {
   "cell_type": "code",
   "execution_count": null,
   "id": "pressing-mirror",
   "metadata": {},
   "outputs": [],
   "source": [
    "def init():\n",
    "    global model\n",
    "    # This name is model.id of model that we want to deploy deserialize the model file back\n",
    "    # into a sklearn model\n",
    "    model_path = os.path.join(os.getenv('AZUREML_MODEL_DIR'), 'model.pkl')\n",
    "    path = os.path.normpath(model_path)\n",
    "    path_split = path.split(os.sep)\n",
    "    log_server.update_custom_dimensions({'model_name': path_split[-3], 'model_version': path_split[-2]})\n",
    "    try:\n",
    "        logger.info(\"Loading model from path.\")\n",
    "        model = joblib.load(model_path)\n",
    "        logger.info(\"Loading successful.\")\n",
    "    except Exception as e:\n",
    "        logging_utilities.log_traceback(e, logger)\n",
    "        raise"
   ]
  },
  {
   "cell_type": "code",
   "execution_count": null,
   "id": "patent-criterion",
   "metadata": {},
   "outputs": [],
   "source": [
    "@input_schema('data', PandasParameterType(input_sample))\n",
    "@output_schema(NumpyParameterType(output_sample))\n",
    "def run(data):\n",
    "    try:\n",
    "        result = model.predict(data)\n",
    "        return json.dumps({\"result\": result.tolist()})\n",
    "    except Exception as e:\n",
    "        result = str(e)\n",
    "        return json.dumps({\"error\": result})"
   ]
  }
 ],
 "metadata": {
  "jupytext": {
   "cell_metadata_filter": "-all",
   "notebook_metadata_filter": "-all",
   "text_representation": {
    "extension": ".py",
    "format_name": "light"
   }
  },
  "kernelspec": {
   "display_name": "Python 3.6 - AzureML",
   "language": "python",
   "name": "python3-azureml"
  }
 },
 "nbformat": 4,
 "nbformat_minor": 5
}
