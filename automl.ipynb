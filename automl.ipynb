{
 "cells": [
  {
   "cell_type": "markdown",
   "metadata": {},
   "source": [
    "# Automated ML\n",
    "\n",
    "TODO: Import Dependencies. In the cell below, import all the dependencies that you will need to complete the project."
   ]
  },
  {
   "cell_type": "code",
   "execution_count": 1,
   "metadata": {},
   "outputs": [
    {
     "name": "stdout",
     "output_type": "stream",
     "text": [
      "Requirement already satisfied: xgboost==0.90 in /anaconda/envs/azureml_py36/lib/python3.6/site-packages (0.90)\n",
      "Requirement already satisfied: scipy in /anaconda/envs/azureml_py36/lib/python3.6/site-packages (from xgboost==0.90) (1.4.1)\n",
      "Requirement already satisfied: numpy in /anaconda/envs/azureml_py36/lib/python3.6/site-packages (from xgboost==0.90) (1.18.5)\n",
      "Note: you may need to restart the kernel to use updated packages.\n"
     ]
    }
   ],
   "source": [
    "pip install xgboost==0.90"
   ]
  },
  {
   "cell_type": "code",
   "execution_count": 2,
   "metadata": {
    "gather": {
     "logged": 1598423888013
    },
    "jupyter": {
     "outputs_hidden": false,
     "source_hidden": false
    },
    "nteract": {
     "transient": {
      "deleting": false
     }
    }
   },
   "outputs": [],
   "source": [
    "import azureml.core\n",
    "from azureml.core import Workspace, Experiment\n",
    "from azureml.core.compute import ComputeTarget, AmlCompute\n",
    "from azureml.core.compute_target import ComputeTargetException\n",
    "from azureml.core import Dataset\n",
    "from azureml.train.automl.utilities import get_primary_metrics\n",
    "from azureml.train.automl import AutoMLConfig\n",
    "from azureml.pipeline.steps import AutoMLStep\n",
    "from azureml.widgets import RunDetails\n",
    "import os\n",
    "import joblib\n",
    "from azureml.core.environment import Environment\n",
    "from azureml.core.model import InferenceConfig, Model\n",
    "from azureml.core.webservice.aci import AciWebservice\n",
    "from azureml.core.webservice import Webservice\n",
    "from azureml.core.model import Model"
   ]
  },
  {
   "cell_type": "markdown",
   "metadata": {},
   "source": [
    "## Dataset\n",
    "\n",
    "### Overview\n",
    "TODO: In this markdown cell, give an overview of the dataset you are using. Also mention the task you will be performing.\n",
    "The dataset is taken from kaggle : \"https://www.kaggle.com/arashnic/hr-analytics-job-change-of-data-scientists\".\n",
    "\n",
    "The task is to predict whether the employee will leave the current job or not, based on the following factors-\n",
    "\n",
    "enrollee_id : Unique ID for candidate\n",
    "city: City code\n",
    "city_ development _index : Developement index of the city (scaled)\n",
    "gender: Gender of candidate\n",
    "relevent_experience: Relevant experience of candidate\n",
    "enrolled_university: Type of University course enrolled if any\n",
    "education_level: Education level of candidate\n",
    "major_discipline :Education major discipline of candidate\n",
    "experience: Candidate total experience in years\n",
    "company_size: No of employees in current employer's company\n",
    "company_type : Type of current employer\n",
    "lastnewjob: Difference in years between previous job and current job\n",
    "training_hours: training hours completed\n",
    "target: 0 – Not looking for job change, 1 – Looking for a job change\n",
    "\n",
    "TODO: Get data. In the cell below, write code to access the data you will be using in this project. Remember that the dataset needs to be external."
   ]
  },
  {
   "cell_type": "code",
   "execution_count": 3,
   "metadata": {
    "gather": {
     "logged": 1598423890461
    },
    "jupyter": {
     "outputs_hidden": false,
     "source_hidden": false
    },
    "nteract": {
     "transient": {
      "deleting": false
     }
    }
   },
   "outputs": [
    {
     "name": "stdout",
     "output_type": "stream",
     "text": [
      "Workspace name: quick-starts-ws-140983\n",
      "Azure region: southcentralus\n",
      "Subscription id: 9e65f93e-bdd8-437b-b1e8-0647cd6098f7\n",
      "Resource group: aml-quickstarts-140983\n"
     ]
    }
   ],
   "source": [
    "ws = Workspace.from_config()\n",
    "\n",
    "# choose a name for experiment\n",
    "experiment_name = 'automl-job-change-expt'\n",
    "\n",
    "experiment=Experiment(ws, experiment_name)\n",
    "print('Workspace name: ' + ws.name, \n",
    "      'Azure region: ' + ws.location, \n",
    "      'Subscription id: ' + ws.subscription_id, \n",
    "      'Resource group: ' + ws.resource_group, sep = '\\n')\n",
    "\n",
    "run = experiment.start_logging()"
   ]
  },
  {
   "cell_type": "code",
   "execution_count": 4,
   "metadata": {},
   "outputs": [
    {
     "name": "stdout",
     "output_type": "stream",
     "text": [
      "Found existing cluster! No need to create new!\n"
     ]
    }
   ],
   "source": [
    "compute_cluster_name=\"demo-1-cluster\"\n",
    "try:\n",
    "    Compute_target=ComputeTarget(workspace=ws,name=compute_cluster_name)\n",
    "    print(\"Found existing cluster! No need to create new!\")\n",
    "except ComputeTargetException:\n",
    "    config_of_compute=AmlCompute.provisioning_configuration(vm_size=\"Standard_D2_V2\",max_nodes=4)\n",
    "    Compute_target=ComputeTarget.create(ws,compute_cluster_name,config_of_compute)\n",
    "    Compute_target.wait_for_completion(show_output=True)"
   ]
  },
  {
   "cell_type": "code",
   "execution_count": 5,
   "metadata": {
    "scrolled": true
   },
   "outputs": [
    {
     "data": {
      "text/html": [
       "<div>\n",
       "<style scoped>\n",
       "    .dataframe tbody tr th:only-of-type {\n",
       "        vertical-align: middle;\n",
       "    }\n",
       "\n",
       "    .dataframe tbody tr th {\n",
       "        vertical-align: top;\n",
       "    }\n",
       "\n",
       "    .dataframe thead th {\n",
       "        text-align: right;\n",
       "    }\n",
       "</style>\n",
       "<table border=\"1\" class=\"dataframe\">\n",
       "  <thead>\n",
       "    <tr style=\"text-align: right;\">\n",
       "      <th></th>\n",
       "      <th>enrollee_id</th>\n",
       "      <th>city</th>\n",
       "      <th>city_development_index</th>\n",
       "      <th>gender</th>\n",
       "      <th>relevent_experience</th>\n",
       "      <th>enrolled_university</th>\n",
       "      <th>education_level</th>\n",
       "      <th>major_discipline</th>\n",
       "      <th>experience</th>\n",
       "      <th>company_size</th>\n",
       "      <th>company_type</th>\n",
       "      <th>last_new_job</th>\n",
       "      <th>training_hours</th>\n",
       "      <th>target</th>\n",
       "    </tr>\n",
       "  </thead>\n",
       "  <tbody>\n",
       "    <tr>\n",
       "      <th>0</th>\n",
       "      <td>8949</td>\n",
       "      <td>city_103</td>\n",
       "      <td>0.920</td>\n",
       "      <td>Male</td>\n",
       "      <td>Has relevent experience</td>\n",
       "      <td>no_enrollment</td>\n",
       "      <td>Graduate</td>\n",
       "      <td>STEM</td>\n",
       "      <td>&gt;20</td>\n",
       "      <td>None</td>\n",
       "      <td>None</td>\n",
       "      <td>1</td>\n",
       "      <td>36</td>\n",
       "      <td>1.0</td>\n",
       "    </tr>\n",
       "    <tr>\n",
       "      <th>1</th>\n",
       "      <td>29725</td>\n",
       "      <td>city_40</td>\n",
       "      <td>0.776</td>\n",
       "      <td>Male</td>\n",
       "      <td>No relevent experience</td>\n",
       "      <td>no_enrollment</td>\n",
       "      <td>Graduate</td>\n",
       "      <td>STEM</td>\n",
       "      <td>15</td>\n",
       "      <td>50-99</td>\n",
       "      <td>Pvt Ltd</td>\n",
       "      <td>&gt;4</td>\n",
       "      <td>47</td>\n",
       "      <td>0.0</td>\n",
       "    </tr>\n",
       "    <tr>\n",
       "      <th>2</th>\n",
       "      <td>11561</td>\n",
       "      <td>city_21</td>\n",
       "      <td>0.624</td>\n",
       "      <td>None</td>\n",
       "      <td>No relevent experience</td>\n",
       "      <td>Full time course</td>\n",
       "      <td>Graduate</td>\n",
       "      <td>STEM</td>\n",
       "      <td>5</td>\n",
       "      <td>None</td>\n",
       "      <td>None</td>\n",
       "      <td>never</td>\n",
       "      <td>83</td>\n",
       "      <td>0.0</td>\n",
       "    </tr>\n",
       "    <tr>\n",
       "      <th>3</th>\n",
       "      <td>33241</td>\n",
       "      <td>city_115</td>\n",
       "      <td>0.789</td>\n",
       "      <td>None</td>\n",
       "      <td>No relevent experience</td>\n",
       "      <td>None</td>\n",
       "      <td>Graduate</td>\n",
       "      <td>Business Degree</td>\n",
       "      <td>&lt;1</td>\n",
       "      <td>None</td>\n",
       "      <td>Pvt Ltd</td>\n",
       "      <td>never</td>\n",
       "      <td>52</td>\n",
       "      <td>1.0</td>\n",
       "    </tr>\n",
       "    <tr>\n",
       "      <th>4</th>\n",
       "      <td>666</td>\n",
       "      <td>city_162</td>\n",
       "      <td>0.767</td>\n",
       "      <td>Male</td>\n",
       "      <td>Has relevent experience</td>\n",
       "      <td>no_enrollment</td>\n",
       "      <td>Masters</td>\n",
       "      <td>STEM</td>\n",
       "      <td>&gt;20</td>\n",
       "      <td>50-99</td>\n",
       "      <td>Funded Startup</td>\n",
       "      <td>4</td>\n",
       "      <td>8</td>\n",
       "      <td>0.0</td>\n",
       "    </tr>\n",
       "    <tr>\n",
       "      <th>...</th>\n",
       "      <td>...</td>\n",
       "      <td>...</td>\n",
       "      <td>...</td>\n",
       "      <td>...</td>\n",
       "      <td>...</td>\n",
       "      <td>...</td>\n",
       "      <td>...</td>\n",
       "      <td>...</td>\n",
       "      <td>...</td>\n",
       "      <td>...</td>\n",
       "      <td>...</td>\n",
       "      <td>...</td>\n",
       "      <td>...</td>\n",
       "      <td>...</td>\n",
       "    </tr>\n",
       "    <tr>\n",
       "      <th>19153</th>\n",
       "      <td>7386</td>\n",
       "      <td>city_173</td>\n",
       "      <td>0.878</td>\n",
       "      <td>Male</td>\n",
       "      <td>No relevent experience</td>\n",
       "      <td>no_enrollment</td>\n",
       "      <td>Graduate</td>\n",
       "      <td>Humanities</td>\n",
       "      <td>14</td>\n",
       "      <td>None</td>\n",
       "      <td>None</td>\n",
       "      <td>1</td>\n",
       "      <td>42</td>\n",
       "      <td>1.0</td>\n",
       "    </tr>\n",
       "    <tr>\n",
       "      <th>19154</th>\n",
       "      <td>31398</td>\n",
       "      <td>city_103</td>\n",
       "      <td>0.920</td>\n",
       "      <td>Male</td>\n",
       "      <td>Has relevent experience</td>\n",
       "      <td>no_enrollment</td>\n",
       "      <td>Graduate</td>\n",
       "      <td>STEM</td>\n",
       "      <td>14</td>\n",
       "      <td>None</td>\n",
       "      <td>None</td>\n",
       "      <td>4</td>\n",
       "      <td>52</td>\n",
       "      <td>1.0</td>\n",
       "    </tr>\n",
       "    <tr>\n",
       "      <th>19155</th>\n",
       "      <td>24576</td>\n",
       "      <td>city_103</td>\n",
       "      <td>0.920</td>\n",
       "      <td>Male</td>\n",
       "      <td>Has relevent experience</td>\n",
       "      <td>no_enrollment</td>\n",
       "      <td>Graduate</td>\n",
       "      <td>STEM</td>\n",
       "      <td>&gt;20</td>\n",
       "      <td>50-99</td>\n",
       "      <td>Pvt Ltd</td>\n",
       "      <td>4</td>\n",
       "      <td>44</td>\n",
       "      <td>0.0</td>\n",
       "    </tr>\n",
       "    <tr>\n",
       "      <th>19156</th>\n",
       "      <td>5756</td>\n",
       "      <td>city_65</td>\n",
       "      <td>0.802</td>\n",
       "      <td>Male</td>\n",
       "      <td>Has relevent experience</td>\n",
       "      <td>no_enrollment</td>\n",
       "      <td>High School</td>\n",
       "      <td>None</td>\n",
       "      <td>&lt;1</td>\n",
       "      <td>500-999</td>\n",
       "      <td>Pvt Ltd</td>\n",
       "      <td>2</td>\n",
       "      <td>97</td>\n",
       "      <td>0.0</td>\n",
       "    </tr>\n",
       "    <tr>\n",
       "      <th>19157</th>\n",
       "      <td>23834</td>\n",
       "      <td>city_67</td>\n",
       "      <td>0.855</td>\n",
       "      <td>None</td>\n",
       "      <td>No relevent experience</td>\n",
       "      <td>no_enrollment</td>\n",
       "      <td>Primary School</td>\n",
       "      <td>None</td>\n",
       "      <td>2</td>\n",
       "      <td>None</td>\n",
       "      <td>None</td>\n",
       "      <td>1</td>\n",
       "      <td>127</td>\n",
       "      <td>0.0</td>\n",
       "    </tr>\n",
       "  </tbody>\n",
       "</table>\n",
       "<p>19158 rows × 14 columns</p>\n",
       "</div>"
      ],
      "text/plain": [
       "       enrollee_id      city  city_development_index gender  \\\n",
       "0             8949  city_103                   0.920   Male   \n",
       "1            29725   city_40                   0.776   Male   \n",
       "2            11561   city_21                   0.624   None   \n",
       "3            33241  city_115                   0.789   None   \n",
       "4              666  city_162                   0.767   Male   \n",
       "...            ...       ...                     ...    ...   \n",
       "19153         7386  city_173                   0.878   Male   \n",
       "19154        31398  city_103                   0.920   Male   \n",
       "19155        24576  city_103                   0.920   Male   \n",
       "19156         5756   city_65                   0.802   Male   \n",
       "19157        23834   city_67                   0.855   None   \n",
       "\n",
       "           relevent_experience enrolled_university education_level  \\\n",
       "0      Has relevent experience       no_enrollment        Graduate   \n",
       "1       No relevent experience       no_enrollment        Graduate   \n",
       "2       No relevent experience    Full time course        Graduate   \n",
       "3       No relevent experience                None        Graduate   \n",
       "4      Has relevent experience       no_enrollment         Masters   \n",
       "...                        ...                 ...             ...   \n",
       "19153   No relevent experience       no_enrollment        Graduate   \n",
       "19154  Has relevent experience       no_enrollment        Graduate   \n",
       "19155  Has relevent experience       no_enrollment        Graduate   \n",
       "19156  Has relevent experience       no_enrollment     High School   \n",
       "19157   No relevent experience       no_enrollment  Primary School   \n",
       "\n",
       "      major_discipline experience company_size    company_type last_new_job  \\\n",
       "0                 STEM        >20         None            None            1   \n",
       "1                 STEM         15        50-99         Pvt Ltd           >4   \n",
       "2                 STEM          5         None            None        never   \n",
       "3      Business Degree         <1         None         Pvt Ltd        never   \n",
       "4                 STEM        >20        50-99  Funded Startup            4   \n",
       "...                ...        ...          ...             ...          ...   \n",
       "19153       Humanities         14         None            None            1   \n",
       "19154             STEM         14         None            None            4   \n",
       "19155             STEM        >20        50-99         Pvt Ltd            4   \n",
       "19156             None         <1      500-999         Pvt Ltd            2   \n",
       "19157             None          2         None            None            1   \n",
       "\n",
       "       training_hours  target  \n",
       "0                  36     1.0  \n",
       "1                  47     0.0  \n",
       "2                  83     0.0  \n",
       "3                  52     1.0  \n",
       "4                   8     0.0  \n",
       "...               ...     ...  \n",
       "19153              42     1.0  \n",
       "19154              52     1.0  \n",
       "19155              44     0.0  \n",
       "19156              97     0.0  \n",
       "19157             127     0.0  \n",
       "\n",
       "[19158 rows x 14 columns]"
      ]
     },
     "execution_count": 5,
     "metadata": {},
     "output_type": "execute_result"
    }
   ],
   "source": [
    "dataset = Dataset.get_by_name(ws, name='aug_train')\n",
    "dataset.to_pandas_dataframe()"
   ]
  },
  {
   "cell_type": "code",
   "execution_count": 6,
   "metadata": {},
   "outputs": [],
   "source": [
    "dataset =dataset.drop_columns([\"enrollee_id\",\"city\"])"
   ]
  },
  {
   "cell_type": "markdown",
   "metadata": {},
   "source": [
    "## AutoML Configuration\n",
    "\n",
    "TODO: Explain why you chose the automl settings and cofiguration you used below."
   ]
  },
  {
   "cell_type": "code",
   "execution_count": 8,
   "metadata": {
    "gather": {
     "logged": 1598429217746
    },
    "jupyter": {
     "outputs_hidden": false,
     "source_hidden": false
    },
    "nteract": {
     "transient": {
      "deleting": false
     }
    }
   },
   "outputs": [],
   "source": [
    "# TODO: Put your automl settings here\n",
    "automl_settings = {\"experiment_timeout_minutes\": 30,\n",
    "    \"task\": \"classification\", \n",
    "    \"primary_metric\": \"accuracy\",\n",
    "    \"training_data\": dataset,\n",
    "    \"label_column_name\": \"target\" }\n",
    "\n",
    "# TODO: Put your automl config here\n",
    "automl_config = AutoMLConfig( n_cross_validations= 6,\n",
    "    enable_early_stopping= True,\n",
    "    compute_target= Compute_target,\n",
    "    max_cores_per_iteration= -1,\n",
    "    max_concurrent_iterations= 4,\n",
    "    featurization= \"auto\",\n",
    "    \n",
    "    **automl_settings)"
   ]
  },
  {
   "cell_type": "code",
   "execution_count": 9,
   "metadata": {
    "gather": {
     "logged": 1598431107951
    },
    "jupyter": {
     "outputs_hidden": false,
     "source_hidden": false
    },
    "nteract": {
     "transient": {
      "deleting": false
     }
    }
   },
   "outputs": [
    {
     "name": "stdout",
     "output_type": "stream",
     "text": [
      "Running on remote.\n",
      "No run_configuration provided, running on demo-1-cluster with default configuration\n",
      "Running on remote compute: demo-1-cluster\n",
      "Parent Run ID: AutoML_54e90b2a-4dc0-4948-bca0-f312cbda0d57\n",
      "\n",
      "Current status: ModelSelection. Beginning model selection.\n",
      "\n",
      "****************************************************************************************************\n",
      "DATA GUARDRAILS: \n",
      "\n",
      "TYPE:         Class balancing detection\n",
      "STATUS:       PASSED\n",
      "DESCRIPTION:  Your inputs were analyzed, and all classes are balanced in your training data.\n",
      "              Learn more about imbalanced data: https://aka.ms/AutomatedMLImbalancedData\n",
      "\n",
      "****************************************************************************************************\n",
      "\n",
      "TYPE:         Missing feature values imputation\n",
      "STATUS:       DONE\n",
      "DESCRIPTION:  If the missing values are expected, let the run complete. Otherwise cancel the current run and use a script to customize the handling of missing feature values that may be more appropriate based on the data type and business requirement.\n",
      "              Learn more about missing value imputation: https://aka.ms/AutomatedMLFeaturization\n",
      "DETAILS:      \n",
      "+---------------------------------+---------------------------------+\n",
      "|Column name                      |Missing value count              |\n",
      "+=================================+=================================+\n",
      "|gender                           |4508                             |\n",
      "|enrolled_university              |386                              |\n",
      "|education_level                  |460                              |\n",
      "|major_discipline                 |2813                             |\n",
      "|experience                       |65                               |\n",
      "|company_size                     |5938                             |\n",
      "|company_type                     |6140                             |\n",
      "|last_new_job                     |423                              |\n",
      "+---------------------------------+---------------------------------+\n",
      "\n",
      "****************************************************************************************************\n",
      "\n",
      "TYPE:         High cardinality feature detection\n",
      "STATUS:       PASSED\n",
      "DESCRIPTION:  Your inputs were analyzed, and no high cardinality features were detected.\n",
      "              Learn more about high cardinality feature handling: https://aka.ms/AutomatedMLFeaturization\n",
      "\n",
      "****************************************************************************************************\n",
      "\n",
      "****************************************************************************************************\n",
      "ITERATION: The iteration being evaluated.\n",
      "PIPELINE: A summary description of the pipeline being evaluated.\n",
      "DURATION: Time taken for the current iteration.\n",
      "METRIC: The result of computing score on the fitted pipeline.\n",
      "BEST: The best observed score thus far.\n",
      "****************************************************************************************************\n",
      "\n",
      " ITERATION   PIPELINE                                       DURATION      METRIC      BEST\n",
      "         1   MaxAbsScaler XGBoostClassifier                 0:01:15       0.7929    0.7929\n",
      "         3   MaxAbsScaler RandomForest                      0:01:16       0.7661    0.7929\n",
      "         5   MaxAbsScaler RandomForest                      0:00:50       0.6979    0.7929\n",
      "         6   SparseNormalizer XGBoostClassifier             0:01:10       0.7800    0.7929\n",
      "         2   MaxAbsScaler RandomForest                      0:03:35       0.7765    0.7929\n",
      "         4   MaxAbsScaler RandomForest                      0:03:27       0.7525    0.7929\n",
      "         0   MaxAbsScaler LightGBM                          0:03:44       0.7967    0.7967\n",
      "         7   MaxAbsScaler GradientBoosting                  0:01:19       0.7825    0.7967\n",
      "        10   StandardScalerWrapper RandomForest             0:00:58       0.7796    0.7967\n",
      "         8   MaxAbsScaler LightGBM                          0:01:26       0.7752    0.7967\n",
      "         9   MaxAbsScaler RandomForest                      0:01:27       0.7556    0.7967\n",
      "        11   SparseNormalizer XGBoostClassifier             0:01:03       0.7568    0.7967\n",
      "        12   MaxAbsScaler LogisticRegression                0:01:16       0.7722    0.7967\n",
      "        14   MaxAbsScaler LightGBM                          0:01:03       0.7711    0.7967\n",
      "        13   MaxAbsScaler ExtremeRandomTrees                0:01:30       0.7545    0.7967\n",
      "        15   SparseNormalizer LightGBM                      0:00:57       0.7653    0.7967\n",
      "        16   SparseNormalizer LightGBM                      0:00:45       0.7521    0.7967\n",
      "        17   SparseNormalizer XGBoostClassifier             0:01:10       0.7787    0.7967\n",
      "        18   SparseNormalizer XGBoostClassifier             0:01:07       0.7798    0.7967\n",
      "        19   MaxAbsScaler LightGBM                          0:00:54       0.7805    0.7967\n",
      "        20   SparseNormalizer XGBoostClassifier             0:01:23       0.7816    0.7967\n",
      "        21   MaxAbsScaler LightGBM                          0:01:03       0.7934    0.7967\n",
      "        22   SparseNormalizer RandomForest                  0:01:19       0.7507    0.7967\n",
      "        24   StandardScalerWrapper XGBoostClassifier        0:01:07       0.7963    0.7967\n",
      "        26   SparseNormalizer ExtremeRandomTrees            0:01:08       0.7507    0.7967\n",
      "        27   SparseNormalizer XGBoostClassifier             0:00:55       0.7708    0.7967\n",
      "        28   SparseNormalizer XGBoostClassifier             0:00:55       0.7798    0.7967\n",
      "        29   MaxAbsScaler ExtremeRandomTrees                0:00:59       0.7840    0.7967\n",
      "        30   MaxAbsScaler LightGBM                          0:01:04       0.7507    0.7967\n",
      "        31   MaxAbsScaler ExtremeRandomTrees                0:01:07       0.7647    0.7967\n",
      "        32   MaxAbsScaler GradientBoosting                  0:01:35       0.7751    0.7967\n",
      "        33   SparseNormalizer LightGBM                      0:01:11       0.7769    0.7967\n",
      "        23   SparseNormalizer XGBoostClassifier             0:08:07       0.7780    0.7967\n",
      "        25   StandardScalerWrapper LightGBM                 0:07:02       0.7507    0.7967\n",
      "        34   MaxAbsScaler RandomForest                      0:01:06       0.7939    0.7967\n",
      "        35   MaxAbsScaler LightGBM                          0:00:45       0.7798    0.7967\n",
      "        36    VotingEnsemble                                0:01:31       0.7995    0.7995\n",
      "        37    StackEnsemble                                 0:09:50       0.7966    0.7995\n"
     ]
    }
   ],
   "source": [
    "# TODO: Submit your experiment\n",
    "remote_run = experiment.submit(automl_config, show_output=True)"
   ]
  },
  {
   "cell_type": "markdown",
   "metadata": {},
   "source": [
    "## Run Details\n",
    "\n",
    "OPTIONAL: Write about the different models trained and their performance. Why do you think some models did better than others?\n",
    "\n",
    "TODO: In the cell below, use the `RunDetails` widget to show the different experiments."
   ]
  },
  {
   "cell_type": "code",
   "execution_count": 10,
   "metadata": {
    "gather": {
     "logged": 1598431121770
    },
    "jupyter": {
     "outputs_hidden": false,
     "source_hidden": false
    },
    "nteract": {
     "transient": {
      "deleting": false
     }
    }
   },
   "outputs": [
    {
     "data": {
      "application/vnd.jupyter.widget-view+json": {
       "model_id": "fd893481aa32419fa91ba139629eacc1",
       "version_major": 2,
       "version_minor": 0
      },
      "text/plain": [
       "_AutoMLWidget(widget_settings={'childWidgetDisplay': 'popup', 'send_telemetry': False, 'log_level': 'INFO', 's…"
      ]
     },
     "metadata": {},
     "output_type": "display_data"
    },
    {
     "data": {
      "application/aml.mini.widget.v1": "{\"status\": \"Completed\", \"workbench_run_details_uri\": \"https://ml.azure.com/experiments/automl-job-change-expt/runs/AutoML_54e90b2a-4dc0-4948-bca0-f312cbda0d57?wsid=/subscriptions/9e65f93e-bdd8-437b-b1e8-0647cd6098f7/resourcegroups/aml-quickstarts-140983/workspaces/quick-starts-ws-140983\", \"run_id\": \"AutoML_54e90b2a-4dc0-4948-bca0-f312cbda0d57\", \"run_properties\": {\"run_id\": \"AutoML_54e90b2a-4dc0-4948-bca0-f312cbda0d57\", \"created_utc\": \"2021-03-20T18:41:03.763593Z\", \"properties\": {\"num_iterations\": \"1000\", \"training_type\": \"TrainFull\", \"acquisition_function\": \"EI\", \"primary_metric\": \"accuracy\", \"train_split\": \"0\", \"acquisition_parameter\": \"0\", \"num_cross_validation\": \"6\", \"target\": \"demo-1-cluster\", \"AMLSettingsJsonString\": \"{\\\"path\\\":null,\\\"name\\\":\\\"automl-job-change-expt\\\",\\\"subscription_id\\\":\\\"9e65f93e-bdd8-437b-b1e8-0647cd6098f7\\\",\\\"resource_group\\\":\\\"aml-quickstarts-140983\\\",\\\"workspace_name\\\":\\\"quick-starts-ws-140983\\\",\\\"region\\\":\\\"southcentralus\\\",\\\"compute_target\\\":\\\"demo-1-cluster\\\",\\\"spark_service\\\":null,\\\"azure_service\\\":\\\"remote\\\",\\\"many_models\\\":false,\\\"pipeline_fetch_max_batch_size\\\":1,\\\"enable_batch_run\\\":false,\\\"iterations\\\":1000,\\\"primary_metric\\\":\\\"accuracy\\\",\\\"task_type\\\":\\\"classification\\\",\\\"data_script\\\":null,\\\"validation_size\\\":0.0,\\\"n_cross_validations\\\":6,\\\"y_min\\\":null,\\\"y_max\\\":null,\\\"num_classes\\\":null,\\\"featurization\\\":\\\"auto\\\",\\\"_ignore_package_version_incompatibilities\\\":false,\\\"is_timeseries\\\":false,\\\"max_cores_per_iteration\\\":-1,\\\"max_concurrent_iterations\\\":4,\\\"iteration_timeout_minutes\\\":null,\\\"mem_in_mb\\\":null,\\\"enforce_time_on_windows\\\":false,\\\"experiment_timeout_minutes\\\":30,\\\"experiment_exit_score\\\":null,\\\"whitelist_models\\\":null,\\\"blacklist_algos\\\":[\\\"TensorFlowLinearClassifier\\\",\\\"TensorFlowDNN\\\"],\\\"supported_models\\\":[\\\"RandomForest\\\",\\\"ExtremeRandomTrees\\\",\\\"LogisticRegression\\\",\\\"SVM\\\",\\\"DecisionTree\\\",\\\"BernoulliNaiveBayes\\\",\\\"TensorFlowLinearClassifier\\\",\\\"MultinomialNaiveBayes\\\",\\\"SGD\\\",\\\"LightGBM\\\",\\\"AveragedPerceptronClassifier\\\",\\\"KNN\\\",\\\"GradientBoosting\\\",\\\"XGBoostClassifier\\\",\\\"TensorFlowDNN\\\",\\\"LinearSVM\\\"],\\\"private_models\\\":[],\\\"auto_blacklist\\\":true,\\\"blacklist_samples_reached\\\":false,\\\"exclude_nan_labels\\\":true,\\\"verbosity\\\":20,\\\"_debug_log\\\":\\\"azureml_automl.log\\\",\\\"show_warnings\\\":false,\\\"model_explainability\\\":true,\\\"service_url\\\":null,\\\"sdk_url\\\":null,\\\"sdk_packages\\\":null,\\\"enable_onnx_compatible_models\\\":false,\\\"enable_split_onnx_featurizer_estimator_models\\\":false,\\\"vm_type\\\":\\\"STANDARD_D2_V2\\\",\\\"telemetry_verbosity\\\":20,\\\"send_telemetry\\\":true,\\\"enable_dnn\\\":false,\\\"scenario\\\":\\\"SDK-1.13.0\\\",\\\"environment_label\\\":null,\\\"save_mlflow\\\":false,\\\"force_text_dnn\\\":false,\\\"enable_feature_sweeping\\\":true,\\\"enable_early_stopping\\\":true,\\\"early_stopping_n_iters\\\":10,\\\"metrics\\\":null,\\\"enable_metric_confidence\\\":false,\\\"enable_ensembling\\\":true,\\\"enable_stack_ensembling\\\":true,\\\"ensemble_iterations\\\":15,\\\"enable_tf\\\":false,\\\"enable_subsampling\\\":null,\\\"subsample_seed\\\":null,\\\"enable_nimbusml\\\":false,\\\"enable_streaming\\\":false,\\\"force_streaming\\\":false,\\\"track_child_runs\\\":true,\\\"allowed_private_models\\\":[],\\\"label_column_name\\\":\\\"target\\\",\\\"weight_column_name\\\":null,\\\"cv_split_column_names\\\":null,\\\"enable_local_managed\\\":false,\\\"_local_managed_run_id\\\":null,\\\"cost_mode\\\":1,\\\"lag_length\\\":0,\\\"metric_operation\\\":\\\"maximize\\\",\\\"preprocess\\\":true}\", \"DataPrepJsonString\": \"{\\\\\\\"training_data\\\\\\\": \\\\\\\"{\\\\\\\\\\\\\\\"blocks\\\\\\\\\\\\\\\": [{\\\\\\\\\\\\\\\"id\\\\\\\\\\\\\\\": \\\\\\\\\\\\\\\"2a0db92f-b38f-4af1-939c-4987fd56db62\\\\\\\\\\\\\\\", \\\\\\\\\\\\\\\"type\\\\\\\\\\\\\\\": \\\\\\\\\\\\\\\"Microsoft.DPrep.GetDatastoreFilesBlock\\\\\\\\\\\\\\\", \\\\\\\\\\\\\\\"arguments\\\\\\\\\\\\\\\": {\\\\\\\\\\\\\\\"datastores\\\\\\\\\\\\\\\": [{\\\\\\\\\\\\\\\"datastoreName\\\\\\\\\\\\\\\": \\\\\\\\\\\\\\\"workspaceblobstore\\\\\\\\\\\\\\\", \\\\\\\\\\\\\\\"path\\\\\\\\\\\\\\\": \\\\\\\\\\\\\\\"UI/03-20-2021_052553_UTC/aug_train.csv\\\\\\\\\\\\\\\", \\\\\\\\\\\\\\\"resourceGroup\\\\\\\\\\\\\\\": \\\\\\\\\\\\\\\"aml-quickstarts-140983\\\\\\\\\\\\\\\", \\\\\\\\\\\\\\\"subscription\\\\\\\\\\\\\\\": \\\\\\\\\\\\\\\"9e65f93e-bdd8-437b-b1e8-0647cd6098f7\\\\\\\\\\\\\\\", \\\\\\\\\\\\\\\"workspaceName\\\\\\\\\\\\\\\": \\\\\\\\\\\\\\\"quick-starts-ws-140983\\\\\\\\\\\\\\\"}]}, \\\\\\\\\\\\\\\"localData\\\\\\\\\\\\\\\": {}, \\\\\\\\\\\\\\\"isEnabled\\\\\\\\\\\\\\\": true, \\\\\\\\\\\\\\\"name\\\\\\\\\\\\\\\": null, \\\\\\\\\\\\\\\"annotation\\\\\\\\\\\\\\\": null}, {\\\\\\\\\\\\\\\"id\\\\\\\\\\\\\\\": \\\\\\\\\\\\\\\"197de291-c458-4636-84e9-5d2ebb9e081f\\\\\\\\\\\\\\\", \\\\\\\\\\\\\\\"type\\\\\\\\\\\\\\\": \\\\\\\\\\\\\\\"Microsoft.DPrep.ParseDelimitedBlock\\\\\\\\\\\\\\\", \\\\\\\\\\\\\\\"arguments\\\\\\\\\\\\\\\": {\\\\\\\\\\\\\\\"columnHeadersMode\\\\\\\\\\\\\\\": 1, \\\\\\\\\\\\\\\"fileEncoding\\\\\\\\\\\\\\\": 0, \\\\\\\\\\\\\\\"handleQuotedLineBreaks\\\\\\\\\\\\\\\": false, \\\\\\\\\\\\\\\"preview\\\\\\\\\\\\\\\": false, \\\\\\\\\\\\\\\"separator\\\\\\\\\\\\\\\": \\\\\\\\\\\\\\\",\\\\\\\\\\\\\\\", \\\\\\\\\\\\\\\"skipRows\\\\\\\\\\\\\\\": 0, \\\\\\\\\\\\\\\"skipRowsMode\\\\\\\\\\\\\\\": 0}, \\\\\\\\\\\\\\\"localData\\\\\\\\\\\\\\\": {}, \\\\\\\\\\\\\\\"isEnabled\\\\\\\\\\\\\\\": true, \\\\\\\\\\\\\\\"name\\\\\\\\\\\\\\\": null, \\\\\\\\\\\\\\\"annotation\\\\\\\\\\\\\\\": null}, {\\\\\\\\\\\\\\\"id\\\\\\\\\\\\\\\": \\\\\\\\\\\\\\\"1345f816-6389-4ff9-ae1a-daed9771c75b\\\\\\\\\\\\\\\", \\\\\\\\\\\\\\\"type\\\\\\\\\\\\\\\": \\\\\\\\\\\\\\\"Microsoft.DPrep.DropColumnsBlock\\\\\\\\\\\\\\\", \\\\\\\\\\\\\\\"arguments\\\\\\\\\\\\\\\": {\\\\\\\\\\\\\\\"columns\\\\\\\\\\\\\\\": {\\\\\\\\\\\\\\\"type\\\\\\\\\\\\\\\": 0, \\\\\\\\\\\\\\\"details\\\\\\\\\\\\\\\": {\\\\\\\\\\\\\\\"selectedColumns\\\\\\\\\\\\\\\": [\\\\\\\\\\\\\\\"Path\\\\\\\\\\\\\\\"]}}}, \\\\\\\\\\\\\\\"localData\\\\\\\\\\\\\\\": {}, \\\\\\\\\\\\\\\"isEnabled\\\\\\\\\\\\\\\": true, \\\\\\\\\\\\\\\"name\\\\\\\\\\\\\\\": null, \\\\\\\\\\\\\\\"annotation\\\\\\\\\\\\\\\": null}, {\\\\\\\\\\\\\\\"id\\\\\\\\\\\\\\\": \\\\\\\\\\\\\\\"411a52f3-48f1-402f-adc6-0cb1500eabf2\\\\\\\\\\\\\\\", \\\\\\\\\\\\\\\"type\\\\\\\\\\\\\\\": \\\\\\\\\\\\\\\"Microsoft.DPrep.SetColumnTypesBlock\\\\\\\\\\\\\\\", \\\\\\\\\\\\\\\"arguments\\\\\\\\\\\\\\\": {\\\\\\\\\\\\\\\"columnConversion\\\\\\\\\\\\\\\": [{\\\\\\\\\\\\\\\"column\\\\\\\\\\\\\\\": {\\\\\\\\\\\\\\\"type\\\\\\\\\\\\\\\": 2, \\\\\\\\\\\\\\\"details\\\\\\\\\\\\\\\": {\\\\\\\\\\\\\\\"selectedColumn\\\\\\\\\\\\\\\": \\\\\\\\\\\\\\\"Path\\\\\\\\\\\\\\\"}}, \\\\\\\\\\\\\\\"typeProperty\\\\\\\\\\\\\\\": 0}, {\\\\\\\\\\\\\\\"column\\\\\\\\\\\\\\\": {\\\\\\\\\\\\\\\"type\\\\\\\\\\\\\\\": 2, \\\\\\\\\\\\\\\"details\\\\\\\\\\\\\\\": {\\\\\\\\\\\\\\\"selectedColumn\\\\\\\\\\\\\\\": \\\\\\\\\\\\\\\"enrollee_id\\\\\\\\\\\\\\\"}}, \\\\\\\\\\\\\\\"typeProperty\\\\\\\\\\\\\\\": 2}, {\\\\\\\\\\\\\\\"column\\\\\\\\\\\\\\\": {\\\\\\\\\\\\\\\"type\\\\\\\\\\\\\\\": 2, \\\\\\\\\\\\\\\"details\\\\\\\\\\\\\\\": {\\\\\\\\\\\\\\\"selectedColumn\\\\\\\\\\\\\\\": \\\\\\\\\\\\\\\"city\\\\\\\\\\\\\\\"}}, \\\\\\\\\\\\\\\"typeProperty\\\\\\\\\\\\\\\": 0}, {\\\\\\\\\\\\\\\"column\\\\\\\\\\\\\\\": {\\\\\\\\\\\\\\\"type\\\\\\\\\\\\\\\": 2, \\\\\\\\\\\\\\\"details\\\\\\\\\\\\\\\": {\\\\\\\\\\\\\\\"selectedColumn\\\\\\\\\\\\\\\": \\\\\\\\\\\\\\\"city_development_index\\\\\\\\\\\\\\\"}}, \\\\\\\\\\\\\\\"typeProperty\\\\\\\\\\\\\\\": 3}, {\\\\\\\\\\\\\\\"column\\\\\\\\\\\\\\\": {\\\\\\\\\\\\\\\"type\\\\\\\\\\\\\\\": 2, \\\\\\\\\\\\\\\"details\\\\\\\\\\\\\\\": {\\\\\\\\\\\\\\\"selectedColumn\\\\\\\\\\\\\\\": \\\\\\\\\\\\\\\"gender\\\\\\\\\\\\\\\"}}, \\\\\\\\\\\\\\\"typeProperty\\\\\\\\\\\\\\\": 0}, {\\\\\\\\\\\\\\\"column\\\\\\\\\\\\\\\": {\\\\\\\\\\\\\\\"type\\\\\\\\\\\\\\\": 2, \\\\\\\\\\\\\\\"details\\\\\\\\\\\\\\\": {\\\\\\\\\\\\\\\"selectedColumn\\\\\\\\\\\\\\\": \\\\\\\\\\\\\\\"relevent_experience\\\\\\\\\\\\\\\"}}, \\\\\\\\\\\\\\\"typeProperty\\\\\\\\\\\\\\\": 0}, {\\\\\\\\\\\\\\\"column\\\\\\\\\\\\\\\": {\\\\\\\\\\\\\\\"type\\\\\\\\\\\\\\\": 2, \\\\\\\\\\\\\\\"details\\\\\\\\\\\\\\\": {\\\\\\\\\\\\\\\"selectedColumn\\\\\\\\\\\\\\\": \\\\\\\\\\\\\\\"enrolled_university\\\\\\\\\\\\\\\"}}, \\\\\\\\\\\\\\\"typeProperty\\\\\\\\\\\\\\\": 0}, {\\\\\\\\\\\\\\\"column\\\\\\\\\\\\\\\": {\\\\\\\\\\\\\\\"type\\\\\\\\\\\\\\\": 2, \\\\\\\\\\\\\\\"details\\\\\\\\\\\\\\\": {\\\\\\\\\\\\\\\"selectedColumn\\\\\\\\\\\\\\\": \\\\\\\\\\\\\\\"education_level\\\\\\\\\\\\\\\"}}, \\\\\\\\\\\\\\\"typeProperty\\\\\\\\\\\\\\\": 0}, {\\\\\\\\\\\\\\\"column\\\\\\\\\\\\\\\": {\\\\\\\\\\\\\\\"type\\\\\\\\\\\\\\\": 2, \\\\\\\\\\\\\\\"details\\\\\\\\\\\\\\\": {\\\\\\\\\\\\\\\"selectedColumn\\\\\\\\\\\\\\\": \\\\\\\\\\\\\\\"major_discipline\\\\\\\\\\\\\\\"}}, \\\\\\\\\\\\\\\"typeProperty\\\\\\\\\\\\\\\": 0}, {\\\\\\\\\\\\\\\"column\\\\\\\\\\\\\\\": {\\\\\\\\\\\\\\\"type\\\\\\\\\\\\\\\": 2, \\\\\\\\\\\\\\\"details\\\\\\\\\\\\\\\": {\\\\\\\\\\\\\\\"selectedColumn\\\\\\\\\\\\\\\": \\\\\\\\\\\\\\\"experience\\\\\\\\\\\\\\\"}}, \\\\\\\\\\\\\\\"typeProperty\\\\\\\\\\\\\\\": 0}, {\\\\\\\\\\\\\\\"column\\\\\\\\\\\\\\\": {\\\\\\\\\\\\\\\"type\\\\\\\\\\\\\\\": 2, \\\\\\\\\\\\\\\"details\\\\\\\\\\\\\\\": {\\\\\\\\\\\\\\\"selectedColumn\\\\\\\\\\\\\\\": \\\\\\\\\\\\\\\"company_size\\\\\\\\\\\\\\\"}}, \\\\\\\\\\\\\\\"typeProperty\\\\\\\\\\\\\\\": 0}, {\\\\\\\\\\\\\\\"column\\\\\\\\\\\\\\\": {\\\\\\\\\\\\\\\"type\\\\\\\\\\\\\\\": 2, \\\\\\\\\\\\\\\"details\\\\\\\\\\\\\\\": {\\\\\\\\\\\\\\\"selectedColumn\\\\\\\\\\\\\\\": \\\\\\\\\\\\\\\"company_type\\\\\\\\\\\\\\\"}}, \\\\\\\\\\\\\\\"typeProperty\\\\\\\\\\\\\\\": 0}, {\\\\\\\\\\\\\\\"column\\\\\\\\\\\\\\\": {\\\\\\\\\\\\\\\"type\\\\\\\\\\\\\\\": 2, \\\\\\\\\\\\\\\"details\\\\\\\\\\\\\\\": {\\\\\\\\\\\\\\\"selectedColumn\\\\\\\\\\\\\\\": \\\\\\\\\\\\\\\"last_new_job\\\\\\\\\\\\\\\"}}, \\\\\\\\\\\\\\\"typeProperty\\\\\\\\\\\\\\\": 0}, {\\\\\\\\\\\\\\\"column\\\\\\\\\\\\\\\": {\\\\\\\\\\\\\\\"type\\\\\\\\\\\\\\\": 2, \\\\\\\\\\\\\\\"details\\\\\\\\\\\\\\\": {\\\\\\\\\\\\\\\"selectedColumn\\\\\\\\\\\\\\\": \\\\\\\\\\\\\\\"training_hours\\\\\\\\\\\\\\\"}}, \\\\\\\\\\\\\\\"typeProperty\\\\\\\\\\\\\\\": 2}, {\\\\\\\\\\\\\\\"column\\\\\\\\\\\\\\\": {\\\\\\\\\\\\\\\"type\\\\\\\\\\\\\\\": 2, \\\\\\\\\\\\\\\"details\\\\\\\\\\\\\\\": {\\\\\\\\\\\\\\\"selectedColumn\\\\\\\\\\\\\\\": \\\\\\\\\\\\\\\"target\\\\\\\\\\\\\\\"}}, \\\\\\\\\\\\\\\"typeProperty\\\\\\\\\\\\\\\": 3}]}, \\\\\\\\\\\\\\\"localData\\\\\\\\\\\\\\\": {}, \\\\\\\\\\\\\\\"isEnabled\\\\\\\\\\\\\\\": true, \\\\\\\\\\\\\\\"name\\\\\\\\\\\\\\\": null, \\\\\\\\\\\\\\\"annotation\\\\\\\\\\\\\\\": null}, {\\\\\\\\\\\\\\\"id\\\\\\\\\\\\\\\": \\\\\\\\\\\\\\\"8ec1cd4a-7d33-48fe-aaba-9189e93c66c0\\\\\\\\\\\\\\\", \\\\\\\\\\\\\\\"type\\\\\\\\\\\\\\\": \\\\\\\\\\\\\\\"Microsoft.DPrep.DropColumnsBlock\\\\\\\\\\\\\\\", \\\\\\\\\\\\\\\"arguments\\\\\\\\\\\\\\\": {\\\\\\\\\\\\\\\"columns\\\\\\\\\\\\\\\": {\\\\\\\\\\\\\\\"type\\\\\\\\\\\\\\\": 0, \\\\\\\\\\\\\\\"details\\\\\\\\\\\\\\\": {\\\\\\\\\\\\\\\"selectedColumns\\\\\\\\\\\\\\\": [\\\\\\\\\\\\\\\"enrollee_id\\\\\\\\\\\\\\\", \\\\\\\\\\\\\\\"city\\\\\\\\\\\\\\\"]}}}, \\\\\\\\\\\\\\\"localData\\\\\\\\\\\\\\\": {}, \\\\\\\\\\\\\\\"isEnabled\\\\\\\\\\\\\\\": true, \\\\\\\\\\\\\\\"name\\\\\\\\\\\\\\\": null, \\\\\\\\\\\\\\\"annotation\\\\\\\\\\\\\\\": null}], \\\\\\\\\\\\\\\"inspectors\\\\\\\\\\\\\\\": [], \\\\\\\\\\\\\\\"meta\\\\\\\\\\\\\\\": {\\\\\\\\\\\\\\\"savedDatasetId\\\\\\\\\\\\\\\": \\\\\\\\\\\\\\\"02ad02c0-b5ef-40b3-8c01-d3ea0915fd22\\\\\\\\\\\\\\\", \\\\\\\\\\\\\\\"datasetType\\\\\\\\\\\\\\\": \\\\\\\\\\\\\\\"tabular\\\\\\\\\\\\\\\", \\\\\\\\\\\\\\\"subscriptionId\\\\\\\\\\\\\\\": \\\\\\\\\\\\\\\"9e65f93e-bdd8-437b-b1e8-0647cd6098f7\\\\\\\\\\\\\\\", \\\\\\\\\\\\\\\"workspaceId\\\\\\\\\\\\\\\": \\\\\\\\\\\\\\\"c67c431c-d509-4c64-b444-bb0d0a81f120\\\\\\\\\\\\\\\", \\\\\\\\\\\\\\\"workspaceLocation\\\\\\\\\\\\\\\": \\\\\\\\\\\\\\\"southcentralus\\\\\\\\\\\\\\\", \\\\\\\\\\\\\\\"partition_keys\\\\\\\\\\\\\\\": \\\\\\\\\\\\\\\"true\\\\\\\\\\\\\\\"}}\\\\\\\", \\\\\\\"activities\\\\\\\": 0}\", \"EnableSubsampling\": null, \"runTemplate\": \"AutoML\", \"azureml.runsource\": \"automl\", \"display_task_type\": \"classification\", \"dependencies_versions\": \"{\\\"azureml-widgets\\\": \\\"1.24.0\\\", \\\"azureml-train\\\": \\\"1.24.0\\\", \\\"azureml-train-restclients-hyperdrive\\\": \\\"1.24.0\\\", \\\"azureml-train-core\\\": \\\"1.24.0\\\", \\\"azureml-train-automl\\\": \\\"1.24.0\\\", \\\"azureml-train-automl-runtime\\\": \\\"1.24.0\\\", \\\"azureml-train-automl-client\\\": \\\"1.24.0\\\", \\\"azureml-tensorboard\\\": \\\"1.24.0\\\", \\\"azureml-telemetry\\\": \\\"1.24.0\\\", \\\"azureml-sdk\\\": \\\"1.24.0\\\", \\\"azureml-samples\\\": \\\"0+unknown\\\", \\\"azureml-pipeline\\\": \\\"1.24.0\\\", \\\"azureml-pipeline-steps\\\": \\\"1.24.0\\\", \\\"azureml-pipeline-core\\\": \\\"1.24.0\\\", \\\"azureml-opendatasets\\\": \\\"1.24.0\\\", \\\"azureml-model-management-sdk\\\": \\\"1.0.1b6.post1\\\", \\\"azureml-mlflow\\\": \\\"1.24.0\\\", \\\"azureml-interpret\\\": \\\"1.24.0\\\", \\\"azureml-explain-model\\\": \\\"1.24.0\\\", \\\"azureml-defaults\\\": \\\"1.24.0\\\", \\\"azureml-dataset-runtime\\\": \\\"1.24.0\\\", \\\"azureml-dataprep\\\": \\\"2.11.1\\\", \\\"azureml-dataprep-rslex\\\": \\\"1.9.0\\\", \\\"azureml-dataprep-native\\\": \\\"30.0.0\\\", \\\"azureml-datadrift\\\": \\\"1.24.0\\\", \\\"azureml-core\\\": \\\"1.24.0\\\", \\\"azureml-contrib-services\\\": \\\"1.24.0\\\", \\\"azureml-contrib-server\\\": \\\"1.24.0\\\", \\\"azureml-contrib-reinforcementlearning\\\": \\\"1.24.0\\\", \\\"azureml-contrib-pipeline-steps\\\": \\\"1.24.0\\\", \\\"azureml-contrib-notebook\\\": \\\"1.24.0\\\", \\\"azureml-contrib-gbdt\\\": \\\"1.24.0\\\", \\\"azureml-contrib-fairness\\\": \\\"1.24.0\\\", \\\"azureml-contrib-dataset\\\": \\\"1.24.0\\\", \\\"azureml-cli-common\\\": \\\"1.24.0\\\", \\\"azureml-automl-runtime\\\": \\\"1.24.0\\\", \\\"azureml-automl-dnn-nlp\\\": \\\"1.24.0\\\", \\\"azureml-automl-core\\\": \\\"1.24.0\\\", \\\"azureml-accel-models\\\": \\\"1.24.0\\\"}\", \"_aml_system_scenario_identification\": \"Remote.Parent\", \"ClientType\": \"SDK\", \"environment_cpu_name\": \"AzureML-AutoML\", \"environment_cpu_label\": \"prod\", \"environment_gpu_name\": \"AzureML-AutoML-GPU\", \"environment_gpu_label\": \"prod\", \"root_attribution\": \"automl\", \"attribution\": \"AutoML\", \"Orchestrator\": \"AutoML\", \"CancelUri\": \"https://southcentralus.experiments.azureml.net/jasmine/v1.0/subscriptions/9e65f93e-bdd8-437b-b1e8-0647cd6098f7/resourceGroups/aml-quickstarts-140983/providers/Microsoft.MachineLearningServices/workspaces/quick-starts-ws-140983/experimentids/ad6467fc-45c6-48b4-b7ec-1f42b32d925b/cancel/AutoML_54e90b2a-4dc0-4948-bca0-f312cbda0d57\", \"ClientSdkVersion\": \"1.23.0\", \"snapshotId\": \"00000000-0000-0000-0000-000000000000\", \"SetupRunId\": \"AutoML_54e90b2a-4dc0-4948-bca0-f312cbda0d57_setup\", \"SetupRunContainerId\": \"dcid.AutoML_54e90b2a-4dc0-4948-bca0-f312cbda0d57_setup\", \"FeaturizationRunJsonPath\": \"featurizer_container.json\", \"FeaturizationRunId\": \"AutoML_54e90b2a-4dc0-4948-bca0-f312cbda0d57_featurize\", \"ProblemInfoJsonString\": \"{\\\"dataset_num_categorical\\\": 0, \\\"is_sparse\\\": true, \\\"subsampling\\\": false, \\\"dataset_classes\\\": 2, \\\"dataset_features\\\": 78, \\\"dataset_samples\\\": 19158, \\\"single_frequency_class_detected\\\": false}\", \"ModelExplainRunId\": \"AutoML_54e90b2a-4dc0-4948-bca0-f312cbda0d57_ModelExplain\"}, \"tags\": {\"model_explain_run\": \"best_run\", \"_aml_system_azureml.automlComponent\": \"AutoML\", \"pipeline_id\": \"\", \"score\": \"\", \"predicted_cost\": \"\", \"fit_time\": \"\", \"training_percent\": \"\", \"iteration\": \"\", \"run_preprocessor\": \"\", \"run_algorithm\": \"\", \"dynamic_whitelisting_iterations\": \"<25>;<30>;<35>;\", \"automl_best_child_run_id\": \"AutoML_54e90b2a-4dc0-4948-bca0-f312cbda0d57_36\", \"model_explain_best_run_child_id\": \"AutoML_54e90b2a-4dc0-4948-bca0-f312cbda0d57_36\"}, \"end_time_utc\": \"2021-03-20T19:28:20.918009Z\", \"status\": \"Completed\", \"log_files\": {}, \"log_groups\": [], \"run_duration\": \"0:47:17\", \"run_number\": \"46\", \"run_queued_details\": {\"status\": \"Completed\", \"details\": null}}, \"child_runs\": [{\"run_id\": \"AutoML_54e90b2a-4dc0-4948-bca0-f312cbda0d57_1\", \"run_number\": 50, \"metric\": null, \"status\": \"Completed\", \"run_type\": \"azureml.scriptrun\", \"training_percent\": \"100\", \"start_time\": \"2021-03-20T18:58:48.33992Z\", \"end_time\": \"2021-03-20T19:00:02.867116Z\", \"created_time\": \"2021-03-20T18:58:33.903746Z\", \"created_time_dt\": \"2021-03-20T18:58:33.903746Z\", \"duration\": \"0:01:28\", \"iteration\": \"1\", \"goal\": \"accuracy_max\", \"run_name\": \"MaxAbsScaler, XGBoostClassifier\", \"run_properties\": \"copy=True\", \"primary_metric\": 0.79288026, \"best_metric\": 0.79669068}, {\"run_id\": \"AutoML_54e90b2a-4dc0-4948-bca0-f312cbda0d57_3\", \"run_number\": 51, \"metric\": null, \"status\": \"Completed\", \"run_type\": \"azureml.scriptrun\", \"training_percent\": \"100\", \"start_time\": \"2021-03-20T19:00:19.791292Z\", \"end_time\": \"2021-03-20T19:01:35.693282Z\", \"created_time\": \"2021-03-20T18:58:33.909276Z\", \"created_time_dt\": \"2021-03-20T18:58:33.909276Z\", \"duration\": \"0:03:01\", \"iteration\": \"3\", \"goal\": \"accuracy_max\", \"run_name\": \"MaxAbsScaler, RandomForest\", \"run_properties\": \"copy=True\", \"primary_metric\": 0.76610293, \"best_metric\": 0.79669068}, {\"run_id\": \"AutoML_54e90b2a-4dc0-4948-bca0-f312cbda0d57_2\", \"run_number\": 52, \"metric\": null, \"status\": \"Completed\", \"run_type\": \"azureml.scriptrun\", \"training_percent\": \"100\", \"start_time\": \"2021-03-20T19:01:23.915246Z\", \"end_time\": \"2021-03-20T19:04:59.021523Z\", \"created_time\": \"2021-03-20T18:58:33.934264Z\", \"created_time_dt\": \"2021-03-20T18:58:33.934264Z\", \"duration\": \"0:06:25\", \"iteration\": \"2\", \"goal\": \"accuracy_max\", \"run_name\": \"MaxAbsScaler, RandomForest\", \"run_properties\": \"copy=True\", \"primary_metric\": 0.77654244, \"best_metric\": 0.79669068}, {\"run_id\": \"AutoML_54e90b2a-4dc0-4948-bca0-f312cbda0d57_0\", \"run_number\": 53, \"metric\": null, \"status\": \"Completed\", \"run_type\": \"azureml.scriptrun\", \"training_percent\": \"100\", \"start_time\": \"2021-03-20T19:01:20.694115Z\", \"end_time\": \"2021-03-20T19:05:04.901716Z\", \"created_time\": \"2021-03-20T18:58:34.165177Z\", \"created_time_dt\": \"2021-03-20T18:58:34.165177Z\", \"duration\": \"0:06:30\", \"iteration\": \"0\", \"goal\": \"accuracy_max\", \"run_name\": \"MaxAbsScaler, LightGBM\", \"run_properties\": \"copy=True\", \"primary_metric\": 0.79669068, \"best_metric\": 0.79669068}, {\"run_id\": \"AutoML_54e90b2a-4dc0-4948-bca0-f312cbda0d57_4\", \"run_number\": 54, \"metric\": null, \"status\": \"Completed\", \"run_type\": \"azureml.scriptrun\", \"training_percent\": \"100\", \"start_time\": \"2021-03-20T19:01:28.251022Z\", \"end_time\": \"2021-03-20T19:04:55.506712Z\", \"created_time\": \"2021-03-20T19:00:07.260735Z\", \"created_time_dt\": \"2021-03-20T19:00:07.260735Z\", \"duration\": \"0:04:48\", \"iteration\": \"4\", \"goal\": \"accuracy_max\", \"run_name\": \"MaxAbsScaler, RandomForest\", \"run_properties\": \"copy=True\", \"primary_metric\": 0.75247938, \"best_metric\": 0.79669068}, {\"run_id\": \"AutoML_54e90b2a-4dc0-4948-bca0-f312cbda0d57_5\", \"run_number\": 55, \"metric\": null, \"status\": \"Completed\", \"run_type\": \"azureml.scriptrun\", \"training_percent\": \"100\", \"start_time\": \"2021-03-20T19:01:51.947788Z\", \"end_time\": \"2021-03-20T19:02:42.415452Z\", \"created_time\": \"2021-03-20T19:01:39.507324Z\", \"created_time_dt\": \"2021-03-20T19:01:39.507324Z\", \"duration\": \"0:01:02\", \"iteration\": \"5\", \"goal\": \"accuracy_max\", \"run_name\": \"MaxAbsScaler, RandomForest\", \"run_properties\": \"copy=True\", \"primary_metric\": 0.69793298, \"best_metric\": 0.79669068}, {\"run_id\": \"AutoML_54e90b2a-4dc0-4948-bca0-f312cbda0d57_6\", \"run_number\": 56, \"metric\": null, \"status\": \"Completed\", \"run_type\": \"azureml.scriptrun\", \"training_percent\": \"100\", \"start_time\": \"2021-03-20T19:03:00.689588Z\", \"end_time\": \"2021-03-20T19:04:10.545766Z\", \"created_time\": \"2021-03-20T19:02:46.495873Z\", \"created_time_dt\": \"2021-03-20T19:02:46.495873Z\", \"duration\": \"0:01:24\", \"iteration\": \"6\", \"goal\": \"accuracy_max\", \"run_name\": \"SparseNormalizer, XGBoostClassifier\", \"run_properties\": \"<azureml.automl.runtime.shared.model_wrappers.SparseNormalizer object at 0x7fc4f0567358\", \"primary_metric\": 0.78003967, \"best_metric\": 0.79669068}, {\"run_id\": \"AutoML_54e90b2a-4dc0-4948-bca0-f312cbda0d57_7\", \"run_number\": 57, \"metric\": null, \"status\": \"Completed\", \"run_type\": \"azureml.scriptrun\", \"training_percent\": \"100\", \"start_time\": \"2021-03-20T19:04:23.636977Z\", \"end_time\": \"2021-03-20T19:05:42.479202Z\", \"created_time\": \"2021-03-20T19:04:13.044775Z\", \"created_time_dt\": \"2021-03-20T19:04:13.044775Z\", \"duration\": \"0:01:29\", \"iteration\": \"7\", \"goal\": \"accuracy_max\", \"run_name\": \"MaxAbsScaler, GradientBoosting\", \"run_properties\": \"copy=True\", \"primary_metric\": 0.78249295, \"best_metric\": 0.79669068}, {\"run_id\": \"AutoML_54e90b2a-4dc0-4948-bca0-f312cbda0d57_8\", \"run_number\": 58, \"metric\": null, \"status\": \"Completed\", \"run_type\": \"azureml.scriptrun\", \"training_percent\": \"100\", \"start_time\": \"2021-03-20T19:05:09.581377Z\", \"end_time\": \"2021-03-20T19:06:35.453944Z\", \"created_time\": \"2021-03-20T19:04:57.898777Z\", \"created_time_dt\": \"2021-03-20T19:04:57.898777Z\", \"duration\": \"0:01:37\", \"iteration\": \"8\", \"goal\": \"accuracy_max\", \"run_name\": \"MaxAbsScaler, LightGBM\", \"run_properties\": \"copy=True\", \"primary_metric\": 0.7752375, \"best_metric\": 0.79669068}, {\"run_id\": \"AutoML_54e90b2a-4dc0-4948-bca0-f312cbda0d57_9\", \"run_number\": 59, \"metric\": null, \"status\": \"Completed\", \"run_type\": \"azureml.scriptrun\", \"training_percent\": \"100\", \"start_time\": \"2021-03-20T19:05:10.275031Z\", \"end_time\": \"2021-03-20T19:06:37.288844Z\", \"created_time\": \"2021-03-20T19:05:02.32154Z\", \"created_time_dt\": \"2021-03-20T19:05:02.32154Z\", \"duration\": \"0:01:34\", \"iteration\": \"9\", \"goal\": \"accuracy_max\", \"run_name\": \"MaxAbsScaler, RandomForest\", \"run_properties\": \"copy=True\", \"primary_metric\": 0.75555904, \"best_metric\": 0.79669068}, {\"run_id\": \"AutoML_54e90b2a-4dc0-4948-bca0-f312cbda0d57_10\", \"run_number\": 60, \"metric\": null, \"status\": \"Completed\", \"run_type\": \"azureml.scriptrun\", \"training_percent\": \"100\", \"start_time\": \"2021-03-20T19:05:14.43328Z\", \"end_time\": \"2021-03-20T19:06:12.500583Z\", \"created_time\": \"2021-03-20T19:05:06.710168Z\", \"created_time_dt\": \"2021-03-20T19:05:06.710168Z\", \"duration\": \"0:01:05\", \"iteration\": \"10\", \"goal\": \"accuracy_max\", \"run_name\": \"StandardScalerWrapper, RandomForest\", \"run_properties\": \"<azureml.automl.runtime.shared.model_wrappers.StandardScalerWrapper object at 0x7f3d85ce2940\", \"primary_metric\": 0.77956989, \"best_metric\": 0.79669068}, {\"run_id\": \"AutoML_54e90b2a-4dc0-4948-bca0-f312cbda0d57_11\", \"run_number\": 61, \"metric\": null, \"status\": \"Completed\", \"run_type\": \"azureml.scriptrun\", \"training_percent\": \"100\", \"start_time\": \"2021-03-20T19:05:57.297454Z\", \"end_time\": \"2021-03-20T19:07:00.349782Z\", \"created_time\": \"2021-03-20T19:05:44.454029Z\", \"created_time_dt\": \"2021-03-20T19:05:44.454029Z\", \"duration\": \"0:01:15\", \"iteration\": \"11\", \"goal\": \"accuracy_max\", \"run_name\": \"SparseNormalizer, XGBoostClassifier\", \"run_properties\": \"<azureml.automl.runtime.shared.model_wrappers.SparseNormalizer object at 0x7f94c79f1ba8\", \"primary_metric\": 0.75675958, \"best_metric\": 0.79669068}, {\"run_id\": \"AutoML_54e90b2a-4dc0-4948-bca0-f312cbda0d57_12\", \"run_number\": 62, \"metric\": null, \"status\": \"Completed\", \"run_type\": \"azureml.scriptrun\", \"training_percent\": \"100\", \"start_time\": \"2021-03-20T19:06:26.681484Z\", \"end_time\": \"2021-03-20T19:07:43.004185Z\", \"created_time\": \"2021-03-20T19:06:14.385554Z\", \"created_time_dt\": \"2021-03-20T19:06:14.385554Z\", \"duration\": \"0:01:28\", \"iteration\": \"12\", \"goal\": \"accuracy_max\", \"run_name\": \"MaxAbsScaler, LogisticRegression\", \"run_properties\": \"copy=True\", \"primary_metric\": 0.77221004, \"best_metric\": 0.79669068}, {\"run_id\": \"AutoML_54e90b2a-4dc0-4948-bca0-f312cbda0d57_13\", \"run_number\": 63, \"metric\": null, \"status\": \"Completed\", \"run_type\": \"azureml.scriptrun\", \"training_percent\": \"100\", \"start_time\": \"2021-03-20T19:06:48.373524Z\", \"end_time\": \"2021-03-20T19:08:18.82463Z\", \"created_time\": \"2021-03-20T19:06:37.16438Z\", \"created_time_dt\": \"2021-03-20T19:06:37.16438Z\", \"duration\": \"0:01:41\", \"iteration\": \"13\", \"goal\": \"accuracy_max\", \"run_name\": \"MaxAbsScaler, ExtremeRandomTrees\", \"run_properties\": \"copy=True\", \"primary_metric\": 0.75446289, \"best_metric\": 0.79669068}, {\"run_id\": \"AutoML_54e90b2a-4dc0-4948-bca0-f312cbda0d57_14\", \"run_number\": 64, \"metric\": null, \"status\": \"Completed\", \"run_type\": \"azureml.scriptrun\", \"training_percent\": \"100\", \"start_time\": \"2021-03-20T19:06:52.052393Z\", \"end_time\": \"2021-03-20T19:07:55.471457Z\", \"created_time\": \"2021-03-20T19:06:41.72638Z\", \"created_time_dt\": \"2021-03-20T19:06:41.72638Z\", \"duration\": \"0:01:13\", \"iteration\": \"14\", \"goal\": \"accuracy_max\", \"run_name\": \"MaxAbsScaler, LightGBM\", \"run_properties\": \"copy=True\", \"primary_metric\": 0.7710617, \"best_metric\": 0.79669068}, {\"run_id\": \"AutoML_54e90b2a-4dc0-4948-bca0-f312cbda0d57_15\", \"run_number\": 65, \"metric\": null, \"status\": \"Completed\", \"run_type\": \"azureml.scriptrun\", \"training_percent\": \"100\", \"start_time\": \"2021-03-20T19:07:13.940665Z\", \"end_time\": \"2021-03-20T19:08:11.177695Z\", \"created_time\": \"2021-03-20T19:07:01.979007Z\", \"created_time_dt\": \"2021-03-20T19:07:01.979007Z\", \"duration\": \"0:01:09\", \"iteration\": \"15\", \"goal\": \"accuracy_max\", \"run_name\": \"SparseNormalizer, LightGBM\", \"run_properties\": \"<azureml.automl.runtime.shared.model_wrappers.SparseNormalizer object at 0x7fd836a3e908\", \"primary_metric\": 0.76531997, \"best_metric\": 0.79669068}, {\"run_id\": \"AutoML_54e90b2a-4dc0-4948-bca0-f312cbda0d57_16\", \"run_number\": 66, \"metric\": null, \"status\": \"Completed\", \"run_type\": \"azureml.scriptrun\", \"training_percent\": \"100\", \"start_time\": \"2021-03-20T19:07:57.625778Z\", \"end_time\": \"2021-03-20T19:08:42.3519Z\", \"created_time\": \"2021-03-20T19:07:46.304155Z\", \"created_time_dt\": \"2021-03-20T19:07:46.304155Z\", \"duration\": \"0:00:56\", \"iteration\": \"16\", \"goal\": \"accuracy_max\", \"run_name\": \"SparseNormalizer, LightGBM\", \"run_properties\": \"<azureml.automl.runtime.shared.model_wrappers.SparseNormalizer object at 0x7fd4119e5b38\", \"primary_metric\": 0.752114, \"best_metric\": 0.79669068}, {\"run_id\": \"AutoML_54e90b2a-4dc0-4948-bca0-f312cbda0d57_17\", \"run_number\": 67, \"metric\": null, \"status\": \"Completed\", \"run_type\": \"azureml.scriptrun\", \"training_percent\": \"100\", \"start_time\": \"2021-03-20T19:08:10.990612Z\", \"end_time\": \"2021-03-20T19:09:20.847871Z\", \"created_time\": \"2021-03-20T19:07:57.548344Z\", \"created_time_dt\": \"2021-03-20T19:07:57.548344Z\", \"duration\": \"0:01:23\", \"iteration\": \"17\", \"goal\": \"accuracy_max\", \"run_name\": \"SparseNormalizer, XGBoostClassifier\", \"run_properties\": \"<azureml.automl.runtime.shared.model_wrappers.SparseNormalizer object at 0x7f2c674ee668\", \"primary_metric\": 0.77868253, \"best_metric\": 0.79669068}, {\"run_id\": \"AutoML_54e90b2a-4dc0-4948-bca0-f312cbda0d57_18\", \"run_number\": 68, \"metric\": null, \"status\": \"Completed\", \"run_type\": \"azureml.scriptrun\", \"training_percent\": \"100\", \"start_time\": \"2021-03-20T19:08:25.930647Z\", \"end_time\": \"2021-03-20T19:09:33.288122Z\", \"created_time\": \"2021-03-20T19:08:12.978883Z\", \"created_time_dt\": \"2021-03-20T19:08:12.978883Z\", \"duration\": \"0:01:20\", \"iteration\": \"18\", \"goal\": \"accuracy_max\", \"run_name\": \"SparseNormalizer, XGBoostClassifier\", \"run_properties\": \"<azureml.automl.runtime.shared.model_wrappers.SparseNormalizer object at 0x7f372d292908\", \"primary_metric\": 0.77983088, \"best_metric\": 0.79669068}, {\"run_id\": \"AutoML_54e90b2a-4dc0-4948-bca0-f312cbda0d57_19\", \"run_number\": 69, \"metric\": null, \"status\": \"Completed\", \"run_type\": \"azureml.scriptrun\", \"training_percent\": \"100\", \"start_time\": \"2021-03-20T19:08:32.09115Z\", \"end_time\": \"2021-03-20T19:09:25.594486Z\", \"created_time\": \"2021-03-20T19:08:20.466939Z\", \"created_time_dt\": \"2021-03-20T19:08:20.466939Z\", \"duration\": \"0:01:05\", \"iteration\": \"19\", \"goal\": \"accuracy_max\", \"run_name\": \"MaxAbsScaler, LightGBM\", \"run_properties\": \"copy=True\", \"primary_metric\": 0.78050945, \"best_metric\": 0.79669068}, {\"run_id\": \"AutoML_54e90b2a-4dc0-4948-bca0-f312cbda0d57_20\", \"run_number\": 70, \"metric\": null, \"status\": \"Completed\", \"run_type\": \"azureml.scriptrun\", \"training_percent\": \"100\", \"start_time\": \"2021-03-20T19:08:58.718048Z\", \"end_time\": \"2021-03-20T19:10:21.623611Z\", \"created_time\": \"2021-03-20T19:08:44.290068Z\", \"created_time_dt\": \"2021-03-20T19:08:44.290068Z\", \"duration\": \"0:01:37\", \"iteration\": \"20\", \"goal\": \"accuracy_max\", \"run_name\": \"SparseNormalizer, XGBoostClassifier\", \"run_properties\": \"<azureml.automl.runtime.shared.model_wrappers.SparseNormalizer object at 0x7fe335515080\", \"primary_metric\": 0.7816056, \"best_metric\": 0.79669068}, {\"run_id\": \"AutoML_54e90b2a-4dc0-4948-bca0-f312cbda0d57_21\", \"run_number\": 71, \"metric\": null, \"status\": \"Completed\", \"run_type\": \"azureml.scriptrun\", \"training_percent\": \"100\", \"start_time\": \"2021-03-20T19:09:35.40968Z\", \"end_time\": \"2021-03-20T19:10:38.521392Z\", \"created_time\": \"2021-03-20T19:09:22.620228Z\", \"created_time_dt\": \"2021-03-20T19:09:22.620228Z\", \"duration\": \"0:01:15\", \"iteration\": \"21\", \"goal\": \"accuracy_max\", \"run_name\": \"MaxAbsScaler, LightGBM\", \"run_properties\": \"copy=True\", \"primary_metric\": 0.79335004, \"best_metric\": 0.79669068}, {\"run_id\": \"AutoML_54e90b2a-4dc0-4948-bca0-f312cbda0d57_22\", \"run_number\": 72, \"metric\": null, \"status\": \"Completed\", \"run_type\": \"azureml.scriptrun\", \"training_percent\": \"100\", \"start_time\": \"2021-03-20T19:09:42.234057Z\", \"end_time\": \"2021-03-20T19:11:00.740826Z\", \"created_time\": \"2021-03-20T19:09:28.177648Z\", \"created_time_dt\": \"2021-03-20T19:09:28.177648Z\", \"duration\": \"0:01:32\", \"iteration\": \"22\", \"goal\": \"accuracy_max\", \"run_name\": \"SparseNormalizer, RandomForest\", \"run_properties\": \"<azureml.automl.runtime.shared.model_wrappers.SparseNormalizer object at 0x7fcab836aeb8\", \"primary_metric\": 0.75065247, \"best_metric\": 0.79669068}, {\"run_id\": \"AutoML_54e90b2a-4dc0-4948-bca0-f312cbda0d57_23\", \"run_number\": 73, \"metric\": null, \"status\": \"Canceled\", \"run_type\": \"azureml.scriptrun\", \"training_percent\": \"100\", \"start_time\": \"2021-03-20T19:09:50.979703Z\", \"end_time\": \"2021-03-20T19:17:57.896399Z\", \"created_time\": \"2021-03-20T19:09:37.986744Z\", \"created_time_dt\": \"2021-03-20T19:09:37.986744Z\", \"duration\": \"0:08:19\", \"iteration\": \"23\", \"goal\": \"accuracy_max\", \"run_name\": \"SparseNormalizer, XGBoostClassifier\", \"run_properties\": \"<azureml.automl.runtime.shared.model_wrappers.SparseNormalizer object at 0x7f5ea0c17828\", \"primary_metric\": 0.77800397, \"best_metric\": 0.79669068}, {\"run_id\": \"AutoML_54e90b2a-4dc0-4948-bca0-f312cbda0d57_24\", \"run_number\": 74, \"metric\": null, \"status\": \"Completed\", \"run_type\": \"azureml.scriptrun\", \"training_percent\": \"100\", \"start_time\": \"2021-03-20T19:10:37.4879Z\", \"end_time\": \"2021-03-20T19:11:44.119191Z\", \"created_time\": \"2021-03-20T19:10:23.842264Z\", \"created_time_dt\": \"2021-03-20T19:10:23.842264Z\", \"duration\": \"0:01:20\", \"iteration\": \"24\", \"goal\": \"accuracy_max\", \"run_name\": \"StandardScalerWrapper, XGBoostClassifier\", \"run_properties\": \"<azureml.automl.runtime.shared.model_wrappers.StandardScalerWrapper object at 0x7fe3ce1bd0b8\", \"primary_metric\": 0.7962731, \"best_metric\": 0.79669068}, {\"run_id\": \"AutoML_54e90b2a-4dc0-4948-bca0-f312cbda0d57_25\", \"run_number\": 75, \"metric\": null, \"status\": \"Completed\", \"run_type\": \"azureml.scriptrun\", \"training_percent\": \"100\", \"start_time\": \"2021-03-20T19:10:53.684296Z\", \"end_time\": \"2021-03-20T19:17:56.149271Z\", \"created_time\": \"2021-03-20T19:10:41.237499Z\", \"created_time_dt\": \"2021-03-20T19:10:41.237499Z\", \"duration\": \"0:07:14\", \"iteration\": \"25\", \"goal\": \"accuracy_max\", \"run_name\": \"StandardScalerWrapper, LightGBM\", \"run_properties\": \"<azureml.automl.runtime.shared.model_wrappers.StandardScalerWrapper object at 0x7fee3c36ecc0\", \"primary_metric\": 0.75065247, \"best_metric\": 0.79669068}, {\"run_id\": \"AutoML_54e90b2a-4dc0-4948-bca0-f312cbda0d57_26\", \"run_number\": 76, \"metric\": null, \"status\": \"Completed\", \"run_type\": \"azureml.scriptrun\", \"training_percent\": \"100\", \"start_time\": \"2021-03-20T19:11:16.166409Z\", \"end_time\": \"2021-03-20T19:12:23.690006Z\", \"created_time\": \"2021-03-20T19:11:02.601092Z\", \"created_time_dt\": \"2021-03-20T19:11:02.601092Z\", \"duration\": \"0:01:21\", \"iteration\": \"26\", \"goal\": \"accuracy_max\", \"run_name\": \"SparseNormalizer, ExtremeRandomTrees\", \"run_properties\": \"<azureml.automl.runtime.shared.model_wrappers.SparseNormalizer object at 0x7f715039ac50\", \"primary_metric\": 0.75065247, \"best_metric\": 0.79669068}, {\"run_id\": \"AutoML_54e90b2a-4dc0-4948-bca0-f312cbda0d57_27\", \"run_number\": 77, \"metric\": null, \"status\": \"Completed\", \"run_type\": \"azureml.scriptrun\", \"training_percent\": \"100\", \"start_time\": \"2021-03-20T19:12:00.144474Z\", \"end_time\": \"2021-03-20T19:12:55.338936Z\", \"created_time\": \"2021-03-20T19:11:47.265809Z\", \"created_time_dt\": \"2021-03-20T19:11:47.265809Z\", \"duration\": \"0:01:08\", \"iteration\": \"27\", \"goal\": \"accuracy_max\", \"run_name\": \"SparseNormalizer, XGBoostClassifier\", \"run_properties\": \"<azureml.automl.runtime.shared.model_wrappers.SparseNormalizer object at 0x7fc4191f2f60\", \"primary_metric\": 0.77080071, \"best_metric\": 0.79669068}, {\"run_id\": \"AutoML_54e90b2a-4dc0-4948-bca0-f312cbda0d57_28\", \"run_number\": 78, \"metric\": null, \"status\": \"Completed\", \"run_type\": \"azureml.scriptrun\", \"training_percent\": \"100\", \"start_time\": \"2021-03-20T19:12:38.51317Z\", \"end_time\": \"2021-03-20T19:13:33.111226Z\", \"created_time\": \"2021-03-20T19:12:26.041937Z\", \"created_time_dt\": \"2021-03-20T19:12:26.041937Z\", \"duration\": \"0:01:07\", \"iteration\": \"28\", \"goal\": \"accuracy_max\", \"run_name\": \"SparseNormalizer, XGBoostClassifier\", \"run_properties\": \"<azureml.automl.runtime.shared.model_wrappers.SparseNormalizer object at 0x7f1311456898\", \"primary_metric\": 0.77977868, \"best_metric\": 0.79669068}, {\"run_id\": \"AutoML_54e90b2a-4dc0-4948-bca0-f312cbda0d57_29\", \"run_number\": 79, \"metric\": null, \"status\": \"Completed\", \"run_type\": \"azureml.scriptrun\", \"training_percent\": \"100\", \"start_time\": \"2021-03-20T19:13:11.755483Z\", \"end_time\": \"2021-03-20T19:14:10.701333Z\", \"created_time\": \"2021-03-20T19:12:59.365001Z\", \"created_time_dt\": \"2021-03-20T19:12:59.365001Z\", \"duration\": \"0:01:11\", \"iteration\": \"29\", \"goal\": \"accuracy_max\", \"run_name\": \"MaxAbsScaler, ExtremeRandomTrees\", \"run_properties\": \"copy=True\", \"primary_metric\": 0.78395448, \"best_metric\": 0.79669068}, {\"run_id\": \"AutoML_54e90b2a-4dc0-4948-bca0-f312cbda0d57_30\", \"run_number\": 80, \"metric\": null, \"status\": \"Completed\", \"run_type\": \"azureml.scriptrun\", \"training_percent\": \"100\", \"start_time\": \"2021-03-20T19:13:50.084303Z\", \"end_time\": \"2021-03-20T19:14:54.241975Z\", \"created_time\": \"2021-03-20T19:13:35.972839Z\", \"created_time_dt\": \"2021-03-20T19:13:35.972839Z\", \"duration\": \"0:01:18\", \"iteration\": \"30\", \"goal\": \"accuracy_max\", \"run_name\": \"MaxAbsScaler, LightGBM\", \"run_properties\": \"copy=True\", \"primary_metric\": 0.75065247, \"best_metric\": 0.79669068}, {\"run_id\": \"AutoML_54e90b2a-4dc0-4948-bca0-f312cbda0d57_31\", \"run_number\": 81, \"metric\": null, \"status\": \"Completed\", \"run_type\": \"azureml.scriptrun\", \"training_percent\": \"100\", \"start_time\": \"2021-03-20T19:14:27.705592Z\", \"end_time\": \"2021-03-20T19:15:34.415312Z\", \"created_time\": \"2021-03-20T19:14:14.965146Z\", \"created_time_dt\": \"2021-03-20T19:14:14.965146Z\", \"duration\": \"0:01:19\", \"iteration\": \"31\", \"goal\": \"accuracy_max\", \"run_name\": \"MaxAbsScaler, ExtremeRandomTrees\", \"run_properties\": \"copy=True\", \"primary_metric\": 0.7647458, \"best_metric\": 0.79669068}, {\"run_id\": \"AutoML_54e90b2a-4dc0-4948-bca0-f312cbda0d57_32\", \"run_number\": 82, \"metric\": null, \"status\": \"Completed\", \"run_type\": \"azureml.scriptrun\", \"training_percent\": \"100\", \"start_time\": \"2021-03-20T19:15:09.545678Z\", \"end_time\": \"2021-03-20T19:16:44.922004Z\", \"created_time\": \"2021-03-20T19:14:56.17395Z\", \"created_time_dt\": \"2021-03-20T19:14:56.17395Z\", \"duration\": \"0:01:48\", \"iteration\": \"32\", \"goal\": \"accuracy_max\", \"run_name\": \"MaxAbsScaler, GradientBoosting\", \"run_properties\": \"copy=True\", \"primary_metric\": 0.7751331, \"best_metric\": 0.79669068}, {\"run_id\": \"AutoML_54e90b2a-4dc0-4948-bca0-f312cbda0d57_33\", \"run_number\": 83, \"metric\": null, \"status\": \"Completed\", \"run_type\": \"azureml.scriptrun\", \"training_percent\": \"100\", \"start_time\": \"2021-03-20T19:15:50.191409Z\", \"end_time\": \"2021-03-20T19:17:01.46087Z\", \"created_time\": \"2021-03-20T19:15:36.434093Z\", \"created_time_dt\": \"2021-03-20T19:15:36.434093Z\", \"duration\": \"0:01:25\", \"iteration\": \"33\", \"goal\": \"accuracy_max\", \"run_name\": \"SparseNormalizer, LightGBM\", \"run_properties\": \"<azureml.automl.runtime.shared.model_wrappers.SparseNormalizer object at 0x7f7cfb981b00\", \"primary_metric\": 0.77685562, \"best_metric\": 0.79669068}, {\"run_id\": \"AutoML_54e90b2a-4dc0-4948-bca0-f312cbda0d57_34\", \"run_number\": 84, \"metric\": null, \"status\": \"Canceled\", \"run_type\": \"azureml.scriptrun\", \"training_percent\": \"100\", \"start_time\": \"2021-03-20T19:16:59.230754Z\", \"end_time\": \"2021-03-20T19:18:05.330501Z\", \"created_time\": \"2021-03-20T19:16:46.66356Z\", \"created_time_dt\": \"2021-03-20T19:16:46.66356Z\", \"duration\": \"0:01:18\", \"iteration\": \"34\", \"goal\": \"accuracy_max\", \"run_name\": \"MaxAbsScaler, RandomForest\", \"run_properties\": \"copy=True\", \"primary_metric\": 0.79392421, \"best_metric\": 0.79669068}, {\"run_id\": \"AutoML_54e90b2a-4dc0-4948-bca0-f312cbda0d57_35\", \"run_number\": 85, \"metric\": null, \"status\": \"Canceled\", \"run_type\": \"azureml.scriptrun\", \"training_percent\": \"100\", \"start_time\": \"2021-03-20T19:17:19.764863Z\", \"end_time\": \"2021-03-20T19:18:04.812005Z\", \"created_time\": \"2021-03-20T19:17:04.844516Z\", \"created_time_dt\": \"2021-03-20T19:17:04.844516Z\", \"duration\": \"0:00:59\", \"iteration\": \"35\", \"goal\": \"accuracy_max\", \"run_name\": \"MaxAbsScaler, LightGBM\", \"run_properties\": \"copy=True\", \"primary_metric\": 0.77983088, \"best_metric\": 0.79669068}, {\"run_id\": \"AutoML_54e90b2a-4dc0-4948-bca0-f312cbda0d57_36\", \"run_number\": 86, \"metric\": null, \"status\": \"Completed\", \"run_type\": \"azureml.scriptrun\", \"training_percent\": \"100\", \"start_time\": \"2021-03-20T19:18:15.685222Z\", \"end_time\": \"2021-03-20T19:19:46.387995Z\", \"created_time\": \"2021-03-20T19:18:06.636178Z\", \"created_time_dt\": \"2021-03-20T19:18:06.636178Z\", \"duration\": \"0:01:39\", \"iteration\": \"36\", \"goal\": \"accuracy_max\", \"run_name\": \"VotingEnsemble\", \"run_properties\": \"classification_labels=None,\\n                              estimators=[('0',\\n                                           Pipeline(memory=None,\\n                                                    steps=[('maxabsscaler',\\n                                                            MaxAbsScaler(copy=True\", \"primary_metric\": 0.79945715, \"best_metric\": 0.79945715}, {\"run_id\": \"AutoML_54e90b2a-4dc0-4948-bca0-f312cbda0d57_37\", \"run_number\": 87, \"metric\": null, \"status\": \"Completed\", \"run_type\": \"azureml.scriptrun\", \"training_percent\": \"100\", \"start_time\": \"2021-03-20T19:18:16.288128Z\", \"end_time\": \"2021-03-20T19:28:06.378903Z\", \"created_time\": \"2021-03-20T19:18:06.648053Z\", \"created_time_dt\": \"2021-03-20T19:18:06.648053Z\", \"duration\": \"0:09:59\", \"iteration\": \"37\", \"goal\": \"accuracy_max\", \"run_name\": \"StackEnsemble\", \"run_properties\": \"base_learners=[('0',\\n                                        Pipeline(memory=None,\\n                                                 steps=[('maxabsscaler',\\n                                                         MaxAbsScaler(copy=True\", \"primary_metric\": 0.79658628, \"best_metric\": 0.79945715}], \"children_metrics\": {\"categories\": [0], \"series\": {\"balanced_accuracy\": [{\"categories\": [\"0\", \"1\", \"2\", \"3\", \"4\", \"5\", \"6\", \"7\", \"8\", \"9\", \"10\", \"11\", \"12\", \"13\", \"14\", \"15\", \"16\", \"17\", \"18\", \"19\", \"20\", \"21\", \"22\", \"23\", \"24\", \"25\", \"26\", \"27\", \"28\", \"29\", \"30\", \"31\", \"32\", \"33\", \"34\", \"35\", \"36\", \"37\"], \"mode\": \"markers\", \"name\": \"balanced_accuracy\", \"stepped\": false, \"type\": \"scatter\", \"data\": [0.7248325554994094, 0.7092071903260377, 0.6274478195101431, 0.5805708519838463, 0.7538894970443408, 0.7252442758841443, 0.6792676184115641, 0.651698921264738, 0.6177674521544202, 0.5203387628752149, 0.6409464583395663, 0.5394805495187267, 0.6116565416946321, 0.5172105172031584, 0.5980385855596136, 0.5737800940664609, 0.5072546658956146, 0.6452506948687414, 0.6716960178678891, 0.6432204997671191, 0.6706816118944742, 0.7037421955438784, 0.5, 0.6668134030368528, 0.7228436667826572, 0.5, 0.5, 0.6101429684478327, 0.682480754899907, 0.677767566781364, 0.5, 0.5630256456480757, 0.6135299008750322, 0.6324022055557781, 0.7103030953713979, 0.6445609680291083, 0.737057695553477, 0.727741756735942]}, {\"categories\": [\"0\", \"1\", \"2\", \"3\", \"4\", \"5\", \"6\", \"7\", \"8\", \"9\", \"10\", \"11\", \"12\", \"13\", \"14\", \"15\", \"16\", \"17\", \"18\", \"19\", \"20\", \"21\", \"22\", \"23\", \"24\", \"25\", \"26\", \"27\", \"28\", \"29\", \"30\", \"31\", \"32\", \"33\", \"34\", \"35\", \"36\", \"37\"], \"mode\": \"lines\", \"name\": \"balanced_accuracy_max\", \"stepped\": true, \"type\": \"scatter\", \"data\": [0.7248325554994094, 0.7248325554994094, 0.7248325554994094, 0.7248325554994094, 0.7538894970443408, 0.7538894970443408, 0.7538894970443408, 0.7538894970443408, 0.7538894970443408, 0.7538894970443408, 0.7538894970443408, 0.7538894970443408, 0.7538894970443408, 0.7538894970443408, 0.7538894970443408, 0.7538894970443408, 0.7538894970443408, 0.7538894970443408, 0.7538894970443408, 0.7538894970443408, 0.7538894970443408, 0.7538894970443408, 0.7538894970443408, 0.7538894970443408, 0.7538894970443408, 0.7538894970443408, 0.7538894970443408, 0.7538894970443408, 0.7538894970443408, 0.7538894970443408, 0.7538894970443408, 0.7538894970443408, 0.7538894970443408, 0.7538894970443408, 0.7538894970443408, 0.7538894970443408, 0.7538894970443408, 0.7538894970443408]}], \"recall_score_macro\": [{\"categories\": [\"0\", \"1\", \"2\", \"3\", \"4\", \"5\", \"6\", \"7\", \"8\", \"9\", \"10\", \"11\", \"12\", \"13\", \"14\", \"15\", \"16\", \"17\", \"18\", \"19\", \"20\", \"21\", \"22\", \"23\", \"24\", \"25\", \"26\", \"27\", \"28\", \"29\", \"30\", \"31\", \"32\", \"33\", \"34\", \"35\", \"36\", \"37\"], \"mode\": \"markers\", \"name\": \"recall_score_macro\", \"stepped\": false, \"type\": \"scatter\", \"data\": [0.7248325554994094, 0.7092071903260377, 0.6274478195101431, 0.5805708519838463, 0.7538894970443408, 0.7252442758841443, 0.6792676184115641, 0.651698921264738, 0.6177674521544202, 0.5203387628752149, 0.6409464583395663, 0.5394805495187267, 0.6116565416946321, 0.5172105172031584, 0.5980385855596136, 0.5737800940664609, 0.5072546658956146, 0.6452506948687414, 0.6716960178678891, 0.6432204997671191, 0.6706816118944742, 0.7037421955438784, 0.5, 0.6668134030368528, 0.7228436667826572, 0.5, 0.5, 0.6101429684478327, 0.682480754899907, 0.677767566781364, 0.5, 0.5630256456480757, 0.6135299008750322, 0.6324022055557781, 0.7103030953713979, 0.6445609680291083, 0.737057695553477, 0.727741756735942]}, {\"categories\": [\"0\", \"1\", \"2\", \"3\", \"4\", \"5\", \"6\", \"7\", \"8\", \"9\", \"10\", \"11\", \"12\", \"13\", \"14\", \"15\", \"16\", \"17\", \"18\", \"19\", \"20\", \"21\", \"22\", \"23\", \"24\", \"25\", \"26\", \"27\", \"28\", \"29\", \"30\", \"31\", \"32\", \"33\", \"34\", \"35\", \"36\", \"37\"], \"mode\": \"lines\", \"name\": \"recall_score_macro_max\", \"stepped\": true, \"type\": \"scatter\", \"data\": [0.7248325554994094, 0.7248325554994094, 0.7248325554994094, 0.7248325554994094, 0.7538894970443408, 0.7538894970443408, 0.7538894970443408, 0.7538894970443408, 0.7538894970443408, 0.7538894970443408, 0.7538894970443408, 0.7538894970443408, 0.7538894970443408, 0.7538894970443408, 0.7538894970443408, 0.7538894970443408, 0.7538894970443408, 0.7538894970443408, 0.7538894970443408, 0.7538894970443408, 0.7538894970443408, 0.7538894970443408, 0.7538894970443408, 0.7538894970443408, 0.7538894970443408, 0.7538894970443408, 0.7538894970443408, 0.7538894970443408, 0.7538894970443408, 0.7538894970443408, 0.7538894970443408, 0.7538894970443408, 0.7538894970443408, 0.7538894970443408, 0.7538894970443408, 0.7538894970443408, 0.7538894970443408, 0.7538894970443408]}], \"weighted_accuracy\": [{\"categories\": [\"0\", \"1\", \"2\", \"3\", \"4\", \"5\", \"6\", \"7\", \"8\", \"9\", \"10\", \"11\", \"12\", \"13\", \"14\", \"15\", \"16\", \"17\", \"18\", \"19\", \"20\", \"21\", \"22\", \"23\", \"24\", \"25\", \"26\", \"27\", \"28\", \"29\", \"30\", \"31\", \"32\", \"33\", \"34\", \"35\", \"36\", \"37\"], \"mode\": \"markers\", \"name\": \"weighted_accuracy\", \"stepped\": false, \"type\": \"scatter\", \"data\": [0.8397324309802427, 0.8430039215132908, 0.8658272454028753, 0.8771805557554057, 0.7516266460233257, 0.6816253017729627, 0.8403045473332655, 0.8607153883350027, 0.8693863688665099, 0.8961502261321326, 0.8623100887986429, 0.8871146243032398, 0.8681699599818541, 0.8962844838251406, 0.8746243386876037, 0.8797874023761193, 0.8984554363056135, 0.8585277900791141, 0.8445596453938621, 0.8626248239069946, 0.8479806260528294, 0.8469566137488108, 0.9004644223796888, 0.8445396882960113, 0.8403034974598326, 0.9004644223796888, 0.9004644223796888, 0.8669244715741993, 0.838005689624743, 0.8475514790402442, 0.9004644223796888, 0.8854081712968477, 0.8717596121574692, 0.8632912752474825, 0.8439839624490874, 0.860707698028561, 0.8368402628357527, 0.8378714558860413]}, {\"categories\": [\"0\", \"1\", \"2\", \"3\", \"4\", \"5\", \"6\", \"7\", \"8\", \"9\", \"10\", \"11\", \"12\", \"13\", \"14\", \"15\", \"16\", \"17\", \"18\", \"19\", \"20\", \"21\", \"22\", \"23\", \"24\", \"25\", \"26\", \"27\", \"28\", \"29\", \"30\", \"31\", \"32\", \"33\", \"34\", \"35\", \"36\", \"37\"], \"mode\": \"lines\", \"name\": \"weighted_accuracy_max\", \"stepped\": true, \"type\": \"scatter\", \"data\": [0.8397324309802427, 0.8430039215132908, 0.8658272454028753, 0.8771805557554057, 0.8771805557554057, 0.8771805557554057, 0.8771805557554057, 0.8771805557554057, 0.8771805557554057, 0.8961502261321326, 0.8961502261321326, 0.8961502261321326, 0.8961502261321326, 0.8962844838251406, 0.8962844838251406, 0.8962844838251406, 0.8984554363056135, 0.8984554363056135, 0.8984554363056135, 0.8984554363056135, 0.8984554363056135, 0.8984554363056135, 0.9004644223796888, 0.9004644223796888, 0.9004644223796888, 0.9004644223796888, 0.9004644223796888, 0.9004644223796888, 0.9004644223796888, 0.9004644223796888, 0.9004644223796888, 0.9004644223796888, 0.9004644223796888, 0.9004644223796888, 0.9004644223796888, 0.9004644223796888, 0.9004644223796888, 0.9004644223796888]}], \"precision_score_weighted\": [{\"categories\": [\"0\", \"1\", \"2\", \"3\", \"4\", \"5\", \"6\", \"7\", \"8\", \"9\", \"10\", \"11\", \"12\", \"13\", \"14\", \"15\", \"16\", \"17\", \"18\", \"19\", \"20\", \"21\", \"22\", \"23\", \"24\", \"25\", \"26\", \"27\", \"28\", \"29\", \"30\", \"31\", \"32\", \"33\", \"34\", \"35\", \"36\", \"37\"], \"mode\": \"markers\", \"name\": \"precision_score_weighted\", \"stepped\": false, \"type\": \"scatter\", \"data\": [0.7953768179739805, 0.7875824295873267, 0.7540029938326372, 0.7360584261636962, 0.8030818926910409, 0.7867673605630624, 0.7694239686863314, 0.7637254950508366, 0.7503914809593271, 0.72486954420763, 0.7585456723098288, 0.7211817773611097, 0.7456777450085159, 0.7199337925977037, 0.7436750294678199, 0.7329432055885453, 0.7075046107820393, 0.7586280921742145, 0.7667147235353989, 0.7601954718433396, 0.767803521150213, 0.7859716530528553, 0.563536326250263, 0.7640921309997015, 0.7945401123701546, 0.563536326250263, 0.563536326250263, 0.7451015967577508, 0.7704129069379153, 0.7716549510696421, 0.563536326250263, 0.7313886696900181, 0.7498338949313345, 0.7545733265896506, 0.788500703391044, 0.7597367201018121, 0.8016125102726795, 0.7965412648533726]}, {\"categories\": [\"0\", \"1\", \"2\", \"3\", \"4\", \"5\", \"6\", \"7\", \"8\", \"9\", \"10\", \"11\", \"12\", \"13\", \"14\", \"15\", \"16\", \"17\", \"18\", \"19\", \"20\", \"21\", \"22\", \"23\", \"24\", \"25\", \"26\", \"27\", \"28\", \"29\", \"30\", \"31\", \"32\", \"33\", \"34\", \"35\", \"36\", \"37\"], \"mode\": \"lines\", \"name\": \"precision_score_weighted_max\", \"stepped\": true, \"type\": \"scatter\", \"data\": [0.7953768179739805, 0.7953768179739805, 0.7953768179739805, 0.7953768179739805, 0.8030818926910409, 0.8030818926910409, 0.8030818926910409, 0.8030818926910409, 0.8030818926910409, 0.8030818926910409, 0.8030818926910409, 0.8030818926910409, 0.8030818926910409, 0.8030818926910409, 0.8030818926910409, 0.8030818926910409, 0.8030818926910409, 0.8030818926910409, 0.8030818926910409, 0.8030818926910409, 0.8030818926910409, 0.8030818926910409, 0.8030818926910409, 0.8030818926910409, 0.8030818926910409, 0.8030818926910409, 0.8030818926910409, 0.8030818926910409, 0.8030818926910409, 0.8030818926910409, 0.8030818926910409, 0.8030818926910409, 0.8030818926910409, 0.8030818926910409, 0.8030818926910409, 0.8030818926910409, 0.8030818926910409, 0.8030818926910409]}], \"precision_score_micro\": [{\"categories\": [\"0\", \"1\", \"2\", \"3\", \"4\", \"5\", \"6\", \"7\", \"8\", \"9\", \"10\", \"11\", \"12\", \"13\", \"14\", \"15\", \"16\", \"17\", \"18\", \"19\", \"20\", \"21\", \"22\", \"23\", \"24\", \"25\", \"26\", \"27\", \"28\", \"29\", \"30\", \"31\", \"32\", \"33\", \"34\", \"35\", \"36\", \"37\"], \"mode\": \"markers\", \"name\": \"precision_score_micro\", \"stepped\": false, \"type\": \"scatter\", \"data\": [0.7966906775237499, 0.7928802588996763, 0.7765424365800189, 0.7661029335003654, 0.7524793819814177, 0.6979329783902286, 0.7800396701117028, 0.7824929533354212, 0.7752374986950622, 0.7555590353899154, 0.7795698924731184, 0.7567595782440756, 0.7722100428019626, 0.7544628875665519, 0.7710616974632009, 0.7653199707693913, 0.7521139993736298, 0.7786825347113476, 0.7798308800501096, 0.7805094477502871, 0.7816055955736507, 0.7933500365382607, 0.7506524689424784, 0.7780039670111702, 0.7962730974005637, 0.7506524689424784, 0.7506524689424784, 0.7708007098862094, 0.7797786825347114, 0.7839544837665727, 0.7506524689424784, 0.7647457981000105, 0.7751331036642656, 0.7768556216724084, 0.7939242092076418, 0.7798308800501097, 0.7994571458398579, 0.7965862824929534]}, {\"categories\": [\"0\", \"1\", \"2\", \"3\", \"4\", \"5\", \"6\", \"7\", \"8\", \"9\", \"10\", \"11\", \"12\", \"13\", \"14\", \"15\", \"16\", \"17\", \"18\", \"19\", \"20\", \"21\", \"22\", \"23\", \"24\", \"25\", \"26\", \"27\", \"28\", \"29\", \"30\", \"31\", \"32\", \"33\", \"34\", \"35\", \"36\", \"37\"], \"mode\": \"lines\", \"name\": \"precision_score_micro_max\", \"stepped\": true, \"type\": \"scatter\", \"data\": [0.7966906775237499, 0.7966906775237499, 0.7966906775237499, 0.7966906775237499, 0.7966906775237499, 0.7966906775237499, 0.7966906775237499, 0.7966906775237499, 0.7966906775237499, 0.7966906775237499, 0.7966906775237499, 0.7966906775237499, 0.7966906775237499, 0.7966906775237499, 0.7966906775237499, 0.7966906775237499, 0.7966906775237499, 0.7966906775237499, 0.7966906775237499, 0.7966906775237499, 0.7966906775237499, 0.7966906775237499, 0.7966906775237499, 0.7966906775237499, 0.7966906775237499, 0.7966906775237499, 0.7966906775237499, 0.7966906775237499, 0.7966906775237499, 0.7966906775237499, 0.7966906775237499, 0.7966906775237499, 0.7966906775237499, 0.7966906775237499, 0.7966906775237499, 0.7966906775237499, 0.7994571458398579, 0.7994571458398579]}], \"average_precision_score_micro\": [{\"categories\": [\"0\", \"1\", \"2\", \"3\", \"4\", \"5\", \"6\", \"7\", \"8\", \"9\", \"10\", \"11\", \"12\", \"13\", \"14\", \"15\", \"16\", \"17\", \"18\", \"19\", \"20\", \"21\", \"22\", \"23\", \"24\", \"25\", \"26\", \"27\", \"28\", \"29\", \"30\", \"31\", \"32\", \"33\", \"34\", \"35\", \"36\", \"37\"], \"mode\": \"markers\", \"name\": \"average_precision_score_micro\", \"stepped\": false, \"type\": \"scatter\", \"data\": [0.8631931352834181, 0.8612738775898308, 0.853317422408105, 0.8474676771709323, 0.7638707190485711, 0.7614818388782245, 0.8535302911521355, 0.856215953265972, 0.8539968072620246, 0.8474553959393454, 0.8560331718384621, 0.8343594739658416, 0.8485494666547325, 0.8491590795184739, 0.852286605914179, 0.8520371657151756, 0.8453577401814619, 0.8540189229619801, 0.8526165681748529, 0.8523452796738545, 0.8555609353356438, 0.8611820558300497, 0.8437305115446622, 0.855251217212564, 0.8620132883745218, 0.8449660676655565, 0.840869364256493, 0.8475059234322234, 0.8553105094327828, 0.8585035721207551, 0.8487049775463323, 0.8508310710980845, 0.8517524232976363, 0.8523955438551954, 0.861159289130795, 0.8536416105386658, 0.8635945515045661, 0.8647156819176817]}, {\"categories\": [\"0\", \"1\", \"2\", \"3\", \"4\", \"5\", \"6\", \"7\", \"8\", \"9\", \"10\", \"11\", \"12\", \"13\", \"14\", \"15\", \"16\", \"17\", \"18\", \"19\", \"20\", \"21\", \"22\", \"23\", \"24\", \"25\", \"26\", \"27\", \"28\", \"29\", \"30\", \"31\", \"32\", \"33\", \"34\", \"35\", \"36\", \"37\"], \"mode\": \"lines\", \"name\": \"average_precision_score_micro_max\", \"stepped\": true, \"type\": \"scatter\", \"data\": [0.8631931352834181, 0.8631931352834181, 0.8631931352834181, 0.8631931352834181, 0.8631931352834181, 0.8631931352834181, 0.8631931352834181, 0.8631931352834181, 0.8631931352834181, 0.8631931352834181, 0.8631931352834181, 0.8631931352834181, 0.8631931352834181, 0.8631931352834181, 0.8631931352834181, 0.8631931352834181, 0.8631931352834181, 0.8631931352834181, 0.8631931352834181, 0.8631931352834181, 0.8631931352834181, 0.8631931352834181, 0.8631931352834181, 0.8631931352834181, 0.8631931352834181, 0.8631931352834181, 0.8631931352834181, 0.8631931352834181, 0.8631931352834181, 0.8631931352834181, 0.8631931352834181, 0.8631931352834181, 0.8631931352834181, 0.8631931352834181, 0.8631931352834181, 0.8631931352834181, 0.8635945515045661, 0.8647156819176817]}], \"log_loss\": [{\"categories\": [\"0\", \"1\", \"2\", \"3\", \"4\", \"5\", \"6\", \"7\", \"8\", \"9\", \"10\", \"11\", \"12\", \"13\", \"14\", \"15\", \"16\", \"17\", \"18\", \"19\", \"20\", \"21\", \"22\", \"23\", \"24\", \"25\", \"26\", \"27\", \"28\", \"29\", \"30\", \"31\", \"32\", \"33\", \"34\", \"35\", \"36\", \"37\"], \"mode\": \"markers\", \"name\": \"log_loss\", \"stepped\": false, \"type\": \"scatter\", \"data\": [0.43824126799347396, 0.43882521179032835, 0.4590004852381058, 0.4748391916087366, 0.5562158482118987, 0.589702916574279, 0.4539870034779321, 0.4480757525775829, 0.45477935582444634, 0.4749030987248823, 0.45222915021943594, 0.522995181033, 0.46358213182178226, 0.46607895938673144, 0.46197392756618455, 0.45824128875795594, 0.4838813702424294, 0.4526594128540457, 0.4572661748353266, 0.4520219166845298, 0.45321775626248956, 0.4420682143563773, 0.49635627367294893, 0.4528552611759416, 0.4360425437885973, 0.5535042420400932, 0.48989453672794164, 0.5080215370784572, 0.49406820591062206, 0.4476218663136075, 0.5613578932843729, 0.4625983902485116, 0.46073360252675255, 0.4554549897057445, 0.4441408593684388, 0.4492129955349388, 0.45409276407551485, 0.4355846504515715]}, {\"categories\": [\"0\", \"1\", \"2\", \"3\", \"4\", \"5\", \"6\", \"7\", \"8\", \"9\", \"10\", \"11\", \"12\", \"13\", \"14\", \"15\", \"16\", \"17\", \"18\", \"19\", \"20\", \"21\", \"22\", \"23\", \"24\", \"25\", \"26\", \"27\", \"28\", \"29\", \"30\", \"31\", \"32\", \"33\", \"34\", \"35\", \"36\", \"37\"], \"mode\": \"lines\", \"name\": \"log_loss_min\", \"stepped\": true, \"type\": \"scatter\", \"data\": [0.43824126799347396, 0.43824126799347396, 0.43824126799347396, 0.43824126799347396, 0.43824126799347396, 0.43824126799347396, 0.43824126799347396, 0.43824126799347396, 0.43824126799347396, 0.43824126799347396, 0.43824126799347396, 0.43824126799347396, 0.43824126799347396, 0.43824126799347396, 0.43824126799347396, 0.43824126799347396, 0.43824126799347396, 0.43824126799347396, 0.43824126799347396, 0.43824126799347396, 0.43824126799347396, 0.43824126799347396, 0.43824126799347396, 0.43824126799347396, 0.4360425437885973, 0.4360425437885973, 0.4360425437885973, 0.4360425437885973, 0.4360425437885973, 0.4360425437885973, 0.4360425437885973, 0.4360425437885973, 0.4360425437885973, 0.4360425437885973, 0.4360425437885973, 0.4360425437885973, 0.4360425437885973, 0.4355846504515715]}], \"accuracy\": [{\"categories\": [\"0\", \"1\", \"2\", \"3\", \"4\", \"5\", \"6\", \"7\", \"8\", \"9\", \"10\", \"11\", \"12\", \"13\", \"14\", \"15\", \"16\", \"17\", \"18\", \"19\", \"20\", \"21\", \"22\", \"23\", \"24\", \"25\", \"26\", \"27\", \"28\", \"29\", \"30\", \"31\", \"32\", \"33\", \"34\", \"35\", \"36\", \"37\"], \"mode\": \"markers\", \"name\": \"accuracy\", \"stepped\": false, \"type\": \"scatter\", \"data\": [0.7966906775237499, 0.7928802588996763, 0.7765424365800189, 0.7661029335003654, 0.7524793819814177, 0.6979329783902286, 0.7800396701117028, 0.7824929533354212, 0.7752374986950622, 0.7555590353899154, 0.7795698924731184, 0.7567595782440756, 0.7722100428019626, 0.7544628875665519, 0.7710616974632009, 0.7653199707693913, 0.7521139993736298, 0.7786825347113476, 0.7798308800501096, 0.7805094477502871, 0.7816055955736507, 0.7933500365382607, 0.7506524689424784, 0.7780039670111702, 0.7962730974005637, 0.7506524689424784, 0.7506524689424784, 0.7708007098862094, 0.7797786825347114, 0.7839544837665727, 0.7506524689424784, 0.7647457981000105, 0.7751331036642656, 0.7768556216724084, 0.7939242092076418, 0.7798308800501097, 0.7994571458398579, 0.7965862824929534]}, {\"categories\": [\"0\", \"1\", \"2\", \"3\", \"4\", \"5\", \"6\", \"7\", \"8\", \"9\", \"10\", \"11\", \"12\", \"13\", \"14\", \"15\", \"16\", \"17\", \"18\", \"19\", \"20\", \"21\", \"22\", \"23\", \"24\", \"25\", \"26\", \"27\", \"28\", \"29\", \"30\", \"31\", \"32\", \"33\", \"34\", \"35\", \"36\", \"37\"], \"mode\": \"lines\", \"name\": \"accuracy_max\", \"stepped\": true, \"type\": \"scatter\", \"data\": [0.7966906775237499, 0.7966906775237499, 0.7966906775237499, 0.7966906775237499, 0.7966906775237499, 0.7966906775237499, 0.7966906775237499, 0.7966906775237499, 0.7966906775237499, 0.7966906775237499, 0.7966906775237499, 0.7966906775237499, 0.7966906775237499, 0.7966906775237499, 0.7966906775237499, 0.7966906775237499, 0.7966906775237499, 0.7966906775237499, 0.7966906775237499, 0.7966906775237499, 0.7966906775237499, 0.7966906775237499, 0.7966906775237499, 0.7966906775237499, 0.7966906775237499, 0.7966906775237499, 0.7966906775237499, 0.7966906775237499, 0.7966906775237499, 0.7966906775237499, 0.7966906775237499, 0.7966906775237499, 0.7966906775237499, 0.7966906775237499, 0.7966906775237499, 0.7966906775237499, 0.7994571458398579, 0.7994571458398579]}], \"average_precision_score_macro\": [{\"categories\": [\"0\", \"1\", \"2\", \"3\", \"4\", \"5\", \"6\", \"7\", \"8\", \"9\", \"10\", \"11\", \"12\", \"13\", \"14\", \"15\", \"16\", \"17\", \"18\", \"19\", \"20\", \"21\", \"22\", \"23\", \"24\", \"25\", \"26\", \"27\", \"28\", \"29\", \"30\", \"31\", \"32\", \"33\", \"34\", \"35\", \"36\", \"37\"], \"mode\": \"markers\", \"name\": \"average_precision_score_macro\", \"stepped\": false, \"type\": \"scatter\", \"data\": [0.725524164276503, 0.7225233247032788, 0.7171717824979237, 0.7076184915273434, 0.7202263636870475, 0.7031937791269515, 0.7115689785343188, 0.7183187859843021, 0.7175469316313429, 0.7130748574823521, 0.7189727080275624, 0.6867677818454037, 0.7116351677261782, 0.7155110259612613, 0.7164667482613495, 0.7151943385766736, 0.706116232711786, 0.7146313342754705, 0.7072146356323477, 0.7154851013674585, 0.7136556896058157, 0.7194255381534594, 0.6997949710752046, 0.7136593095990156, 0.7234712711678889, 0.7059937602208898, 0.6959034566120166, 0.7059479074558818, 0.7115563680807705, 0.7171996664191053, 0.7167672368441279, 0.7129366374766278, 0.714556995798484, 0.7133219574619778, 0.720801117822778, 0.7163681422951864, 0.7237449086339245, 0.7268807938224824]}, {\"categories\": [\"0\", \"1\", \"2\", \"3\", \"4\", \"5\", \"6\", \"7\", \"8\", \"9\", \"10\", \"11\", \"12\", \"13\", \"14\", \"15\", \"16\", \"17\", \"18\", \"19\", \"20\", \"21\", \"22\", \"23\", \"24\", \"25\", \"26\", \"27\", \"28\", \"29\", \"30\", \"31\", \"32\", \"33\", \"34\", \"35\", \"36\", \"37\"], \"mode\": \"lines\", \"name\": \"average_precision_score_macro_max\", \"stepped\": true, \"type\": \"scatter\", \"data\": [0.725524164276503, 0.725524164276503, 0.725524164276503, 0.725524164276503, 0.725524164276503, 0.725524164276503, 0.725524164276503, 0.725524164276503, 0.725524164276503, 0.725524164276503, 0.725524164276503, 0.725524164276503, 0.725524164276503, 0.725524164276503, 0.725524164276503, 0.725524164276503, 0.725524164276503, 0.725524164276503, 0.725524164276503, 0.725524164276503, 0.725524164276503, 0.725524164276503, 0.725524164276503, 0.725524164276503, 0.725524164276503, 0.725524164276503, 0.725524164276503, 0.725524164276503, 0.725524164276503, 0.725524164276503, 0.725524164276503, 0.725524164276503, 0.725524164276503, 0.725524164276503, 0.725524164276503, 0.725524164276503, 0.725524164276503, 0.7268807938224824]}], \"recall_score_weighted\": [{\"categories\": [\"0\", \"1\", \"2\", \"3\", \"4\", \"5\", \"6\", \"7\", \"8\", \"9\", \"10\", \"11\", \"12\", \"13\", \"14\", \"15\", \"16\", \"17\", \"18\", \"19\", \"20\", \"21\", \"22\", \"23\", \"24\", \"25\", \"26\", \"27\", \"28\", \"29\", \"30\", \"31\", \"32\", \"33\", \"34\", \"35\", \"36\", \"37\"], \"mode\": \"markers\", \"name\": \"recall_score_weighted\", \"stepped\": false, \"type\": \"scatter\", \"data\": [0.7966906775237499, 0.7928802588996763, 0.7765424365800189, 0.7661029335003654, 0.7524793819814177, 0.6979329783902286, 0.7800396701117028, 0.7824929533354212, 0.7752374986950622, 0.7555590353899154, 0.7795698924731184, 0.7567595782440756, 0.7722100428019626, 0.7544628875665519, 0.7710616974632009, 0.7653199707693913, 0.7521139993736298, 0.7786825347113476, 0.7798308800501096, 0.7805094477502871, 0.7816055955736507, 0.7933500365382607, 0.7506524689424784, 0.7780039670111702, 0.7962730974005637, 0.7506524689424784, 0.7506524689424784, 0.7708007098862094, 0.7797786825347114, 0.7839544837665727, 0.7506524689424784, 0.7647457981000105, 0.7751331036642656, 0.7768556216724084, 0.7939242092076418, 0.7798308800501097, 0.7994571458398579, 0.7965862824929534]}, {\"categories\": [\"0\", \"1\", \"2\", \"3\", \"4\", \"5\", \"6\", \"7\", \"8\", \"9\", \"10\", \"11\", \"12\", \"13\", \"14\", \"15\", \"16\", \"17\", \"18\", \"19\", \"20\", \"21\", \"22\", \"23\", \"24\", \"25\", \"26\", \"27\", \"28\", \"29\", \"30\", \"31\", \"32\", \"33\", \"34\", \"35\", \"36\", \"37\"], \"mode\": \"lines\", \"name\": \"recall_score_weighted_max\", \"stepped\": true, \"type\": \"scatter\", \"data\": [0.7966906775237499, 0.7966906775237499, 0.7966906775237499, 0.7966906775237499, 0.7966906775237499, 0.7966906775237499, 0.7966906775237499, 0.7966906775237499, 0.7966906775237499, 0.7966906775237499, 0.7966906775237499, 0.7966906775237499, 0.7966906775237499, 0.7966906775237499, 0.7966906775237499, 0.7966906775237499, 0.7966906775237499, 0.7966906775237499, 0.7966906775237499, 0.7966906775237499, 0.7966906775237499, 0.7966906775237499, 0.7966906775237499, 0.7966906775237499, 0.7966906775237499, 0.7966906775237499, 0.7966906775237499, 0.7966906775237499, 0.7966906775237499, 0.7966906775237499, 0.7966906775237499, 0.7966906775237499, 0.7966906775237499, 0.7966906775237499, 0.7966906775237499, 0.7966906775237499, 0.7994571458398579, 0.7994571458398579]}], \"f1_score_weighted\": [{\"categories\": [\"0\", \"1\", \"2\", \"3\", \"4\", \"5\", \"6\", \"7\", \"8\", \"9\", \"10\", \"11\", \"12\", \"13\", \"14\", \"15\", \"16\", \"17\", \"18\", \"19\", \"20\", \"21\", \"22\", \"23\", \"24\", \"25\", \"26\", \"27\", \"28\", \"29\", \"30\", \"31\", \"32\", \"33\", \"34\", \"35\", \"36\", \"37\"], \"mode\": \"markers\", \"name\": \"f1_score_weighted\", \"stepped\": false, \"type\": \"scatter\", \"data\": [0.7958776613703908, 0.7896469204816093, 0.7516613640751802, 0.7194725219171668, 0.7661331174943667, 0.7177410057454652, 0.7732345999135845, 0.7655871854817096, 0.7469935031768357, 0.6680671435254588, 0.7598403299851281, 0.6829241515004817, 0.7426278278974449, 0.6646247414413802, 0.7343099575079867, 0.7171315141962772, 0.652962519643717, 0.7607820036972636, 0.7707454211279248, 0.7611439128130262, 0.7716099314521997, 0.7886932405750589, 0.6437574436537479, 0.7681509320651673, 0.7951266105797757, 0.6437574436537479, 0.6437574436537479, 0.7402565993729774, 0.7738895764432584, 0.7751771730726533, 0.6437574436537479, 0.7056254417333898, 0.7448579661141038, 0.7545117162396441, 0.7906794364415871, 0.7613735707618846, 0.8003827845739843, 0.7963745378461725]}, {\"categories\": [\"0\", \"1\", \"2\", \"3\", \"4\", \"5\", \"6\", \"7\", \"8\", \"9\", \"10\", \"11\", \"12\", \"13\", \"14\", \"15\", \"16\", \"17\", \"18\", \"19\", \"20\", \"21\", \"22\", \"23\", \"24\", \"25\", \"26\", \"27\", \"28\", \"29\", \"30\", \"31\", \"32\", \"33\", \"34\", \"35\", \"36\", \"37\"], \"mode\": \"lines\", \"name\": \"f1_score_weighted_max\", \"stepped\": true, \"type\": \"scatter\", \"data\": [0.7958776613703908, 0.7958776613703908, 0.7958776613703908, 0.7958776613703908, 0.7958776613703908, 0.7958776613703908, 0.7958776613703908, 0.7958776613703908, 0.7958776613703908, 0.7958776613703908, 0.7958776613703908, 0.7958776613703908, 0.7958776613703908, 0.7958776613703908, 0.7958776613703908, 0.7958776613703908, 0.7958776613703908, 0.7958776613703908, 0.7958776613703908, 0.7958776613703908, 0.7958776613703908, 0.7958776613703908, 0.7958776613703908, 0.7958776613703908, 0.7958776613703908, 0.7958776613703908, 0.7958776613703908, 0.7958776613703908, 0.7958776613703908, 0.7958776613703908, 0.7958776613703908, 0.7958776613703908, 0.7958776613703908, 0.7958776613703908, 0.7958776613703908, 0.7958776613703908, 0.8003827845739843, 0.8003827845739843]}], \"f1_score_macro\": [{\"categories\": [\"0\", \"1\", \"2\", \"3\", \"4\", \"5\", \"6\", \"7\", \"8\", \"9\", \"10\", \"11\", \"12\", \"13\", \"14\", \"15\", \"16\", \"17\", \"18\", \"19\", \"20\", \"21\", \"22\", \"23\", \"24\", \"25\", \"26\", \"27\", \"28\", \"29\", \"30\", \"31\", \"32\", \"33\", \"34\", \"35\", \"36\", \"37\"], \"mode\": \"markers\", \"name\": \"f1_score_macro\", \"stepped\": false, \"type\": \"scatter\", \"data\": [0.7263337755431367, 0.7149903217921084, 0.6415633337483991, 0.5793600897255345, 0.7118940079407281, 0.6659152608025336, 0.688697183723523, 0.6676623093693902, 0.6318356689379473, 0.47640224206399306, 0.656906282940799, 0.5089261521390942, 0.6245683445782699, 0.4700055649715398, 0.6074108300039568, 0.5739838640015035, 0.44702987927221954, 0.6603286044439164, 0.6829271074513663, 0.6592910498772842, 0.6829621930686397, 0.7118896044088899, 0.4287737471156044, 0.678470066019036, 0.7249233535943826, 0.4287737471156044, 0.4287737471156044, 0.6209606597043466, 0.6906904272826542, 0.6891647241137636, 0.4287737471156044, 0.5503093185064187, 0.6271216942780123, 0.6475111790478111, 0.7163017257952817, 0.6604139497570403, 0.7346245096414488, 0.7278396462833784]}, {\"categories\": [\"0\", \"1\", \"2\", \"3\", \"4\", \"5\", \"6\", \"7\", \"8\", \"9\", \"10\", \"11\", \"12\", \"13\", \"14\", \"15\", \"16\", \"17\", \"18\", \"19\", \"20\", \"21\", \"22\", \"23\", \"24\", \"25\", \"26\", \"27\", \"28\", \"29\", \"30\", \"31\", \"32\", \"33\", \"34\", \"35\", \"36\", \"37\"], \"mode\": \"lines\", \"name\": \"f1_score_macro_max\", \"stepped\": true, \"type\": \"scatter\", \"data\": [0.7263337755431367, 0.7263337755431367, 0.7263337755431367, 0.7263337755431367, 0.7263337755431367, 0.7263337755431367, 0.7263337755431367, 0.7263337755431367, 0.7263337755431367, 0.7263337755431367, 0.7263337755431367, 0.7263337755431367, 0.7263337755431367, 0.7263337755431367, 0.7263337755431367, 0.7263337755431367, 0.7263337755431367, 0.7263337755431367, 0.7263337755431367, 0.7263337755431367, 0.7263337755431367, 0.7263337755431367, 0.7263337755431367, 0.7263337755431367, 0.7263337755431367, 0.7263337755431367, 0.7263337755431367, 0.7263337755431367, 0.7263337755431367, 0.7263337755431367, 0.7263337755431367, 0.7263337755431367, 0.7263337755431367, 0.7263337755431367, 0.7263337755431367, 0.7263337755431367, 0.7346245096414488, 0.7346245096414488]}], \"AUC_macro\": [{\"categories\": [\"0\", \"1\", \"2\", \"3\", \"4\", \"5\", \"6\", \"7\", \"8\", \"9\", \"10\", \"11\", \"12\", \"13\", \"14\", \"15\", \"16\", \"17\", \"18\", \"19\", \"20\", \"21\", \"22\", \"23\", \"24\", \"25\", \"26\", \"27\", \"28\", \"29\", \"30\", \"31\", \"32\", \"33\", \"34\", \"35\", \"36\", \"37\"], \"mode\": \"markers\", \"name\": \"AUC_macro\", \"stepped\": false, \"type\": \"scatter\", \"data\": [0.7996074621462127, 0.7988399095313269, 0.7910755803680131, 0.7805158863446748, 0.7929266426291219, 0.7752915552004535, 0.7867025024107628, 0.7931429832992946, 0.793203210961796, 0.7865947772638813, 0.7926885395068539, 0.7626997538335005, 0.7868864977060374, 0.7883103236244732, 0.7915191933239604, 0.7909034501883018, 0.780177685636363, 0.7900646735626591, 0.7846067283907879, 0.7911599804493125, 0.7903139061265775, 0.7972856455568912, 0.7725698737008977, 0.7894943222241896, 0.7993472894530164, 0.7790125085857026, 0.7685160029639415, 0.7834424225276084, 0.789974140847297, 0.7944159242220726, 0.7910715188492592, 0.7862561245641322, 0.7882012242001707, 0.7881337336711315, 0.7959413243286796, 0.7923241182066976, 0.7988922155566357, 0.8014942421064185]}, {\"categories\": [\"0\", \"1\", \"2\", \"3\", \"4\", \"5\", \"6\", \"7\", \"8\", \"9\", \"10\", \"11\", \"12\", \"13\", \"14\", \"15\", \"16\", \"17\", \"18\", \"19\", \"20\", \"21\", \"22\", \"23\", \"24\", \"25\", \"26\", \"27\", \"28\", \"29\", \"30\", \"31\", \"32\", \"33\", \"34\", \"35\", \"36\", \"37\"], \"mode\": \"lines\", \"name\": \"AUC_macro_max\", \"stepped\": true, \"type\": \"scatter\", \"data\": [0.7996074621462127, 0.7996074621462127, 0.7996074621462127, 0.7996074621462127, 0.7996074621462127, 0.7996074621462127, 0.7996074621462127, 0.7996074621462127, 0.7996074621462127, 0.7996074621462127, 0.7996074621462127, 0.7996074621462127, 0.7996074621462127, 0.7996074621462127, 0.7996074621462127, 0.7996074621462127, 0.7996074621462127, 0.7996074621462127, 0.7996074621462127, 0.7996074621462127, 0.7996074621462127, 0.7996074621462127, 0.7996074621462127, 0.7996074621462127, 0.7996074621462127, 0.7996074621462127, 0.7996074621462127, 0.7996074621462127, 0.7996074621462127, 0.7996074621462127, 0.7996074621462127, 0.7996074621462127, 0.7996074621462127, 0.7996074621462127, 0.7996074621462127, 0.7996074621462127, 0.7996074621462127, 0.8014942421064185]}], \"AUC_weighted\": [{\"categories\": [\"0\", \"1\", \"2\", \"3\", \"4\", \"5\", \"6\", \"7\", \"8\", \"9\", \"10\", \"11\", \"12\", \"13\", \"14\", \"15\", \"16\", \"17\", \"18\", \"19\", \"20\", \"21\", \"22\", \"23\", \"24\", \"25\", \"26\", \"27\", \"28\", \"29\", \"30\", \"31\", \"32\", \"33\", \"34\", \"35\", \"36\", \"37\"], \"mode\": \"markers\", \"name\": \"AUC_weighted\", \"stepped\": false, \"type\": \"scatter\", \"data\": [0.7996074621462127, 0.7988399095313269, 0.7910755803680133, 0.7805158863446747, 0.7929266426291219, 0.7752915552004537, 0.7867025024107628, 0.7931429832992946, 0.793203210961796, 0.7865947772638813, 0.7926885395068539, 0.7626997538335004, 0.7868864977060374, 0.7883103236244732, 0.7915191933239604, 0.7909034501883018, 0.780177685636363, 0.7900646844439293, 0.7846067283907882, 0.7911599804493125, 0.7903139168276669, 0.7972856455568911, 0.7725698737008977, 0.7894943222241896, 0.799347311215557, 0.7790125085857027, 0.7685160029639416, 0.7834424225276084, 0.789974140847297, 0.7944159242220729, 0.7910715188492592, 0.7862561245641322, 0.7882012242001707, 0.7881337336711315, 0.7959413243286795, 0.7923241182066976, 0.7988922155566357, 0.8014942421064185]}, {\"categories\": [\"0\", \"1\", \"2\", \"3\", \"4\", \"5\", \"6\", \"7\", \"8\", \"9\", \"10\", \"11\", \"12\", \"13\", \"14\", \"15\", \"16\", \"17\", \"18\", \"19\", \"20\", \"21\", \"22\", \"23\", \"24\", \"25\", \"26\", \"27\", \"28\", \"29\", \"30\", \"31\", \"32\", \"33\", \"34\", \"35\", \"36\", \"37\"], \"mode\": \"lines\", \"name\": \"AUC_weighted_max\", \"stepped\": true, \"type\": \"scatter\", \"data\": [0.7996074621462127, 0.7996074621462127, 0.7996074621462127, 0.7996074621462127, 0.7996074621462127, 0.7996074621462127, 0.7996074621462127, 0.7996074621462127, 0.7996074621462127, 0.7996074621462127, 0.7996074621462127, 0.7996074621462127, 0.7996074621462127, 0.7996074621462127, 0.7996074621462127, 0.7996074621462127, 0.7996074621462127, 0.7996074621462127, 0.7996074621462127, 0.7996074621462127, 0.7996074621462127, 0.7996074621462127, 0.7996074621462127, 0.7996074621462127, 0.7996074621462127, 0.7996074621462127, 0.7996074621462127, 0.7996074621462127, 0.7996074621462127, 0.7996074621462127, 0.7996074621462127, 0.7996074621462127, 0.7996074621462127, 0.7996074621462127, 0.7996074621462127, 0.7996074621462127, 0.7996074621462127, 0.8014942421064185]}], \"matthews_correlation\": [{\"categories\": [\"0\", \"1\", \"2\", \"3\", \"4\", \"5\", \"6\", \"7\", \"8\", \"9\", \"10\", \"11\", \"12\", \"13\", \"14\", \"15\", \"16\", \"17\", \"18\", \"19\", \"20\", \"21\", \"22\", \"23\", \"24\", \"25\", \"26\", \"27\", \"28\", \"29\", \"30\", \"31\", \"32\", \"33\", \"34\", \"35\", \"36\", \"37\"], \"mode\": \"markers\", \"name\": \"matthews_correlation\", \"stepped\": false, \"type\": \"scatter\", \"data\": [0.4530817590453362, 0.4315313713358871, 0.3195196378487646, 0.24127484121948387, 0.4536175541759168, 0.39254319562590717, 0.3814056656214471, 0.35556436849414985, 0.30624379974225935, 0.1239637299029565, 0.33877240662102004, 0.1529706879428084, 0.29311010339454946, 0.11190681887108982, 0.27637950251042703, 0.2331500873310798, 0.06745556632314131, 0.34183545572264795, 0.3726280824000974, 0.3433558459286901, 0.3742109803167259, 0.42636274918236844, 0.0, 0.3646969121615699, 0.45059088037956135, 0.0, 0.0, 0.2890532082490836, 0.38460003954316285, 0.3853400243348073, 0.0, 0.20984122637876468, 0.3016207659700482, 0.32511694284443277, 0.4340193483797177, 0.3434886721789221, 0.46966422467890667, 0.4561887803486541]}, {\"categories\": [\"0\", \"1\", \"2\", \"3\", \"4\", \"5\", \"6\", \"7\", \"8\", \"9\", \"10\", \"11\", \"12\", \"13\", \"14\", \"15\", \"16\", \"17\", \"18\", \"19\", \"20\", \"21\", \"22\", \"23\", \"24\", \"25\", \"26\", \"27\", \"28\", \"29\", \"30\", \"31\", \"32\", \"33\", \"34\", \"35\", \"36\", \"37\"], \"mode\": \"lines\", \"name\": \"matthews_correlation_max\", \"stepped\": true, \"type\": \"scatter\", \"data\": [0.4530817590453362, 0.4530817590453362, 0.4530817590453362, 0.4530817590453362, 0.4536175541759168, 0.4536175541759168, 0.4536175541759168, 0.4536175541759168, 0.4536175541759168, 0.4536175541759168, 0.4536175541759168, 0.4536175541759168, 0.4536175541759168, 0.4536175541759168, 0.4536175541759168, 0.4536175541759168, 0.4536175541759168, 0.4536175541759168, 0.4536175541759168, 0.4536175541759168, 0.4536175541759168, 0.4536175541759168, 0.4536175541759168, 0.4536175541759168, 0.4536175541759168, 0.4536175541759168, 0.4536175541759168, 0.4536175541759168, 0.4536175541759168, 0.4536175541759168, 0.4536175541759168, 0.4536175541759168, 0.4536175541759168, 0.4536175541759168, 0.4536175541759168, 0.4536175541759168, 0.46966422467890667, 0.46966422467890667]}], \"f1_score_micro\": [{\"categories\": [\"0\", \"1\", \"2\", \"3\", \"4\", \"5\", \"6\", \"7\", \"8\", \"9\", \"10\", \"11\", \"12\", \"13\", \"14\", \"15\", \"16\", \"17\", \"18\", \"19\", \"20\", \"21\", \"22\", \"23\", \"24\", \"25\", \"26\", \"27\", \"28\", \"29\", \"30\", \"31\", \"32\", \"33\", \"34\", \"35\", \"36\", \"37\"], \"mode\": \"markers\", \"name\": \"f1_score_micro\", \"stepped\": false, \"type\": \"scatter\", \"data\": [0.7966906775237499, 0.7928802588996765, 0.7765424365800189, 0.7661029335003654, 0.7524793819814177, 0.6979329783902286, 0.7800396701117028, 0.7824929533354212, 0.7752374986950622, 0.7555590353899156, 0.7795698924731184, 0.7567595782440756, 0.7722100428019627, 0.7544628875665519, 0.7710616974632009, 0.7653199707693913, 0.7521139993736298, 0.7786825347113479, 0.7798308800501096, 0.7805094477502871, 0.7816055955736507, 0.7933500365382607, 0.7506524689424783, 0.7780039670111702, 0.7962730974005637, 0.7506524689424783, 0.7506524689424783, 0.7708007098862094, 0.7797786825347113, 0.7839544837665727, 0.7506524689424783, 0.7647457981000105, 0.7751331036642656, 0.7768556216724084, 0.7939242092076418, 0.7798308800501097, 0.7994571458398579, 0.7965862824929534]}, {\"categories\": [\"0\", \"1\", \"2\", \"3\", \"4\", \"5\", \"6\", \"7\", \"8\", \"9\", \"10\", \"11\", \"12\", \"13\", \"14\", \"15\", \"16\", \"17\", \"18\", \"19\", \"20\", \"21\", \"22\", \"23\", \"24\", \"25\", \"26\", \"27\", \"28\", \"29\", \"30\", \"31\", \"32\", \"33\", \"34\", \"35\", \"36\", \"37\"], \"mode\": \"lines\", \"name\": \"f1_score_micro_max\", \"stepped\": true, \"type\": \"scatter\", \"data\": [0.7966906775237499, 0.7966906775237499, 0.7966906775237499, 0.7966906775237499, 0.7966906775237499, 0.7966906775237499, 0.7966906775237499, 0.7966906775237499, 0.7966906775237499, 0.7966906775237499, 0.7966906775237499, 0.7966906775237499, 0.7966906775237499, 0.7966906775237499, 0.7966906775237499, 0.7966906775237499, 0.7966906775237499, 0.7966906775237499, 0.7966906775237499, 0.7966906775237499, 0.7966906775237499, 0.7966906775237499, 0.7966906775237499, 0.7966906775237499, 0.7966906775237499, 0.7966906775237499, 0.7966906775237499, 0.7966906775237499, 0.7966906775237499, 0.7966906775237499, 0.7966906775237499, 0.7966906775237499, 0.7966906775237499, 0.7966906775237499, 0.7966906775237499, 0.7966906775237499, 0.7994571458398579, 0.7994571458398579]}], \"norm_macro_recall\": [{\"categories\": [\"0\", \"1\", \"2\", \"3\", \"4\", \"5\", \"6\", \"7\", \"8\", \"9\", \"10\", \"11\", \"12\", \"13\", \"14\", \"15\", \"16\", \"17\", \"18\", \"19\", \"20\", \"21\", \"22\", \"23\", \"24\", \"25\", \"26\", \"27\", \"28\", \"29\", \"30\", \"31\", \"32\", \"33\", \"34\", \"35\", \"36\", \"37\"], \"mode\": \"markers\", \"name\": \"norm_macro_recall\", \"stepped\": false, \"type\": \"scatter\", \"data\": [0.44966511099881856, 0.4184143806520753, 0.25489563902028606, 0.16114170396769267, 0.5077789940886819, 0.45048855176828867, 0.35853523682312843, 0.30339784252947627, 0.23553490430884041, 0.040677525750429634, 0.2818929166791328, 0.07896109903745337, 0.22331308338926423, 0.03442103440631672, 0.1960771711192273, 0.14756018813292174, 0.014509331791229263, 0.29050138973748274, 0.3433920357357782, 0.2864409995342384, 0.3413632237889483, 0.4074843910877566, 0.0, 0.33362680607370554, 0.4456873335653146, 0.0, 0.0, 0.22028593689566534, 0.3649615097998138, 0.35553513356272815, 0.0, 0.12605129129615134, 0.22705980175006446, 0.26480441111155634, 0.42060619074279576, 0.2891219360582166, 0.47411539110695394, 0.4554835134718838]}, {\"categories\": [\"0\", \"1\", \"2\", \"3\", \"4\", \"5\", \"6\", \"7\", \"8\", \"9\", \"10\", \"11\", \"12\", \"13\", \"14\", \"15\", \"16\", \"17\", \"18\", \"19\", \"20\", \"21\", \"22\", \"23\", \"24\", \"25\", \"26\", \"27\", \"28\", \"29\", \"30\", \"31\", \"32\", \"33\", \"34\", \"35\", \"36\", \"37\"], \"mode\": \"lines\", \"name\": \"norm_macro_recall_max\", \"stepped\": true, \"type\": \"scatter\", \"data\": [0.44966511099881856, 0.44966511099881856, 0.44966511099881856, 0.44966511099881856, 0.5077789940886819, 0.5077789940886819, 0.5077789940886819, 0.5077789940886819, 0.5077789940886819, 0.5077789940886819, 0.5077789940886819, 0.5077789940886819, 0.5077789940886819, 0.5077789940886819, 0.5077789940886819, 0.5077789940886819, 0.5077789940886819, 0.5077789940886819, 0.5077789940886819, 0.5077789940886819, 0.5077789940886819, 0.5077789940886819, 0.5077789940886819, 0.5077789940886819, 0.5077789940886819, 0.5077789940886819, 0.5077789940886819, 0.5077789940886819, 0.5077789940886819, 0.5077789940886819, 0.5077789940886819, 0.5077789940886819, 0.5077789940886819, 0.5077789940886819, 0.5077789940886819, 0.5077789940886819, 0.5077789940886819, 0.5077789940886819]}], \"AUC_micro\": [{\"categories\": [\"0\", \"1\", \"2\", \"3\", \"4\", \"5\", \"6\", \"7\", \"8\", \"9\", \"10\", \"11\", \"12\", \"13\", \"14\", \"15\", \"16\", \"17\", \"18\", \"19\", \"20\", \"21\", \"22\", \"23\", \"24\", \"25\", \"26\", \"27\", \"28\", \"29\", \"30\", \"31\", \"32\", \"33\", \"34\", \"35\", \"36\", \"37\"], \"mode\": \"markers\", \"name\": \"AUC_micro\", \"stepped\": false, \"type\": \"scatter\", \"data\": [0.8760317346507837, 0.8750981298576752, 0.8645419220920122, 0.8578423472867934, 0.7950496353742807, 0.7732334606704226, 0.8658518132645249, 0.8696260876021761, 0.8649074845221207, 0.8581578700693496, 0.8678872057628673, 0.8496571458594749, 0.8618739146701241, 0.8586535257746036, 0.862945639352866, 0.8629379887305024, 0.8555412918311265, 0.8663586588223593, 0.8642704067355296, 0.8663731181716766, 0.8672288026838122, 0.8732227628771009, 0.8526447956298076, 0.8667865296865237, 0.8762327433101437, 0.855054937844088, 0.851134876646956, 0.8607793689001612, 0.867252400276508, 0.870026126875371, 0.8595682655715421, 0.8601218077165159, 0.8639657223346546, 0.8648337083282615, 0.8726243468894189, 0.8678234015340544, 0.8762819655835119, 0.8773013783184697]}, {\"categories\": [\"0\", \"1\", \"2\", \"3\", \"4\", \"5\", \"6\", \"7\", \"8\", \"9\", \"10\", \"11\", \"12\", \"13\", \"14\", \"15\", \"16\", \"17\", \"18\", \"19\", \"20\", \"21\", \"22\", \"23\", \"24\", \"25\", \"26\", \"27\", \"28\", \"29\", \"30\", \"31\", \"32\", \"33\", \"34\", \"35\", \"36\", \"37\"], \"mode\": \"lines\", \"name\": \"AUC_micro_max\", \"stepped\": true, \"type\": \"scatter\", \"data\": [0.8760317346507837, 0.8760317346507837, 0.8760317346507837, 0.8760317346507837, 0.8760317346507837, 0.8760317346507837, 0.8760317346507837, 0.8760317346507837, 0.8760317346507837, 0.8760317346507837, 0.8760317346507837, 0.8760317346507837, 0.8760317346507837, 0.8760317346507837, 0.8760317346507837, 0.8760317346507837, 0.8760317346507837, 0.8760317346507837, 0.8760317346507837, 0.8760317346507837, 0.8760317346507837, 0.8760317346507837, 0.8760317346507837, 0.8760317346507837, 0.8762327433101437, 0.8762327433101437, 0.8762327433101437, 0.8762327433101437, 0.8762327433101437, 0.8762327433101437, 0.8762327433101437, 0.8762327433101437, 0.8762327433101437, 0.8762327433101437, 0.8762327433101437, 0.8762327433101437, 0.8762819655835119, 0.8773013783184697]}], \"recall_score_micro\": [{\"categories\": [\"0\", \"1\", \"2\", \"3\", \"4\", \"5\", \"6\", \"7\", \"8\", \"9\", \"10\", \"11\", \"12\", \"13\", \"14\", \"15\", \"16\", \"17\", \"18\", \"19\", \"20\", \"21\", \"22\", \"23\", \"24\", \"25\", \"26\", \"27\", \"28\", \"29\", \"30\", \"31\", \"32\", \"33\", \"34\", \"35\", \"36\", \"37\"], \"mode\": \"markers\", \"name\": \"recall_score_micro\", \"stepped\": false, \"type\": \"scatter\", \"data\": [0.7966906775237499, 0.7928802588996763, 0.7765424365800189, 0.7661029335003654, 0.7524793819814177, 0.6979329783902286, 0.7800396701117028, 0.7824929533354212, 0.7752374986950622, 0.7555590353899154, 0.7795698924731184, 0.7567595782440756, 0.7722100428019626, 0.7544628875665519, 0.7710616974632009, 0.7653199707693913, 0.7521139993736298, 0.7786825347113476, 0.7798308800501096, 0.7805094477502871, 0.7816055955736507, 0.7933500365382607, 0.7506524689424784, 0.7780039670111702, 0.7962730974005637, 0.7506524689424784, 0.7506524689424784, 0.7708007098862094, 0.7797786825347114, 0.7839544837665727, 0.7506524689424784, 0.7647457981000105, 0.7751331036642656, 0.7768556216724084, 0.7939242092076418, 0.7798308800501097, 0.7994571458398579, 0.7965862824929534]}, {\"categories\": [\"0\", \"1\", \"2\", \"3\", \"4\", \"5\", \"6\", \"7\", \"8\", \"9\", \"10\", \"11\", \"12\", \"13\", \"14\", \"15\", \"16\", \"17\", \"18\", \"19\", \"20\", \"21\", \"22\", \"23\", \"24\", \"25\", \"26\", \"27\", \"28\", \"29\", \"30\", \"31\", \"32\", \"33\", \"34\", \"35\", \"36\", \"37\"], \"mode\": \"lines\", \"name\": \"recall_score_micro_max\", \"stepped\": true, \"type\": \"scatter\", \"data\": [0.7966906775237499, 0.7966906775237499, 0.7966906775237499, 0.7966906775237499, 0.7966906775237499, 0.7966906775237499, 0.7966906775237499, 0.7966906775237499, 0.7966906775237499, 0.7966906775237499, 0.7966906775237499, 0.7966906775237499, 0.7966906775237499, 0.7966906775237499, 0.7966906775237499, 0.7966906775237499, 0.7966906775237499, 0.7966906775237499, 0.7966906775237499, 0.7966906775237499, 0.7966906775237499, 0.7966906775237499, 0.7966906775237499, 0.7966906775237499, 0.7966906775237499, 0.7966906775237499, 0.7966906775237499, 0.7966906775237499, 0.7966906775237499, 0.7966906775237499, 0.7966906775237499, 0.7966906775237499, 0.7966906775237499, 0.7966906775237499, 0.7966906775237499, 0.7966906775237499, 0.7994571458398579, 0.7994571458398579]}], \"precision_score_macro\": [{\"categories\": [\"0\", \"1\", \"2\", \"3\", \"4\", \"5\", \"6\", \"7\", \"8\", \"9\", \"10\", \"11\", \"12\", \"13\", \"14\", \"15\", \"16\", \"17\", \"18\", \"19\", \"20\", \"21\", \"22\", \"23\", \"24\", \"25\", \"26\", \"27\", \"28\", \"29\", \"30\", \"31\", \"32\", \"33\", \"34\", \"35\", \"36\", \"37\"], \"mode\": \"markers\", \"name\": \"precision_score_macro\", \"stepped\": false, \"type\": \"scatter\", \"data\": [0.7283224426213049, 0.7226091191324254, 0.7012559053892918, 0.6875007207652764, 0.7026298207894097, 0.6710436477255027, 0.7028845356948245, 0.7084559336062073, 0.6992544815265699, 0.6910699848935985, 0.7036411173813399, 0.6754154497505618, 0.6924210597849565, 0.6827315882196991, 0.6953498966420096, 0.6846934779380257, 0.6620745153869984, 0.7013019439812297, 0.7022410101045927, 0.7058982146721101, 0.7051885372680696, 0.7231186732066636, 0.3753262344712392, 0.6993986637059603, 0.727877718736349, 0.3753262344712392, 0.3753262344712392, 0.6917517660578111, 0.7027042838563861, 0.7089630520269529, 0.3753262344712392, 0.6858461161968329, 0.7003756923119981, 0.6998456102636751, 0.7239772516073365, 0.7040998711855097, 0.7326778653871022, 0.7285344854161243]}, {\"categories\": [\"0\", \"1\", \"2\", \"3\", \"4\", \"5\", \"6\", \"7\", \"8\", \"9\", \"10\", \"11\", \"12\", \"13\", \"14\", \"15\", \"16\", \"17\", \"18\", \"19\", \"20\", \"21\", \"22\", \"23\", \"24\", \"25\", \"26\", \"27\", \"28\", \"29\", \"30\", \"31\", \"32\", \"33\", \"34\", \"35\", \"36\", \"37\"], \"mode\": \"lines\", \"name\": \"precision_score_macro_max\", \"stepped\": true, \"type\": \"scatter\", \"data\": [0.7283224426213049, 0.7283224426213049, 0.7283224426213049, 0.7283224426213049, 0.7283224426213049, 0.7283224426213049, 0.7283224426213049, 0.7283224426213049, 0.7283224426213049, 0.7283224426213049, 0.7283224426213049, 0.7283224426213049, 0.7283224426213049, 0.7283224426213049, 0.7283224426213049, 0.7283224426213049, 0.7283224426213049, 0.7283224426213049, 0.7283224426213049, 0.7283224426213049, 0.7283224426213049, 0.7283224426213049, 0.7283224426213049, 0.7283224426213049, 0.7283224426213049, 0.7283224426213049, 0.7283224426213049, 0.7283224426213049, 0.7283224426213049, 0.7283224426213049, 0.7283224426213049, 0.7283224426213049, 0.7283224426213049, 0.7283224426213049, 0.7283224426213049, 0.7283224426213049, 0.7326778653871022, 0.7326778653871022]}], \"average_precision_score_weighted\": [{\"categories\": [\"0\", \"1\", \"2\", \"3\", \"4\", \"5\", \"6\", \"7\", \"8\", \"9\", \"10\", \"11\", \"12\", \"13\", \"14\", \"15\", \"16\", \"17\", \"18\", \"19\", \"20\", \"21\", \"22\", \"23\", \"24\", \"25\", \"26\", \"27\", \"28\", \"29\", \"30\", \"31\", \"32\", \"33\", \"34\", \"35\", \"36\", \"37\"], \"mode\": \"markers\", \"name\": \"average_precision_score_weighted\", \"stepped\": false, \"type\": \"scatter\", \"data\": [0.8150279171505724, 0.8126510495332506, 0.8093460784417186, 0.8027871785927642, 0.8120636877541267, 0.7998009837590767, 0.8054097259476639, 0.8093346809487044, 0.8099887200054313, 0.8060676670253676, 0.8104113364742496, 0.7866679991677376, 0.8047151928043963, 0.8084280510923237, 0.8091216000895279, 0.8083106366143413, 0.8017516302711895, 0.8074103276557394, 0.8032171937530815, 0.8069288992017317, 0.807582908967388, 0.8118728904255561, 0.7980276743614905, 0.807494944389383, 0.8130418403911611, 0.8015155236077837, 0.7944966319421197, 0.8013552295971205, 0.8068735394812722, 0.8103991931308063, 0.8085627073082607, 0.8073249003932301, 0.8068211047351598, 0.8062248965082665, 0.8127377251441579, 0.8075901563478739, 0.8141812002417662, 0.8162666751776086]}, {\"categories\": [\"0\", \"1\", \"2\", \"3\", \"4\", \"5\", \"6\", \"7\", \"8\", \"9\", \"10\", \"11\", \"12\", \"13\", \"14\", \"15\", \"16\", \"17\", \"18\", \"19\", \"20\", \"21\", \"22\", \"23\", \"24\", \"25\", \"26\", \"27\", \"28\", \"29\", \"30\", \"31\", \"32\", \"33\", \"34\", \"35\", \"36\", \"37\"], \"mode\": \"lines\", \"name\": \"average_precision_score_weighted_max\", \"stepped\": true, \"type\": \"scatter\", \"data\": [0.8150279171505724, 0.8150279171505724, 0.8150279171505724, 0.8150279171505724, 0.8150279171505724, 0.8150279171505724, 0.8150279171505724, 0.8150279171505724, 0.8150279171505724, 0.8150279171505724, 0.8150279171505724, 0.8150279171505724, 0.8150279171505724, 0.8150279171505724, 0.8150279171505724, 0.8150279171505724, 0.8150279171505724, 0.8150279171505724, 0.8150279171505724, 0.8150279171505724, 0.8150279171505724, 0.8150279171505724, 0.8150279171505724, 0.8150279171505724, 0.8150279171505724, 0.8150279171505724, 0.8150279171505724, 0.8150279171505724, 0.8150279171505724, 0.8150279171505724, 0.8150279171505724, 0.8150279171505724, 0.8150279171505724, 0.8150279171505724, 0.8150279171505724, 0.8150279171505724, 0.8150279171505724, 0.8162666751776086]}]}, \"metricName\": null, \"primaryMetricName\": \"accuracy\", \"showLegend\": false}, \"run_metrics\": [{\"name\": \"experiment_status\", \"run_id\": \"AutoML_54e90b2a-4dc0-4948-bca0-f312cbda0d57\", \"categories\": [0, 1, 2, 3, 4, 5, 6, 7, 8, 9, 10, 11, 12, 13], \"series\": [{\"data\": [\"DatasetEvaluation\", \"FeaturesGeneration\", \"DatasetFeaturization\", \"DatasetFeaturizationCompleted\", \"DatasetCrossValidationSplit\", \"ModelSelection\", \"BestRunExplainModel\", \"ModelExplanationDataSetSetup\", \"PickSurrogateModel\", \"EngineeredFeatureExplanations\", \"EngineeredFeatureExplanations\", \"RawFeaturesExplanations\", \"RawFeaturesExplanations\", \"BestRunExplainModel\"]}]}, {\"name\": \"experiment_status_description\", \"run_id\": \"AutoML_54e90b2a-4dc0-4948-bca0-f312cbda0d57\", \"categories\": [0, 1, 2, 3, 4, 5, 6, 7, 8, 9, 10, 11, 12, 13], \"series\": [{\"data\": [\"Gathering dataset statistics.\", \"Generating features for the dataset.\", \"Beginning to fit featurizers and featurize the dataset.\", \"Completed fit featurizers and featurizing the dataset.\", \"Generating individually featurized CV splits.\", \"Beginning model selection.\", \"Best run model explanations started\", \"Model explanations data setup completed\", \"Choosing LightGBM as the surrogate model for explanations\", \"Computation of engineered features started\", \"Computation of engineered features completed\", \"Computation of raw features started\", \"Computation of raw features completed\", \"Best run model explanations completed\"]}]}], \"run_logs\": \"\\nRun is completed.\", \"graph\": {}, \"widget_settings\": {\"childWidgetDisplay\": \"popup\", \"send_telemetry\": false, \"log_level\": \"INFO\", \"sdk_version\": \"1.24.0\"}, \"loading\": false}"
     },
     "metadata": {},
     "output_type": "display_data"
    }
   ],
   "source": [
    "RunDetails(remote_run).show()"
   ]
  },
  {
   "cell_type": "code",
   "execution_count": 11,
   "metadata": {},
   "outputs": [
    {
     "name": "stdout",
     "output_type": "stream",
     "text": [
      "\n",
      "\n",
      "****************************************************************************************************\n",
      "DATA GUARDRAILS: \n",
      "\n",
      "TYPE:         Class balancing detection\n",
      "STATUS:       PASSED\n",
      "DESCRIPTION:  Your inputs were analyzed, and all classes are balanced in your training data.\n",
      "              Learn more about imbalanced data: https://aka.ms/AutomatedMLImbalancedData\n",
      "\n",
      "****************************************************************************************************\n",
      "\n",
      "TYPE:         Missing feature values imputation\n",
      "STATUS:       DONE\n",
      "DESCRIPTION:  If the missing values are expected, let the run complete. Otherwise cancel the current run and use a script to customize the handling of missing feature values that may be more appropriate based on the data type and business requirement.\n",
      "              Learn more about missing value imputation: https://aka.ms/AutomatedMLFeaturization\n",
      "DETAILS:      \n",
      "+---------------------------------+---------------------------------+\n",
      "|Column name                      |Missing value count              |\n",
      "+=================================+=================================+\n",
      "|gender                           |4508                             |\n",
      "|enrolled_university              |386                              |\n",
      "|education_level                  |460                              |\n",
      "|major_discipline                 |2813                             |\n",
      "|experience                       |65                               |\n",
      "|company_size                     |5938                             |\n",
      "|company_type                     |6140                             |\n",
      "|last_new_job                     |423                              |\n",
      "+---------------------------------+---------------------------------+\n",
      "\n",
      "****************************************************************************************************\n",
      "\n",
      "TYPE:         High cardinality feature detection\n",
      "STATUS:       PASSED\n",
      "DESCRIPTION:  Your inputs were analyzed, and no high cardinality features were detected.\n",
      "              Learn more about high cardinality feature handling: https://aka.ms/AutomatedMLFeaturization\n",
      "\n",
      "****************************************************************************************************\n",
      "\n",
      "****************************************************************************************************\n",
      "ITERATION: The iteration being evaluated.\n",
      "PIPELINE: A summary description of the pipeline being evaluated.\n",
      "DURATION: Time taken for the current iteration.\n",
      "METRIC: The result of computing score on the fitted pipeline.\n",
      "BEST: The best observed score thus far.\n",
      "****************************************************************************************************\n",
      "\n",
      " ITERATION   PIPELINE                                       DURATION      METRIC      BEST\n",
      "         0   MaxAbsScaler LightGBM                          0:03:44       0.7967    0.7967\n",
      "         1   MaxAbsScaler XGBoostClassifier                 0:01:15       0.7929    0.7967\n",
      "         2   MaxAbsScaler RandomForest                      0:03:35       0.7765    0.7967\n",
      "         3   MaxAbsScaler RandomForest                      0:01:16       0.7661    0.7967\n",
      "         4   MaxAbsScaler RandomForest                      0:03:27       0.7525    0.7967\n",
      "         5   MaxAbsScaler RandomForest                      0:00:50       0.6979    0.7967\n",
      "         6   SparseNormalizer XGBoostClassifier             0:01:10       0.7800    0.7967\n",
      "         7   MaxAbsScaler GradientBoosting                  0:01:19       0.7825    0.7967\n",
      "        10   StandardScalerWrapper RandomForest             0:00:58       0.7796    0.7967\n",
      "        11   SparseNormalizer XGBoostClassifier             0:01:03       0.7568    0.7967\n",
      "         8   MaxAbsScaler LightGBM                          0:01:26       0.7752    0.7967\n",
      "         9   MaxAbsScaler RandomForest                      0:01:27       0.7556    0.7967\n",
      "        12   MaxAbsScaler LogisticRegression                0:01:16       0.7722    0.7967\n",
      "        13   MaxAbsScaler ExtremeRandomTrees                0:01:30       0.7545    0.7967\n",
      "        14   MaxAbsScaler LightGBM                          0:01:03       0.7711    0.7967\n",
      "        15   SparseNormalizer LightGBM                      0:00:57       0.7653    0.7967\n",
      "        16   SparseNormalizer LightGBM                      0:00:45       0.7521    0.7967\n",
      "        17   SparseNormalizer XGBoostClassifier             0:01:10       0.7787    0.7967\n",
      "        18   SparseNormalizer XGBoostClassifier             0:01:07       0.7798    0.7967\n",
      "        19   MaxAbsScaler LightGBM                          0:00:54       0.7805    0.7967\n",
      "        20   SparseNormalizer XGBoostClassifier             0:01:23       0.7816    0.7967\n",
      "        21   MaxAbsScaler LightGBM                          0:01:03       0.7934    0.7967\n",
      "        22   SparseNormalizer RandomForest                  0:01:19       0.7507    0.7967\n",
      "        23   SparseNormalizer XGBoostClassifier             0:08:07       0.7780    0.7967\n",
      "        24   StandardScalerWrapper XGBoostClassifier        0:01:07       0.7963    0.7967\n",
      "        25   StandardScalerWrapper LightGBM                 0:07:02       0.7507    0.7967\n",
      "        26   SparseNormalizer ExtremeRandomTrees            0:01:08       0.7507    0.7967\n",
      "        27   SparseNormalizer XGBoostClassifier             0:00:55       0.7708    0.7967\n",
      "        28   SparseNormalizer XGBoostClassifier             0:00:55       0.7798    0.7967\n",
      "        29   MaxAbsScaler ExtremeRandomTrees                0:00:59       0.7840    0.7967\n",
      "        30   MaxAbsScaler LightGBM                          0:01:04       0.7507    0.7967\n",
      "        31   MaxAbsScaler ExtremeRandomTrees                0:01:07       0.7647    0.7967\n",
      "        32   MaxAbsScaler GradientBoosting                  0:01:35       0.7751    0.7967\n",
      "        33   SparseNormalizer LightGBM                      0:01:11       0.7769    0.7967\n",
      "        34   MaxAbsScaler RandomForest                      0:01:06       0.7939    0.7967\n",
      "        35   MaxAbsScaler LightGBM                          0:00:45       0.7798    0.7967\n",
      "        36    VotingEnsemble                                0:01:31       0.7995    0.7995\n",
      "        37    StackEnsemble                                 0:09:50       0.7966    0.7995\n"
     ]
    },
    {
     "data": {
      "text/plain": [
       "{'runId': 'AutoML_54e90b2a-4dc0-4948-bca0-f312cbda0d57',\n",
       " 'target': 'demo-1-cluster',\n",
       " 'status': 'Completed',\n",
       " 'startTimeUtc': '2021-03-20T18:41:40.748535Z',\n",
       " 'endTimeUtc': '2021-03-20T19:28:20.918009Z',\n",
       " 'properties': {'num_iterations': '1000',\n",
       "  'training_type': 'TrainFull',\n",
       "  'acquisition_function': 'EI',\n",
       "  'primary_metric': 'accuracy',\n",
       "  'train_split': '0',\n",
       "  'acquisition_parameter': '0',\n",
       "  'num_cross_validation': '6',\n",
       "  'target': 'demo-1-cluster',\n",
       "  'AMLSettingsJsonString': '{\"path\":null,\"name\":\"automl-job-change-expt\",\"subscription_id\":\"9e65f93e-bdd8-437b-b1e8-0647cd6098f7\",\"resource_group\":\"aml-quickstarts-140983\",\"workspace_name\":\"quick-starts-ws-140983\",\"region\":\"southcentralus\",\"compute_target\":\"demo-1-cluster\",\"spark_service\":null,\"azure_service\":\"remote\",\"many_models\":false,\"pipeline_fetch_max_batch_size\":1,\"enable_batch_run\":false,\"iterations\":1000,\"primary_metric\":\"accuracy\",\"task_type\":\"classification\",\"data_script\":null,\"validation_size\":0.0,\"n_cross_validations\":6,\"y_min\":null,\"y_max\":null,\"num_classes\":null,\"featurization\":\"auto\",\"_ignore_package_version_incompatibilities\":false,\"is_timeseries\":false,\"max_cores_per_iteration\":-1,\"max_concurrent_iterations\":4,\"iteration_timeout_minutes\":null,\"mem_in_mb\":null,\"enforce_time_on_windows\":false,\"experiment_timeout_minutes\":30,\"experiment_exit_score\":null,\"whitelist_models\":null,\"blacklist_algos\":[\"TensorFlowLinearClassifier\",\"TensorFlowDNN\"],\"supported_models\":[\"RandomForest\",\"ExtremeRandomTrees\",\"LogisticRegression\",\"SVM\",\"DecisionTree\",\"BernoulliNaiveBayes\",\"TensorFlowLinearClassifier\",\"MultinomialNaiveBayes\",\"SGD\",\"LightGBM\",\"AveragedPerceptronClassifier\",\"KNN\",\"GradientBoosting\",\"XGBoostClassifier\",\"TensorFlowDNN\",\"LinearSVM\"],\"private_models\":[],\"auto_blacklist\":true,\"blacklist_samples_reached\":false,\"exclude_nan_labels\":true,\"verbosity\":20,\"_debug_log\":\"azureml_automl.log\",\"show_warnings\":false,\"model_explainability\":true,\"service_url\":null,\"sdk_url\":null,\"sdk_packages\":null,\"enable_onnx_compatible_models\":false,\"enable_split_onnx_featurizer_estimator_models\":false,\"vm_type\":\"STANDARD_D2_V2\",\"telemetry_verbosity\":20,\"send_telemetry\":true,\"enable_dnn\":false,\"scenario\":\"SDK-1.13.0\",\"environment_label\":null,\"save_mlflow\":false,\"force_text_dnn\":false,\"enable_feature_sweeping\":true,\"enable_early_stopping\":true,\"early_stopping_n_iters\":10,\"metrics\":null,\"enable_metric_confidence\":false,\"enable_ensembling\":true,\"enable_stack_ensembling\":true,\"ensemble_iterations\":15,\"enable_tf\":false,\"enable_subsampling\":null,\"subsample_seed\":null,\"enable_nimbusml\":false,\"enable_streaming\":false,\"force_streaming\":false,\"track_child_runs\":true,\"allowed_private_models\":[],\"label_column_name\":\"target\",\"weight_column_name\":null,\"cv_split_column_names\":null,\"enable_local_managed\":false,\"_local_managed_run_id\":null,\"cost_mode\":1,\"lag_length\":0,\"metric_operation\":\"maximize\",\"preprocess\":true}',\n",
       "  'DataPrepJsonString': '{\\\\\"training_data\\\\\": \\\\\"{\\\\\\\\\\\\\"blocks\\\\\\\\\\\\\": [{\\\\\\\\\\\\\"id\\\\\\\\\\\\\": \\\\\\\\\\\\\"2a0db92f-b38f-4af1-939c-4987fd56db62\\\\\\\\\\\\\", \\\\\\\\\\\\\"type\\\\\\\\\\\\\": \\\\\\\\\\\\\"Microsoft.DPrep.GetDatastoreFilesBlock\\\\\\\\\\\\\", \\\\\\\\\\\\\"arguments\\\\\\\\\\\\\": {\\\\\\\\\\\\\"datastores\\\\\\\\\\\\\": [{\\\\\\\\\\\\\"datastoreName\\\\\\\\\\\\\": \\\\\\\\\\\\\"workspaceblobstore\\\\\\\\\\\\\", \\\\\\\\\\\\\"path\\\\\\\\\\\\\": \\\\\\\\\\\\\"UI/03-20-2021_052553_UTC/aug_train.csv\\\\\\\\\\\\\", \\\\\\\\\\\\\"resourceGroup\\\\\\\\\\\\\": \\\\\\\\\\\\\"aml-quickstarts-140983\\\\\\\\\\\\\", \\\\\\\\\\\\\"subscription\\\\\\\\\\\\\": \\\\\\\\\\\\\"9e65f93e-bdd8-437b-b1e8-0647cd6098f7\\\\\\\\\\\\\", \\\\\\\\\\\\\"workspaceName\\\\\\\\\\\\\": \\\\\\\\\\\\\"quick-starts-ws-140983\\\\\\\\\\\\\"}]}, \\\\\\\\\\\\\"localData\\\\\\\\\\\\\": {}, \\\\\\\\\\\\\"isEnabled\\\\\\\\\\\\\": true, \\\\\\\\\\\\\"name\\\\\\\\\\\\\": null, \\\\\\\\\\\\\"annotation\\\\\\\\\\\\\": null}, {\\\\\\\\\\\\\"id\\\\\\\\\\\\\": \\\\\\\\\\\\\"197de291-c458-4636-84e9-5d2ebb9e081f\\\\\\\\\\\\\", \\\\\\\\\\\\\"type\\\\\\\\\\\\\": \\\\\\\\\\\\\"Microsoft.DPrep.ParseDelimitedBlock\\\\\\\\\\\\\", \\\\\\\\\\\\\"arguments\\\\\\\\\\\\\": {\\\\\\\\\\\\\"columnHeadersMode\\\\\\\\\\\\\": 1, \\\\\\\\\\\\\"fileEncoding\\\\\\\\\\\\\": 0, \\\\\\\\\\\\\"handleQuotedLineBreaks\\\\\\\\\\\\\": false, \\\\\\\\\\\\\"preview\\\\\\\\\\\\\": false, \\\\\\\\\\\\\"separator\\\\\\\\\\\\\": \\\\\\\\\\\\\",\\\\\\\\\\\\\", \\\\\\\\\\\\\"skipRows\\\\\\\\\\\\\": 0, \\\\\\\\\\\\\"skipRowsMode\\\\\\\\\\\\\": 0}, \\\\\\\\\\\\\"localData\\\\\\\\\\\\\": {}, \\\\\\\\\\\\\"isEnabled\\\\\\\\\\\\\": true, \\\\\\\\\\\\\"name\\\\\\\\\\\\\": null, \\\\\\\\\\\\\"annotation\\\\\\\\\\\\\": null}, {\\\\\\\\\\\\\"id\\\\\\\\\\\\\": \\\\\\\\\\\\\"1345f816-6389-4ff9-ae1a-daed9771c75b\\\\\\\\\\\\\", \\\\\\\\\\\\\"type\\\\\\\\\\\\\": \\\\\\\\\\\\\"Microsoft.DPrep.DropColumnsBlock\\\\\\\\\\\\\", \\\\\\\\\\\\\"arguments\\\\\\\\\\\\\": {\\\\\\\\\\\\\"columns\\\\\\\\\\\\\": {\\\\\\\\\\\\\"type\\\\\\\\\\\\\": 0, \\\\\\\\\\\\\"details\\\\\\\\\\\\\": {\\\\\\\\\\\\\"selectedColumns\\\\\\\\\\\\\": [\\\\\\\\\\\\\"Path\\\\\\\\\\\\\"]}}}, \\\\\\\\\\\\\"localData\\\\\\\\\\\\\": {}, \\\\\\\\\\\\\"isEnabled\\\\\\\\\\\\\": true, \\\\\\\\\\\\\"name\\\\\\\\\\\\\": null, \\\\\\\\\\\\\"annotation\\\\\\\\\\\\\": null}, {\\\\\\\\\\\\\"id\\\\\\\\\\\\\": \\\\\\\\\\\\\"411a52f3-48f1-402f-adc6-0cb1500eabf2\\\\\\\\\\\\\", \\\\\\\\\\\\\"type\\\\\\\\\\\\\": \\\\\\\\\\\\\"Microsoft.DPrep.SetColumnTypesBlock\\\\\\\\\\\\\", \\\\\\\\\\\\\"arguments\\\\\\\\\\\\\": {\\\\\\\\\\\\\"columnConversion\\\\\\\\\\\\\": [{\\\\\\\\\\\\\"column\\\\\\\\\\\\\": {\\\\\\\\\\\\\"type\\\\\\\\\\\\\": 2, \\\\\\\\\\\\\"details\\\\\\\\\\\\\": {\\\\\\\\\\\\\"selectedColumn\\\\\\\\\\\\\": \\\\\\\\\\\\\"Path\\\\\\\\\\\\\"}}, \\\\\\\\\\\\\"typeProperty\\\\\\\\\\\\\": 0}, {\\\\\\\\\\\\\"column\\\\\\\\\\\\\": {\\\\\\\\\\\\\"type\\\\\\\\\\\\\": 2, \\\\\\\\\\\\\"details\\\\\\\\\\\\\": {\\\\\\\\\\\\\"selectedColumn\\\\\\\\\\\\\": \\\\\\\\\\\\\"enrollee_id\\\\\\\\\\\\\"}}, \\\\\\\\\\\\\"typeProperty\\\\\\\\\\\\\": 2}, {\\\\\\\\\\\\\"column\\\\\\\\\\\\\": {\\\\\\\\\\\\\"type\\\\\\\\\\\\\": 2, \\\\\\\\\\\\\"details\\\\\\\\\\\\\": {\\\\\\\\\\\\\"selectedColumn\\\\\\\\\\\\\": \\\\\\\\\\\\\"city\\\\\\\\\\\\\"}}, \\\\\\\\\\\\\"typeProperty\\\\\\\\\\\\\": 0}, {\\\\\\\\\\\\\"column\\\\\\\\\\\\\": {\\\\\\\\\\\\\"type\\\\\\\\\\\\\": 2, \\\\\\\\\\\\\"details\\\\\\\\\\\\\": {\\\\\\\\\\\\\"selectedColumn\\\\\\\\\\\\\": \\\\\\\\\\\\\"city_development_index\\\\\\\\\\\\\"}}, \\\\\\\\\\\\\"typeProperty\\\\\\\\\\\\\": 3}, {\\\\\\\\\\\\\"column\\\\\\\\\\\\\": {\\\\\\\\\\\\\"type\\\\\\\\\\\\\": 2, \\\\\\\\\\\\\"details\\\\\\\\\\\\\": {\\\\\\\\\\\\\"selectedColumn\\\\\\\\\\\\\": \\\\\\\\\\\\\"gender\\\\\\\\\\\\\"}}, \\\\\\\\\\\\\"typeProperty\\\\\\\\\\\\\": 0}, {\\\\\\\\\\\\\"column\\\\\\\\\\\\\": {\\\\\\\\\\\\\"type\\\\\\\\\\\\\": 2, \\\\\\\\\\\\\"details\\\\\\\\\\\\\": {\\\\\\\\\\\\\"selectedColumn\\\\\\\\\\\\\": \\\\\\\\\\\\\"relevent_experience\\\\\\\\\\\\\"}}, \\\\\\\\\\\\\"typeProperty\\\\\\\\\\\\\": 0}, {\\\\\\\\\\\\\"column\\\\\\\\\\\\\": {\\\\\\\\\\\\\"type\\\\\\\\\\\\\": 2, \\\\\\\\\\\\\"details\\\\\\\\\\\\\": {\\\\\\\\\\\\\"selectedColumn\\\\\\\\\\\\\": \\\\\\\\\\\\\"enrolled_university\\\\\\\\\\\\\"}}, \\\\\\\\\\\\\"typeProperty\\\\\\\\\\\\\": 0}, {\\\\\\\\\\\\\"column\\\\\\\\\\\\\": {\\\\\\\\\\\\\"type\\\\\\\\\\\\\": 2, \\\\\\\\\\\\\"details\\\\\\\\\\\\\": {\\\\\\\\\\\\\"selectedColumn\\\\\\\\\\\\\": \\\\\\\\\\\\\"education_level\\\\\\\\\\\\\"}}, \\\\\\\\\\\\\"typeProperty\\\\\\\\\\\\\": 0}, {\\\\\\\\\\\\\"column\\\\\\\\\\\\\": {\\\\\\\\\\\\\"type\\\\\\\\\\\\\": 2, \\\\\\\\\\\\\"details\\\\\\\\\\\\\": {\\\\\\\\\\\\\"selectedColumn\\\\\\\\\\\\\": \\\\\\\\\\\\\"major_discipline\\\\\\\\\\\\\"}}, \\\\\\\\\\\\\"typeProperty\\\\\\\\\\\\\": 0}, {\\\\\\\\\\\\\"column\\\\\\\\\\\\\": {\\\\\\\\\\\\\"type\\\\\\\\\\\\\": 2, \\\\\\\\\\\\\"details\\\\\\\\\\\\\": {\\\\\\\\\\\\\"selectedColumn\\\\\\\\\\\\\": \\\\\\\\\\\\\"experience\\\\\\\\\\\\\"}}, \\\\\\\\\\\\\"typeProperty\\\\\\\\\\\\\": 0}, {\\\\\\\\\\\\\"column\\\\\\\\\\\\\": {\\\\\\\\\\\\\"type\\\\\\\\\\\\\": 2, \\\\\\\\\\\\\"details\\\\\\\\\\\\\": {\\\\\\\\\\\\\"selectedColumn\\\\\\\\\\\\\": \\\\\\\\\\\\\"company_size\\\\\\\\\\\\\"}}, \\\\\\\\\\\\\"typeProperty\\\\\\\\\\\\\": 0}, {\\\\\\\\\\\\\"column\\\\\\\\\\\\\": {\\\\\\\\\\\\\"type\\\\\\\\\\\\\": 2, \\\\\\\\\\\\\"details\\\\\\\\\\\\\": {\\\\\\\\\\\\\"selectedColumn\\\\\\\\\\\\\": \\\\\\\\\\\\\"company_type\\\\\\\\\\\\\"}}, \\\\\\\\\\\\\"typeProperty\\\\\\\\\\\\\": 0}, {\\\\\\\\\\\\\"column\\\\\\\\\\\\\": {\\\\\\\\\\\\\"type\\\\\\\\\\\\\": 2, \\\\\\\\\\\\\"details\\\\\\\\\\\\\": {\\\\\\\\\\\\\"selectedColumn\\\\\\\\\\\\\": \\\\\\\\\\\\\"last_new_job\\\\\\\\\\\\\"}}, \\\\\\\\\\\\\"typeProperty\\\\\\\\\\\\\": 0}, {\\\\\\\\\\\\\"column\\\\\\\\\\\\\": {\\\\\\\\\\\\\"type\\\\\\\\\\\\\": 2, \\\\\\\\\\\\\"details\\\\\\\\\\\\\": {\\\\\\\\\\\\\"selectedColumn\\\\\\\\\\\\\": \\\\\\\\\\\\\"training_hours\\\\\\\\\\\\\"}}, \\\\\\\\\\\\\"typeProperty\\\\\\\\\\\\\": 2}, {\\\\\\\\\\\\\"column\\\\\\\\\\\\\": {\\\\\\\\\\\\\"type\\\\\\\\\\\\\": 2, \\\\\\\\\\\\\"details\\\\\\\\\\\\\": {\\\\\\\\\\\\\"selectedColumn\\\\\\\\\\\\\": \\\\\\\\\\\\\"target\\\\\\\\\\\\\"}}, \\\\\\\\\\\\\"typeProperty\\\\\\\\\\\\\": 3}]}, \\\\\\\\\\\\\"localData\\\\\\\\\\\\\": {}, \\\\\\\\\\\\\"isEnabled\\\\\\\\\\\\\": true, \\\\\\\\\\\\\"name\\\\\\\\\\\\\": null, \\\\\\\\\\\\\"annotation\\\\\\\\\\\\\": null}, {\\\\\\\\\\\\\"id\\\\\\\\\\\\\": \\\\\\\\\\\\\"8ec1cd4a-7d33-48fe-aaba-9189e93c66c0\\\\\\\\\\\\\", \\\\\\\\\\\\\"type\\\\\\\\\\\\\": \\\\\\\\\\\\\"Microsoft.DPrep.DropColumnsBlock\\\\\\\\\\\\\", \\\\\\\\\\\\\"arguments\\\\\\\\\\\\\": {\\\\\\\\\\\\\"columns\\\\\\\\\\\\\": {\\\\\\\\\\\\\"type\\\\\\\\\\\\\": 0, \\\\\\\\\\\\\"details\\\\\\\\\\\\\": {\\\\\\\\\\\\\"selectedColumns\\\\\\\\\\\\\": [\\\\\\\\\\\\\"enrollee_id\\\\\\\\\\\\\", \\\\\\\\\\\\\"city\\\\\\\\\\\\\"]}}}, \\\\\\\\\\\\\"localData\\\\\\\\\\\\\": {}, \\\\\\\\\\\\\"isEnabled\\\\\\\\\\\\\": true, \\\\\\\\\\\\\"name\\\\\\\\\\\\\": null, \\\\\\\\\\\\\"annotation\\\\\\\\\\\\\": null}], \\\\\\\\\\\\\"inspectors\\\\\\\\\\\\\": [], \\\\\\\\\\\\\"meta\\\\\\\\\\\\\": {\\\\\\\\\\\\\"savedDatasetId\\\\\\\\\\\\\": \\\\\\\\\\\\\"02ad02c0-b5ef-40b3-8c01-d3ea0915fd22\\\\\\\\\\\\\", \\\\\\\\\\\\\"datasetType\\\\\\\\\\\\\": \\\\\\\\\\\\\"tabular\\\\\\\\\\\\\", \\\\\\\\\\\\\"subscriptionId\\\\\\\\\\\\\": \\\\\\\\\\\\\"9e65f93e-bdd8-437b-b1e8-0647cd6098f7\\\\\\\\\\\\\", \\\\\\\\\\\\\"workspaceId\\\\\\\\\\\\\": \\\\\\\\\\\\\"c67c431c-d509-4c64-b444-bb0d0a81f120\\\\\\\\\\\\\", \\\\\\\\\\\\\"workspaceLocation\\\\\\\\\\\\\": \\\\\\\\\\\\\"southcentralus\\\\\\\\\\\\\", \\\\\\\\\\\\\"partition_keys\\\\\\\\\\\\\": \\\\\\\\\\\\\"true\\\\\\\\\\\\\"}}\\\\\", \\\\\"activities\\\\\": 0}',\n",
       "  'EnableSubsampling': None,\n",
       "  'runTemplate': 'AutoML',\n",
       "  'azureml.runsource': 'automl',\n",
       "  'display_task_type': 'classification',\n",
       "  'dependencies_versions': '{\"azureml-widgets\": \"1.24.0\", \"azureml-train\": \"1.24.0\", \"azureml-train-restclients-hyperdrive\": \"1.24.0\", \"azureml-train-core\": \"1.24.0\", \"azureml-train-automl\": \"1.24.0\", \"azureml-train-automl-runtime\": \"1.24.0\", \"azureml-train-automl-client\": \"1.24.0\", \"azureml-tensorboard\": \"1.24.0\", \"azureml-telemetry\": \"1.24.0\", \"azureml-sdk\": \"1.24.0\", \"azureml-samples\": \"0+unknown\", \"azureml-pipeline\": \"1.24.0\", \"azureml-pipeline-steps\": \"1.24.0\", \"azureml-pipeline-core\": \"1.24.0\", \"azureml-opendatasets\": \"1.24.0\", \"azureml-model-management-sdk\": \"1.0.1b6.post1\", \"azureml-mlflow\": \"1.24.0\", \"azureml-interpret\": \"1.24.0\", \"azureml-explain-model\": \"1.24.0\", \"azureml-defaults\": \"1.24.0\", \"azureml-dataset-runtime\": \"1.24.0\", \"azureml-dataprep\": \"2.11.1\", \"azureml-dataprep-rslex\": \"1.9.0\", \"azureml-dataprep-native\": \"30.0.0\", \"azureml-datadrift\": \"1.24.0\", \"azureml-core\": \"1.24.0\", \"azureml-contrib-services\": \"1.24.0\", \"azureml-contrib-server\": \"1.24.0\", \"azureml-contrib-reinforcementlearning\": \"1.24.0\", \"azureml-contrib-pipeline-steps\": \"1.24.0\", \"azureml-contrib-notebook\": \"1.24.0\", \"azureml-contrib-gbdt\": \"1.24.0\", \"azureml-contrib-fairness\": \"1.24.0\", \"azureml-contrib-dataset\": \"1.24.0\", \"azureml-cli-common\": \"1.24.0\", \"azureml-automl-runtime\": \"1.24.0\", \"azureml-automl-dnn-nlp\": \"1.24.0\", \"azureml-automl-core\": \"1.24.0\", \"azureml-accel-models\": \"1.24.0\"}',\n",
       "  '_aml_system_scenario_identification': 'Remote.Parent',\n",
       "  'ClientType': 'SDK',\n",
       "  'environment_cpu_name': 'AzureML-AutoML',\n",
       "  'environment_cpu_label': 'prod',\n",
       "  'environment_gpu_name': 'AzureML-AutoML-GPU',\n",
       "  'environment_gpu_label': 'prod',\n",
       "  'root_attribution': 'automl',\n",
       "  'attribution': 'AutoML',\n",
       "  'Orchestrator': 'AutoML',\n",
       "  'CancelUri': 'https://southcentralus.experiments.azureml.net/jasmine/v1.0/subscriptions/9e65f93e-bdd8-437b-b1e8-0647cd6098f7/resourceGroups/aml-quickstarts-140983/providers/Microsoft.MachineLearningServices/workspaces/quick-starts-ws-140983/experimentids/ad6467fc-45c6-48b4-b7ec-1f42b32d925b/cancel/AutoML_54e90b2a-4dc0-4948-bca0-f312cbda0d57',\n",
       "  'ClientSdkVersion': '1.23.0',\n",
       "  'snapshotId': '00000000-0000-0000-0000-000000000000',\n",
       "  'SetupRunId': 'AutoML_54e90b2a-4dc0-4948-bca0-f312cbda0d57_setup',\n",
       "  'SetupRunContainerId': 'dcid.AutoML_54e90b2a-4dc0-4948-bca0-f312cbda0d57_setup',\n",
       "  'FeaturizationRunJsonPath': 'featurizer_container.json',\n",
       "  'FeaturizationRunId': 'AutoML_54e90b2a-4dc0-4948-bca0-f312cbda0d57_featurize',\n",
       "  'ProblemInfoJsonString': '{\"dataset_num_categorical\": 0, \"is_sparse\": true, \"subsampling\": false, \"dataset_classes\": 2, \"dataset_features\": 78, \"dataset_samples\": 19158, \"single_frequency_class_detected\": false}',\n",
       "  'ModelExplainRunId': 'AutoML_54e90b2a-4dc0-4948-bca0-f312cbda0d57_ModelExplain'},\n",
       " 'inputDatasets': [{'dataset': {'id': '02ad02c0-b5ef-40b3-8c01-d3ea0915fd22'}, 'consumptionDetails': {'type': 'RunInput', 'inputName': 'training_data', 'mechanism': 'Direct'}}],\n",
       " 'outputDatasets': [],\n",
       " 'logFiles': {},\n",
       " 'submittedBy': 'ODL_User 140983'}"
      ]
     },
     "execution_count": 11,
     "metadata": {},
     "output_type": "execute_result"
    }
   ],
   "source": [
    "remote_run.wait_for_completion(show_output=True)"
   ]
  },
  {
   "cell_type": "markdown",
   "metadata": {},
   "source": [
    "## Best Model\n",
    "\n",
    "TODO: In the cell below, get the best model from the automl experiments and display all the properties of the model.\n",
    "\n"
   ]
  },
  {
   "cell_type": "code",
   "execution_count": 20,
   "metadata": {},
   "outputs": [
    {
     "name": "stdout",
     "output_type": "stream",
     "text": [
      "Requirement already satisfied: xgboost==0.90 in /anaconda/envs/azureml_py36/lib/python3.6/site-packages (0.90)\n",
      "Requirement already satisfied: numpy in /anaconda/envs/azureml_py36/lib/python3.6/site-packages (from xgboost==0.90) (1.18.5)\n",
      "Requirement already satisfied: scipy in /anaconda/envs/azureml_py36/lib/python3.6/site-packages (from xgboost==0.90) (1.4.1)\n",
      "Note: you may need to restart the kernel to use updated packages.\n"
     ]
    }
   ],
   "source": [
    "pip install xgboost==0.90"
   ]
  },
  {
   "cell_type": "code",
   "execution_count": 12,
   "metadata": {},
   "outputs": [
    {
     "data": {
      "text/html": [
       "<table style=\"width:100%\"><tr><th>Experiment</th><th>Id</th><th>Type</th><th>Status</th><th>Details Page</th><th>Docs Page</th></tr><tr><td>automl-job-change-expt</td><td>AutoML_54e90b2a-4dc0-4948-bca0-f312cbda0d57_36</td><td>azureml.scriptrun</td><td>Completed</td><td><a href=\"https://ml.azure.com/experiments/automl-job-change-expt/runs/AutoML_54e90b2a-4dc0-4948-bca0-f312cbda0d57_36?wsid=/subscriptions/9e65f93e-bdd8-437b-b1e8-0647cd6098f7/resourcegroups/aml-quickstarts-140983/workspaces/quick-starts-ws-140983\" target=\"_blank\" rel=\"noopener\">Link to Azure Machine Learning studio</a></td><td><a href=\"https://docs.microsoft.com/en-us/python/api/azureml-core/azureml.core.run.Run?view=azure-ml-py\" target=\"_blank\" rel=\"noopener\">Link to Documentation</a></td></tr></table>"
      ],
      "text/plain": [
       "Run(Experiment: automl-job-change-expt,\n",
       "Id: AutoML_54e90b2a-4dc0-4948-bca0-f312cbda0d57_36,\n",
       "Type: azureml.scriptrun,\n",
       "Status: Completed)"
      ]
     },
     "execution_count": 12,
     "metadata": {},
     "output_type": "execute_result"
    }
   ],
   "source": [
    "automl_best_run, model= remote_run.get_output()\n",
    "automl_best_run"
   ]
  },
  {
   "cell_type": "code",
   "execution_count": 13,
   "metadata": {
    "gather": {
     "logged": 1598431426111
    },
    "jupyter": {
     "outputs_hidden": false,
     "source_hidden": false
    },
    "nteract": {
     "transient": {
      "deleting": false
     }
    }
   },
   "outputs": [
    {
     "name": "stdout",
     "output_type": "stream",
     "text": [
      "Best Run ID:  AutoML_54e90b2a-4dc0-4948-bca0-f312cbda0d57_36\n",
      "Accuracy:  0.7994571458398579\n"
     ]
    }
   ],
   "source": [
    "metrics = automl_best_run.get_metrics()\n",
    "parameters = automl_best_run.get_details()\n",
    "\n",
    "print(\"Best Run ID: \",automl_best_run.id)\n",
    "print(\"Accuracy: \",metrics[\"accuracy\"])"
   ]
  },
  {
   "cell_type": "code",
   "execution_count": 14,
   "metadata": {},
   "outputs": [
    {
     "data": {
      "text/plain": [
       "PreFittedSoftVotingClassifier(classification_labels=None,\n",
       "                              estimators=[('0',\n",
       "                                           Pipeline(memory=None,\n",
       "                                                    steps=[('maxabsscaler',\n",
       "                                                            MaxAbsScaler(copy=True)),\n",
       "                                                           ('lightgbmclassifier',\n",
       "                                                            LightGBMClassifier(boosting_type='gbdt',\n",
       "                                                                               class_weight=None,\n",
       "                                                                               colsample_bytree=1.0,\n",
       "                                                                               importance_type='split',\n",
       "                                                                               learning_rate=0.1,\n",
       "                                                                               max_depth=-1,\n",
       "                                                                               min_child_samples=20,\n",
       "                                                                               min_child_weight=0.001,\n",
       "                                                                               min_spl...\n",
       "                                                                                   min_impurity_decrease=0.0,\n",
       "                                                                                   min_impurity_split=None,\n",
       "                                                                                   min_samples_leaf=0.01,\n",
       "                                                                                   min_samples_split=0.01,\n",
       "                                                                                   min_weight_fraction_leaf=0.0,\n",
       "                                                                                   n_estimators=25,\n",
       "                                                                                   n_jobs=-1,\n",
       "                                                                                   oob_score=True,\n",
       "                                                                                   random_state=None,\n",
       "                                                                                   verbose=0,\n",
       "                                                                                   warm_start=False))],\n",
       "                                                    verbose=False))],\n",
       "                              flatten_transform=None,\n",
       "                              weights=[0.06666666666666667, 0.26666666666666666,\n",
       "                                       0.06666666666666667, 0.13333333333333333,\n",
       "                                       0.2, 0.2, 0.06666666666666667])"
      ]
     },
     "execution_count": 14,
     "metadata": {},
     "output_type": "execute_result"
    }
   ],
   "source": [
    "model._final_estimator"
   ]
  },
  {
   "cell_type": "code",
   "execution_count": 15,
   "metadata": {},
   "outputs": [
    {
     "data": {
      "text/plain": [
       "['outputs/automl_model.joblib']"
      ]
     },
     "execution_count": 15,
     "metadata": {},
     "output_type": "execute_result"
    }
   ],
   "source": [
    "# Save the best model\n",
    "joblib.dump(model, filename=\"outputs/automl_model.joblib\")"
   ]
  },
  {
   "cell_type": "code",
   "execution_count": 16,
   "metadata": {},
   "outputs": [
    {
     "data": {
      "text/plain": [
       "'AutoML54e90b2a436'"
      ]
     },
     "execution_count": 16,
     "metadata": {},
     "output_type": "execute_result"
    }
   ],
   "source": [
    "model_name = automl_best_run.properties['model_name']\n",
    "model_name"
   ]
  },
  {
   "cell_type": "markdown",
   "metadata": {},
   "source": [
    "## Model Deployment\n",
    "\n",
    "Remember you have to deploy only one of the two models you trained.. Perform the steps in the rest of this notebook only if you wish to deploy this model.\n",
    "\n",
    "TODO: In the cell below, register the model, create an inference config and deploy the model as a web service."
   ]
  },
  {
   "cell_type": "code",
   "execution_count": 21,
   "metadata": {
    "gather": {
     "logged": 1598431435189
    },
    "jupyter": {
     "outputs_hidden": false,
     "source_hidden": false
    },
    "nteract": {
     "transient": {
      "deleting": false
     }
    }
   },
   "outputs": [],
   "source": [
    "env = automl_best_run.get_environment().save_to_directory(path='environments')\n",
    "\n",
    "script_file= 'score.py'\n",
    "\n",
    "automl_best_run.download_file('outputs/scoring_file_v_1_0_0.py', script_file)"
   ]
  },
  {
   "cell_type": "code",
   "execution_count": 22,
   "metadata": {},
   "outputs": [
    {
     "data": {
      "text/plain": [
       "'AutoML54e90b2a436:1'"
      ]
     },
     "execution_count": 22,
     "metadata": {},
     "output_type": "execute_result"
    }
   ],
   "source": [
    "model = remote_run.register_model(model_name = model_name, description = 'AutoML best model')\n",
    "\n",
    "model.id"
   ]
  },
  {
   "cell_type": "code",
   "execution_count": 23,
   "metadata": {},
   "outputs": [],
   "source": [
    "inference_config= InferenceConfig(entry_script = script_file, environment = env)\n",
    "aci_config= AciWebservice.deploy_configuration(cpu_cores = 1, memory_gb = 1)"
   ]
  },
  {
   "cell_type": "code",
   "execution_count": 24,
   "metadata": {},
   "outputs": [
    {
     "name": "stdout",
     "output_type": "stream",
     "text": [
      "Tips: You can try get_logs(): https://aka.ms/debugimage#dockerlog or local deployment: https://aka.ms/debugimage#debug-locally to debug if deployment takes longer than 10 minutes.\n",
      "Running\n",
      "2021-03-20 19:50:33+00:00 Creating Container Registry if not exists.\n",
      "2021-03-20 19:50:36+00:00 Use the existing image.\n",
      "2021-03-20 19:50:37+00:00 Generating deployment configuration.\n",
      "2021-03-20 19:50:39+00:00 Submitting deployment to compute..\n",
      "2021-03-20 19:50:43+00:00 Checking the status of deployment analytics-api..\n",
      "2021-03-20 19:51:40+00:00 Checking the status of inference endpoint analytics-api.\n",
      "Succeeded\n",
      "ACI service creation operation finished, operation \"Succeeded\"\n"
     ]
    }
   ],
   "source": [
    "service = Model.deploy(ws, 'analytics-api', [model], inference_config, aci_config)\n",
    "service.wait_for_deployment(True)"
   ]
  },
  {
   "cell_type": "code",
   "execution_count": 25,
   "metadata": {},
   "outputs": [
    {
     "name": "stdout",
     "output_type": "stream",
     "text": [
      "State: Healthy\n",
      "Scoring URI: http://011d9eb1-1342-40b9-aaa4-31bc52c167c0.southcentralus.azurecontainer.io/score\n"
     ]
    }
   ],
   "source": [
    "print(\"State: \" + service.state)\n",
    "print(\"Scoring URI: \" + service.scoring_uri)"
   ]
  },
  {
   "cell_type": "code",
   "execution_count": 27,
   "metadata": {
    "jupyter": {
     "outputs_hidden": false,
     "source_hidden": false
    },
    "nteract": {
     "transient": {
      "deleting": false
     }
    }
   },
   "outputs": [
    {
     "name": "stdout",
     "output_type": "stream",
     "text": [
      "2021-03-20T19:51:29,540907800+00:00 - gunicorn/run \n",
      "2021-03-20T19:51:29,544790700+00:00 - iot-server/run \n",
      "2021-03-20T19:51:29,549723900+00:00 - rsyslog/run \n",
      "rsyslogd: /azureml-envs/azureml_661474bbe74e96b5d8added5888dfc85/lib/libuuid.so.1: no version information available (required by rsyslogd)\n",
      "2021-03-20T19:51:29,611175500+00:00 - nginx/run \n",
      "/usr/sbin/nginx: /azureml-envs/azureml_661474bbe74e96b5d8added5888dfc85/lib/libcrypto.so.1.0.0: no version information available (required by /usr/sbin/nginx)\n",
      "/usr/sbin/nginx: /azureml-envs/azureml_661474bbe74e96b5d8added5888dfc85/lib/libcrypto.so.1.0.0: no version information available (required by /usr/sbin/nginx)\n",
      "/usr/sbin/nginx: /azureml-envs/azureml_661474bbe74e96b5d8added5888dfc85/lib/libssl.so.1.0.0: no version information available (required by /usr/sbin/nginx)\n",
      "/usr/sbin/nginx: /azureml-envs/azureml_661474bbe74e96b5d8added5888dfc85/lib/libssl.so.1.0.0: no version information available (required by /usr/sbin/nginx)\n",
      "/usr/sbin/nginx: /azureml-envs/azureml_661474bbe74e96b5d8added5888dfc85/lib/libssl.so.1.0.0: no version information available (required by /usr/sbin/nginx)\n",
      "EdgeHubConnectionString and IOTEDGE_IOTHUBHOSTNAME are not set. Exiting...\n",
      "2021-03-20T19:51:30,989306600+00:00 - iot-server/finish 1 0\n",
      "2021-03-20T19:51:30,994972900+00:00 - Exit code 1 is normal. Not restarting iot-server.\n",
      "Starting gunicorn 19.9.0\n",
      "Listening at: http://127.0.0.1:31311 (68)\n",
      "Using worker: sync\n",
      "worker timeout is set to 300\n",
      "Booting worker with pid: 98\n",
      "SPARK_HOME not set. Skipping PySpark Initialization.\n",
      "Generating new fontManager, this may take some time...\n",
      "Initializing logger\n",
      "2021-03-20 19:51:36,976 | root | INFO | Starting up app insights client\n",
      "2021-03-20 19:51:36,976 | root | INFO | Starting up request id generator\n",
      "2021-03-20 19:51:36,976 | root | INFO | Starting up app insight hooks\n",
      "2021-03-20 19:51:36,977 | root | INFO | Invoking user's init function\n",
      "2021-03-20 19:51:47,257 | azureml.core | WARNING | Failure while loading azureml_run_type_providers. Failed to load entrypoint automl = azureml.train.automl.run:AutoMLRun._from_run_dto with exception (cryptography 3.2 (/azureml-envs/azureml_661474bbe74e96b5d8added5888dfc85/lib/python3.6/site-packages), Requirement.parse('cryptography<4.0.0,>=3.3.1; extra == \"crypto\"'), {'PyJWT'}).\n",
      "Failure while loading azureml_run_type_providers. Failed to load entrypoint automl = azureml.train.automl.run:AutoMLRun._from_run_dto with exception (cryptography 3.2 (/azureml-envs/azureml_661474bbe74e96b5d8added5888dfc85/lib/python3.6/site-packages), Requirement.parse('cryptography<4.0.0,>=3.3.1; extra == \"crypto\"'), {'PyJWT'}).\n",
      "2021-03-20 19:51:48,498 | root | INFO | Users's init has completed successfully\n",
      "2021-03-20 19:51:48,548 | root | INFO | Skipping middleware: dbg_model_info as it's not enabled.\n",
      "2021-03-20 19:51:48,549 | root | INFO | Skipping middleware: dbg_resource_usage as it's not enabled.\n",
      "2021-03-20 19:51:48,552 | root | INFO | Scoring timeout is found from os.environ: 60000 ms\n",
      "2021-03-20 19:51:48,597 | root | INFO | 200\n",
      "127.0.0.1 - - [20/Mar/2021:19:51:48 +0000] \"GET /swagger.json HTTP/1.0\" 200 2785 \"-\" \"Go-http-client/1.1\"\n",
      "2021-03-20 19:51:53,421 | root | INFO | 200\n",
      "127.0.0.1 - - [20/Mar/2021:19:51:53 +0000] \"GET /swagger.json HTTP/1.0\" 200 2785 \"-\" \"Go-http-client/1.1\"\n",
      "\n"
     ]
    }
   ],
   "source": [
    "logs = service.get_logs()\n",
    "\n",
    "for line in logs.split('\\n'):\n",
    "    print(line)"
   ]
  },
  {
   "cell_type": "code",
   "execution_count": 28,
   "metadata": {},
   "outputs": [],
   "source": [
    "service.delete()"
   ]
  },
  {
   "cell_type": "code",
   "execution_count": null,
   "metadata": {},
   "outputs": [],
   "source": []
  }
 ],
 "metadata": {
  "kernel_info": {
   "name": "python3-azureml"
  },
  "kernelspec": {
   "display_name": "Python 3",
   "language": "python",
   "name": "python3"
  },
  "language_info": {
   "codemirror_mode": {
    "name": "ipython",
    "version": 3
   },
   "file_extension": ".py",
   "mimetype": "text/x-python",
   "name": "python",
   "nbconvert_exporter": "python",
   "pygments_lexer": "ipython3",
   "version": "3.6.9"
  },
  "nteract": {
   "version": "nteract-front-end@1.0.0"
  }
 },
 "nbformat": 4,
 "nbformat_minor": 2
}
