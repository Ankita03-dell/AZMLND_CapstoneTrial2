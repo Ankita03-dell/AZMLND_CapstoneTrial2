{
 "cells": [
  {
   "cell_type": "markdown",
   "metadata": {},
   "source": [
    "# Automated ML\n",
    "\n"
   ]
  },
  {
   "cell_type": "code",
   "execution_count": 1,
   "metadata": {},
   "outputs": [
    {
     "name": "stdout",
     "output_type": "stream",
     "text": [
      "Collecting xgboost==0.90\n",
      "  Downloading xgboost-0.90-py2.py3-none-manylinux1_x86_64.whl (142.8 MB)\n",
      "\u001b[K     |████████████████████████████████| 142.8 MB 25 kB/s s eta 0:00:01��████████████████████████▌   | 127.4 MB 78.1 MB/s eta 0:00:01\n",
      "\u001b[?25hRequirement already satisfied: scipy in /anaconda/envs/azureml_py36/lib/python3.6/site-packages (from xgboost==0.90) (1.4.1)\n",
      "Requirement already satisfied: numpy in /anaconda/envs/azureml_py36/lib/python3.6/site-packages (from xgboost==0.90) (1.18.5)\n",
      "Installing collected packages: xgboost\n",
      "  Attempting uninstall: xgboost\n",
      "    Found existing installation: xgboost 1.3.3\n",
      "    Uninstalling xgboost-1.3.3:\n",
      "      Successfully uninstalled xgboost-1.3.3\n",
      "Successfully installed xgboost-0.90\n",
      "Note: you may need to restart the kernel to use updated packages.\n"
     ]
    }
   ],
   "source": [
    "pip install xgboost==0.90"
   ]
  },
  {
   "cell_type": "code",
   "execution_count": 2,
   "metadata": {
    "gather": {
     "logged": 1598423888013
    },
    "jupyter": {
     "outputs_hidden": false,
     "source_hidden": false
    },
    "nteract": {
     "transient": {
      "deleting": false
     }
    }
   },
   "outputs": [],
   "source": [
    "import azureml.core\n",
    "from azureml.core import Workspace, Experiment\n",
    "from azureml.core.compute import ComputeTarget, AmlCompute\n",
    "from azureml.core.compute_target import ComputeTargetException\n",
    "from azureml.core import Dataset\n",
    "from azureml.train.automl.utilities import get_primary_metrics\n",
    "from azureml.train.automl import AutoMLConfig\n",
    "from azureml.pipeline.steps import AutoMLStep\n",
    "from azureml.widgets import RunDetails\n",
    "import os\n",
    "import joblib\n",
    "from azureml.core.environment import Environment\n",
    "from azureml.core.model import InferenceConfig, Model\n",
    "from azureml.core.webservice.aci import AciWebservice\n",
    "from azureml.core.webservice import Webservice\n",
    "from azureml.core.model import Model"
   ]
  },
  {
   "cell_type": "markdown",
   "metadata": {},
   "source": [
    "## Dataset\n",
    "\n",
    "### Overview\n",
    "\n",
    "The dataset is taken from kaggle : \"https://www.kaggle.com/arashnic/hr-analytics-job-change-of-data-scientists\".\n",
    "\n",
    "The task is to predict whether the employee will leave the current job or not, based on the following factors-\n",
    "\n",
    "enrollee_id : Unique ID for candidate\n",
    "city: City code\n",
    "city_ development _index : Developement index of the city (scaled)\n",
    "gender: Gender of candidate\n",
    "relevent_experience: Relevant experience of candidate\n",
    "enrolled_university: Type of University course enrolled if any\n",
    "education_level: Education level of candidate\n",
    "major_discipline :Education major discipline of candidate\n",
    "experience: Candidate total experience in years\n",
    "company_size: No of employees in current employer's company\n",
    "company_type : Type of current employer\n",
    "lastnewjob: Difference in years between previous job and current job\n",
    "training_hours: training hours completed\n",
    "target: 0 – Not looking for job change, 1 – Looking for a job change\n",
    "\n"
   ]
  },
  {
   "cell_type": "code",
   "execution_count": 3,
   "metadata": {
    "gather": {
     "logged": 1598423890461
    },
    "jupyter": {
     "outputs_hidden": false,
     "source_hidden": false
    },
    "nteract": {
     "transient": {
      "deleting": false
     }
    }
   },
   "outputs": [
    {
     "name": "stdout",
     "output_type": "stream",
     "text": [
      "Workspace name: quick-starts-ws-141031\n",
      "Azure region: southcentralus\n",
      "Subscription id: 610d6e37-4747-4a20-80eb-3aad70a55f43\n",
      "Resource group: aml-quickstarts-141031\n"
     ]
    }
   ],
   "source": [
    "ws = Workspace.from_config()\n",
    "\n",
    "# choose a name for experiment\n",
    "experiment_name = 'automl-job-change-expt'\n",
    "\n",
    "experiment=Experiment(ws, experiment_name)\n",
    "print('Workspace name: ' + ws.name, \n",
    "      'Azure region: ' + ws.location, \n",
    "      'Subscription id: ' + ws.subscription_id, \n",
    "      'Resource group: ' + ws.resource_group, sep = '\\n')\n",
    "\n",
    "run = experiment.start_logging()"
   ]
  },
  {
   "cell_type": "code",
   "execution_count": 4,
   "metadata": {},
   "outputs": [
    {
     "name": "stdout",
     "output_type": "stream",
     "text": [
      "Found existing cluster! No need to create new!\n"
     ]
    }
   ],
   "source": [
    "compute_cluster_name=\"demo-1-cluster\"\n",
    "try:\n",
    "    Compute_target=ComputeTarget(workspace=ws,name=compute_cluster_name)\n",
    "    print(\"Found existing cluster! No need to create new!\")\n",
    "except ComputeTargetException:\n",
    "    config_of_compute=AmlCompute.provisioning_configuration(vm_size=\"Standard_D2_V2\",max_nodes=4)\n",
    "    Compute_target=ComputeTarget.create(ws,compute_cluster_name,config_of_compute)\n",
    "    Compute_target.wait_for_completion(show_output=True)"
   ]
  },
  {
   "cell_type": "code",
   "execution_count": 5,
   "metadata": {
    "scrolled": true
   },
   "outputs": [
    {
     "data": {
      "text/html": [
       "<div>\n",
       "<style scoped>\n",
       "    .dataframe tbody tr th:only-of-type {\n",
       "        vertical-align: middle;\n",
       "    }\n",
       "\n",
       "    .dataframe tbody tr th {\n",
       "        vertical-align: top;\n",
       "    }\n",
       "\n",
       "    .dataframe thead th {\n",
       "        text-align: right;\n",
       "    }\n",
       "</style>\n",
       "<table border=\"1\" class=\"dataframe\">\n",
       "  <thead>\n",
       "    <tr style=\"text-align: right;\">\n",
       "      <th></th>\n",
       "      <th>enrollee_id</th>\n",
       "      <th>city</th>\n",
       "      <th>city_development_index</th>\n",
       "      <th>gender</th>\n",
       "      <th>relevent_experience</th>\n",
       "      <th>enrolled_university</th>\n",
       "      <th>education_level</th>\n",
       "      <th>major_discipline</th>\n",
       "      <th>experience</th>\n",
       "      <th>company_size</th>\n",
       "      <th>company_type</th>\n",
       "      <th>last_new_job</th>\n",
       "      <th>training_hours</th>\n",
       "      <th>target</th>\n",
       "    </tr>\n",
       "  </thead>\n",
       "  <tbody>\n",
       "    <tr>\n",
       "      <th>0</th>\n",
       "      <td>8949</td>\n",
       "      <td>city_103</td>\n",
       "      <td>0.920</td>\n",
       "      <td>Male</td>\n",
       "      <td>Has relevent experience</td>\n",
       "      <td>no_enrollment</td>\n",
       "      <td>Graduate</td>\n",
       "      <td>STEM</td>\n",
       "      <td>&gt;20</td>\n",
       "      <td>None</td>\n",
       "      <td>None</td>\n",
       "      <td>1</td>\n",
       "      <td>36</td>\n",
       "      <td>1.0</td>\n",
       "    </tr>\n",
       "    <tr>\n",
       "      <th>1</th>\n",
       "      <td>29725</td>\n",
       "      <td>city_40</td>\n",
       "      <td>0.776</td>\n",
       "      <td>Male</td>\n",
       "      <td>No relevent experience</td>\n",
       "      <td>no_enrollment</td>\n",
       "      <td>Graduate</td>\n",
       "      <td>STEM</td>\n",
       "      <td>15</td>\n",
       "      <td>50-99</td>\n",
       "      <td>Pvt Ltd</td>\n",
       "      <td>&gt;4</td>\n",
       "      <td>47</td>\n",
       "      <td>0.0</td>\n",
       "    </tr>\n",
       "    <tr>\n",
       "      <th>2</th>\n",
       "      <td>11561</td>\n",
       "      <td>city_21</td>\n",
       "      <td>0.624</td>\n",
       "      <td>None</td>\n",
       "      <td>No relevent experience</td>\n",
       "      <td>Full time course</td>\n",
       "      <td>Graduate</td>\n",
       "      <td>STEM</td>\n",
       "      <td>5</td>\n",
       "      <td>None</td>\n",
       "      <td>None</td>\n",
       "      <td>never</td>\n",
       "      <td>83</td>\n",
       "      <td>0.0</td>\n",
       "    </tr>\n",
       "    <tr>\n",
       "      <th>3</th>\n",
       "      <td>33241</td>\n",
       "      <td>city_115</td>\n",
       "      <td>0.789</td>\n",
       "      <td>None</td>\n",
       "      <td>No relevent experience</td>\n",
       "      <td>None</td>\n",
       "      <td>Graduate</td>\n",
       "      <td>Business Degree</td>\n",
       "      <td>&lt;1</td>\n",
       "      <td>None</td>\n",
       "      <td>Pvt Ltd</td>\n",
       "      <td>never</td>\n",
       "      <td>52</td>\n",
       "      <td>1.0</td>\n",
       "    </tr>\n",
       "    <tr>\n",
       "      <th>4</th>\n",
       "      <td>666</td>\n",
       "      <td>city_162</td>\n",
       "      <td>0.767</td>\n",
       "      <td>Male</td>\n",
       "      <td>Has relevent experience</td>\n",
       "      <td>no_enrollment</td>\n",
       "      <td>Masters</td>\n",
       "      <td>STEM</td>\n",
       "      <td>&gt;20</td>\n",
       "      <td>50-99</td>\n",
       "      <td>Funded Startup</td>\n",
       "      <td>4</td>\n",
       "      <td>8</td>\n",
       "      <td>0.0</td>\n",
       "    </tr>\n",
       "    <tr>\n",
       "      <th>...</th>\n",
       "      <td>...</td>\n",
       "      <td>...</td>\n",
       "      <td>...</td>\n",
       "      <td>...</td>\n",
       "      <td>...</td>\n",
       "      <td>...</td>\n",
       "      <td>...</td>\n",
       "      <td>...</td>\n",
       "      <td>...</td>\n",
       "      <td>...</td>\n",
       "      <td>...</td>\n",
       "      <td>...</td>\n",
       "      <td>...</td>\n",
       "      <td>...</td>\n",
       "    </tr>\n",
       "    <tr>\n",
       "      <th>19153</th>\n",
       "      <td>7386</td>\n",
       "      <td>city_173</td>\n",
       "      <td>0.878</td>\n",
       "      <td>Male</td>\n",
       "      <td>No relevent experience</td>\n",
       "      <td>no_enrollment</td>\n",
       "      <td>Graduate</td>\n",
       "      <td>Humanities</td>\n",
       "      <td>14</td>\n",
       "      <td>None</td>\n",
       "      <td>None</td>\n",
       "      <td>1</td>\n",
       "      <td>42</td>\n",
       "      <td>1.0</td>\n",
       "    </tr>\n",
       "    <tr>\n",
       "      <th>19154</th>\n",
       "      <td>31398</td>\n",
       "      <td>city_103</td>\n",
       "      <td>0.920</td>\n",
       "      <td>Male</td>\n",
       "      <td>Has relevent experience</td>\n",
       "      <td>no_enrollment</td>\n",
       "      <td>Graduate</td>\n",
       "      <td>STEM</td>\n",
       "      <td>14</td>\n",
       "      <td>None</td>\n",
       "      <td>None</td>\n",
       "      <td>4</td>\n",
       "      <td>52</td>\n",
       "      <td>1.0</td>\n",
       "    </tr>\n",
       "    <tr>\n",
       "      <th>19155</th>\n",
       "      <td>24576</td>\n",
       "      <td>city_103</td>\n",
       "      <td>0.920</td>\n",
       "      <td>Male</td>\n",
       "      <td>Has relevent experience</td>\n",
       "      <td>no_enrollment</td>\n",
       "      <td>Graduate</td>\n",
       "      <td>STEM</td>\n",
       "      <td>&gt;20</td>\n",
       "      <td>50-99</td>\n",
       "      <td>Pvt Ltd</td>\n",
       "      <td>4</td>\n",
       "      <td>44</td>\n",
       "      <td>0.0</td>\n",
       "    </tr>\n",
       "    <tr>\n",
       "      <th>19156</th>\n",
       "      <td>5756</td>\n",
       "      <td>city_65</td>\n",
       "      <td>0.802</td>\n",
       "      <td>Male</td>\n",
       "      <td>Has relevent experience</td>\n",
       "      <td>no_enrollment</td>\n",
       "      <td>High School</td>\n",
       "      <td>None</td>\n",
       "      <td>&lt;1</td>\n",
       "      <td>500-999</td>\n",
       "      <td>Pvt Ltd</td>\n",
       "      <td>2</td>\n",
       "      <td>97</td>\n",
       "      <td>0.0</td>\n",
       "    </tr>\n",
       "    <tr>\n",
       "      <th>19157</th>\n",
       "      <td>23834</td>\n",
       "      <td>city_67</td>\n",
       "      <td>0.855</td>\n",
       "      <td>None</td>\n",
       "      <td>No relevent experience</td>\n",
       "      <td>no_enrollment</td>\n",
       "      <td>Primary School</td>\n",
       "      <td>None</td>\n",
       "      <td>2</td>\n",
       "      <td>None</td>\n",
       "      <td>None</td>\n",
       "      <td>1</td>\n",
       "      <td>127</td>\n",
       "      <td>0.0</td>\n",
       "    </tr>\n",
       "  </tbody>\n",
       "</table>\n",
       "<p>19158 rows × 14 columns</p>\n",
       "</div>"
      ],
      "text/plain": [
       "       enrollee_id      city  city_development_index gender  \\\n",
       "0             8949  city_103                   0.920   Male   \n",
       "1            29725   city_40                   0.776   Male   \n",
       "2            11561   city_21                   0.624   None   \n",
       "3            33241  city_115                   0.789   None   \n",
       "4              666  city_162                   0.767   Male   \n",
       "...            ...       ...                     ...    ...   \n",
       "19153         7386  city_173                   0.878   Male   \n",
       "19154        31398  city_103                   0.920   Male   \n",
       "19155        24576  city_103                   0.920   Male   \n",
       "19156         5756   city_65                   0.802   Male   \n",
       "19157        23834   city_67                   0.855   None   \n",
       "\n",
       "           relevent_experience enrolled_university education_level  \\\n",
       "0      Has relevent experience       no_enrollment        Graduate   \n",
       "1       No relevent experience       no_enrollment        Graduate   \n",
       "2       No relevent experience    Full time course        Graduate   \n",
       "3       No relevent experience                None        Graduate   \n",
       "4      Has relevent experience       no_enrollment         Masters   \n",
       "...                        ...                 ...             ...   \n",
       "19153   No relevent experience       no_enrollment        Graduate   \n",
       "19154  Has relevent experience       no_enrollment        Graduate   \n",
       "19155  Has relevent experience       no_enrollment        Graduate   \n",
       "19156  Has relevent experience       no_enrollment     High School   \n",
       "19157   No relevent experience       no_enrollment  Primary School   \n",
       "\n",
       "      major_discipline experience company_size    company_type last_new_job  \\\n",
       "0                 STEM        >20         None            None            1   \n",
       "1                 STEM         15        50-99         Pvt Ltd           >4   \n",
       "2                 STEM          5         None            None        never   \n",
       "3      Business Degree         <1         None         Pvt Ltd        never   \n",
       "4                 STEM        >20        50-99  Funded Startup            4   \n",
       "...                ...        ...          ...             ...          ...   \n",
       "19153       Humanities         14         None            None            1   \n",
       "19154             STEM         14         None            None            4   \n",
       "19155             STEM        >20        50-99         Pvt Ltd            4   \n",
       "19156             None         <1      500-999         Pvt Ltd            2   \n",
       "19157             None          2         None            None            1   \n",
       "\n",
       "       training_hours  target  \n",
       "0                  36     1.0  \n",
       "1                  47     0.0  \n",
       "2                  83     0.0  \n",
       "3                  52     1.0  \n",
       "4                   8     0.0  \n",
       "...               ...     ...  \n",
       "19153              42     1.0  \n",
       "19154              52     1.0  \n",
       "19155              44     0.0  \n",
       "19156              97     0.0  \n",
       "19157             127     0.0  \n",
       "\n",
       "[19158 rows x 14 columns]"
      ]
     },
     "execution_count": 5,
     "metadata": {},
     "output_type": "execute_result"
    }
   ],
   "source": [
    "dataset = Dataset.get_by_name(ws, name='aug_train')\n",
    "dataset.to_pandas_dataframe()"
   ]
  },
  {
   "cell_type": "code",
   "execution_count": 6,
   "metadata": {},
   "outputs": [],
   "source": [
    "dataset =dataset.drop_columns([\"enrollee_id\",\"city\"])"
   ]
  },
  {
   "cell_type": "markdown",
   "metadata": {},
   "source": [
    "## AutoML Configuration\n",
    "\n"
   ]
  },
  {
   "cell_type": "code",
   "execution_count": 7,
   "metadata": {
    "gather": {
     "logged": 1598429217746
    },
    "jupyter": {
     "outputs_hidden": false,
     "source_hidden": false
    },
    "nteract": {
     "transient": {
      "deleting": false
     }
    }
   },
   "outputs": [],
   "source": [
    "# TODO: Put your automl settings here\n",
    "automl_settings = {\"experiment_timeout_minutes\": 30,\n",
    "    \"task\": \"classification\", \n",
    "    \"primary_metric\": \"accuracy\",\n",
    "    \"training_data\": dataset,\n",
    "    \"label_column_name\": \"target\" }\n",
    "\n",
    "# TODO: Put your automl config here\n",
    "automl_config = AutoMLConfig( n_cross_validations= 6,\n",
    "    enable_early_stopping= True,\n",
    "    compute_target= Compute_target,\n",
    "    max_cores_per_iteration= -1,\n",
    "    max_concurrent_iterations= 4,\n",
    "    featurization= \"auto\",\n",
    "    \n",
    "    **automl_settings)"
   ]
  },
  {
   "cell_type": "code",
   "execution_count": 8,
   "metadata": {
    "gather": {
     "logged": 1598431107951
    },
    "jupyter": {
     "outputs_hidden": false,
     "source_hidden": false
    },
    "nteract": {
     "transient": {
      "deleting": false
     }
    }
   },
   "outputs": [
    {
     "name": "stdout",
     "output_type": "stream",
     "text": [
      "Running on remote.\n",
      "No run_configuration provided, running on demo-1-cluster with default configuration\n",
      "Running on remote compute: demo-1-cluster\n",
      "Parent Run ID: AutoML_4c8b955c-9895-4d84-bbc7-96a12522b18d\n",
      "\n",
      "Current status: FeaturesGeneration. Generating features for the dataset.\n",
      "Current status: DatasetCrossValidationSplit. Generating individually featurized CV splits.\n",
      "Current status: ModelSelection. Beginning model selection.\n",
      "\n",
      "****************************************************************************************************\n",
      "DATA GUARDRAILS: \n",
      "\n",
      "TYPE:         Class balancing detection\n",
      "STATUS:       PASSED\n",
      "DESCRIPTION:  Your inputs were analyzed, and all classes are balanced in your training data.\n",
      "              Learn more about imbalanced data: https://aka.ms/AutomatedMLImbalancedData\n",
      "\n",
      "****************************************************************************************************\n",
      "\n",
      "TYPE:         Missing feature values imputation\n",
      "STATUS:       DONE\n",
      "DESCRIPTION:  If the missing values are expected, let the run complete. Otherwise cancel the current run and use a script to customize the handling of missing feature values that may be more appropriate based on the data type and business requirement.\n",
      "              Learn more about missing value imputation: https://aka.ms/AutomatedMLFeaturization\n",
      "DETAILS:      \n",
      "+---------------------------------+---------------------------------+\n",
      "|Column name                      |Missing value count              |\n",
      "+=================================+=================================+\n",
      "|gender                           |4508                             |\n",
      "|enrolled_university              |386                              |\n",
      "|education_level                  |460                              |\n",
      "|major_discipline                 |2813                             |\n",
      "|experience                       |65                               |\n",
      "|company_size                     |5938                             |\n",
      "|company_type                     |6140                             |\n",
      "|last_new_job                     |423                              |\n",
      "+---------------------------------+---------------------------------+\n",
      "\n",
      "****************************************************************************************************\n",
      "\n",
      "TYPE:         High cardinality feature detection\n",
      "STATUS:       PASSED\n",
      "DESCRIPTION:  Your inputs were analyzed, and no high cardinality features were detected.\n",
      "              Learn more about high cardinality feature handling: https://aka.ms/AutomatedMLFeaturization\n",
      "\n",
      "****************************************************************************************************\n",
      "\n",
      "****************************************************************************************************\n",
      "ITERATION: The iteration being evaluated.\n",
      "PIPELINE: A summary description of the pipeline being evaluated.\n",
      "DURATION: Time taken for the current iteration.\n",
      "METRIC: The result of computing score on the fitted pipeline.\n",
      "BEST: The best observed score thus far.\n",
      "****************************************************************************************************\n",
      "\n",
      " ITERATION   PIPELINE                                       DURATION      METRIC      BEST\n",
      "         3   MaxAbsScaler RandomForest                      0:00:50       0.7632    0.7632\n",
      "         1   MaxAbsScaler XGBoostClassifier                 0:01:03       0.7944    0.7944\n",
      "         0   MaxAbsScaler LightGBM                          0:00:58       0.7939    0.7944\n",
      "         6   SparseNormalizer XGBoostClassifier             0:01:03       0.7798    0.7944\n",
      "         7   SparseNormalizer XGBoostClassifier             0:01:03       0.7790    0.7944\n",
      "         2   MaxAbsScaler RandomForest                      0:03:28       0.7765    0.7944\n",
      "         4   MaxAbsScaler RandomForest                      0:03:23       0.7507    0.7944\n",
      "         5   MaxAbsScaler RandomForest                      0:03:37       0.6998    0.7944\n",
      "         8   StandardScalerWrapper GradientBoosting         0:00:48       0.7650    0.7944\n",
      "         9   MaxAbsScaler LightGBM                          0:00:51       0.7726    0.7944\n",
      "        12   MaxAbsScaler LightGBM                          0:00:55       0.7697    0.7944\n",
      "        10   SparseNormalizer LightGBM                      0:01:24       0.7663    0.7944\n",
      "        11   MaxAbsScaler LogisticRegression                0:01:19       0.7724    0.7944\n",
      "        13   SparseNormalizer XGBoostClassifier             0:00:55       0.7785    0.7944\n",
      "        14   MaxAbsScaler ExtremeRandomTrees                0:01:18       0.7547    0.7944\n",
      "        15   MaxAbsScaler LogisticRegression                0:01:08       0.7745    0.7944\n",
      "        16   SparseNormalizer XGBoostClassifier             0:01:05       0.7810    0.7944\n",
      "        17   SparseNormalizer XGBoostClassifier             0:01:27       0.7790    0.7944\n",
      "        18   SparseNormalizer XGBoostClassifier             0:00:54       0.7584    0.7944\n",
      "        19   StandardScalerWrapper RandomForest             0:00:51       0.7795    0.7944\n",
      "        20   TruncatedSVDWrapper XGBoostClassifier          0:01:02       0.7663    0.7944\n",
      "        21   StandardScalerWrapper ExtremeRandomTrees       0:00:51       0.7543    0.7944\n",
      "        23   SparseNormalizer XGBoostClassifier             0:00:54       0.7784    0.7944\n",
      "        24   StandardScalerWrapper XGBoostClassifier        0:00:47       0.7823    0.7944\n",
      "        22   MaxAbsScaler LightGBM                          0:01:18       0.7945    0.7945\n",
      "        25   TruncatedSVDWrapper XGBoostClassifier          0:01:00       0.7507    0.7945\n",
      "        27   SparseNormalizer ExtremeRandomTrees            0:00:52       0.7507    0.7945\n",
      "        26   SparseNormalizer XGBoostClassifier             0:01:08       0.7782    0.7945\n",
      "        28   StandardScalerWrapper XGBoostClassifier        0:01:02       0.7932    0.7945\n",
      "        29   SparseNormalizer LightGBM                      0:00:54       0.7735    0.7945\n",
      "        30   MaxAbsScaler LightGBM                          0:01:27       0.7607    0.7945\n",
      "        31   StandardScalerWrapper LightGBM                 0:01:17       0.7965    0.7965\n",
      "        32   SparseNormalizer XGBoostClassifier             0:01:00       0.7775    0.7965\n",
      "        33   MaxAbsScaler LightGBM                          0:00:56       0.7523    0.7965\n",
      "        34   StandardScalerWrapper LightGBM                 0:00:50       0.7507    0.7965\n",
      "        35   MaxAbsScaler LightGBM                          0:00:49       0.7507    0.7965\n",
      "        36   SparseNormalizer XGBoostClassifier             0:01:01       0.7817    0.7965\n",
      "        37   StandardScalerWrapper LightGBM                 0:00:50       0.7954    0.7965\n",
      "        39   SparseNormalizer XGBoostClassifier             0:00:56       0.7780    0.7965\n",
      "        40   MaxAbsScaler LightGBM                          0:00:47       0.7507    0.7965\n",
      "        38   MaxAbsScaler ExtremeRandomTrees                0:01:17       0.7507    0.7965\n",
      "        41   StandardScalerWrapper XGBoostClassifier        0:00:50       0.7823    0.7965\n",
      "        42   SparseNormalizer XGBoostClassifier             0:00:59       0.7804    0.7965\n",
      "        45   MaxAbsScaler LightGBM                          0:00:47       0.7940    0.7965\n",
      "        43   StandardScalerWrapper ExtremeRandomTrees       0:01:00       0.7507    0.7965\n",
      "        44   SparseNormalizer XGBoostClassifier             0:01:04          nan    0.7965\n",
      "        46                                                  0:00:17          nan    0.7965\n",
      "        47                                                  0:00:18          nan    0.7965\n",
      "        48    VotingEnsemble                                0:01:40       0.8004    0.8004\n",
      "        49    StackEnsemble                                 0:01:46       0.7960    0.8004\n"
     ]
    }
   ],
   "source": [
    "# TODO: Submit your experiment\n",
    "remote_run = experiment.submit(automl_config, show_output=True)"
   ]
  },
  {
   "cell_type": "markdown",
   "metadata": {},
   "source": [
    "## Run Details\n",
    "\n"
   ]
  },
  {
   "cell_type": "code",
   "execution_count": 9,
   "metadata": {
    "gather": {
     "logged": 1598431121770
    },
    "jupyter": {
     "outputs_hidden": false,
     "source_hidden": false
    },
    "nteract": {
     "transient": {
      "deleting": false
     }
    }
   },
   "outputs": [
    {
     "data": {
      "application/vnd.jupyter.widget-view+json": {
       "model_id": "3849b03d8db848d7bead6ed3f6cb42fb",
       "version_major": 2,
       "version_minor": 0
      },
      "text/plain": [
       "_AutoMLWidget(widget_settings={'childWidgetDisplay': 'popup', 'send_telemetry': False, 'log_level': 'INFO', 's…"
      ]
     },
     "metadata": {},
     "output_type": "display_data"
    },
    {
     "data": {
      "application/aml.mini.widget.v1": "{\"status\": \"Completed\", \"workbench_run_details_uri\": \"https://ml.azure.com/experiments/automl-job-change-expt/runs/AutoML_4c8b955c-9895-4d84-bbc7-96a12522b18d?wsid=/subscriptions/610d6e37-4747-4a20-80eb-3aad70a55f43/resourcegroups/aml-quickstarts-141031/workspaces/quick-starts-ws-141031\", \"run_id\": \"AutoML_4c8b955c-9895-4d84-bbc7-96a12522b18d\", \"run_properties\": {\"run_id\": \"AutoML_4c8b955c-9895-4d84-bbc7-96a12522b18d\", \"created_utc\": \"2021-03-21T12:02:44.71035Z\", \"properties\": {\"num_iterations\": \"1000\", \"training_type\": \"TrainFull\", \"acquisition_function\": \"EI\", \"primary_metric\": \"accuracy\", \"train_split\": \"0\", \"acquisition_parameter\": \"0\", \"num_cross_validation\": \"6\", \"target\": \"demo-1-cluster\", \"AMLSettingsJsonString\": \"{\\\"path\\\":null,\\\"name\\\":\\\"automl-job-change-expt\\\",\\\"subscription_id\\\":\\\"610d6e37-4747-4a20-80eb-3aad70a55f43\\\",\\\"resource_group\\\":\\\"aml-quickstarts-141031\\\",\\\"workspace_name\\\":\\\"quick-starts-ws-141031\\\",\\\"region\\\":\\\"southcentralus\\\",\\\"compute_target\\\":\\\"demo-1-cluster\\\",\\\"spark_service\\\":null,\\\"azure_service\\\":\\\"remote\\\",\\\"many_models\\\":false,\\\"pipeline_fetch_max_batch_size\\\":1,\\\"enable_batch_run\\\":false,\\\"iterations\\\":1000,\\\"primary_metric\\\":\\\"accuracy\\\",\\\"task_type\\\":\\\"classification\\\",\\\"data_script\\\":null,\\\"validation_size\\\":0.0,\\\"n_cross_validations\\\":6,\\\"y_min\\\":null,\\\"y_max\\\":null,\\\"num_classes\\\":null,\\\"featurization\\\":\\\"auto\\\",\\\"_ignore_package_version_incompatibilities\\\":false,\\\"is_timeseries\\\":false,\\\"max_cores_per_iteration\\\":-1,\\\"max_concurrent_iterations\\\":4,\\\"iteration_timeout_minutes\\\":null,\\\"mem_in_mb\\\":null,\\\"enforce_time_on_windows\\\":false,\\\"experiment_timeout_minutes\\\":30,\\\"experiment_exit_score\\\":null,\\\"whitelist_models\\\":null,\\\"blacklist_algos\\\":[\\\"TensorFlowLinearClassifier\\\",\\\"TensorFlowDNN\\\"],\\\"supported_models\\\":[\\\"KNN\\\",\\\"RandomForest\\\",\\\"SGD\\\",\\\"LinearSVM\\\",\\\"ExtremeRandomTrees\\\",\\\"AveragedPerceptronClassifier\\\",\\\"DecisionTree\\\",\\\"SVM\\\",\\\"MultinomialNaiveBayes\\\",\\\"TensorFlowDNN\\\",\\\"LogisticRegression\\\",\\\"TensorFlowLinearClassifier\\\",\\\"XGBoostClassifier\\\",\\\"LightGBM\\\",\\\"BernoulliNaiveBayes\\\",\\\"GradientBoosting\\\"],\\\"private_models\\\":[],\\\"auto_blacklist\\\":true,\\\"blacklist_samples_reached\\\":false,\\\"exclude_nan_labels\\\":true,\\\"verbosity\\\":20,\\\"_debug_log\\\":\\\"azureml_automl.log\\\",\\\"show_warnings\\\":false,\\\"model_explainability\\\":true,\\\"service_url\\\":null,\\\"sdk_url\\\":null,\\\"sdk_packages\\\":null,\\\"enable_onnx_compatible_models\\\":false,\\\"enable_split_onnx_featurizer_estimator_models\\\":false,\\\"vm_type\\\":\\\"STANDARD_D2_V2\\\",\\\"telemetry_verbosity\\\":20,\\\"send_telemetry\\\":true,\\\"enable_dnn\\\":false,\\\"scenario\\\":\\\"SDK-1.13.0\\\",\\\"environment_label\\\":null,\\\"save_mlflow\\\":false,\\\"force_text_dnn\\\":false,\\\"enable_feature_sweeping\\\":true,\\\"enable_early_stopping\\\":true,\\\"early_stopping_n_iters\\\":10,\\\"metrics\\\":null,\\\"enable_metric_confidence\\\":false,\\\"enable_ensembling\\\":true,\\\"enable_stack_ensembling\\\":true,\\\"ensemble_iterations\\\":15,\\\"enable_tf\\\":false,\\\"enable_subsampling\\\":null,\\\"subsample_seed\\\":null,\\\"enable_nimbusml\\\":false,\\\"enable_streaming\\\":false,\\\"force_streaming\\\":false,\\\"track_child_runs\\\":true,\\\"allowed_private_models\\\":[],\\\"label_column_name\\\":\\\"target\\\",\\\"weight_column_name\\\":null,\\\"cv_split_column_names\\\":null,\\\"enable_local_managed\\\":false,\\\"_local_managed_run_id\\\":null,\\\"cost_mode\\\":1,\\\"lag_length\\\":0,\\\"metric_operation\\\":\\\"maximize\\\",\\\"preprocess\\\":true}\", \"DataPrepJsonString\": \"{\\\\\\\"training_data\\\\\\\": \\\\\\\"{\\\\\\\\\\\\\\\"blocks\\\\\\\\\\\\\\\": [{\\\\\\\\\\\\\\\"id\\\\\\\\\\\\\\\": \\\\\\\\\\\\\\\"2c34e0c2-7327-45ef-b8c2-4c40d6343374\\\\\\\\\\\\\\\", \\\\\\\\\\\\\\\"type\\\\\\\\\\\\\\\": \\\\\\\\\\\\\\\"Microsoft.DPrep.GetDatastoreFilesBlock\\\\\\\\\\\\\\\", \\\\\\\\\\\\\\\"arguments\\\\\\\\\\\\\\\": {\\\\\\\\\\\\\\\"datastores\\\\\\\\\\\\\\\": [{\\\\\\\\\\\\\\\"datastoreName\\\\\\\\\\\\\\\": \\\\\\\\\\\\\\\"workspaceblobstore\\\\\\\\\\\\\\\", \\\\\\\\\\\\\\\"path\\\\\\\\\\\\\\\": \\\\\\\\\\\\\\\"UI/03-21-2021_113957_UTC/aug_train.csv\\\\\\\\\\\\\\\", \\\\\\\\\\\\\\\"resourceGroup\\\\\\\\\\\\\\\": \\\\\\\\\\\\\\\"aml-quickstarts-141031\\\\\\\\\\\\\\\", \\\\\\\\\\\\\\\"subscription\\\\\\\\\\\\\\\": \\\\\\\\\\\\\\\"610d6e37-4747-4a20-80eb-3aad70a55f43\\\\\\\\\\\\\\\", \\\\\\\\\\\\\\\"workspaceName\\\\\\\\\\\\\\\": \\\\\\\\\\\\\\\"quick-starts-ws-141031\\\\\\\\\\\\\\\"}]}, \\\\\\\\\\\\\\\"localData\\\\\\\\\\\\\\\": {}, \\\\\\\\\\\\\\\"isEnabled\\\\\\\\\\\\\\\": true, \\\\\\\\\\\\\\\"name\\\\\\\\\\\\\\\": null, \\\\\\\\\\\\\\\"annotation\\\\\\\\\\\\\\\": null}, {\\\\\\\\\\\\\\\"id\\\\\\\\\\\\\\\": \\\\\\\\\\\\\\\"f6bf6bfd-1260-4a19-a58a-18d3148c6995\\\\\\\\\\\\\\\", \\\\\\\\\\\\\\\"type\\\\\\\\\\\\\\\": \\\\\\\\\\\\\\\"Microsoft.DPrep.ParseDelimitedBlock\\\\\\\\\\\\\\\", \\\\\\\\\\\\\\\"arguments\\\\\\\\\\\\\\\": {\\\\\\\\\\\\\\\"columnHeadersMode\\\\\\\\\\\\\\\": 1, \\\\\\\\\\\\\\\"fileEncoding\\\\\\\\\\\\\\\": 0, \\\\\\\\\\\\\\\"handleQuotedLineBreaks\\\\\\\\\\\\\\\": false, \\\\\\\\\\\\\\\"preview\\\\\\\\\\\\\\\": false, \\\\\\\\\\\\\\\"separator\\\\\\\\\\\\\\\": \\\\\\\\\\\\\\\",\\\\\\\\\\\\\\\", \\\\\\\\\\\\\\\"skipRows\\\\\\\\\\\\\\\": 0, \\\\\\\\\\\\\\\"skipRowsMode\\\\\\\\\\\\\\\": 0}, \\\\\\\\\\\\\\\"localData\\\\\\\\\\\\\\\": {}, \\\\\\\\\\\\\\\"isEnabled\\\\\\\\\\\\\\\": true, \\\\\\\\\\\\\\\"name\\\\\\\\\\\\\\\": null, \\\\\\\\\\\\\\\"annotation\\\\\\\\\\\\\\\": null}, {\\\\\\\\\\\\\\\"id\\\\\\\\\\\\\\\": \\\\\\\\\\\\\\\"87f6d012-fce5-43b5-8a5f-76528f4e2869\\\\\\\\\\\\\\\", \\\\\\\\\\\\\\\"type\\\\\\\\\\\\\\\": \\\\\\\\\\\\\\\"Microsoft.DPrep.DropColumnsBlock\\\\\\\\\\\\\\\", \\\\\\\\\\\\\\\"arguments\\\\\\\\\\\\\\\": {\\\\\\\\\\\\\\\"columns\\\\\\\\\\\\\\\": {\\\\\\\\\\\\\\\"type\\\\\\\\\\\\\\\": 0, \\\\\\\\\\\\\\\"details\\\\\\\\\\\\\\\": {\\\\\\\\\\\\\\\"selectedColumns\\\\\\\\\\\\\\\": [\\\\\\\\\\\\\\\"Path\\\\\\\\\\\\\\\"]}}}, \\\\\\\\\\\\\\\"localData\\\\\\\\\\\\\\\": {}, \\\\\\\\\\\\\\\"isEnabled\\\\\\\\\\\\\\\": true, \\\\\\\\\\\\\\\"name\\\\\\\\\\\\\\\": null, \\\\\\\\\\\\\\\"annotation\\\\\\\\\\\\\\\": null}, {\\\\\\\\\\\\\\\"id\\\\\\\\\\\\\\\": \\\\\\\\\\\\\\\"f68eb1f1-54ed-4265-a0eb-26edcbc1cace\\\\\\\\\\\\\\\", \\\\\\\\\\\\\\\"type\\\\\\\\\\\\\\\": \\\\\\\\\\\\\\\"Microsoft.DPrep.SetColumnTypesBlock\\\\\\\\\\\\\\\", \\\\\\\\\\\\\\\"arguments\\\\\\\\\\\\\\\": {\\\\\\\\\\\\\\\"columnConversion\\\\\\\\\\\\\\\": [{\\\\\\\\\\\\\\\"column\\\\\\\\\\\\\\\": {\\\\\\\\\\\\\\\"type\\\\\\\\\\\\\\\": 2, \\\\\\\\\\\\\\\"details\\\\\\\\\\\\\\\": {\\\\\\\\\\\\\\\"selectedColumn\\\\\\\\\\\\\\\": \\\\\\\\\\\\\\\"Path\\\\\\\\\\\\\\\"}}, \\\\\\\\\\\\\\\"typeProperty\\\\\\\\\\\\\\\": 0}, {\\\\\\\\\\\\\\\"column\\\\\\\\\\\\\\\": {\\\\\\\\\\\\\\\"type\\\\\\\\\\\\\\\": 2, \\\\\\\\\\\\\\\"details\\\\\\\\\\\\\\\": {\\\\\\\\\\\\\\\"selectedColumn\\\\\\\\\\\\\\\": \\\\\\\\\\\\\\\"enrollee_id\\\\\\\\\\\\\\\"}}, \\\\\\\\\\\\\\\"typeProperty\\\\\\\\\\\\\\\": 2}, {\\\\\\\\\\\\\\\"column\\\\\\\\\\\\\\\": {\\\\\\\\\\\\\\\"type\\\\\\\\\\\\\\\": 2, \\\\\\\\\\\\\\\"details\\\\\\\\\\\\\\\": {\\\\\\\\\\\\\\\"selectedColumn\\\\\\\\\\\\\\\": \\\\\\\\\\\\\\\"city\\\\\\\\\\\\\\\"}}, \\\\\\\\\\\\\\\"typeProperty\\\\\\\\\\\\\\\": 0}, {\\\\\\\\\\\\\\\"column\\\\\\\\\\\\\\\": {\\\\\\\\\\\\\\\"type\\\\\\\\\\\\\\\": 2, \\\\\\\\\\\\\\\"details\\\\\\\\\\\\\\\": {\\\\\\\\\\\\\\\"selectedColumn\\\\\\\\\\\\\\\": \\\\\\\\\\\\\\\"city_development_index\\\\\\\\\\\\\\\"}}, \\\\\\\\\\\\\\\"typeProperty\\\\\\\\\\\\\\\": 3}, {\\\\\\\\\\\\\\\"column\\\\\\\\\\\\\\\": {\\\\\\\\\\\\\\\"type\\\\\\\\\\\\\\\": 2, \\\\\\\\\\\\\\\"details\\\\\\\\\\\\\\\": {\\\\\\\\\\\\\\\"selectedColumn\\\\\\\\\\\\\\\": \\\\\\\\\\\\\\\"gender\\\\\\\\\\\\\\\"}}, \\\\\\\\\\\\\\\"typeProperty\\\\\\\\\\\\\\\": 0}, {\\\\\\\\\\\\\\\"column\\\\\\\\\\\\\\\": {\\\\\\\\\\\\\\\"type\\\\\\\\\\\\\\\": 2, \\\\\\\\\\\\\\\"details\\\\\\\\\\\\\\\": {\\\\\\\\\\\\\\\"selectedColumn\\\\\\\\\\\\\\\": \\\\\\\\\\\\\\\"relevent_experience\\\\\\\\\\\\\\\"}}, \\\\\\\\\\\\\\\"typeProperty\\\\\\\\\\\\\\\": 0}, {\\\\\\\\\\\\\\\"column\\\\\\\\\\\\\\\": {\\\\\\\\\\\\\\\"type\\\\\\\\\\\\\\\": 2, \\\\\\\\\\\\\\\"details\\\\\\\\\\\\\\\": {\\\\\\\\\\\\\\\"selectedColumn\\\\\\\\\\\\\\\": \\\\\\\\\\\\\\\"enrolled_university\\\\\\\\\\\\\\\"}}, \\\\\\\\\\\\\\\"typeProperty\\\\\\\\\\\\\\\": 0}, {\\\\\\\\\\\\\\\"column\\\\\\\\\\\\\\\": {\\\\\\\\\\\\\\\"type\\\\\\\\\\\\\\\": 2, \\\\\\\\\\\\\\\"details\\\\\\\\\\\\\\\": {\\\\\\\\\\\\\\\"selectedColumn\\\\\\\\\\\\\\\": \\\\\\\\\\\\\\\"education_level\\\\\\\\\\\\\\\"}}, \\\\\\\\\\\\\\\"typeProperty\\\\\\\\\\\\\\\": 0}, {\\\\\\\\\\\\\\\"column\\\\\\\\\\\\\\\": {\\\\\\\\\\\\\\\"type\\\\\\\\\\\\\\\": 2, \\\\\\\\\\\\\\\"details\\\\\\\\\\\\\\\": {\\\\\\\\\\\\\\\"selectedColumn\\\\\\\\\\\\\\\": \\\\\\\\\\\\\\\"major_discipline\\\\\\\\\\\\\\\"}}, \\\\\\\\\\\\\\\"typeProperty\\\\\\\\\\\\\\\": 0}, {\\\\\\\\\\\\\\\"column\\\\\\\\\\\\\\\": {\\\\\\\\\\\\\\\"type\\\\\\\\\\\\\\\": 2, \\\\\\\\\\\\\\\"details\\\\\\\\\\\\\\\": {\\\\\\\\\\\\\\\"selectedColumn\\\\\\\\\\\\\\\": \\\\\\\\\\\\\\\"experience\\\\\\\\\\\\\\\"}}, \\\\\\\\\\\\\\\"typeProperty\\\\\\\\\\\\\\\": 0}, {\\\\\\\\\\\\\\\"column\\\\\\\\\\\\\\\": {\\\\\\\\\\\\\\\"type\\\\\\\\\\\\\\\": 2, \\\\\\\\\\\\\\\"details\\\\\\\\\\\\\\\": {\\\\\\\\\\\\\\\"selectedColumn\\\\\\\\\\\\\\\": \\\\\\\\\\\\\\\"company_size\\\\\\\\\\\\\\\"}}, \\\\\\\\\\\\\\\"typeProperty\\\\\\\\\\\\\\\": 0}, {\\\\\\\\\\\\\\\"column\\\\\\\\\\\\\\\": {\\\\\\\\\\\\\\\"type\\\\\\\\\\\\\\\": 2, \\\\\\\\\\\\\\\"details\\\\\\\\\\\\\\\": {\\\\\\\\\\\\\\\"selectedColumn\\\\\\\\\\\\\\\": \\\\\\\\\\\\\\\"company_type\\\\\\\\\\\\\\\"}}, \\\\\\\\\\\\\\\"typeProperty\\\\\\\\\\\\\\\": 0}, {\\\\\\\\\\\\\\\"column\\\\\\\\\\\\\\\": {\\\\\\\\\\\\\\\"type\\\\\\\\\\\\\\\": 2, \\\\\\\\\\\\\\\"details\\\\\\\\\\\\\\\": {\\\\\\\\\\\\\\\"selectedColumn\\\\\\\\\\\\\\\": \\\\\\\\\\\\\\\"last_new_job\\\\\\\\\\\\\\\"}}, \\\\\\\\\\\\\\\"typeProperty\\\\\\\\\\\\\\\": 0}, {\\\\\\\\\\\\\\\"column\\\\\\\\\\\\\\\": {\\\\\\\\\\\\\\\"type\\\\\\\\\\\\\\\": 2, \\\\\\\\\\\\\\\"details\\\\\\\\\\\\\\\": {\\\\\\\\\\\\\\\"selectedColumn\\\\\\\\\\\\\\\": \\\\\\\\\\\\\\\"training_hours\\\\\\\\\\\\\\\"}}, \\\\\\\\\\\\\\\"typeProperty\\\\\\\\\\\\\\\": 2}, {\\\\\\\\\\\\\\\"column\\\\\\\\\\\\\\\": {\\\\\\\\\\\\\\\"type\\\\\\\\\\\\\\\": 2, \\\\\\\\\\\\\\\"details\\\\\\\\\\\\\\\": {\\\\\\\\\\\\\\\"selectedColumn\\\\\\\\\\\\\\\": \\\\\\\\\\\\\\\"target\\\\\\\\\\\\\\\"}}, \\\\\\\\\\\\\\\"typeProperty\\\\\\\\\\\\\\\": 3}]}, \\\\\\\\\\\\\\\"localData\\\\\\\\\\\\\\\": {}, \\\\\\\\\\\\\\\"isEnabled\\\\\\\\\\\\\\\": true, \\\\\\\\\\\\\\\"name\\\\\\\\\\\\\\\": null, \\\\\\\\\\\\\\\"annotation\\\\\\\\\\\\\\\": null}, {\\\\\\\\\\\\\\\"id\\\\\\\\\\\\\\\": \\\\\\\\\\\\\\\"c0f08ace-dcde-4b48-ba1a-7618425443cd\\\\\\\\\\\\\\\", \\\\\\\\\\\\\\\"type\\\\\\\\\\\\\\\": \\\\\\\\\\\\\\\"Microsoft.DPrep.DropColumnsBlock\\\\\\\\\\\\\\\", \\\\\\\\\\\\\\\"arguments\\\\\\\\\\\\\\\": {\\\\\\\\\\\\\\\"columns\\\\\\\\\\\\\\\": {\\\\\\\\\\\\\\\"type\\\\\\\\\\\\\\\": 0, \\\\\\\\\\\\\\\"details\\\\\\\\\\\\\\\": {\\\\\\\\\\\\\\\"selectedColumns\\\\\\\\\\\\\\\": [\\\\\\\\\\\\\\\"enrollee_id\\\\\\\\\\\\\\\", \\\\\\\\\\\\\\\"city\\\\\\\\\\\\\\\"]}}}, \\\\\\\\\\\\\\\"localData\\\\\\\\\\\\\\\": {}, \\\\\\\\\\\\\\\"isEnabled\\\\\\\\\\\\\\\": true, \\\\\\\\\\\\\\\"name\\\\\\\\\\\\\\\": null, \\\\\\\\\\\\\\\"annotation\\\\\\\\\\\\\\\": null}], \\\\\\\\\\\\\\\"inspectors\\\\\\\\\\\\\\\": [], \\\\\\\\\\\\\\\"meta\\\\\\\\\\\\\\\": {\\\\\\\\\\\\\\\"savedDatasetId\\\\\\\\\\\\\\\": \\\\\\\\\\\\\\\"c99c92b9-14b3-41af-8af4-ea479fc85c5d\\\\\\\\\\\\\\\", \\\\\\\\\\\\\\\"datasetType\\\\\\\\\\\\\\\": \\\\\\\\\\\\\\\"tabular\\\\\\\\\\\\\\\", \\\\\\\\\\\\\\\"subscriptionId\\\\\\\\\\\\\\\": \\\\\\\\\\\\\\\"610d6e37-4747-4a20-80eb-3aad70a55f43\\\\\\\\\\\\\\\", \\\\\\\\\\\\\\\"workspaceId\\\\\\\\\\\\\\\": \\\\\\\\\\\\\\\"2f58ce15-0d8a-491a-b594-11f1331eea5e\\\\\\\\\\\\\\\", \\\\\\\\\\\\\\\"workspaceLocation\\\\\\\\\\\\\\\": \\\\\\\\\\\\\\\"southcentralus\\\\\\\\\\\\\\\", \\\\\\\\\\\\\\\"partition_keys\\\\\\\\\\\\\\\": \\\\\\\\\\\\\\\"true\\\\\\\\\\\\\\\"}}\\\\\\\", \\\\\\\"activities\\\\\\\": 0}\", \"EnableSubsampling\": null, \"runTemplate\": \"AutoML\", \"azureml.runsource\": \"automl\", \"display_task_type\": \"classification\", \"dependencies_versions\": \"{\\\"azureml-widgets\\\": \\\"1.24.0\\\", \\\"azureml-train\\\": \\\"1.24.0\\\", \\\"azureml-train-restclients-hyperdrive\\\": \\\"1.24.0\\\", \\\"azureml-train-core\\\": \\\"1.24.0\\\", \\\"azureml-train-automl\\\": \\\"1.24.0\\\", \\\"azureml-train-automl-runtime\\\": \\\"1.24.0\\\", \\\"azureml-train-automl-client\\\": \\\"1.24.0\\\", \\\"azureml-tensorboard\\\": \\\"1.24.0\\\", \\\"azureml-telemetry\\\": \\\"1.24.0\\\", \\\"azureml-sdk\\\": \\\"1.24.0\\\", \\\"azureml-samples\\\": \\\"0+unknown\\\", \\\"azureml-pipeline\\\": \\\"1.24.0\\\", \\\"azureml-pipeline-steps\\\": \\\"1.24.0\\\", \\\"azureml-pipeline-core\\\": \\\"1.24.0\\\", \\\"azureml-opendatasets\\\": \\\"1.24.0\\\", \\\"azureml-model-management-sdk\\\": \\\"1.0.1b6.post1\\\", \\\"azureml-mlflow\\\": \\\"1.24.0\\\", \\\"azureml-interpret\\\": \\\"1.24.0\\\", \\\"azureml-explain-model\\\": \\\"1.24.0\\\", \\\"azureml-defaults\\\": \\\"1.24.0\\\", \\\"azureml-dataset-runtime\\\": \\\"1.24.0\\\", \\\"azureml-dataprep\\\": \\\"2.11.1\\\", \\\"azureml-dataprep-rslex\\\": \\\"1.9.0\\\", \\\"azureml-dataprep-native\\\": \\\"30.0.0\\\", \\\"azureml-datadrift\\\": \\\"1.24.0\\\", \\\"azureml-core\\\": \\\"1.24.0\\\", \\\"azureml-contrib-services\\\": \\\"1.24.0\\\", \\\"azureml-contrib-server\\\": \\\"1.24.0\\\", \\\"azureml-contrib-reinforcementlearning\\\": \\\"1.24.0\\\", \\\"azureml-contrib-pipeline-steps\\\": \\\"1.24.0\\\", \\\"azureml-contrib-notebook\\\": \\\"1.24.0\\\", \\\"azureml-contrib-gbdt\\\": \\\"1.24.0\\\", \\\"azureml-contrib-fairness\\\": \\\"1.24.0\\\", \\\"azureml-contrib-dataset\\\": \\\"1.24.0\\\", \\\"azureml-cli-common\\\": \\\"1.24.0\\\", \\\"azureml-automl-runtime\\\": \\\"1.24.0\\\", \\\"azureml-automl-dnn-nlp\\\": \\\"1.24.0\\\", \\\"azureml-automl-core\\\": \\\"1.24.0\\\", \\\"azureml-accel-models\\\": \\\"1.24.0\\\"}\", \"_aml_system_scenario_identification\": \"Remote.Parent\", \"ClientType\": \"SDK\", \"environment_cpu_name\": \"AzureML-AutoML\", \"environment_cpu_label\": \"prod\", \"environment_gpu_name\": \"AzureML-AutoML-GPU\", \"environment_gpu_label\": \"prod\", \"root_attribution\": \"automl\", \"attribution\": \"AutoML\", \"Orchestrator\": \"AutoML\", \"CancelUri\": \"https://southcentralus.experiments.azureml.net/jasmine/v1.0/subscriptions/610d6e37-4747-4a20-80eb-3aad70a55f43/resourceGroups/aml-quickstarts-141031/providers/Microsoft.MachineLearningServices/workspaces/quick-starts-ws-141031/experimentids/35738bf7-994c-4abb-9d37-108158899477/cancel/AutoML_4c8b955c-9895-4d84-bbc7-96a12522b18d\", \"ClientSdkVersion\": \"1.24.0\", \"snapshotId\": \"00000000-0000-0000-0000-000000000000\", \"SetupRunId\": \"AutoML_4c8b955c-9895-4d84-bbc7-96a12522b18d_setup\", \"SetupRunContainerId\": \"dcid.AutoML_4c8b955c-9895-4d84-bbc7-96a12522b18d_setup\", \"FeaturizationRunJsonPath\": \"featurizer_container.json\", \"FeaturizationRunId\": \"AutoML_4c8b955c-9895-4d84-bbc7-96a12522b18d_featurize\", \"ProblemInfoJsonString\": \"{\\\"dataset_num_categorical\\\": 0, \\\"is_sparse\\\": true, \\\"subsampling\\\": false, \\\"dataset_classes\\\": 2, \\\"dataset_features\\\": 78, \\\"dataset_samples\\\": 19158, \\\"single_frequency_class_detected\\\": false}\", \"ModelExplainRunId\": \"AutoML_4c8b955c-9895-4d84-bbc7-96a12522b18d_ModelExplain\"}, \"tags\": {\"model_explain_run\": \"best_run\", \"_aml_system_azureml.automlComponent\": \"AutoML\", \"pipeline_id\": \"\", \"score\": \"\", \"predicted_cost\": \"\", \"fit_time\": \"\", \"training_percent\": \"\", \"iteration\": \"\", \"run_preprocessor\": \"\", \"run_algorithm\": \"\", \"dynamic_whitelisting_iterations\": \"<25>;<30>;<35>;<40>;<45>;\", \"automl_best_child_run_id\": \"AutoML_4c8b955c-9895-4d84-bbc7-96a12522b18d_48\", \"model_explain_best_run_child_id\": \"AutoML_4c8b955c-9895-4d84-bbc7-96a12522b18d_48\"}, \"end_time_utc\": \"2021-03-21T12:34:21.700401Z\", \"status\": \"Completed\", \"log_files\": {}, \"log_groups\": [], \"run_duration\": \"0:31:36\", \"run_number\": \"2\", \"run_queued_details\": {\"status\": \"Completed\", \"details\": null}}, \"child_runs\": [{\"run_id\": \"AutoML_4c8b955c-9895-4d84-bbc7-96a12522b18d_0\", \"run_number\": 6, \"metric\": null, \"status\": \"Completed\", \"run_type\": \"azureml.scriptrun\", \"training_percent\": \"100\", \"start_time\": \"2021-03-21T12:15:36.247362Z\", \"end_time\": \"2021-03-21T12:16:33.849825Z\", \"created_time\": \"2021-03-21T12:13:01.281608Z\", \"created_time_dt\": \"2021-03-21T12:13:01.281608Z\", \"duration\": \"0:03:32\", \"iteration\": \"0\", \"goal\": \"accuracy_max\", \"run_name\": \"MaxAbsScaler, LightGBM\", \"run_properties\": \"copy=True\", \"primary_metric\": 0.79387201, \"best_metric\": 0.79387201}, {\"run_id\": \"AutoML_4c8b955c-9895-4d84-bbc7-96a12522b18d_3\", \"run_number\": 7, \"metric\": null, \"status\": \"Completed\", \"run_type\": \"azureml.scriptrun\", \"training_percent\": \"100\", \"start_time\": \"2021-03-21T12:13:13.916152Z\", \"end_time\": \"2021-03-21T12:14:03.477408Z\", \"created_time\": \"2021-03-21T12:13:01.36823Z\", \"created_time_dt\": \"2021-03-21T12:13:01.36823Z\", \"duration\": \"0:01:02\", \"iteration\": \"3\", \"goal\": \"accuracy_max\", \"run_name\": \"MaxAbsScaler, RandomForest\", \"run_properties\": \"copy=True\", \"primary_metric\": 0.76317987, \"best_metric\": 0.79439399}, {\"run_id\": \"AutoML_4c8b955c-9895-4d84-bbc7-96a12522b18d_2\", \"run_number\": 8, \"metric\": null, \"status\": \"Completed\", \"run_type\": \"azureml.scriptrun\", \"training_percent\": \"100\", \"start_time\": \"2021-03-21T12:16:30.279697Z\", \"end_time\": \"2021-03-21T12:19:58.028365Z\", \"created_time\": \"2021-03-21T12:13:01.391502Z\", \"created_time_dt\": \"2021-03-21T12:13:01.391502Z\", \"duration\": \"0:06:56\", \"iteration\": \"2\", \"goal\": \"accuracy_max\", \"run_name\": \"MaxAbsScaler, RandomForest\", \"run_properties\": \"copy=True\", \"primary_metric\": 0.77649024, \"best_metric\": 0.79439399}, {\"run_id\": \"AutoML_4c8b955c-9895-4d84-bbc7-96a12522b18d_1\", \"run_number\": 9, \"metric\": null, \"status\": \"Completed\", \"run_type\": \"azureml.scriptrun\", \"training_percent\": \"100\", \"start_time\": \"2021-03-21T12:14:20.484263Z\", \"end_time\": \"2021-03-21T12:15:23.283072Z\", \"created_time\": \"2021-03-21T12:13:01.406626Z\", \"created_time_dt\": \"2021-03-21T12:13:01.406626Z\", \"duration\": \"0:02:21\", \"iteration\": \"1\", \"goal\": \"accuracy_max\", \"run_name\": \"MaxAbsScaler, XGBoostClassifier\", \"run_properties\": \"copy=True\", \"primary_metric\": 0.79439399, \"best_metric\": 0.79439399}, {\"run_id\": \"AutoML_4c8b955c-9895-4d84-bbc7-96a12522b18d_4\", \"run_number\": 10, \"metric\": null, \"status\": \"Completed\", \"run_type\": \"azureml.scriptrun\", \"training_percent\": \"100\", \"start_time\": \"2021-03-21T12:16:30.662367Z\", \"end_time\": \"2021-03-21T12:19:53.931249Z\", \"created_time\": \"2021-03-21T12:14:07.408627Z\", \"created_time_dt\": \"2021-03-21T12:14:07.408627Z\", \"duration\": \"0:05:46\", \"iteration\": \"4\", \"goal\": \"accuracy_max\", \"run_name\": \"MaxAbsScaler, RandomForest\", \"run_properties\": \"copy=True\", \"primary_metric\": 0.75065247, \"best_metric\": 0.79439399}, {\"run_id\": \"AutoML_4c8b955c-9895-4d84-bbc7-96a12522b18d_5\", \"run_number\": 11, \"metric\": null, \"status\": \"Completed\", \"run_type\": \"azureml.scriptrun\", \"training_percent\": \"100\", \"start_time\": \"2021-03-21T12:16:34.350978Z\", \"end_time\": \"2021-03-21T12:20:11.437559Z\", \"created_time\": \"2021-03-21T12:15:27.265068Z\", \"created_time_dt\": \"2021-03-21T12:15:27.265068Z\", \"duration\": \"0:04:44\", \"iteration\": \"5\", \"goal\": \"accuracy_max\", \"run_name\": \"MaxAbsScaler, RandomForest\", \"run_properties\": \"copy=True\", \"primary_metric\": 0.69975989, \"best_metric\": 0.79439399}, {\"run_id\": \"AutoML_4c8b955c-9895-4d84-bbc7-96a12522b18d_6\", \"run_number\": 12, \"metric\": null, \"status\": \"Completed\", \"run_type\": \"azureml.scriptrun\", \"training_percent\": \"100\", \"start_time\": \"2021-03-21T12:16:47.938944Z\", \"end_time\": \"2021-03-21T12:17:50.830811Z\", \"created_time\": \"2021-03-21T12:16:37.785434Z\", \"created_time_dt\": \"2021-03-21T12:16:37.785434Z\", \"duration\": \"0:01:13\", \"iteration\": \"6\", \"goal\": \"accuracy_max\", \"run_name\": \"SparseNormalizer, XGBoostClassifier\", \"run_properties\": \"<azureml.automl.runtime.shared.model_wrappers.SparseNormalizer object at 0x7fbc0d72d390\", \"primary_metric\": 0.77977868, \"best_metric\": 0.79439399}, {\"run_id\": \"AutoML_4c8b955c-9895-4d84-bbc7-96a12522b18d_7\", \"run_number\": 13, \"metric\": null, \"status\": \"Completed\", \"run_type\": \"azureml.scriptrun\", \"training_percent\": \"100\", \"start_time\": \"2021-03-21T12:18:06.791525Z\", \"end_time\": \"2021-03-21T12:19:09.676152Z\", \"created_time\": \"2021-03-21T12:17:54.153407Z\", \"created_time_dt\": \"2021-03-21T12:17:54.153407Z\", \"duration\": \"0:01:15\", \"iteration\": \"7\", \"goal\": \"accuracy_max\", \"run_name\": \"SparseNormalizer, XGBoostClassifier\", \"run_properties\": \"<azureml.automl.runtime.shared.model_wrappers.SparseNormalizer object at 0x7f80fc19b518\", \"primary_metric\": 0.77899572, \"best_metric\": 0.79439399}, {\"run_id\": \"AutoML_4c8b955c-9895-4d84-bbc7-96a12522b18d_8\", \"run_number\": 14, \"metric\": null, \"status\": \"Completed\", \"run_type\": \"azureml.scriptrun\", \"training_percent\": \"100\", \"start_time\": \"2021-03-21T12:19:26.144886Z\", \"end_time\": \"2021-03-21T12:20:13.644893Z\", \"created_time\": \"2021-03-21T12:19:14.538017Z\", \"created_time_dt\": \"2021-03-21T12:19:14.538017Z\", \"duration\": \"0:00:59\", \"iteration\": \"8\", \"goal\": \"accuracy_max\", \"run_name\": \"StandardScalerWrapper, GradientBoosting\", \"run_properties\": \"<azureml.automl.runtime.shared.model_wrappers.StandardScalerWrapper object at 0x7f9f810ab240\", \"primary_metric\": 0.76500679, \"best_metric\": 0.79439399}, {\"run_id\": \"AutoML_4c8b955c-9895-4d84-bbc7-96a12522b18d_9\", \"run_number\": 15, \"metric\": null, \"status\": \"Completed\", \"run_type\": \"azureml.scriptrun\", \"training_percent\": \"100\", \"start_time\": \"2021-03-21T12:20:07.608761Z\", \"end_time\": \"2021-03-21T12:20:58.370081Z\", \"created_time\": \"2021-03-21T12:19:56.600353Z\", \"created_time_dt\": \"2021-03-21T12:19:56.600353Z\", \"duration\": \"0:01:01\", \"iteration\": \"9\", \"goal\": \"accuracy_max\", \"run_name\": \"MaxAbsScaler, LightGBM\", \"run_properties\": \"copy=True\", \"primary_metric\": 0.77257543, \"best_metric\": 0.79439399}, {\"run_id\": \"AutoML_4c8b955c-9895-4d84-bbc7-96a12522b18d_10\", \"run_number\": 16, \"metric\": null, \"status\": \"Completed\", \"run_type\": \"azureml.scriptrun\", \"training_percent\": \"100\", \"start_time\": \"2021-03-21T12:20:09.891849Z\", \"end_time\": \"2021-03-21T12:21:33.554507Z\", \"created_time\": \"2021-03-21T12:20:01.606147Z\", \"created_time_dt\": \"2021-03-21T12:20:01.606147Z\", \"duration\": \"0:01:31\", \"iteration\": \"10\", \"goal\": \"accuracy_max\", \"run_name\": \"SparseNormalizer, LightGBM\", \"run_properties\": \"<azureml.automl.runtime.shared.model_wrappers.SparseNormalizer object at 0x7f9db27a2978\", \"primary_metric\": 0.76625953, \"best_metric\": 0.79439399}, {\"run_id\": \"AutoML_4c8b955c-9895-4d84-bbc7-96a12522b18d_11\", \"run_number\": 17, \"metric\": null, \"status\": \"Completed\", \"run_type\": \"azureml.scriptrun\", \"training_percent\": \"100\", \"start_time\": \"2021-03-21T12:20:22.081716Z\", \"end_time\": \"2021-03-21T12:21:40.789524Z\", \"created_time\": \"2021-03-21T12:20:13.67845Z\", \"created_time_dt\": \"2021-03-21T12:20:13.67845Z\", \"duration\": \"0:01:27\", \"iteration\": \"11\", \"goal\": \"accuracy_max\", \"run_name\": \"MaxAbsScaler, LogisticRegression\", \"run_properties\": \"copy=True\", \"primary_metric\": 0.77241883, \"best_metric\": 0.79439399}, {\"run_id\": \"AutoML_4c8b955c-9895-4d84-bbc7-96a12522b18d_12\", \"run_number\": 18, \"metric\": null, \"status\": \"Completed\", \"run_type\": \"azureml.scriptrun\", \"training_percent\": \"100\", \"start_time\": \"2021-03-21T12:20:30.86941Z\", \"end_time\": \"2021-03-21T12:21:25.517269Z\", \"created_time\": \"2021-03-21T12:20:17.91449Z\", \"created_time_dt\": \"2021-03-21T12:20:17.91449Z\", \"duration\": \"0:01:07\", \"iteration\": \"12\", \"goal\": \"accuracy_max\", \"run_name\": \"MaxAbsScaler, LightGBM\", \"run_properties\": \"copy=True\", \"primary_metric\": 0.76965236, \"best_metric\": 0.79439399}, {\"run_id\": \"AutoML_4c8b955c-9895-4d84-bbc7-96a12522b18d_13\", \"run_number\": 19, \"metric\": null, \"status\": \"Completed\", \"run_type\": \"azureml.scriptrun\", \"training_percent\": \"100\", \"start_time\": \"2021-03-21T12:21:15.974814Z\", \"end_time\": \"2021-03-21T12:22:10.535253Z\", \"created_time\": \"2021-03-21T12:21:00.837793Z\", \"created_time_dt\": \"2021-03-21T12:21:00.837793Z\", \"duration\": \"0:01:09\", \"iteration\": \"13\", \"goal\": \"accuracy_max\", \"run_name\": \"SparseNormalizer, XGBoostClassifier\", \"run_properties\": \"<azureml.automl.runtime.shared.model_wrappers.SparseNormalizer object at 0x7f48499e9940\", \"primary_metric\": 0.77847374, \"best_metric\": 0.79439399}, {\"run_id\": \"AutoML_4c8b955c-9895-4d84-bbc7-96a12522b18d_14\", \"run_number\": 20, \"metric\": null, \"status\": \"Completed\", \"run_type\": \"azureml.scriptrun\", \"training_percent\": \"100\", \"start_time\": \"2021-03-21T12:21:42.893977Z\", \"end_time\": \"2021-03-21T12:23:01.161602Z\", \"created_time\": \"2021-03-21T12:21:28.623502Z\", \"created_time_dt\": \"2021-03-21T12:21:28.623502Z\", \"duration\": \"0:01:32\", \"iteration\": \"14\", \"goal\": \"accuracy_max\", \"run_name\": \"MaxAbsScaler, ExtremeRandomTrees\", \"run_properties\": \"copy=True\", \"primary_metric\": 0.75472388, \"best_metric\": 0.79439399}, {\"run_id\": \"AutoML_4c8b955c-9895-4d84-bbc7-96a12522b18d_15\", \"run_number\": 21, \"metric\": null, \"status\": \"Completed\", \"run_type\": \"azureml.scriptrun\", \"training_percent\": \"100\", \"start_time\": \"2021-03-21T12:21:48.514158Z\", \"end_time\": \"2021-03-21T12:22:56.47798Z\", \"created_time\": \"2021-03-21T12:21:35.720104Z\", \"created_time_dt\": \"2021-03-21T12:21:35.720104Z\", \"duration\": \"0:01:20\", \"iteration\": \"15\", \"goal\": \"accuracy_max\", \"run_name\": \"MaxAbsScaler, LogisticRegression\", \"run_properties\": \"copy=True\", \"primary_metric\": 0.77445454, \"best_metric\": 0.79439399}, {\"run_id\": \"AutoML_4c8b955c-9895-4d84-bbc7-96a12522b18d_16\", \"run_number\": 22, \"metric\": null, \"status\": \"Completed\", \"run_type\": \"azureml.scriptrun\", \"training_percent\": \"100\", \"start_time\": \"2021-03-21T12:21:57.05866Z\", \"end_time\": \"2021-03-21T12:23:01.598554Z\", \"created_time\": \"2021-03-21T12:21:42.875675Z\", \"created_time_dt\": \"2021-03-21T12:21:42.875675Z\", \"duration\": \"0:01:18\", \"iteration\": \"16\", \"goal\": \"accuracy_max\", \"run_name\": \"SparseNormalizer, XGBoostClassifier\", \"run_properties\": \"<azureml.automl.runtime.shared.model_wrappers.SparseNormalizer object at 0x7f90eacaddd8\", \"primary_metric\": 0.78097923, \"best_metric\": 0.79439399}, {\"run_id\": \"AutoML_4c8b955c-9895-4d84-bbc7-96a12522b18d_17\", \"run_number\": 23, \"metric\": null, \"status\": \"Completed\", \"run_type\": \"azureml.scriptrun\", \"training_percent\": \"100\", \"start_time\": \"2021-03-21T12:22:25.726043Z\", \"end_time\": \"2021-03-21T12:23:52.441832Z\", \"created_time\": \"2021-03-21T12:22:13.412582Z\", \"created_time_dt\": \"2021-03-21T12:22:13.412582Z\", \"duration\": \"0:01:39\", \"iteration\": \"17\", \"goal\": \"accuracy_max\", \"run_name\": \"SparseNormalizer, XGBoostClassifier\", \"run_properties\": \"<azureml.automl.runtime.shared.model_wrappers.SparseNormalizer object at 0x7f3b78e99320\", \"primary_metric\": 0.77899572, \"best_metric\": 0.79439399}, {\"run_id\": \"AutoML_4c8b955c-9895-4d84-bbc7-96a12522b18d_18\", \"run_number\": 24, \"metric\": null, \"status\": \"Completed\", \"run_type\": \"azureml.scriptrun\", \"training_percent\": \"100\", \"start_time\": \"2021-03-21T12:23:10.795383Z\", \"end_time\": \"2021-03-21T12:24:04.317904Z\", \"created_time\": \"2021-03-21T12:23:00.19946Z\", \"created_time_dt\": \"2021-03-21T12:23:00.19946Z\", \"duration\": \"0:01:04\", \"iteration\": \"18\", \"goal\": \"accuracy_max\", \"run_name\": \"SparseNormalizer, XGBoostClassifier\", \"run_properties\": \"<azureml.automl.runtime.shared.model_wrappers.SparseNormalizer object at 0x7fdba82e1898\", \"primary_metric\": 0.7584299, \"best_metric\": 0.79439399}, {\"run_id\": \"AutoML_4c8b955c-9895-4d84-bbc7-96a12522b18d_19\", \"run_number\": 25, \"metric\": null, \"status\": \"Completed\", \"run_type\": \"azureml.scriptrun\", \"training_percent\": \"100\", \"start_time\": \"2021-03-21T12:23:19.623543Z\", \"end_time\": \"2021-03-21T12:24:11.041925Z\", \"created_time\": \"2021-03-21T12:23:06.35511Z\", \"created_time_dt\": \"2021-03-21T12:23:06.35511Z\", \"duration\": \"0:01:04\", \"iteration\": \"19\", \"goal\": \"accuracy_max\", \"run_name\": \"StandardScalerWrapper, RandomForest\", \"run_properties\": \"<azureml.automl.runtime.shared.model_wrappers.StandardScalerWrapper object at 0x7f50a88507f0\", \"primary_metric\": 0.77951769, \"best_metric\": 0.79439399}, {\"run_id\": \"AutoML_4c8b955c-9895-4d84-bbc7-96a12522b18d_20\", \"run_number\": 26, \"metric\": null, \"status\": \"Completed\", \"run_type\": \"azureml.scriptrun\", \"training_percent\": \"100\", \"start_time\": \"2021-03-21T12:23:15.044569Z\", \"end_time\": \"2021-03-21T12:24:17.243133Z\", \"created_time\": \"2021-03-21T12:23:06.530142Z\", \"created_time_dt\": \"2021-03-21T12:23:06.530142Z\", \"duration\": \"0:01:10\", \"iteration\": \"20\", \"goal\": \"accuracy_max\", \"run_name\": \"TruncatedSVDWrapper, XGBoostClassifier\", \"run_properties\": \"n_components=0.95, random_state=None\", \"primary_metric\": 0.76625953, \"best_metric\": 0.79439399}, {\"run_id\": \"AutoML_4c8b955c-9895-4d84-bbc7-96a12522b18d_21\", \"run_number\": 27, \"metric\": null, \"status\": \"Completed\", \"run_type\": \"azureml.scriptrun\", \"training_percent\": \"100\", \"start_time\": \"2021-03-21T12:24:07.527004Z\", \"end_time\": \"2021-03-21T12:24:58.980277Z\", \"created_time\": \"2021-03-21T12:23:54.441788Z\", \"created_time_dt\": \"2021-03-21T12:23:54.441788Z\", \"duration\": \"0:01:04\", \"iteration\": \"21\", \"goal\": \"accuracy_max\", \"run_name\": \"StandardScalerWrapper, ExtremeRandomTrees\", \"run_properties\": \"<azureml.automl.runtime.shared.model_wrappers.StandardScalerWrapper object at 0x7fc6bd4f5dd8\", \"primary_metric\": 0.7542541, \"best_metric\": 0.79439399}, {\"run_id\": \"AutoML_4c8b955c-9895-4d84-bbc7-96a12522b18d_22\", \"run_number\": 28, \"metric\": null, \"status\": \"Completed\", \"run_type\": \"azureml.scriptrun\", \"training_percent\": \"100\", \"start_time\": \"2021-03-21T12:24:21.341696Z\", \"end_time\": \"2021-03-21T12:25:39.346171Z\", \"created_time\": \"2021-03-21T12:24:06.756096Z\", \"created_time_dt\": \"2021-03-21T12:24:06.756096Z\", \"duration\": \"0:01:32\", \"iteration\": \"22\", \"goal\": \"accuracy_max\", \"run_name\": \"MaxAbsScaler, LightGBM\", \"run_properties\": \"copy=True\", \"primary_metric\": 0.79449838, \"best_metric\": 0.79449838}, {\"run_id\": \"AutoML_4c8b955c-9895-4d84-bbc7-96a12522b18d_23\", \"run_number\": 29, \"metric\": null, \"status\": \"Completed\", \"run_type\": \"azureml.scriptrun\", \"training_percent\": \"100\", \"start_time\": \"2021-03-21T12:24:27.092149Z\", \"end_time\": \"2021-03-21T12:25:21.534706Z\", \"created_time\": \"2021-03-21T12:24:13.120155Z\", \"created_time_dt\": \"2021-03-21T12:24:13.120155Z\", \"duration\": \"0:01:08\", \"iteration\": \"23\", \"goal\": \"accuracy_max\", \"run_name\": \"SparseNormalizer, XGBoostClassifier\", \"run_properties\": \"<azureml.automl.runtime.shared.model_wrappers.SparseNormalizer object at 0x7f6ab76db358\", \"primary_metric\": 0.77842155, \"best_metric\": 0.79449838}, {\"run_id\": \"AutoML_4c8b955c-9895-4d84-bbc7-96a12522b18d_24\", \"run_number\": 30, \"metric\": null, \"status\": \"Completed\", \"run_type\": \"azureml.scriptrun\", \"training_percent\": \"100\", \"start_time\": \"2021-03-21T12:24:33.569108Z\", \"end_time\": \"2021-03-21T12:25:20.472619Z\", \"created_time\": \"2021-03-21T12:24:19.358586Z\", \"created_time_dt\": \"2021-03-21T12:24:19.358586Z\", \"duration\": \"0:01:01\", \"iteration\": \"24\", \"goal\": \"accuracy_max\", \"run_name\": \"StandardScalerWrapper, XGBoostClassifier\", \"run_properties\": \"<azureml.automl.runtime.shared.model_wrappers.StandardScalerWrapper object at 0x7f81ea4c0c88\", \"primary_metric\": 0.78233636, \"best_metric\": 0.79449838}, {\"run_id\": \"AutoML_4c8b955c-9895-4d84-bbc7-96a12522b18d_25\", \"run_number\": 31, \"metric\": null, \"status\": \"Completed\", \"run_type\": \"azureml.scriptrun\", \"training_percent\": \"100\", \"start_time\": \"2021-03-21T12:25:14.661031Z\", \"end_time\": \"2021-03-21T12:26:14.460906Z\", \"created_time\": \"2021-03-21T12:25:02.444342Z\", \"created_time_dt\": \"2021-03-21T12:25:02.444342Z\", \"duration\": \"0:01:12\", \"iteration\": \"25\", \"goal\": \"accuracy_max\", \"run_name\": \"TruncatedSVDWrapper, XGBoostClassifier\", \"run_properties\": \"n_components=0.2573684210526316, random_state=None\", \"primary_metric\": 0.75065247, \"best_metric\": 0.79449838}, {\"run_id\": \"AutoML_4c8b955c-9895-4d84-bbc7-96a12522b18d_26\", \"run_number\": 32, \"metric\": null, \"status\": \"Completed\", \"run_type\": \"azureml.scriptrun\", \"training_percent\": \"100\", \"start_time\": \"2021-03-21T12:25:37.244203Z\", \"end_time\": \"2021-03-21T12:26:45.366713Z\", \"created_time\": \"2021-03-21T12:25:23.026593Z\", \"created_time_dt\": \"2021-03-21T12:25:23.026593Z\", \"duration\": \"0:01:22\", \"iteration\": \"26\", \"goal\": \"accuracy_max\", \"run_name\": \"SparseNormalizer, XGBoostClassifier\", \"run_properties\": \"<azureml.automl.runtime.shared.model_wrappers.SparseNormalizer object at 0x7fcc36619860\", \"primary_metric\": 0.77821276, \"best_metric\": 0.79449838}, {\"run_id\": \"AutoML_4c8b955c-9895-4d84-bbc7-96a12522b18d_27\", \"run_number\": 33, \"metric\": null, \"status\": \"Completed\", \"run_type\": \"azureml.scriptrun\", \"training_percent\": \"100\", \"start_time\": \"2021-03-21T12:25:37.031284Z\", \"end_time\": \"2021-03-21T12:26:29.186477Z\", \"created_time\": \"2021-03-21T12:25:27.727843Z\", \"created_time_dt\": \"2021-03-21T12:25:27.727843Z\", \"duration\": \"0:01:01\", \"iteration\": \"27\", \"goal\": \"accuracy_max\", \"run_name\": \"SparseNormalizer, ExtremeRandomTrees\", \"run_properties\": \"<azureml.automl.runtime.shared.model_wrappers.SparseNormalizer object at 0x7ff2f00f1cf8\", \"primary_metric\": 0.75065247, \"best_metric\": 0.79449838}, {\"run_id\": \"AutoML_4c8b955c-9895-4d84-bbc7-96a12522b18d_28\", \"run_number\": 34, \"metric\": null, \"status\": \"Completed\", \"run_type\": \"azureml.scriptrun\", \"training_percent\": \"100\", \"start_time\": \"2021-03-21T12:25:56.418015Z\", \"end_time\": \"2021-03-21T12:26:58.308713Z\", \"created_time\": \"2021-03-21T12:25:41.697109Z\", \"created_time_dt\": \"2021-03-21T12:25:41.697109Z\", \"duration\": \"0:01:16\", \"iteration\": \"28\", \"goal\": \"accuracy_max\", \"run_name\": \"StandardScalerWrapper, XGBoostClassifier\", \"run_properties\": \"<azureml.automl.runtime.shared.model_wrappers.StandardScalerWrapper object at 0x7ff6a3485128\", \"primary_metric\": 0.79319344, \"best_metric\": 0.79449838}, {\"run_id\": \"AutoML_4c8b955c-9895-4d84-bbc7-96a12522b18d_29\", \"run_number\": 35, \"metric\": null, \"status\": \"Completed\", \"run_type\": \"azureml.scriptrun\", \"training_percent\": \"100\", \"start_time\": \"2021-03-21T12:26:29.161961Z\", \"end_time\": \"2021-03-21T12:27:23.535644Z\", \"created_time\": \"2021-03-21T12:26:16.727316Z\", \"created_time_dt\": \"2021-03-21T12:26:16.727316Z\", \"duration\": \"0:01:06\", \"iteration\": \"29\", \"goal\": \"accuracy_max\", \"run_name\": \"SparseNormalizer, LightGBM\", \"run_properties\": \"<azureml.automl.runtime.shared.model_wrappers.SparseNormalizer object at 0x7ffa18ceb2e8\", \"primary_metric\": 0.77346278, \"best_metric\": 0.79449838}, {\"run_id\": \"AutoML_4c8b955c-9895-4d84-bbc7-96a12522b18d_30\", \"run_number\": 36, \"metric\": null, \"status\": \"Completed\", \"run_type\": \"azureml.scriptrun\", \"training_percent\": \"100\", \"start_time\": \"2021-03-21T12:26:45.740757Z\", \"end_time\": \"2021-03-21T12:28:12.885601Z\", \"created_time\": \"2021-03-21T12:26:32.501788Z\", \"created_time_dt\": \"2021-03-21T12:26:32.501788Z\", \"duration\": \"0:01:40\", \"iteration\": \"30\", \"goal\": \"accuracy_max\", \"run_name\": \"MaxAbsScaler, LightGBM\", \"run_properties\": \"copy=True\", \"primary_metric\": 0.76072659, \"best_metric\": 0.79449838}, {\"run_id\": \"AutoML_4c8b955c-9895-4d84-bbc7-96a12522b18d_31\", \"run_number\": 37, \"metric\": null, \"status\": \"Completed\", \"run_type\": \"azureml.scriptrun\", \"training_percent\": \"100\", \"start_time\": \"2021-03-21T12:27:00.308072Z\", \"end_time\": \"2021-03-21T12:28:17.402269Z\", \"created_time\": \"2021-03-21T12:26:48.386527Z\", \"created_time_dt\": \"2021-03-21T12:26:48.386527Z\", \"duration\": \"0:01:29\", \"iteration\": \"31\", \"goal\": \"accuracy_max\", \"run_name\": \"StandardScalerWrapper, LightGBM\", \"run_properties\": \"<azureml.automl.runtime.shared.model_wrappers.StandardScalerWrapper object at 0x7f8cb7f127f0\", \"primary_metric\": 0.79653408, \"best_metric\": 0.79653408}, {\"run_id\": \"AutoML_4c8b955c-9895-4d84-bbc7-96a12522b18d_32\", \"run_number\": 38, \"metric\": null, \"status\": \"Completed\", \"run_type\": \"azureml.scriptrun\", \"training_percent\": \"100\", \"start_time\": \"2021-03-21T12:27:13.360063Z\", \"end_time\": \"2021-03-21T12:28:13.762156Z\", \"created_time\": \"2021-03-21T12:27:01.337077Z\", \"created_time_dt\": \"2021-03-21T12:27:01.337077Z\", \"duration\": \"0:01:12\", \"iteration\": \"32\", \"goal\": \"accuracy_max\", \"run_name\": \"SparseNormalizer, XGBoostClassifier\", \"run_properties\": \"<azureml.automl.runtime.shared.model_wrappers.SparseNormalizer object at 0x7f4d6b3cc9e8\", \"primary_metric\": 0.77748199, \"best_metric\": 0.79653408}, {\"run_id\": \"AutoML_4c8b955c-9895-4d84-bbc7-96a12522b18d_33\", \"run_number\": 39, \"metric\": null, \"status\": \"Completed\", \"run_type\": \"azureml.scriptrun\", \"training_percent\": \"100\", \"start_time\": \"2021-03-21T12:27:36.819053Z\", \"end_time\": \"2021-03-21T12:28:32.881974Z\", \"created_time\": \"2021-03-21T12:27:26.058623Z\", \"created_time_dt\": \"2021-03-21T12:27:26.058623Z\", \"duration\": \"0:01:06\", \"iteration\": \"33\", \"goal\": \"accuracy_max\", \"run_name\": \"MaxAbsScaler, LightGBM\", \"run_properties\": \"copy=True\", \"primary_metric\": 0.75227059, \"best_metric\": 0.79653408}, {\"run_id\": \"AutoML_4c8b955c-9895-4d84-bbc7-96a12522b18d_34\", \"run_number\": 40, \"metric\": null, \"status\": \"Completed\", \"run_type\": \"azureml.scriptrun\", \"training_percent\": \"100\", \"start_time\": \"2021-03-21T12:28:27.565823Z\", \"end_time\": \"2021-03-21T12:29:17.675085Z\", \"created_time\": \"2021-03-21T12:28:16.367754Z\", \"created_time_dt\": \"2021-03-21T12:28:16.367754Z\", \"duration\": \"0:01:01\", \"iteration\": \"34\", \"goal\": \"accuracy_max\", \"run_name\": \"StandardScalerWrapper, LightGBM\", \"run_properties\": \"<azureml.automl.runtime.shared.model_wrappers.StandardScalerWrapper object at 0x7f549804be80\", \"primary_metric\": 0.75065247, \"best_metric\": 0.79653408}, {\"run_id\": \"AutoML_4c8b955c-9895-4d84-bbc7-96a12522b18d_36\", \"run_number\": 41, \"metric\": null, \"status\": \"Completed\", \"run_type\": \"azureml.scriptrun\", \"training_percent\": \"100\", \"start_time\": \"2021-03-21T12:28:32.851403Z\", \"end_time\": \"2021-03-21T12:29:34.349882Z\", \"created_time\": \"2021-03-21T12:28:22.50463Z\", \"created_time_dt\": \"2021-03-21T12:28:22.50463Z\", \"duration\": \"0:01:11\", \"iteration\": \"36\", \"goal\": \"accuracy_max\", \"run_name\": \"SparseNormalizer, XGBoostClassifier\", \"run_properties\": \"<azureml.automl.runtime.shared.model_wrappers.SparseNormalizer object at 0x7f7460f23a90\", \"primary_metric\": 0.78165779, \"best_metric\": 0.79653408}, {\"run_id\": \"AutoML_4c8b955c-9895-4d84-bbc7-96a12522b18d_35\", \"run_number\": 42, \"metric\": null, \"status\": \"Completed\", \"run_type\": \"azureml.scriptrun\", \"training_percent\": \"100\", \"start_time\": \"2021-03-21T12:28:34.00106Z\", \"end_time\": \"2021-03-21T12:29:22.715868Z\", \"created_time\": \"2021-03-21T12:28:22.602358Z\", \"created_time_dt\": \"2021-03-21T12:28:22.602358Z\", \"duration\": \"0:01:00\", \"iteration\": \"35\", \"goal\": \"accuracy_max\", \"run_name\": \"MaxAbsScaler, LightGBM\", \"run_properties\": \"copy=True\", \"primary_metric\": 0.75065247, \"best_metric\": 0.79653408}, {\"run_id\": \"AutoML_4c8b955c-9895-4d84-bbc7-96a12522b18d_37\", \"run_number\": 43, \"metric\": null, \"status\": \"Completed\", \"run_type\": \"azureml.scriptrun\", \"training_percent\": \"100\", \"start_time\": \"2021-03-21T12:28:48.869466Z\", \"end_time\": \"2021-03-21T12:29:39.09944Z\", \"created_time\": \"2021-03-21T12:28:36.512101Z\", \"created_time_dt\": \"2021-03-21T12:28:36.512101Z\", \"duration\": \"0:01:02\", \"iteration\": \"37\", \"goal\": \"accuracy_max\", \"run_name\": \"StandardScalerWrapper, LightGBM\", \"run_properties\": \"<azureml.automl.runtime.shared.model_wrappers.StandardScalerWrapper object at 0x7f61ed948dd8\", \"primary_metric\": 0.79538574, \"best_metric\": 0.79653408}, {\"run_id\": \"AutoML_4c8b955c-9895-4d84-bbc7-96a12522b18d_38\", \"run_number\": 44, \"metric\": null, \"status\": \"Completed\", \"run_type\": \"azureml.scriptrun\", \"training_percent\": \"100\", \"start_time\": \"2021-03-21T12:29:31.778866Z\", \"end_time\": \"2021-03-21T12:30:48.750859Z\", \"created_time\": \"2021-03-21T12:29:19.899187Z\", \"created_time_dt\": \"2021-03-21T12:29:19.899187Z\", \"duration\": \"0:01:28\", \"iteration\": \"38\", \"goal\": \"accuracy_max\", \"run_name\": \"MaxAbsScaler, ExtremeRandomTrees\", \"run_properties\": \"copy=True\", \"primary_metric\": 0.75065247, \"best_metric\": 0.79653408}, {\"run_id\": \"AutoML_4c8b955c-9895-4d84-bbc7-96a12522b18d_39\", \"run_number\": 45, \"metric\": null, \"status\": \"Completed\", \"run_type\": \"azureml.scriptrun\", \"training_percent\": \"100\", \"start_time\": \"2021-03-21T12:29:40.974632Z\", \"end_time\": \"2021-03-21T12:30:37.091792Z\", \"created_time\": \"2021-03-21T12:29:24.914814Z\", \"created_time_dt\": \"2021-03-21T12:29:24.914814Z\", \"duration\": \"0:01:12\", \"iteration\": \"39\", \"goal\": \"accuracy_max\", \"run_name\": \"SparseNormalizer, XGBoostClassifier\", \"run_properties\": \"<azureml.automl.runtime.shared.model_wrappers.SparseNormalizer object at 0x7ff36879d5f8\", \"primary_metric\": 0.77800397, \"best_metric\": 0.79653408}, {\"run_id\": \"AutoML_4c8b955c-9895-4d84-bbc7-96a12522b18d_40\", \"run_number\": 46, \"metric\": null, \"status\": \"Completed\", \"run_type\": \"azureml.scriptrun\", \"training_percent\": \"100\", \"start_time\": \"2021-03-21T12:29:46.994963Z\", \"end_time\": \"2021-03-21T12:30:34.356207Z\", \"created_time\": \"2021-03-21T12:29:38.374038Z\", \"created_time_dt\": \"2021-03-21T12:29:38.374038Z\", \"duration\": \"0:00:55\", \"iteration\": \"40\", \"goal\": \"accuracy_max\", \"run_name\": \"MaxAbsScaler, LightGBM\", \"run_properties\": \"copy=True\", \"primary_metric\": 0.75065247, \"best_metric\": 0.79653408}, {\"run_id\": \"AutoML_4c8b955c-9895-4d84-bbc7-96a12522b18d_41\", \"run_number\": 47, \"metric\": null, \"status\": \"Completed\", \"run_type\": \"azureml.scriptrun\", \"training_percent\": \"100\", \"start_time\": \"2021-03-21T12:29:54.988515Z\", \"end_time\": \"2021-03-21T12:30:45.174301Z\", \"created_time\": \"2021-03-21T12:29:43.767836Z\", \"created_time_dt\": \"2021-03-21T12:29:43.767836Z\", \"duration\": \"0:01:01\", \"iteration\": \"41\", \"goal\": \"accuracy_max\", \"run_name\": \"StandardScalerWrapper, XGBoostClassifier\", \"run_properties\": \"<azureml.automl.runtime.shared.model_wrappers.StandardScalerWrapper object at 0x7f1d6aa4e4a8\", \"primary_metric\": 0.78233636, \"best_metric\": 0.79653408}, {\"run_id\": \"AutoML_4c8b955c-9895-4d84-bbc7-96a12522b18d_42\", \"run_number\": 48, \"metric\": null, \"status\": \"Completed\", \"run_type\": \"azureml.scriptrun\", \"training_percent\": \"100\", \"start_time\": \"2021-03-21T12:30:52.98075Z\", \"end_time\": \"2021-03-21T12:31:51.636328Z\", \"created_time\": \"2021-03-21T12:30:37.325615Z\", \"created_time_dt\": \"2021-03-21T12:30:37.325615Z\", \"duration\": \"0:01:14\", \"iteration\": \"42\", \"goal\": \"accuracy_max\", \"run_name\": \"SparseNormalizer, XGBoostClassifier\", \"run_properties\": \"<azureml.automl.runtime.shared.model_wrappers.SparseNormalizer object at 0x7ff099f48eb8\", \"primary_metric\": 0.78040505, \"best_metric\": 0.79653408}, {\"run_id\": \"AutoML_4c8b955c-9895-4d84-bbc7-96a12522b18d_43\", \"run_number\": 49, \"metric\": null, \"status\": \"Completed\", \"run_type\": \"azureml.scriptrun\", \"training_percent\": \"100\", \"start_time\": \"2021-03-21T12:30:53.988552Z\", \"end_time\": \"2021-03-21T12:31:53.625466Z\", \"created_time\": \"2021-03-21T12:30:42.357186Z\", \"created_time_dt\": \"2021-03-21T12:30:42.357186Z\", \"duration\": \"0:01:11\", \"iteration\": \"43\", \"goal\": \"accuracy_max\", \"run_name\": \"StandardScalerWrapper, ExtremeRandomTrees\", \"run_properties\": \"<azureml.automl.runtime.shared.model_wrappers.StandardScalerWrapper object at 0x7fcb90963e48\", \"primary_metric\": 0.75065247, \"best_metric\": 0.79653408}, {\"run_id\": \"AutoML_4c8b955c-9895-4d84-bbc7-96a12522b18d_44\", \"run_number\": 50, \"metric\": null, \"status\": \"Canceled\", \"run_type\": \"azureml.scriptrun\", \"training_percent\": \"100\", \"start_time\": \"2021-03-21T12:31:02.460279Z\", \"end_time\": \"2021-03-21T12:32:06.25942Z\", \"created_time\": \"2021-03-21T12:30:48.237711Z\", \"created_time_dt\": \"2021-03-21T12:30:48.237711Z\", \"duration\": \"0:01:18\", \"iteration\": \"44\", \"goal\": null, \"run_name\": \"SparseNormalizer, XGBoostClassifier\", \"run_properties\": null}, {\"run_id\": \"AutoML_4c8b955c-9895-4d84-bbc7-96a12522b18d_45\", \"run_number\": 51, \"metric\": null, \"status\": \"Completed\", \"run_type\": \"azureml.scriptrun\", \"training_percent\": \"100\", \"start_time\": \"2021-03-21T12:31:04.881962Z\", \"end_time\": \"2021-03-21T12:31:52.041901Z\", \"created_time\": \"2021-03-21T12:30:54.507421Z\", \"created_time_dt\": \"2021-03-21T12:30:54.507421Z\", \"duration\": \"0:00:57\", \"iteration\": \"45\", \"goal\": \"accuracy_max\", \"run_name\": \"MaxAbsScaler, LightGBM\", \"run_properties\": \"copy=True\", \"primary_metric\": 0.7940286, \"best_metric\": 0.79653408}, {\"run_id\": \"AutoML_4c8b955c-9895-4d84-bbc7-96a12522b18d_47\", \"run_number\": 52, \"metric\": null, \"status\": \"Canceled\", \"run_type\": \"azureml.scriptrun\", \"training_percent\": \"100\", \"start_time\": \"2021-03-21T12:31:54.175339Z\", \"end_time\": \"2021-03-21T12:32:11.807453Z\", \"created_time\": \"2021-03-21T12:31:54.175339Z\", \"created_time_dt\": \"2021-03-21T12:31:54.175339Z\", \"duration\": \"0:00:17\", \"iteration\": \"47\", \"goal\": null, \"run_name\": \"Canceled\", \"run_properties\": null}, {\"run_id\": \"AutoML_4c8b955c-9895-4d84-bbc7-96a12522b18d_46\", \"run_number\": 53, \"metric\": null, \"status\": \"Canceled\", \"run_type\": \"azureml.scriptrun\", \"training_percent\": \"100\", \"start_time\": \"2021-03-21T12:31:55.951028Z\", \"end_time\": \"2021-03-21T12:32:12.589342Z\", \"created_time\": \"2021-03-21T12:31:55.951028Z\", \"created_time_dt\": \"2021-03-21T12:31:55.951028Z\", \"duration\": \"0:00:16\", \"iteration\": \"46\", \"goal\": null, \"run_name\": \"Canceled\", \"run_properties\": null}, {\"run_id\": \"AutoML_4c8b955c-9895-4d84-bbc7-96a12522b18d_48\", \"run_number\": 54, \"metric\": null, \"status\": \"Completed\", \"run_type\": \"azureml.scriptrun\", \"training_percent\": \"100\", \"start_time\": \"2021-03-21T12:32:23.768662Z\", \"end_time\": \"2021-03-21T12:34:04.253769Z\", \"created_time\": \"2021-03-21T12:32:13.928988Z\", \"created_time_dt\": \"2021-03-21T12:32:13.928988Z\", \"duration\": \"0:01:50\", \"iteration\": \"48\", \"goal\": \"accuracy_max\", \"run_name\": \"VotingEnsemble\", \"run_properties\": \"classification_labels=None,\\n                              estimators=[('31',\\n                                           Pipeline(memory=None,\\n                                                    steps=[('standardscalerwrapper',\\n                                                            <azureml.automl.runtime.shared.model_wrappers.StandardScalerWrapper object at 0x7fa0cece7128>\", \"primary_metric\": 0.8004489, \"best_metric\": 0.8004489}, {\"run_id\": \"AutoML_4c8b955c-9895-4d84-bbc7-96a12522b18d_49\", \"run_number\": 55, \"metric\": null, \"status\": \"Completed\", \"run_type\": \"azureml.scriptrun\", \"training_percent\": \"100\", \"start_time\": \"2021-03-21T12:32:21.93505Z\", \"end_time\": \"2021-03-21T12:34:07.462345Z\", \"created_time\": \"2021-03-21T12:32:14.061544Z\", \"created_time_dt\": \"2021-03-21T12:32:14.061544Z\", \"duration\": \"0:01:53\", \"iteration\": \"49\", \"goal\": \"accuracy_max\", \"run_name\": \"StackEnsemble\", \"run_properties\": \"base_learners=[('31',\\n                                        Pipeline(memory=None,\\n                                                 steps=[('standardscalerwrapper',\\n                                                         <azureml.automl.runtime.shared.model_wrappers.StandardScalerWrapper object at 0x7f3355fd6f28>\", \"primary_metric\": 0.79595991, \"best_metric\": 0.8004489}], \"children_metrics\": {\"categories\": [0], \"series\": {\"weighted_accuracy\": [{\"categories\": [\"0\", \"1\", \"2\", \"3\", \"4\", \"5\", \"6\", \"7\", \"8\", \"9\", \"10\", \"11\", \"12\", \"13\", \"14\", \"15\", \"16\", \"17\", \"18\", \"19\", \"20\", \"21\", \"22\", \"23\", \"24\", \"25\", \"26\", \"27\", \"28\", \"29\", \"30\", \"31\", \"32\", \"33\", \"34\", \"35\", \"36\", \"37\", \"38\", \"39\", \"40\", \"41\", \"42\", \"43\", \"45\", \"48\", \"49\"], \"mode\": \"markers\", \"name\": \"weighted_accuracy\", \"stepped\": false, \"type\": \"scatter\", \"data\": [0.837623375415221, 0.8443245164215062, 0.8654496733388748, 0.8868015714295306, 0.7484712175243309, 0.683815812305029, 0.8430149732581552, 0.8431926762970621, 0.8782709926572272, 0.8685911290141902, 0.8723818958530075, 0.8688814119094289, 0.8786453450410173, 0.8403059993695384, 0.8971616180143176, 0.86920574806762, 0.8499850504866439, 0.8373593527779936, 0.89044378530029, 0.8605678776369885, 0.8689557252307094, 0.8967929853427893, 0.8468287267330274, 0.8565289034394296, 0.8542036815639541, 0.9004644223796888, 0.845416283211422, 0.9004644223796888, 0.8399314972993311, 0.8668165381632583, 0.8896800260729282, 0.8403314057831586, 0.8487161191930833, 0.8997528026796959, 0.9004644223796888, 0.9004644223796888, 0.8492438863650807, 0.84744645938998, 0.9004644223796888, 0.8374546935314179, 0.9004644223796888, 0.8542036815639541, 0.8475825072053856, 0.9004644223796888, 0.8459781519397923, 0.8320607581484133, 0.8395367178985021]}, {\"categories\": [\"0\", \"1\", \"2\", \"3\", \"4\", \"5\", \"6\", \"7\", \"8\", \"9\", \"10\", \"11\", \"12\", \"13\", \"14\", \"15\", \"16\", \"17\", \"18\", \"19\", \"20\", \"21\", \"22\", \"23\", \"24\", \"25\", \"26\", \"27\", \"28\", \"29\", \"30\", \"31\", \"32\", \"33\", \"34\", \"35\", \"36\", \"37\", \"38\", \"39\", \"40\", \"41\", \"42\", \"43\", \"45\", \"48\", \"49\"], \"mode\": \"lines\", \"name\": \"weighted_accuracy_max\", \"stepped\": true, \"type\": \"scatter\", \"data\": [0.837623375415221, 0.8443245164215062, 0.8654496733388748, 0.8868015714295306, 0.8868015714295306, 0.8868015714295306, 0.8868015714295306, 0.8868015714295306, 0.8868015714295306, 0.8868015714295306, 0.8868015714295306, 0.8868015714295306, 0.8868015714295306, 0.8868015714295306, 0.8971616180143176, 0.8971616180143176, 0.8971616180143176, 0.8971616180143176, 0.8971616180143176, 0.8971616180143176, 0.8971616180143176, 0.8971616180143176, 0.8971616180143176, 0.8971616180143176, 0.8971616180143176, 0.9004644223796888, 0.9004644223796888, 0.9004644223796888, 0.9004644223796888, 0.9004644223796888, 0.9004644223796888, 0.9004644223796888, 0.9004644223796888, 0.9004644223796888, 0.9004644223796888, 0.9004644223796888, 0.9004644223796888, 0.9004644223796888, 0.9004644223796888, 0.9004644223796888, 0.9004644223796888, 0.9004644223796888, 0.9004644223796888, 0.9004644223796888, 0.9004644223796888, 0.9004644223796888, 0.9004644223796888]}], \"precision_score_micro\": [{\"categories\": [\"0\", \"1\", \"2\", \"3\", \"4\", \"5\", \"6\", \"7\", \"8\", \"9\", \"10\", \"11\", \"12\", \"13\", \"14\", \"15\", \"16\", \"17\", \"18\", \"19\", \"20\", \"21\", \"22\", \"23\", \"24\", \"25\", \"26\", \"27\", \"28\", \"29\", \"30\", \"31\", \"32\", \"33\", \"34\", \"35\", \"36\", \"37\", \"38\", \"39\", \"40\", \"41\", \"42\", \"43\", \"45\", \"48\", \"49\"], \"mode\": \"markers\", \"name\": \"precision_score_micro\", \"stepped\": false, \"type\": \"scatter\", \"data\": [0.7938720116922434, 0.7943939868462261, 0.7764902390646206, 0.7631798726380623, 0.7506524689424783, 0.699759891429168, 0.7797786825347114, 0.7789957198037373, 0.7650067856770018, 0.7725754254097504, 0.7662595260465602, 0.7724188328635556, 0.7696523645474476, 0.7784737446497547, 0.7547238751435432, 0.7744545359640881, 0.7809792253888714, 0.7789957198037373, 0.7584298987368201, 0.7795176949577199, 0.7662595260465602, 0.7542540975049588, 0.7944983818770227, 0.7784215471343563, 0.7823363607892264, 0.7506524689424784, 0.7782127570727634, 0.7506524689424784, 0.7931934439920659, 0.7734627831715212, 0.7607265894143439, 0.7965340849775551, 0.7774819918571875, 0.7522705919198246, 0.7506524689424784, 0.7506524689424784, 0.781657793089049, 0.7953857396387932, 0.7506524689424784, 0.7780039670111702, 0.7506524689424784, 0.7823363607892264, 0.7804050527194905, 0.7506524689424784, 0.7940286042384382, 0.8004488986324251, 0.7959599123081742]}, {\"categories\": [\"0\", \"1\", \"2\", \"3\", \"4\", \"5\", \"6\", \"7\", \"8\", \"9\", \"10\", \"11\", \"12\", \"13\", \"14\", \"15\", \"16\", \"17\", \"18\", \"19\", \"20\", \"21\", \"22\", \"23\", \"24\", \"25\", \"26\", \"27\", \"28\", \"29\", \"30\", \"31\", \"32\", \"33\", \"34\", \"35\", \"36\", \"37\", \"38\", \"39\", \"40\", \"41\", \"42\", \"43\", \"45\", \"48\", \"49\"], \"mode\": \"lines\", \"name\": \"precision_score_micro_max\", \"stepped\": true, \"type\": \"scatter\", \"data\": [0.7938720116922434, 0.7943939868462261, 0.7943939868462261, 0.7943939868462261, 0.7943939868462261, 0.7943939868462261, 0.7943939868462261, 0.7943939868462261, 0.7943939868462261, 0.7943939868462261, 0.7943939868462261, 0.7943939868462261, 0.7943939868462261, 0.7943939868462261, 0.7943939868462261, 0.7943939868462261, 0.7943939868462261, 0.7943939868462261, 0.7943939868462261, 0.7943939868462261, 0.7943939868462261, 0.7943939868462261, 0.7944983818770227, 0.7944983818770227, 0.7944983818770227, 0.7944983818770227, 0.7944983818770227, 0.7944983818770227, 0.7944983818770227, 0.7944983818770227, 0.7944983818770227, 0.7965340849775551, 0.7965340849775551, 0.7965340849775551, 0.7965340849775551, 0.7965340849775551, 0.7965340849775551, 0.7965340849775551, 0.7965340849775551, 0.7965340849775551, 0.7965340849775551, 0.7965340849775551, 0.7965340849775551, 0.7965340849775551, 0.7965340849775551, 0.8004488986324251, 0.8004488986324251]}], \"f1_score_weighted\": [{\"categories\": [\"0\", \"1\", \"2\", \"3\", \"4\", \"5\", \"6\", \"7\", \"8\", \"9\", \"10\", \"11\", \"12\", \"13\", \"14\", \"15\", \"16\", \"17\", \"18\", \"19\", \"20\", \"21\", \"22\", \"23\", \"24\", \"25\", \"26\", \"27\", \"28\", \"29\", \"30\", \"31\", \"32\", \"33\", \"34\", \"35\", \"36\", \"37\", \"38\", \"39\", \"40\", \"41\", \"42\", \"43\", \"45\", \"48\", \"49\"], \"mode\": \"markers\", \"name\": \"f1_score_weighted\", \"stepped\": false, \"type\": \"scatter\", \"data\": [0.7929490467285024, 0.7911424549950347, 0.7523402068351207, 0.7002709181332567, 0.7646597796288636, 0.719129428924783, 0.7714802718949717, 0.7703269757983858, 0.7179492210602717, 0.7426771768428737, 0.7271420642995823, 0.7424003111437241, 0.7272272853126075, 0.7710287042299538, 0.6635384195198866, 0.745799754651245, 0.7696364306011138, 0.7731304240210614, 0.6839123846308951, 0.7608653367084647, 0.7306886321064171, 0.66295746981036, 0.7902772708608169, 0.7617002105513381, 0.7692939213469919, 0.6437574436537479, 0.7680011491382016, 0.6437574436537479, 0.7912701591768401, 0.7460005203788604, 0.6930700994056146, 0.7954592806800823, 0.7650478343243688, 0.6505504978455456, 0.6437574436537479, 0.6437574436537479, 0.7710343875465645, 0.7912028097510544, 0.6437574436537479, 0.7716948468450552, 0.6437574436537479, 0.7692939213469919, 0.7700982174851411, 0.6437574436537479, 0.7899628944037844, 0.8030711544069566, 0.7949709387880396]}, {\"categories\": [\"0\", \"1\", \"2\", \"3\", \"4\", \"5\", \"6\", \"7\", \"8\", \"9\", \"10\", \"11\", \"12\", \"13\", \"14\", \"15\", \"16\", \"17\", \"18\", \"19\", \"20\", \"21\", \"22\", \"23\", \"24\", \"25\", \"26\", \"27\", \"28\", \"29\", \"30\", \"31\", \"32\", \"33\", \"34\", \"35\", \"36\", \"37\", \"38\", \"39\", \"40\", \"41\", \"42\", \"43\", \"45\", \"48\", \"49\"], \"mode\": \"lines\", \"name\": \"f1_score_weighted_max\", \"stepped\": true, \"type\": \"scatter\", \"data\": [0.7929490467285024, 0.7929490467285024, 0.7929490467285024, 0.7929490467285024, 0.7929490467285024, 0.7929490467285024, 0.7929490467285024, 0.7929490467285024, 0.7929490467285024, 0.7929490467285024, 0.7929490467285024, 0.7929490467285024, 0.7929490467285024, 0.7929490467285024, 0.7929490467285024, 0.7929490467285024, 0.7929490467285024, 0.7929490467285024, 0.7929490467285024, 0.7929490467285024, 0.7929490467285024, 0.7929490467285024, 0.7929490467285024, 0.7929490467285024, 0.7929490467285024, 0.7929490467285024, 0.7929490467285024, 0.7929490467285024, 0.7929490467285024, 0.7929490467285024, 0.7929490467285024, 0.7954592806800823, 0.7954592806800823, 0.7954592806800823, 0.7954592806800823, 0.7954592806800823, 0.7954592806800823, 0.7954592806800823, 0.7954592806800823, 0.7954592806800823, 0.7954592806800823, 0.7954592806800823, 0.7954592806800823, 0.7954592806800823, 0.7954592806800823, 0.8030711544069566, 0.8030711544069566]}], \"f1_score_macro\": [{\"categories\": [\"0\", \"1\", \"2\", \"3\", \"4\", \"5\", \"6\", \"7\", \"8\", \"9\", \"10\", \"11\", \"12\", \"13\", \"14\", \"15\", \"16\", \"17\", \"18\", \"19\", \"20\", \"21\", \"22\", \"23\", \"24\", \"25\", \"26\", \"27\", \"28\", \"29\", \"30\", \"31\", \"32\", \"33\", \"34\", \"35\", \"36\", \"37\", \"38\", \"39\", \"40\", \"41\", \"42\", \"43\", \"45\", \"48\", \"49\"], \"mode\": \"markers\", \"name\": \"f1_score_macro\", \"stepped\": false, \"type\": \"scatter\", \"data\": [0.7223483647491094, 0.7169389756315329, 0.6427487733245787, 0.5406762353752452, 0.7108533747290572, 0.6675208152249036, 0.6845434510674253, 0.6825954777715962, 0.5765004937102277, 0.6247499084550002, 0.5949908410693587, 0.6238672776372512, 0.5929229234676318, 0.6848150668609897, 0.4676748529452335, 0.6296642223502993, 0.6787647525921682, 0.6895176882728493, 0.5079292464978198, 0.6595905418879925, 0.6028576455869584, 0.46660742505557734, 0.7145325449211745, 0.6625663929879685, 0.6765113146901559, 0.4287737471156044, 0.677796448070564, 0.4287737471156044, 0.7187391993051251, 0.6311107283364855, 0.525747292757886, 0.7254450662175488, 0.6715625430568172, 0.44201141438819597, 0.4287737471156044, 0.4287737471156044, 0.6814182459504915, 0.715871669764299, 0.4287737471156044, 0.6871001332244608, 0.4287737471156044, 0.6765113146901559, 0.6803991965280277, 0.4287737471156044, 0.7143783403084353, 0.7406013817610778, 0.724966331038203]}, {\"categories\": [\"0\", \"1\", \"2\", \"3\", \"4\", \"5\", \"6\", \"7\", \"8\", \"9\", \"10\", \"11\", \"12\", \"13\", \"14\", \"15\", \"16\", \"17\", \"18\", \"19\", \"20\", \"21\", \"22\", \"23\", \"24\", \"25\", \"26\", \"27\", \"28\", \"29\", \"30\", \"31\", \"32\", \"33\", \"34\", \"35\", \"36\", \"37\", \"38\", \"39\", \"40\", \"41\", \"42\", \"43\", \"45\", \"48\", \"49\"], \"mode\": \"lines\", \"name\": \"f1_score_macro_max\", \"stepped\": true, \"type\": \"scatter\", \"data\": [0.7223483647491094, 0.7223483647491094, 0.7223483647491094, 0.7223483647491094, 0.7223483647491094, 0.7223483647491094, 0.7223483647491094, 0.7223483647491094, 0.7223483647491094, 0.7223483647491094, 0.7223483647491094, 0.7223483647491094, 0.7223483647491094, 0.7223483647491094, 0.7223483647491094, 0.7223483647491094, 0.7223483647491094, 0.7223483647491094, 0.7223483647491094, 0.7223483647491094, 0.7223483647491094, 0.7223483647491094, 0.7223483647491094, 0.7223483647491094, 0.7223483647491094, 0.7223483647491094, 0.7223483647491094, 0.7223483647491094, 0.7223483647491094, 0.7223483647491094, 0.7223483647491094, 0.7254450662175488, 0.7254450662175488, 0.7254450662175488, 0.7254450662175488, 0.7254450662175488, 0.7254450662175488, 0.7254450662175488, 0.7254450662175488, 0.7254450662175488, 0.7254450662175488, 0.7254450662175488, 0.7254450662175488, 0.7254450662175488, 0.7254450662175488, 0.7406013817610778, 0.7406013817610778]}], \"precision_score_macro\": [{\"categories\": [\"0\", \"1\", \"2\", \"3\", \"4\", \"5\", \"6\", \"7\", \"8\", \"9\", \"10\", \"11\", \"12\", \"13\", \"14\", \"15\", \"16\", \"17\", \"18\", \"19\", \"20\", \"21\", \"22\", \"23\", \"24\", \"25\", \"26\", \"27\", \"28\", \"29\", \"30\", \"31\", \"32\", \"33\", \"34\", \"35\", \"36\", \"37\", \"38\", \"39\", \"40\", \"41\", \"42\", \"43\", \"45\", \"48\", \"49\"], \"mode\": \"markers\", \"name\": \"precision_score_macro\", \"stepped\": false, \"type\": \"scatter\", \"data\": [0.7244069718597882, 0.7247323293618293, 0.6998084168276142, 0.6386379371728447, 0.7021514172425577, 0.6731389671475472, 0.7020066505776158, 0.7009742096841323, 0.684018646399278, 0.6940491822445849, 0.6820753853894915, 0.6932014237297528, 0.6981582594061577, 0.7002173077484329, 0.6966203068881637, 0.6971844242355028, 0.7038992943802683, 0.7016143510263396, 0.6323377806259247, 0.7032882356106809, 0.6800998269962846, 0.6799699689109974, 0.7247405527844463, 0.7005550770781065, 0.7065088209232648, 0.3753262344712392, 0.6993610526569745, 0.3753262344712392, 0.7231473490743762, 0.6943412647356877, 0.6882604004769091, 0.7280886930022277, 0.6982645789087124, 0.728692532335686, 0.3753262344712392, 0.3753262344712392, 0.7050281042411114, 0.7259601568026118, 0.3753262344712392, 0.69990511931024, 0.3753262344712392, 0.7065088209232648, 0.7029931665425937, 0.3753262344712392, 0.723969393042193, 0.734981329383844, 0.7274177607657291]}, {\"categories\": [\"0\", \"1\", \"2\", \"3\", \"4\", \"5\", \"6\", \"7\", \"8\", \"9\", \"10\", \"11\", \"12\", \"13\", \"14\", \"15\", \"16\", \"17\", \"18\", \"19\", \"20\", \"21\", \"22\", \"23\", \"24\", \"25\", \"26\", \"27\", \"28\", \"29\", \"30\", \"31\", \"32\", \"33\", \"34\", \"35\", \"36\", \"37\", \"38\", \"39\", \"40\", \"41\", \"42\", \"43\", \"45\", \"48\", \"49\"], \"mode\": \"lines\", \"name\": \"precision_score_macro_max\", \"stepped\": true, \"type\": \"scatter\", \"data\": [0.7244069718597882, 0.7247323293618293, 0.7247323293618293, 0.7247323293618293, 0.7247323293618293, 0.7247323293618293, 0.7247323293618293, 0.7247323293618293, 0.7247323293618293, 0.7247323293618293, 0.7247323293618293, 0.7247323293618293, 0.7247323293618293, 0.7247323293618293, 0.7247323293618293, 0.7247323293618293, 0.7247323293618293, 0.7247323293618293, 0.7247323293618293, 0.7247323293618293, 0.7247323293618293, 0.7247323293618293, 0.7247405527844463, 0.7247405527844463, 0.7247405527844463, 0.7247405527844463, 0.7247405527844463, 0.7247405527844463, 0.7247405527844463, 0.7247405527844463, 0.7247405527844463, 0.7280886930022277, 0.7280886930022277, 0.728692532335686, 0.728692532335686, 0.728692532335686, 0.728692532335686, 0.728692532335686, 0.728692532335686, 0.728692532335686, 0.728692532335686, 0.728692532335686, 0.728692532335686, 0.728692532335686, 0.728692532335686, 0.734981329383844, 0.734981329383844]}], \"average_precision_score_micro\": [{\"categories\": [\"0\", \"1\", \"2\", \"3\", \"4\", \"5\", \"6\", \"7\", \"8\", \"9\", \"10\", \"11\", \"12\", \"13\", \"14\", \"15\", \"16\", \"17\", \"18\", \"19\", \"20\", \"21\", \"22\", \"23\", \"24\", \"25\", \"26\", \"27\", \"28\", \"29\", \"30\", \"31\", \"32\", \"33\", \"34\", \"35\", \"36\", \"37\", \"38\", \"39\", \"40\", \"41\", \"42\", \"43\", \"45\", \"48\", \"49\"], \"mode\": \"markers\", \"name\": \"average_precision_score_micro\", \"stepped\": false, \"type\": \"scatter\", \"data\": [0.8629156408362272, 0.8600422268748944, 0.8533833928827056, 0.8491192188794106, 0.7621726826994287, 0.764246375706006, 0.8555289016099451, 0.8534574830447513, 0.8459164810568551, 0.8541782630226892, 0.8452114882872465, 0.8483932077113995, 0.8522125673636748, 0.8575750241526787, 0.8488247499672915, 0.8483747633830152, 0.8540491297073681, 0.8524586347311846, 0.8330293843591656, 0.8569612044982361, 0.8447227045142062, 0.8492662849202312, 0.8622052571899709, 0.8554172637603212, 0.8318917507669669, 0.6882100917790238, 0.8556597149329965, 0.8416923155122156, 0.8645781642974765, 0.8504792599273419, 0.8455848555316359, 0.8642935066951734, 0.8537135616528574, 0.8490029783122192, 0.8478758608301605, 0.8431238764314437, 0.8564110445385374, 0.8616476455469083, 0.8459346750175518, 0.8533839903885521, 0.8466254226864981, 0.8348525800318148, 0.8562888435982757, 0.8473862364271197, 0.8624985519333749, 0.8611452255767592, 0.8648745072279947]}, {\"categories\": [\"0\", \"1\", \"2\", \"3\", \"4\", \"5\", \"6\", \"7\", \"8\", \"9\", \"10\", \"11\", \"12\", \"13\", \"14\", \"15\", \"16\", \"17\", \"18\", \"19\", \"20\", \"21\", \"22\", \"23\", \"24\", \"25\", \"26\", \"27\", \"28\", \"29\", \"30\", \"31\", \"32\", \"33\", \"34\", \"35\", \"36\", \"37\", \"38\", \"39\", \"40\", \"41\", \"42\", \"43\", \"45\", \"48\", \"49\"], \"mode\": \"lines\", \"name\": \"average_precision_score_micro_max\", \"stepped\": true, \"type\": \"scatter\", \"data\": [0.8629156408362272, 0.8629156408362272, 0.8629156408362272, 0.8629156408362272, 0.8629156408362272, 0.8629156408362272, 0.8629156408362272, 0.8629156408362272, 0.8629156408362272, 0.8629156408362272, 0.8629156408362272, 0.8629156408362272, 0.8629156408362272, 0.8629156408362272, 0.8629156408362272, 0.8629156408362272, 0.8629156408362272, 0.8629156408362272, 0.8629156408362272, 0.8629156408362272, 0.8629156408362272, 0.8629156408362272, 0.8629156408362272, 0.8629156408362272, 0.8629156408362272, 0.8629156408362272, 0.8629156408362272, 0.8629156408362272, 0.8645781642974765, 0.8645781642974765, 0.8645781642974765, 0.8645781642974765, 0.8645781642974765, 0.8645781642974765, 0.8645781642974765, 0.8645781642974765, 0.8645781642974765, 0.8645781642974765, 0.8645781642974765, 0.8645781642974765, 0.8645781642974765, 0.8645781642974765, 0.8645781642974765, 0.8645781642974765, 0.8645781642974765, 0.8645781642974765, 0.8648745072279947]}], \"AUC_macro\": [{\"categories\": [\"0\", \"1\", \"2\", \"3\", \"4\", \"5\", \"6\", \"7\", \"8\", \"9\", \"10\", \"11\", \"12\", \"13\", \"14\", \"15\", \"16\", \"17\", \"18\", \"19\", \"20\", \"21\", \"22\", \"23\", \"24\", \"25\", \"26\", \"27\", \"28\", \"29\", \"30\", \"31\", \"32\", \"33\", \"34\", \"35\", \"36\", \"37\", \"38\", \"39\", \"40\", \"41\", \"42\", \"43\", \"45\", \"48\", \"49\"], \"mode\": \"markers\", \"name\": \"AUC_macro\", \"stepped\": false, \"type\": \"scatter\", \"data\": [0.7994575725708583, 0.7984386033164812, 0.7911373299596681, 0.783229264796948, 0.7912923837901541, 0.77538321682308, 0.7897192272242443, 0.7863211839174076, 0.7723799013042267, 0.7931646450373554, 0.773534531307256, 0.7854385588330804, 0.7927007898452697, 0.7911932666236471, 0.7880194242467818, 0.7856770874787856, 0.7889695296320721, 0.7874070969704134, 0.7588829537241768, 0.7926367814154264, 0.7732519662382833, 0.789423088900728, 0.7980598139992751, 0.7896661006251676, 0.7713691165622926, 0.5, 0.7895317486391072, 0.7680968680609883, 0.8013408546994617, 0.7845808599340728, 0.7774513725400617, 0.8009613518509405, 0.7862358076201512, 0.7900576169832777, 0.7904604066941925, 0.77965752609806, 0.7915028564079067, 0.7981163729481966, 0.779111105258297, 0.7871811348764705, 0.7846734479393161, 0.772618322736752, 0.7913184764246476, 0.7843960591326758, 0.79840423300583, 0.7976784279970287, 0.801031962875891]}, {\"categories\": [\"0\", \"1\", \"2\", \"3\", \"4\", \"5\", \"6\", \"7\", \"8\", \"9\", \"10\", \"11\", \"12\", \"13\", \"14\", \"15\", \"16\", \"17\", \"18\", \"19\", \"20\", \"21\", \"22\", \"23\", \"24\", \"25\", \"26\", \"27\", \"28\", \"29\", \"30\", \"31\", \"32\", \"33\", \"34\", \"35\", \"36\", \"37\", \"38\", \"39\", \"40\", \"41\", \"42\", \"43\", \"45\", \"48\", \"49\"], \"mode\": \"lines\", \"name\": \"AUC_macro_max\", \"stepped\": true, \"type\": \"scatter\", \"data\": [0.7994575725708583, 0.7994575725708583, 0.7994575725708583, 0.7994575725708583, 0.7994575725708583, 0.7994575725708583, 0.7994575725708583, 0.7994575725708583, 0.7994575725708583, 0.7994575725708583, 0.7994575725708583, 0.7994575725708583, 0.7994575725708583, 0.7994575725708583, 0.7994575725708583, 0.7994575725708583, 0.7994575725708583, 0.7994575725708583, 0.7994575725708583, 0.7994575725708583, 0.7994575725708583, 0.7994575725708583, 0.7994575725708583, 0.7994575725708583, 0.7994575725708583, 0.7994575725708583, 0.7994575725708583, 0.7994575725708583, 0.8013408546994617, 0.8013408546994617, 0.8013408546994617, 0.8013408546994617, 0.8013408546994617, 0.8013408546994617, 0.8013408546994617, 0.8013408546994617, 0.8013408546994617, 0.8013408546994617, 0.8013408546994617, 0.8013408546994617, 0.8013408546994617, 0.8013408546994617, 0.8013408546994617, 0.8013408546994617, 0.8013408546994617, 0.8013408546994617, 0.8013408546994617]}], \"accuracy\": [{\"categories\": [\"0\", \"1\", \"2\", \"3\", \"4\", \"5\", \"6\", \"7\", \"8\", \"9\", \"10\", \"11\", \"12\", \"13\", \"14\", \"15\", \"16\", \"17\", \"18\", \"19\", \"20\", \"21\", \"22\", \"23\", \"24\", \"25\", \"26\", \"27\", \"28\", \"29\", \"30\", \"31\", \"32\", \"33\", \"34\", \"35\", \"36\", \"37\", \"38\", \"39\", \"40\", \"41\", \"42\", \"43\", \"45\", \"48\", \"49\"], \"mode\": \"markers\", \"name\": \"accuracy\", \"stepped\": false, \"type\": \"scatter\", \"data\": [0.7938720116922434, 0.7943939868462261, 0.7764902390646206, 0.7631798726380623, 0.7506524689424783, 0.699759891429168, 0.7797786825347114, 0.7789957198037373, 0.7650067856770018, 0.7725754254097504, 0.7662595260465602, 0.7724188328635556, 0.7696523645474476, 0.7784737446497547, 0.7547238751435432, 0.7744545359640881, 0.7809792253888714, 0.7789957198037373, 0.7584298987368201, 0.7795176949577199, 0.7662595260465602, 0.7542540975049588, 0.7944983818770227, 0.7784215471343563, 0.7823363607892264, 0.7506524689424784, 0.7782127570727634, 0.7506524689424784, 0.7931934439920659, 0.7734627831715212, 0.7607265894143439, 0.7965340849775551, 0.7774819918571875, 0.7522705919198246, 0.7506524689424784, 0.7506524689424784, 0.781657793089049, 0.7953857396387932, 0.7506524689424784, 0.7780039670111702, 0.7506524689424784, 0.7823363607892264, 0.7804050527194905, 0.7506524689424784, 0.7940286042384382, 0.8004488986324251, 0.7959599123081742]}, {\"categories\": [\"0\", \"1\", \"2\", \"3\", \"4\", \"5\", \"6\", \"7\", \"8\", \"9\", \"10\", \"11\", \"12\", \"13\", \"14\", \"15\", \"16\", \"17\", \"18\", \"19\", \"20\", \"21\", \"22\", \"23\", \"24\", \"25\", \"26\", \"27\", \"28\", \"29\", \"30\", \"31\", \"32\", \"33\", \"34\", \"35\", \"36\", \"37\", \"38\", \"39\", \"40\", \"41\", \"42\", \"43\", \"45\", \"48\", \"49\"], \"mode\": \"lines\", \"name\": \"accuracy_max\", \"stepped\": true, \"type\": \"scatter\", \"data\": [0.7938720116922434, 0.7943939868462261, 0.7943939868462261, 0.7943939868462261, 0.7943939868462261, 0.7943939868462261, 0.7943939868462261, 0.7943939868462261, 0.7943939868462261, 0.7943939868462261, 0.7943939868462261, 0.7943939868462261, 0.7943939868462261, 0.7943939868462261, 0.7943939868462261, 0.7943939868462261, 0.7943939868462261, 0.7943939868462261, 0.7943939868462261, 0.7943939868462261, 0.7943939868462261, 0.7943939868462261, 0.7944983818770227, 0.7944983818770227, 0.7944983818770227, 0.7944983818770227, 0.7944983818770227, 0.7944983818770227, 0.7944983818770227, 0.7944983818770227, 0.7944983818770227, 0.7965340849775551, 0.7965340849775551, 0.7965340849775551, 0.7965340849775551, 0.7965340849775551, 0.7965340849775551, 0.7965340849775551, 0.7965340849775551, 0.7965340849775551, 0.7965340849775551, 0.7965340849775551, 0.7965340849775551, 0.7965340849775551, 0.7965340849775551, 0.8004488986324251, 0.8004488986324251]}], \"log_loss\": [{\"categories\": [\"0\", \"1\", \"2\", \"3\", \"4\", \"5\", \"6\", \"7\", \"8\", \"9\", \"10\", \"11\", \"12\", \"13\", \"14\", \"15\", \"16\", \"17\", \"18\", \"19\", \"20\", \"21\", \"22\", \"23\", \"24\", \"25\", \"26\", \"27\", \"28\", \"29\", \"30\", \"31\", \"32\", \"33\", \"34\", \"35\", \"36\", \"37\", \"38\", \"39\", \"40\", \"41\", \"42\", \"43\", \"45\", \"48\", \"49\"], \"mode\": \"markers\", \"name\": \"log_loss\", \"stepped\": false, \"type\": \"scatter\", \"data\": [0.43900580086716023, 0.4395535098997719, 0.46108706119111414, 0.4757210935907481, 0.5574004313179703, 0.5835327355948353, 0.4537118315030752, 0.45467531676973566, 0.4759146017615669, 0.4549883812911228, 0.46907458636985194, 0.4646921719964016, 0.46210726709449834, 0.4531472459189821, 0.46612730242973505, 0.46431991953101925, 0.4529071599840022, 0.49615088123736667, 0.5231350644535522, 0.4520730354629367, 0.5145108978442884, 0.47065586127197195, 0.44160475444062297, 0.45753590436613495, 0.5058088030481195, 0.5616888886622448, 0.4530724334066596, 0.4911978229844404, 0.4364310931904452, 0.46007585090433967, 0.4876398082186397, 0.43591486090608167, 0.45571435084006273, 0.4836492597081165, 0.48591637492246953, 0.4906683606269325, 0.4510203026244371, 0.4399421527633221, 0.4749881979529227, 0.49582513702858383, 0.5312490464212996, 0.5047532094908235, 0.4499715673029762, 0.4877878061279873, 0.4401265830134471, 0.4669275147484014, 0.4361533510878061]}, {\"categories\": [\"0\", \"1\", \"2\", \"3\", \"4\", \"5\", \"6\", \"7\", \"8\", \"9\", \"10\", \"11\", \"12\", \"13\", \"14\", \"15\", \"16\", \"17\", \"18\", \"19\", \"20\", \"21\", \"22\", \"23\", \"24\", \"25\", \"26\", \"27\", \"28\", \"29\", \"30\", \"31\", \"32\", \"33\", \"34\", \"35\", \"36\", \"37\", \"38\", \"39\", \"40\", \"41\", \"42\", \"43\", \"45\", \"48\", \"49\"], \"mode\": \"lines\", \"name\": \"log_loss_min\", \"stepped\": true, \"type\": \"scatter\", \"data\": [0.43900580086716023, 0.43900580086716023, 0.43900580086716023, 0.43900580086716023, 0.43900580086716023, 0.43900580086716023, 0.43900580086716023, 0.43900580086716023, 0.43900580086716023, 0.43900580086716023, 0.43900580086716023, 0.43900580086716023, 0.43900580086716023, 0.43900580086716023, 0.43900580086716023, 0.43900580086716023, 0.43900580086716023, 0.43900580086716023, 0.43900580086716023, 0.43900580086716023, 0.43900580086716023, 0.43900580086716023, 0.43900580086716023, 0.43900580086716023, 0.43900580086716023, 0.43900580086716023, 0.43900580086716023, 0.43900580086716023, 0.4364310931904452, 0.4364310931904452, 0.4364310931904452, 0.43591486090608167, 0.43591486090608167, 0.43591486090608167, 0.43591486090608167, 0.43591486090608167, 0.43591486090608167, 0.43591486090608167, 0.43591486090608167, 0.43591486090608167, 0.43591486090608167, 0.43591486090608167, 0.43591486090608167, 0.43591486090608167, 0.43591486090608167, 0.43591486090608167, 0.43591486090608167]}], \"precision_score_weighted\": [{\"categories\": [\"0\", \"1\", \"2\", \"3\", \"4\", \"5\", \"6\", \"7\", \"8\", \"9\", \"10\", \"11\", \"12\", \"13\", \"14\", \"15\", \"16\", \"17\", \"18\", \"19\", \"20\", \"21\", \"22\", \"23\", \"24\", \"25\", \"26\", \"27\", \"28\", \"29\", \"30\", \"31\", \"32\", \"33\", \"34\", \"35\", \"36\", \"37\", \"38\", \"39\", \"40\", \"41\", \"42\", \"43\", \"45\", \"48\", \"49\"], \"mode\": \"markers\", \"name\": \"precision_score_weighted\", \"stepped\": false, \"type\": \"scatter\", \"data\": [0.7923898557173068, 0.7891052377965493, 0.7532389502207274, 0.7051737285239077, 0.803514999539848, 0.7881163533809729, 0.7674322314325489, 0.766215851928029, 0.7330792231185828, 0.7464931186783751, 0.7351570006632991, 0.7458465313358333, 0.742640404529928, 0.7670141677228259, 0.7266907018638161, 0.7489833325822893, 0.765622609872055, 0.769722223368238, 0.6987832059224988, 0.7592265881172461, 0.7355678487817396, 0.718592533055761, 0.7877615937624634, 0.7590663643205078, 0.7657971046854793, 0.563536326250263, 0.7636882139538165, 0.563536326250263, 0.7898566209302454, 0.74801076103563, 0.7284209902591199, 0.7947975276614985, 0.7609450106774566, 0.7406275261823243, 0.563536326250263, 0.563536326250263, 0.7671199141232282, 0.7886989864644546, 0.563536326250263, 0.7680265257040104, 0.563536326250263, 0.7657971046854793, 0.7660665253663698, 0.563536326250263, 0.7874714791127758, 0.8066197606740978, 0.7944787920390023]}, {\"categories\": [\"0\", \"1\", \"2\", \"3\", \"4\", \"5\", \"6\", \"7\", \"8\", \"9\", \"10\", \"11\", \"12\", \"13\", \"14\", \"15\", \"16\", \"17\", \"18\", \"19\", \"20\", \"21\", \"22\", \"23\", \"24\", \"25\", \"26\", \"27\", \"28\", \"29\", \"30\", \"31\", \"32\", \"33\", \"34\", \"35\", \"36\", \"37\", \"38\", \"39\", \"40\", \"41\", \"42\", \"43\", \"45\", \"48\", \"49\"], \"mode\": \"lines\", \"name\": \"precision_score_weighted_max\", \"stepped\": true, \"type\": \"scatter\", \"data\": [0.7923898557173068, 0.7923898557173068, 0.7923898557173068, 0.7923898557173068, 0.803514999539848, 0.803514999539848, 0.803514999539848, 0.803514999539848, 0.803514999539848, 0.803514999539848, 0.803514999539848, 0.803514999539848, 0.803514999539848, 0.803514999539848, 0.803514999539848, 0.803514999539848, 0.803514999539848, 0.803514999539848, 0.803514999539848, 0.803514999539848, 0.803514999539848, 0.803514999539848, 0.803514999539848, 0.803514999539848, 0.803514999539848, 0.803514999539848, 0.803514999539848, 0.803514999539848, 0.803514999539848, 0.803514999539848, 0.803514999539848, 0.803514999539848, 0.803514999539848, 0.803514999539848, 0.803514999539848, 0.803514999539848, 0.803514999539848, 0.803514999539848, 0.803514999539848, 0.803514999539848, 0.803514999539848, 0.803514999539848, 0.803514999539848, 0.803514999539848, 0.803514999539848, 0.8066197606740978, 0.8066197606740978]}], \"average_precision_score_macro\": [{\"categories\": [\"0\", \"1\", \"2\", \"3\", \"4\", \"5\", \"6\", \"7\", \"8\", \"9\", \"10\", \"11\", \"12\", \"13\", \"14\", \"15\", \"16\", \"17\", \"18\", \"19\", \"20\", \"21\", \"22\", \"23\", \"24\", \"25\", \"26\", \"27\", \"28\", \"29\", \"30\", \"31\", \"32\", \"33\", \"34\", \"35\", \"36\", \"37\", \"38\", \"39\", \"40\", \"41\", \"42\", \"43\", \"45\", \"48\", \"49\"], \"mode\": \"markers\", \"name\": \"average_precision_score_macro\", \"stepped\": false, \"type\": \"scatter\", \"data\": [0.7228453352515233, 0.7219649457349678, 0.7166623529804786, 0.7112225123689239, 0.7163426839563484, 0.7006433394126056, 0.712546895831382, 0.709569573322602, 0.7026096833252842, 0.7165716401927199, 0.7016268768480504, 0.7103033565509053, 0.7190603685833407, 0.7125932347944243, 0.7143362748245057, 0.710643775957969, 0.7128439429698407, 0.7072928044092494, 0.6824718357722208, 0.7174821306996838, 0.6992790978438227, 0.7139085371550173, 0.721160788836337, 0.7129492137093044, 0.6841048197544654, 0.5, 0.7123842625938207, 0.6937852007122706, 0.7262258052888441, 0.7107270675443358, 0.7057537820919029, 0.7244792368260519, 0.7118933733410769, 0.7166135228527312, 0.7136623196979084, 0.7044060708406567, 0.7163869371876831, 0.7232795313431009, 0.70425783834312, 0.7073390264507751, 0.7119399009742874, 0.6862727940202427, 0.7144330121344318, 0.7087928383745613, 0.7257228110540851, 0.7231654164441723, 0.7255658429638895]}, {\"categories\": [\"0\", \"1\", \"2\", \"3\", \"4\", \"5\", \"6\", \"7\", \"8\", \"9\", \"10\", \"11\", \"12\", \"13\", \"14\", \"15\", \"16\", \"17\", \"18\", \"19\", \"20\", \"21\", \"22\", \"23\", \"24\", \"25\", \"26\", \"27\", \"28\", \"29\", \"30\", \"31\", \"32\", \"33\", \"34\", \"35\", \"36\", \"37\", \"38\", \"39\", \"40\", \"41\", \"42\", \"43\", \"45\", \"48\", \"49\"], \"mode\": \"lines\", \"name\": \"average_precision_score_macro_max\", \"stepped\": true, \"type\": \"scatter\", \"data\": [0.7228453352515233, 0.7228453352515233, 0.7228453352515233, 0.7228453352515233, 0.7228453352515233, 0.7228453352515233, 0.7228453352515233, 0.7228453352515233, 0.7228453352515233, 0.7228453352515233, 0.7228453352515233, 0.7228453352515233, 0.7228453352515233, 0.7228453352515233, 0.7228453352515233, 0.7228453352515233, 0.7228453352515233, 0.7228453352515233, 0.7228453352515233, 0.7228453352515233, 0.7228453352515233, 0.7228453352515233, 0.7228453352515233, 0.7228453352515233, 0.7228453352515233, 0.7228453352515233, 0.7228453352515233, 0.7228453352515233, 0.7262258052888441, 0.7262258052888441, 0.7262258052888441, 0.7262258052888441, 0.7262258052888441, 0.7262258052888441, 0.7262258052888441, 0.7262258052888441, 0.7262258052888441, 0.7262258052888441, 0.7262258052888441, 0.7262258052888441, 0.7262258052888441, 0.7262258052888441, 0.7262258052888441, 0.7262258052888441, 0.7262258052888441, 0.7262258052888441, 0.7262258052888441]}], \"recall_score_micro\": [{\"categories\": [\"0\", \"1\", \"2\", \"3\", \"4\", \"5\", \"6\", \"7\", \"8\", \"9\", \"10\", \"11\", \"12\", \"13\", \"14\", \"15\", \"16\", \"17\", \"18\", \"19\", \"20\", \"21\", \"22\", \"23\", \"24\", \"25\", \"26\", \"27\", \"28\", \"29\", \"30\", \"31\", \"32\", \"33\", \"34\", \"35\", \"36\", \"37\", \"38\", \"39\", \"40\", \"41\", \"42\", \"43\", \"45\", \"48\", \"49\"], \"mode\": \"markers\", \"name\": \"recall_score_micro\", \"stepped\": false, \"type\": \"scatter\", \"data\": [0.7938720116922434, 0.7943939868462261, 0.7764902390646206, 0.7631798726380623, 0.7506524689424783, 0.699759891429168, 0.7797786825347114, 0.7789957198037373, 0.7650067856770018, 0.7725754254097504, 0.7662595260465602, 0.7724188328635556, 0.7696523645474476, 0.7784737446497547, 0.7547238751435432, 0.7744545359640881, 0.7809792253888714, 0.7789957198037373, 0.7584298987368201, 0.7795176949577199, 0.7662595260465602, 0.7542540975049588, 0.7944983818770227, 0.7784215471343563, 0.7823363607892264, 0.7506524689424784, 0.7782127570727634, 0.7506524689424784, 0.7931934439920659, 0.7734627831715212, 0.7607265894143439, 0.7965340849775551, 0.7774819918571875, 0.7522705919198246, 0.7506524689424784, 0.7506524689424784, 0.781657793089049, 0.7953857396387932, 0.7506524689424784, 0.7780039670111702, 0.7506524689424784, 0.7823363607892264, 0.7804050527194905, 0.7506524689424784, 0.7940286042384382, 0.8004488986324251, 0.7959599123081742]}, {\"categories\": [\"0\", \"1\", \"2\", \"3\", \"4\", \"5\", \"6\", \"7\", \"8\", \"9\", \"10\", \"11\", \"12\", \"13\", \"14\", \"15\", \"16\", \"17\", \"18\", \"19\", \"20\", \"21\", \"22\", \"23\", \"24\", \"25\", \"26\", \"27\", \"28\", \"29\", \"30\", \"31\", \"32\", \"33\", \"34\", \"35\", \"36\", \"37\", \"38\", \"39\", \"40\", \"41\", \"42\", \"43\", \"45\", \"48\", \"49\"], \"mode\": \"lines\", \"name\": \"recall_score_micro_max\", \"stepped\": true, \"type\": \"scatter\", \"data\": [0.7938720116922434, 0.7943939868462261, 0.7943939868462261, 0.7943939868462261, 0.7943939868462261, 0.7943939868462261, 0.7943939868462261, 0.7943939868462261, 0.7943939868462261, 0.7943939868462261, 0.7943939868462261, 0.7943939868462261, 0.7943939868462261, 0.7943939868462261, 0.7943939868462261, 0.7943939868462261, 0.7943939868462261, 0.7943939868462261, 0.7943939868462261, 0.7943939868462261, 0.7943939868462261, 0.7943939868462261, 0.7944983818770227, 0.7944983818770227, 0.7944983818770227, 0.7944983818770227, 0.7944983818770227, 0.7944983818770227, 0.7944983818770227, 0.7944983818770227, 0.7944983818770227, 0.7965340849775551, 0.7965340849775551, 0.7965340849775551, 0.7965340849775551, 0.7965340849775551, 0.7965340849775551, 0.7965340849775551, 0.7965340849775551, 0.7965340849775551, 0.7965340849775551, 0.7965340849775551, 0.7965340849775551, 0.7965340849775551, 0.7965340849775551, 0.8004488986324251, 0.8004488986324251]}], \"balanced_accuracy\": [{\"categories\": [\"0\", \"1\", \"2\", \"3\", \"4\", \"5\", \"6\", \"7\", \"8\", \"9\", \"10\", \"11\", \"12\", \"13\", \"14\", \"15\", \"16\", \"17\", \"18\", \"19\", \"20\", \"21\", \"22\", \"23\", \"24\", \"25\", \"26\", \"27\", \"28\", \"29\", \"30\", \"31\", \"32\", \"33\", \"34\", \"35\", \"36\", \"37\", \"38\", \"39\", \"40\", \"41\", \"42\", \"43\", \"45\", \"48\", \"49\"], \"mode\": \"markers\", \"name\": \"balanced_accuracy\", \"stepped\": false, \"type\": \"scatter\", \"data\": [0.7208578475691056, 0.7110506294685369, 0.6276520606668659, 0.5568165214761542, 0.7543318990489851, 0.7264267811476479, 0.6739108919133426, 0.6715444344053054, 0.5757788731564039, 0.6121575860003844, 0.5885141493740987, 0.6110010881914291, 0.5874802953245575, 0.6749088680761576, 0.5164960317249693, 0.6158700528993949, 0.6655091854034826, 0.6813278614546922, 0.5374364755550723, 0.6440015060099246, 0.5942663983869124, 0.5157981463511073, 0.7070338939287107, 0.6477580950455065, 0.6620927773348232, 0.5, 0.6657418166070062, 0.5, 0.7151210175516253, 0.6173092953041747, 0.5449984399765143, 0.7234438645734248, 0.6583562451491725, 0.5055624905118833, 0.5, 0.5, 0.668625614690685, 0.7084335686069171, 0.5, 0.6784987215081415, 0.5, 0.6620927773348232, 0.6679510726013084, 0.5, 0.7072700873653472, 0.7476742500503134, 0.7232893238351364]}, {\"categories\": [\"0\", \"1\", \"2\", \"3\", \"4\", \"5\", \"6\", \"7\", \"8\", \"9\", \"10\", \"11\", \"12\", \"13\", \"14\", \"15\", \"16\", \"17\", \"18\", \"19\", \"20\", \"21\", \"22\", \"23\", \"24\", \"25\", \"26\", \"27\", \"28\", \"29\", \"30\", \"31\", \"32\", \"33\", \"34\", \"35\", \"36\", \"37\", \"38\", \"39\", \"40\", \"41\", \"42\", \"43\", \"45\", \"48\", \"49\"], \"mode\": \"lines\", \"name\": \"balanced_accuracy_max\", \"stepped\": true, \"type\": \"scatter\", \"data\": [0.7208578475691056, 0.7208578475691056, 0.7208578475691056, 0.7208578475691056, 0.7543318990489851, 0.7543318990489851, 0.7543318990489851, 0.7543318990489851, 0.7543318990489851, 0.7543318990489851, 0.7543318990489851, 0.7543318990489851, 0.7543318990489851, 0.7543318990489851, 0.7543318990489851, 0.7543318990489851, 0.7543318990489851, 0.7543318990489851, 0.7543318990489851, 0.7543318990489851, 0.7543318990489851, 0.7543318990489851, 0.7543318990489851, 0.7543318990489851, 0.7543318990489851, 0.7543318990489851, 0.7543318990489851, 0.7543318990489851, 0.7543318990489851, 0.7543318990489851, 0.7543318990489851, 0.7543318990489851, 0.7543318990489851, 0.7543318990489851, 0.7543318990489851, 0.7543318990489851, 0.7543318990489851, 0.7543318990489851, 0.7543318990489851, 0.7543318990489851, 0.7543318990489851, 0.7543318990489851, 0.7543318990489851, 0.7543318990489851, 0.7543318990489851, 0.7543318990489851, 0.7543318990489851]}], \"f1_score_micro\": [{\"categories\": [\"0\", \"1\", \"2\", \"3\", \"4\", \"5\", \"6\", \"7\", \"8\", \"9\", \"10\", \"11\", \"12\", \"13\", \"14\", \"15\", \"16\", \"17\", \"18\", \"19\", \"20\", \"21\", \"22\", \"23\", \"24\", \"25\", \"26\", \"27\", \"28\", \"29\", \"30\", \"31\", \"32\", \"33\", \"34\", \"35\", \"36\", \"37\", \"38\", \"39\", \"40\", \"41\", \"42\", \"43\", \"45\", \"48\", \"49\"], \"mode\": \"markers\", \"name\": \"f1_score_micro\", \"stepped\": false, \"type\": \"scatter\", \"data\": [0.7938720116922435, 0.794393986846226, 0.7764902390646206, 0.7631798726380623, 0.7506524689424783, 0.699759891429168, 0.7797786825347114, 0.7789957198037373, 0.7650067856770019, 0.7725754254097504, 0.7662595260465602, 0.7724188328635556, 0.7696523645474476, 0.7784737446497547, 0.7547238751435432, 0.7744545359640881, 0.7809792253888714, 0.7789957198037373, 0.7584298987368202, 0.77951769495772, 0.7662595260465602, 0.7542540975049588, 0.7944983818770228, 0.7784215471343563, 0.7823363607892264, 0.7506524689424783, 0.7782127570727634, 0.7506524689424783, 0.7931934439920659, 0.7734627831715212, 0.7607265894143439, 0.796534084977555, 0.7774819918571875, 0.7522705919198246, 0.7506524689424783, 0.7506524689424783, 0.781657793089049, 0.7953857396387932, 0.7506524689424783, 0.7780039670111702, 0.7506524689424783, 0.7823363607892264, 0.7804050527194907, 0.7506524689424783, 0.7940286042384382, 0.8004488986324251, 0.7959599123081742]}, {\"categories\": [\"0\", \"1\", \"2\", \"3\", \"4\", \"5\", \"6\", \"7\", \"8\", \"9\", \"10\", \"11\", \"12\", \"13\", \"14\", \"15\", \"16\", \"17\", \"18\", \"19\", \"20\", \"21\", \"22\", \"23\", \"24\", \"25\", \"26\", \"27\", \"28\", \"29\", \"30\", \"31\", \"32\", \"33\", \"34\", \"35\", \"36\", \"37\", \"38\", \"39\", \"40\", \"41\", \"42\", \"43\", \"45\", \"48\", \"49\"], \"mode\": \"lines\", \"name\": \"f1_score_micro_max\", \"stepped\": true, \"type\": \"scatter\", \"data\": [0.7938720116922435, 0.794393986846226, 0.794393986846226, 0.794393986846226, 0.794393986846226, 0.794393986846226, 0.794393986846226, 0.794393986846226, 0.794393986846226, 0.794393986846226, 0.794393986846226, 0.794393986846226, 0.794393986846226, 0.794393986846226, 0.794393986846226, 0.794393986846226, 0.794393986846226, 0.794393986846226, 0.794393986846226, 0.794393986846226, 0.794393986846226, 0.794393986846226, 0.7944983818770228, 0.7944983818770228, 0.7944983818770228, 0.7944983818770228, 0.7944983818770228, 0.7944983818770228, 0.7944983818770228, 0.7944983818770228, 0.7944983818770228, 0.796534084977555, 0.796534084977555, 0.796534084977555, 0.796534084977555, 0.796534084977555, 0.796534084977555, 0.796534084977555, 0.796534084977555, 0.796534084977555, 0.796534084977555, 0.796534084977555, 0.796534084977555, 0.796534084977555, 0.796534084977555, 0.8004488986324251, 0.8004488986324251]}], \"norm_macro_recall\": [{\"categories\": [\"0\", \"1\", \"2\", \"3\", \"4\", \"5\", \"6\", \"7\", \"8\", \"9\", \"10\", \"11\", \"12\", \"13\", \"14\", \"15\", \"16\", \"17\", \"18\", \"19\", \"20\", \"21\", \"22\", \"23\", \"24\", \"25\", \"26\", \"27\", \"28\", \"29\", \"30\", \"31\", \"32\", \"33\", \"34\", \"35\", \"36\", \"37\", \"38\", \"39\", \"40\", \"41\", \"42\", \"43\", \"45\", \"48\", \"49\"], \"mode\": \"markers\", \"name\": \"norm_macro_recall\", \"stepped\": false, \"type\": \"scatter\", \"data\": [0.44171569513821146, 0.4221012589370738, 0.2553041213337317, 0.11363304295230847, 0.5086637980979702, 0.452853562295296, 0.3478217838266853, 0.3430888688106107, 0.15155774631280775, 0.22431517200076878, 0.1770282987481974, 0.22200217638285824, 0.17496059064911498, 0.3498177361523153, 0.03299206344993851, 0.2317401057987898, 0.33101837080696533, 0.36265572290938425, 0.07487295111014476, 0.2880030120198492, 0.18853279677382465, 0.0315962927022145, 0.41406778785742127, 0.29551619009101315, 0.3241855546696463, 0.0, 0.33148363321401236, 0.0, 0.4302420351032503, 0.23461859060834944, 0.08999687995302874, 0.44688772914684943, 0.3167124902983449, 0.011124981023766542, 0.0, 0.0, 0.3372512293813703, 0.4168671372138341, 0.0, 0.35699744301628294, 0.0, 0.3241855546696463, 0.3359021452026165, 0.0, 0.41454017473069465, 0.495348500100627, 0.44657864767027283]}, {\"categories\": [\"0\", \"1\", \"2\", \"3\", \"4\", \"5\", \"6\", \"7\", \"8\", \"9\", \"10\", \"11\", \"12\", \"13\", \"14\", \"15\", \"16\", \"17\", \"18\", \"19\", \"20\", \"21\", \"22\", \"23\", \"24\", \"25\", \"26\", \"27\", \"28\", \"29\", \"30\", \"31\", \"32\", \"33\", \"34\", \"35\", \"36\", \"37\", \"38\", \"39\", \"40\", \"41\", \"42\", \"43\", \"45\", \"48\", \"49\"], \"mode\": \"lines\", \"name\": \"norm_macro_recall_max\", \"stepped\": true, \"type\": \"scatter\", \"data\": [0.44171569513821146, 0.44171569513821146, 0.44171569513821146, 0.44171569513821146, 0.5086637980979702, 0.5086637980979702, 0.5086637980979702, 0.5086637980979702, 0.5086637980979702, 0.5086637980979702, 0.5086637980979702, 0.5086637980979702, 0.5086637980979702, 0.5086637980979702, 0.5086637980979702, 0.5086637980979702, 0.5086637980979702, 0.5086637980979702, 0.5086637980979702, 0.5086637980979702, 0.5086637980979702, 0.5086637980979702, 0.5086637980979702, 0.5086637980979702, 0.5086637980979702, 0.5086637980979702, 0.5086637980979702, 0.5086637980979702, 0.5086637980979702, 0.5086637980979702, 0.5086637980979702, 0.5086637980979702, 0.5086637980979702, 0.5086637980979702, 0.5086637980979702, 0.5086637980979702, 0.5086637980979702, 0.5086637980979702, 0.5086637980979702, 0.5086637980979702, 0.5086637980979702, 0.5086637980979702, 0.5086637980979702, 0.5086637980979702, 0.5086637980979702, 0.5086637980979702, 0.5086637980979702]}], \"AUC_micro\": [{\"categories\": [\"0\", \"1\", \"2\", \"3\", \"4\", \"5\", \"6\", \"7\", \"8\", \"9\", \"10\", \"11\", \"12\", \"13\", \"14\", \"15\", \"16\", \"17\", \"18\", \"19\", \"20\", \"21\", \"22\", \"23\", \"24\", \"25\", \"26\", \"27\", \"28\", \"29\", \"30\", \"31\", \"32\", \"33\", \"34\", \"35\", \"36\", \"37\", \"38\", \"39\", \"40\", \"41\", \"42\", \"43\", \"45\", \"48\", \"49\"], \"mode\": \"markers\", \"name\": \"AUC_micro\", \"stepped\": false, \"type\": \"scatter\", \"data\": [0.8757082996861251, 0.874743839017566, 0.8642892390367316, 0.8582469148129682, 0.7946639491917592, 0.7767281439946521, 0.8672309687254001, 0.8654172154108251, 0.8556398181152809, 0.8647428326664702, 0.8565185771006346, 0.8612866476663132, 0.8630525355486659, 0.8675280433726207, 0.8585337477616618, 0.8614597511710272, 0.8666061025091197, 0.8661698535595681, 0.8485510914609997, 0.8676676427095275, 0.8563723815540619, 0.8591243986945947, 0.8736768305838664, 0.8661649002720123, 0.8578760557981467, 0.7506524689424783, 0.8667751436641385, 0.8509972308343491, 0.8766432531466372, 0.8625371320831235, 0.8554539145308436, 0.8769136977429389, 0.8647697242771283, 0.8592125606740945, 0.8593394988848891, 0.855294722734743, 0.8679933663219015, 0.8747840783486504, 0.8550871587344263, 0.8655242096915273, 0.8571923713355768, 0.8583368913631567, 0.8678368391656414, 0.8570616895510185, 0.8746753348871943, 0.8735967115663383, 0.8770092487850633]}, {\"categories\": [\"0\", \"1\", \"2\", \"3\", \"4\", \"5\", \"6\", \"7\", \"8\", \"9\", \"10\", \"11\", \"12\", \"13\", \"14\", \"15\", \"16\", \"17\", \"18\", \"19\", \"20\", \"21\", \"22\", \"23\", \"24\", \"25\", \"26\", \"27\", \"28\", \"29\", \"30\", \"31\", \"32\", \"33\", \"34\", \"35\", \"36\", \"37\", \"38\", \"39\", \"40\", \"41\", \"42\", \"43\", \"45\", \"48\", \"49\"], \"mode\": \"lines\", \"name\": \"AUC_micro_max\", \"stepped\": true, \"type\": \"scatter\", \"data\": [0.8757082996861251, 0.8757082996861251, 0.8757082996861251, 0.8757082996861251, 0.8757082996861251, 0.8757082996861251, 0.8757082996861251, 0.8757082996861251, 0.8757082996861251, 0.8757082996861251, 0.8757082996861251, 0.8757082996861251, 0.8757082996861251, 0.8757082996861251, 0.8757082996861251, 0.8757082996861251, 0.8757082996861251, 0.8757082996861251, 0.8757082996861251, 0.8757082996861251, 0.8757082996861251, 0.8757082996861251, 0.8757082996861251, 0.8757082996861251, 0.8757082996861251, 0.8757082996861251, 0.8757082996861251, 0.8757082996861251, 0.8766432531466372, 0.8766432531466372, 0.8766432531466372, 0.8769136977429389, 0.8769136977429389, 0.8769136977429389, 0.8769136977429389, 0.8769136977429389, 0.8769136977429389, 0.8769136977429389, 0.8769136977429389, 0.8769136977429389, 0.8769136977429389, 0.8769136977429389, 0.8769136977429389, 0.8769136977429389, 0.8769136977429389, 0.8769136977429389, 0.8770092487850633]}], \"recall_score_macro\": [{\"categories\": [\"0\", \"1\", \"2\", \"3\", \"4\", \"5\", \"6\", \"7\", \"8\", \"9\", \"10\", \"11\", \"12\", \"13\", \"14\", \"15\", \"16\", \"17\", \"18\", \"19\", \"20\", \"21\", \"22\", \"23\", \"24\", \"25\", \"26\", \"27\", \"28\", \"29\", \"30\", \"31\", \"32\", \"33\", \"34\", \"35\", \"36\", \"37\", \"38\", \"39\", \"40\", \"41\", \"42\", \"43\", \"45\", \"48\", \"49\"], \"mode\": \"markers\", \"name\": \"recall_score_macro\", \"stepped\": false, \"type\": \"scatter\", \"data\": [0.7208578475691056, 0.7110506294685369, 0.6276520606668659, 0.5568165214761542, 0.7543318990489851, 0.7264267811476479, 0.6739108919133426, 0.6715444344053054, 0.5757788731564039, 0.6121575860003844, 0.5885141493740987, 0.6110010881914291, 0.5874802953245575, 0.6749088680761576, 0.5164960317249693, 0.6158700528993949, 0.6655091854034826, 0.6813278614546922, 0.5374364755550723, 0.6440015060099246, 0.5942663983869124, 0.5157981463511073, 0.7070338939287107, 0.6477580950455065, 0.6620927773348232, 0.5, 0.6657418166070062, 0.5, 0.7151210175516253, 0.6173092953041747, 0.5449984399765143, 0.7234438645734248, 0.6583562451491725, 0.5055624905118833, 0.5, 0.5, 0.668625614690685, 0.7084335686069171, 0.5, 0.6784987215081415, 0.5, 0.6620927773348232, 0.6679510726013084, 0.5, 0.7072700873653472, 0.7476742500503134, 0.7232893238351364]}, {\"categories\": [\"0\", \"1\", \"2\", \"3\", \"4\", \"5\", \"6\", \"7\", \"8\", \"9\", \"10\", \"11\", \"12\", \"13\", \"14\", \"15\", \"16\", \"17\", \"18\", \"19\", \"20\", \"21\", \"22\", \"23\", \"24\", \"25\", \"26\", \"27\", \"28\", \"29\", \"30\", \"31\", \"32\", \"33\", \"34\", \"35\", \"36\", \"37\", \"38\", \"39\", \"40\", \"41\", \"42\", \"43\", \"45\", \"48\", \"49\"], \"mode\": \"lines\", \"name\": \"recall_score_macro_max\", \"stepped\": true, \"type\": \"scatter\", \"data\": [0.7208578475691056, 0.7208578475691056, 0.7208578475691056, 0.7208578475691056, 0.7543318990489851, 0.7543318990489851, 0.7543318990489851, 0.7543318990489851, 0.7543318990489851, 0.7543318990489851, 0.7543318990489851, 0.7543318990489851, 0.7543318990489851, 0.7543318990489851, 0.7543318990489851, 0.7543318990489851, 0.7543318990489851, 0.7543318990489851, 0.7543318990489851, 0.7543318990489851, 0.7543318990489851, 0.7543318990489851, 0.7543318990489851, 0.7543318990489851, 0.7543318990489851, 0.7543318990489851, 0.7543318990489851, 0.7543318990489851, 0.7543318990489851, 0.7543318990489851, 0.7543318990489851, 0.7543318990489851, 0.7543318990489851, 0.7543318990489851, 0.7543318990489851, 0.7543318990489851, 0.7543318990489851, 0.7543318990489851, 0.7543318990489851, 0.7543318990489851, 0.7543318990489851, 0.7543318990489851, 0.7543318990489851, 0.7543318990489851, 0.7543318990489851, 0.7543318990489851, 0.7543318990489851]}], \"AUC_weighted\": [{\"categories\": [\"0\", \"1\", \"2\", \"3\", \"4\", \"5\", \"6\", \"7\", \"8\", \"9\", \"10\", \"11\", \"12\", \"13\", \"14\", \"15\", \"16\", \"17\", \"18\", \"19\", \"20\", \"21\", \"22\", \"23\", \"24\", \"25\", \"26\", \"27\", \"28\", \"29\", \"30\", \"31\", \"32\", \"33\", \"34\", \"35\", \"36\", \"37\", \"38\", \"39\", \"40\", \"41\", \"42\", \"43\", \"45\", \"48\", \"49\"], \"mode\": \"markers\", \"name\": \"AUC_weighted\", \"stepped\": false, \"type\": \"scatter\", \"data\": [0.7994575725708583, 0.7984386134314766, 0.7911373299596681, 0.783229264796948, 0.7912923837901541, 0.7753832168230798, 0.7897192272242443, 0.7863211839174076, 0.7723799013042267, 0.7931646450373554, 0.773534531307256, 0.7854385588330804, 0.7927007898452697, 0.7911932893151294, 0.7880194242467818, 0.7856770874787856, 0.7889695296320721, 0.7874070969704134, 0.7588829537241769, 0.7926367814154264, 0.7732519662382833, 0.789423088900728, 0.7980598139992751, 0.7896661006251676, 0.7713691165622923, 0.5, 0.7895317593401967, 0.7680968680609882, 0.8013408666058551, 0.784580859934073, 0.7774513725400617, 0.8009613518509405, 0.7862358076201512, 0.7900576169832777, 0.7904604066941924, 0.77965752609806, 0.7915028569685592, 0.7981163729481966, 0.7791111052582971, 0.7871811348764705, 0.7846734479393164, 0.772618322736752, 0.7913184872379859, 0.7843960591326757, 0.79840423300583, 0.7976784279970287, 0.801031962875891]}, {\"categories\": [\"0\", \"1\", \"2\", \"3\", \"4\", \"5\", \"6\", \"7\", \"8\", \"9\", \"10\", \"11\", \"12\", \"13\", \"14\", \"15\", \"16\", \"17\", \"18\", \"19\", \"20\", \"21\", \"22\", \"23\", \"24\", \"25\", \"26\", \"27\", \"28\", \"29\", \"30\", \"31\", \"32\", \"33\", \"34\", \"35\", \"36\", \"37\", \"38\", \"39\", \"40\", \"41\", \"42\", \"43\", \"45\", \"48\", \"49\"], \"mode\": \"lines\", \"name\": \"AUC_weighted_max\", \"stepped\": true, \"type\": \"scatter\", \"data\": [0.7994575725708583, 0.7994575725708583, 0.7994575725708583, 0.7994575725708583, 0.7994575725708583, 0.7994575725708583, 0.7994575725708583, 0.7994575725708583, 0.7994575725708583, 0.7994575725708583, 0.7994575725708583, 0.7994575725708583, 0.7994575725708583, 0.7994575725708583, 0.7994575725708583, 0.7994575725708583, 0.7994575725708583, 0.7994575725708583, 0.7994575725708583, 0.7994575725708583, 0.7994575725708583, 0.7994575725708583, 0.7994575725708583, 0.7994575725708583, 0.7994575725708583, 0.7994575725708583, 0.7994575725708583, 0.7994575725708583, 0.8013408666058551, 0.8013408666058551, 0.8013408666058551, 0.8013408666058551, 0.8013408666058551, 0.8013408666058551, 0.8013408666058551, 0.8013408666058551, 0.8013408666058551, 0.8013408666058551, 0.8013408666058551, 0.8013408666058551, 0.8013408666058551, 0.8013408666058551, 0.8013408666058551, 0.8013408666058551, 0.8013408666058551, 0.8013408666058551, 0.8013408666058551]}], \"matthews_correlation\": [{\"categories\": [\"0\", \"1\", \"2\", \"3\", \"4\", \"5\", \"6\", \"7\", \"8\", \"9\", \"10\", \"11\", \"12\", \"13\", \"14\", \"15\", \"16\", \"17\", \"18\", \"19\", \"20\", \"21\", \"22\", \"23\", \"24\", \"25\", \"26\", \"27\", \"28\", \"29\", \"30\", \"31\", \"32\", \"33\", \"34\", \"35\", \"36\", \"37\", \"38\", \"39\", \"40\", \"41\", \"42\", \"43\", \"45\", \"48\", \"49\"], \"mode\": \"markers\", \"name\": \"matthews_correlation\", \"stepped\": false, \"type\": \"scatter\", \"data\": [0.4451799305367488, 0.4354855704240013, 0.3192562631405375, 0.1891587153296527, 0.45346759919190394, 0.39595615756210417, 0.37481170888968757, 0.37132585706954385, 0.2354491684891344, 0.29474571001692634, 0.25334500042761215, 0.2928463765673403, 0.2623268423196178, 0.374249500147688, 0.11218977143974805, 0.3022483286023135, 0.36740332239369966, 0.3823259650317879, 0.14787701945329093, 0.34208371931229853, 0.2603259621884419, 0.10605368568165785, 0.4313375693468171, 0.3441141063409547, 0.36588258873692653, 0.0, 0.3635427864095427, 0.0, 0.4381500887252037, 0.30192376700701784, 0.1833462204193701, 0.45143752717176344, 0.3543455017562825, 0.06403043463147688, 0.0, 0.0, 0.3718423281622285, 0.43397294378268864, 0.0, 0.3777451902617106, 0.0, 0.36588258873692653, 0.3692466311943316, 0.0, 0.4308476357172873, 0.4824498720331118, 0.45059186546465657]}, {\"categories\": [\"0\", \"1\", \"2\", \"3\", \"4\", \"5\", \"6\", \"7\", \"8\", \"9\", \"10\", \"11\", \"12\", \"13\", \"14\", \"15\", \"16\", \"17\", \"18\", \"19\", \"20\", \"21\", \"22\", \"23\", \"24\", \"25\", \"26\", \"27\", \"28\", \"29\", \"30\", \"31\", \"32\", \"33\", \"34\", \"35\", \"36\", \"37\", \"38\", \"39\", \"40\", \"41\", \"42\", \"43\", \"45\", \"48\", \"49\"], \"mode\": \"lines\", \"name\": \"matthews_correlation_max\", \"stepped\": true, \"type\": \"scatter\", \"data\": [0.4451799305367488, 0.4451799305367488, 0.4451799305367488, 0.4451799305367488, 0.45346759919190394, 0.45346759919190394, 0.45346759919190394, 0.45346759919190394, 0.45346759919190394, 0.45346759919190394, 0.45346759919190394, 0.45346759919190394, 0.45346759919190394, 0.45346759919190394, 0.45346759919190394, 0.45346759919190394, 0.45346759919190394, 0.45346759919190394, 0.45346759919190394, 0.45346759919190394, 0.45346759919190394, 0.45346759919190394, 0.45346759919190394, 0.45346759919190394, 0.45346759919190394, 0.45346759919190394, 0.45346759919190394, 0.45346759919190394, 0.45346759919190394, 0.45346759919190394, 0.45346759919190394, 0.45346759919190394, 0.45346759919190394, 0.45346759919190394, 0.45346759919190394, 0.45346759919190394, 0.45346759919190394, 0.45346759919190394, 0.45346759919190394, 0.45346759919190394, 0.45346759919190394, 0.45346759919190394, 0.45346759919190394, 0.45346759919190394, 0.45346759919190394, 0.4824498720331118, 0.4824498720331118]}], \"average_precision_score_weighted\": [{\"categories\": [\"0\", \"1\", \"2\", \"3\", \"4\", \"5\", \"6\", \"7\", \"8\", \"9\", \"10\", \"11\", \"12\", \"13\", \"14\", \"15\", \"16\", \"17\", \"18\", \"19\", \"20\", \"21\", \"22\", \"23\", \"24\", \"25\", \"26\", \"27\", \"28\", \"29\", \"30\", \"31\", \"32\", \"33\", \"34\", \"35\", \"36\", \"37\", \"38\", \"39\", \"40\", \"41\", \"42\", \"43\", \"45\", \"48\", \"49\"], \"mode\": \"markers\", \"name\": \"average_precision_score_weighted\", \"stepped\": false, \"type\": \"scatter\", \"data\": [0.8137167747863486, 0.8116735162890053, 0.8092976976536971, 0.8057773121112968, 0.8091732329195501, 0.7974216714334864, 0.8071109248695785, 0.8045667412241203, 0.7993151071916583, 0.8097338687676069, 0.7980759643577797, 0.8040162858044092, 0.8105147043557378, 0.808470041726488, 0.8076293665770532, 0.8041416859012913, 0.8063186235429377, 0.8033932669009918, 0.7838984005952404, 0.8104351893581372, 0.7968596243797216, 0.8076332960021726, 0.8132801839969973, 0.8076077044585205, 0.7830470102585685, 0.6257677146155691, 0.8071713968378886, 0.7940665664234033, 0.8162142770756494, 0.8044454116668537, 0.8013886498478233, 0.8149959606125435, 0.8062415279133467, 0.808780702644149, 0.8065607686420293, 0.7998888181522491, 0.8092326732945315, 0.8132936925025547, 0.8014277544120434, 0.8038748568725538, 0.8051949591117605, 0.7853804166829765, 0.8083126705861465, 0.8042493294017304, 0.8151776197387203, 0.8136726143423139, 0.815829994742702]}, {\"categories\": [\"0\", \"1\", \"2\", \"3\", \"4\", \"5\", \"6\", \"7\", \"8\", \"9\", \"10\", \"11\", \"12\", \"13\", \"14\", \"15\", \"16\", \"17\", \"18\", \"19\", \"20\", \"21\", \"22\", \"23\", \"24\", \"25\", \"26\", \"27\", \"28\", \"29\", \"30\", \"31\", \"32\", \"33\", \"34\", \"35\", \"36\", \"37\", \"38\", \"39\", \"40\", \"41\", \"42\", \"43\", \"45\", \"48\", \"49\"], \"mode\": \"lines\", \"name\": \"average_precision_score_weighted_max\", \"stepped\": true, \"type\": \"scatter\", \"data\": [0.8137167747863486, 0.8137167747863486, 0.8137167747863486, 0.8137167747863486, 0.8137167747863486, 0.8137167747863486, 0.8137167747863486, 0.8137167747863486, 0.8137167747863486, 0.8137167747863486, 0.8137167747863486, 0.8137167747863486, 0.8137167747863486, 0.8137167747863486, 0.8137167747863486, 0.8137167747863486, 0.8137167747863486, 0.8137167747863486, 0.8137167747863486, 0.8137167747863486, 0.8137167747863486, 0.8137167747863486, 0.8137167747863486, 0.8137167747863486, 0.8137167747863486, 0.8137167747863486, 0.8137167747863486, 0.8137167747863486, 0.8162142770756494, 0.8162142770756494, 0.8162142770756494, 0.8162142770756494, 0.8162142770756494, 0.8162142770756494, 0.8162142770756494, 0.8162142770756494, 0.8162142770756494, 0.8162142770756494, 0.8162142770756494, 0.8162142770756494, 0.8162142770756494, 0.8162142770756494, 0.8162142770756494, 0.8162142770756494, 0.8162142770756494, 0.8162142770756494, 0.8162142770756494]}], \"recall_score_weighted\": [{\"categories\": [\"0\", \"1\", \"2\", \"3\", \"4\", \"5\", \"6\", \"7\", \"8\", \"9\", \"10\", \"11\", \"12\", \"13\", \"14\", \"15\", \"16\", \"17\", \"18\", \"19\", \"20\", \"21\", \"22\", \"23\", \"24\", \"25\", \"26\", \"27\", \"28\", \"29\", \"30\", \"31\", \"32\", \"33\", \"34\", \"35\", \"36\", \"37\", \"38\", \"39\", \"40\", \"41\", \"42\", \"43\", \"45\", \"48\", \"49\"], \"mode\": \"markers\", \"name\": \"recall_score_weighted\", \"stepped\": false, \"type\": \"scatter\", \"data\": [0.7938720116922434, 0.7943939868462261, 0.7764902390646206, 0.7631798726380623, 0.7506524689424783, 0.699759891429168, 0.7797786825347114, 0.7789957198037373, 0.7650067856770018, 0.7725754254097504, 0.7662595260465602, 0.7724188328635556, 0.7696523645474476, 0.7784737446497547, 0.7547238751435432, 0.7744545359640881, 0.7809792253888714, 0.7789957198037373, 0.7584298987368201, 0.7795176949577199, 0.7662595260465602, 0.7542540975049588, 0.7944983818770227, 0.7784215471343563, 0.7823363607892264, 0.7506524689424784, 0.7782127570727634, 0.7506524689424784, 0.7931934439920659, 0.7734627831715212, 0.7607265894143439, 0.7965340849775551, 0.7774819918571875, 0.7522705919198246, 0.7506524689424784, 0.7506524689424784, 0.781657793089049, 0.7953857396387932, 0.7506524689424784, 0.7780039670111702, 0.7506524689424784, 0.7823363607892264, 0.7804050527194905, 0.7506524689424784, 0.7940286042384382, 0.8004488986324251, 0.7959599123081742]}, {\"categories\": [\"0\", \"1\", \"2\", \"3\", \"4\", \"5\", \"6\", \"7\", \"8\", \"9\", \"10\", \"11\", \"12\", \"13\", \"14\", \"15\", \"16\", \"17\", \"18\", \"19\", \"20\", \"21\", \"22\", \"23\", \"24\", \"25\", \"26\", \"27\", \"28\", \"29\", \"30\", \"31\", \"32\", \"33\", \"34\", \"35\", \"36\", \"37\", \"38\", \"39\", \"40\", \"41\", \"42\", \"43\", \"45\", \"48\", \"49\"], \"mode\": \"lines\", \"name\": \"recall_score_weighted_max\", \"stepped\": true, \"type\": \"scatter\", \"data\": [0.7938720116922434, 0.7943939868462261, 0.7943939868462261, 0.7943939868462261, 0.7943939868462261, 0.7943939868462261, 0.7943939868462261, 0.7943939868462261, 0.7943939868462261, 0.7943939868462261, 0.7943939868462261, 0.7943939868462261, 0.7943939868462261, 0.7943939868462261, 0.7943939868462261, 0.7943939868462261, 0.7943939868462261, 0.7943939868462261, 0.7943939868462261, 0.7943939868462261, 0.7943939868462261, 0.7943939868462261, 0.7944983818770227, 0.7944983818770227, 0.7944983818770227, 0.7944983818770227, 0.7944983818770227, 0.7944983818770227, 0.7944983818770227, 0.7944983818770227, 0.7944983818770227, 0.7965340849775551, 0.7965340849775551, 0.7965340849775551, 0.7965340849775551, 0.7965340849775551, 0.7965340849775551, 0.7965340849775551, 0.7965340849775551, 0.7965340849775551, 0.7965340849775551, 0.7965340849775551, 0.7965340849775551, 0.7965340849775551, 0.7965340849775551, 0.8004488986324251, 0.8004488986324251]}]}, \"metricName\": null, \"primaryMetricName\": \"accuracy\", \"showLegend\": false}, \"run_metrics\": [{\"name\": \"experiment_status\", \"run_id\": \"AutoML_4c8b955c-9895-4d84-bbc7-96a12522b18d\", \"categories\": [0, 1, 2, 3, 4, 5, 6, 7, 8, 9, 10, 11, 12, 13], \"series\": [{\"data\": [\"DatasetEvaluation\", \"FeaturesGeneration\", \"DatasetFeaturization\", \"DatasetFeaturizationCompleted\", \"DatasetCrossValidationSplit\", \"ModelSelection\", \"BestRunExplainModel\", \"ModelExplanationDataSetSetup\", \"PickSurrogateModel\", \"EngineeredFeatureExplanations\", \"EngineeredFeatureExplanations\", \"RawFeaturesExplanations\", \"RawFeaturesExplanations\", \"BestRunExplainModel\"]}]}, {\"name\": \"experiment_status_description\", \"run_id\": \"AutoML_4c8b955c-9895-4d84-bbc7-96a12522b18d\", \"categories\": [0, 1, 2, 3, 4, 5, 6, 7, 8, 9, 10, 11, 12, 13], \"series\": [{\"data\": [\"Gathering dataset statistics.\", \"Generating features for the dataset.\", \"Beginning to fit featurizers and featurize the dataset.\", \"Completed fit featurizers and featurizing the dataset.\", \"Generating individually featurized CV splits.\", \"Beginning model selection.\", \"Best run model explanations started\", \"Model explanations data setup completed\", \"Choosing LightGBM as the surrogate model for explanations\", \"Computation of engineered features started\", \"Computation of engineered features completed\", \"Computation of raw features started\", \"Computation of raw features completed\", \"Best run model explanations completed\"]}]}, {\"name\": \"average_precision_score_weighted\", \"run_id\": \"AutoML_4c8b955c-9895-4d84-bbc7-96a12522b18d\", \"categories\": [0], \"series\": [{\"data\": [0.8136726143423139]}]}, {\"name\": \"recall_score_macro\", \"run_id\": \"AutoML_4c8b955c-9895-4d84-bbc7-96a12522b18d\", \"categories\": [0], \"series\": [{\"data\": [0.7476742500503134]}]}, {\"name\": \"log_loss\", \"run_id\": \"AutoML_4c8b955c-9895-4d84-bbc7-96a12522b18d\", \"categories\": [0], \"series\": [{\"data\": [0.4669275147484014]}]}, {\"name\": \"f1_score_micro\", \"run_id\": \"AutoML_4c8b955c-9895-4d84-bbc7-96a12522b18d\", \"categories\": [0], \"series\": [{\"data\": [0.8004488986324251]}]}, {\"name\": \"norm_macro_recall\", \"run_id\": \"AutoML_4c8b955c-9895-4d84-bbc7-96a12522b18d\", \"categories\": [0], \"series\": [{\"data\": [0.495348500100627]}]}, {\"name\": \"f1_score_macro\", \"run_id\": \"AutoML_4c8b955c-9895-4d84-bbc7-96a12522b18d\", \"categories\": [0], \"series\": [{\"data\": [0.7406013817610778]}]}, {\"name\": \"AUC_micro\", \"run_id\": \"AutoML_4c8b955c-9895-4d84-bbc7-96a12522b18d\", \"categories\": [0], \"series\": [{\"data\": [0.8735967115663383]}]}, {\"name\": \"weighted_accuracy\", \"run_id\": \"AutoML_4c8b955c-9895-4d84-bbc7-96a12522b18d\", \"categories\": [0], \"series\": [{\"data\": [0.8320607581484133]}]}, {\"name\": \"precision_score_weighted\", \"run_id\": \"AutoML_4c8b955c-9895-4d84-bbc7-96a12522b18d\", \"categories\": [0], \"series\": [{\"data\": [0.8066197606740978]}]}, {\"name\": \"matthews_correlation\", \"run_id\": \"AutoML_4c8b955c-9895-4d84-bbc7-96a12522b18d\", \"categories\": [0], \"series\": [{\"data\": [0.4824498720331118]}]}, {\"name\": \"precision_score_macro\", \"run_id\": \"AutoML_4c8b955c-9895-4d84-bbc7-96a12522b18d\", \"categories\": [0], \"series\": [{\"data\": [0.734981329383844]}]}, {\"name\": \"average_precision_score_macro\", \"run_id\": \"AutoML_4c8b955c-9895-4d84-bbc7-96a12522b18d\", \"categories\": [0], \"series\": [{\"data\": [0.7231654164441723]}]}, {\"name\": \"AUC_macro\", \"run_id\": \"AutoML_4c8b955c-9895-4d84-bbc7-96a12522b18d\", \"categories\": [0], \"series\": [{\"data\": [0.7976784279970287]}]}, {\"name\": \"recall_score_micro\", \"run_id\": \"AutoML_4c8b955c-9895-4d84-bbc7-96a12522b18d\", \"categories\": [0], \"series\": [{\"data\": [0.8004488986324251]}]}, {\"name\": \"recall_score_weighted\", \"run_id\": \"AutoML_4c8b955c-9895-4d84-bbc7-96a12522b18d\", \"categories\": [0], \"series\": [{\"data\": [0.8004488986324251]}]}, {\"name\": \"f1_score_weighted\", \"run_id\": \"AutoML_4c8b955c-9895-4d84-bbc7-96a12522b18d\", \"categories\": [0], \"series\": [{\"data\": [0.8030711544069566]}]}, {\"name\": \"accuracy\", \"run_id\": \"AutoML_4c8b955c-9895-4d84-bbc7-96a12522b18d\", \"categories\": [0], \"series\": [{\"data\": [0.8004488986324251]}]}, {\"name\": \"precision_score_micro\", \"run_id\": \"AutoML_4c8b955c-9895-4d84-bbc7-96a12522b18d\", \"categories\": [0], \"series\": [{\"data\": [0.8004488986324251]}]}, {\"name\": \"AUC_weighted\", \"run_id\": \"AutoML_4c8b955c-9895-4d84-bbc7-96a12522b18d\", \"categories\": [0], \"series\": [{\"data\": [0.7976784279970287]}]}, {\"name\": \"average_precision_score_micro\", \"run_id\": \"AutoML_4c8b955c-9895-4d84-bbc7-96a12522b18d\", \"categories\": [0], \"series\": [{\"data\": [0.8611452255767592]}]}, {\"name\": \"balanced_accuracy\", \"run_id\": \"AutoML_4c8b955c-9895-4d84-bbc7-96a12522b18d\", \"categories\": [0], \"series\": [{\"data\": [0.7476742500503134]}]}], \"run_logs\": \"\\nRun is completed.\", \"graph\": {}, \"widget_settings\": {\"childWidgetDisplay\": \"popup\", \"send_telemetry\": false, \"log_level\": \"INFO\", \"sdk_version\": \"1.24.0\"}, \"loading\": false}"
     },
     "metadata": {},
     "output_type": "display_data"
    }
   ],
   "source": [
    "RunDetails(remote_run).show()"
   ]
  },
  {
   "cell_type": "code",
   "execution_count": 10,
   "metadata": {},
   "outputs": [
    {
     "name": "stdout",
     "output_type": "stream",
     "text": [
      "\n",
      "\n",
      "****************************************************************************************************\n",
      "DATA GUARDRAILS: \n",
      "\n",
      "TYPE:         Class balancing detection\n",
      "STATUS:       PASSED\n",
      "DESCRIPTION:  Your inputs were analyzed, and all classes are balanced in your training data.\n",
      "              Learn more about imbalanced data: https://aka.ms/AutomatedMLImbalancedData\n",
      "\n",
      "****************************************************************************************************\n",
      "\n",
      "TYPE:         Missing feature values imputation\n",
      "STATUS:       DONE\n",
      "DESCRIPTION:  If the missing values are expected, let the run complete. Otherwise cancel the current run and use a script to customize the handling of missing feature values that may be more appropriate based on the data type and business requirement.\n",
      "              Learn more about missing value imputation: https://aka.ms/AutomatedMLFeaturization\n",
      "DETAILS:      \n",
      "+---------------------------------+---------------------------------+\n",
      "|Column name                      |Missing value count              |\n",
      "+=================================+=================================+\n",
      "|gender                           |4508                             |\n",
      "|enrolled_university              |386                              |\n",
      "|education_level                  |460                              |\n",
      "|major_discipline                 |2813                             |\n",
      "|experience                       |65                               |\n",
      "|company_size                     |5938                             |\n",
      "|company_type                     |6140                             |\n",
      "|last_new_job                     |423                              |\n",
      "+---------------------------------+---------------------------------+\n",
      "\n",
      "****************************************************************************************************\n",
      "\n",
      "TYPE:         High cardinality feature detection\n",
      "STATUS:       PASSED\n",
      "DESCRIPTION:  Your inputs were analyzed, and no high cardinality features were detected.\n",
      "              Learn more about high cardinality feature handling: https://aka.ms/AutomatedMLFeaturization\n",
      "\n",
      "****************************************************************************************************\n",
      "\n",
      "****************************************************************************************************\n",
      "ITERATION: The iteration being evaluated.\n",
      "PIPELINE: A summary description of the pipeline being evaluated.\n",
      "DURATION: Time taken for the current iteration.\n",
      "METRIC: The result of computing score on the fitted pipeline.\n",
      "BEST: The best observed score thus far.\n",
      "****************************************************************************************************\n",
      "\n",
      " ITERATION   PIPELINE                                       DURATION      METRIC      BEST\n",
      "         0   MaxAbsScaler LightGBM                          0:00:58       0.7939    0.7939\n",
      "         1   MaxAbsScaler XGBoostClassifier                 0:01:03       0.7944    0.7944\n",
      "         2   MaxAbsScaler RandomForest                      0:03:28       0.7765    0.7944\n",
      "         3   MaxAbsScaler RandomForest                      0:00:50       0.7632    0.7944\n",
      "         4   MaxAbsScaler RandomForest                      0:03:23       0.7507    0.7944\n",
      "         5   MaxAbsScaler RandomForest                      0:03:37       0.6998    0.7944\n",
      "         6   SparseNormalizer XGBoostClassifier             0:01:03       0.7798    0.7944\n",
      "         7   SparseNormalizer XGBoostClassifier             0:01:03       0.7790    0.7944\n",
      "        10   SparseNormalizer LightGBM                      0:01:24       0.7663    0.7944\n",
      "        11   MaxAbsScaler LogisticRegression                0:01:19       0.7724    0.7944\n",
      "         8   StandardScalerWrapper GradientBoosting         0:00:48       0.7650    0.7944\n",
      "         9   MaxAbsScaler LightGBM                          0:00:51       0.7726    0.7944\n",
      "        12   MaxAbsScaler LightGBM                          0:00:55       0.7697    0.7944\n",
      "        13   SparseNormalizer XGBoostClassifier             0:00:55       0.7785    0.7944\n",
      "        14   MaxAbsScaler ExtremeRandomTrees                0:01:18       0.7547    0.7944\n",
      "        15   MaxAbsScaler LogisticRegression                0:01:08       0.7745    0.7944\n",
      "        16   SparseNormalizer XGBoostClassifier             0:01:05       0.7810    0.7944\n",
      "        17   SparseNormalizer XGBoostClassifier             0:01:27       0.7790    0.7944\n",
      "        18   SparseNormalizer XGBoostClassifier             0:00:54       0.7584    0.7944\n",
      "        19   StandardScalerWrapper RandomForest             0:00:51       0.7795    0.7944\n",
      "        20   TruncatedSVDWrapper XGBoostClassifier          0:01:02       0.7663    0.7944\n",
      "        21   StandardScalerWrapper ExtremeRandomTrees       0:00:51       0.7543    0.7944\n",
      "        22   MaxAbsScaler LightGBM                          0:01:18       0.7945    0.7945\n",
      "        23   SparseNormalizer XGBoostClassifier             0:00:54       0.7784    0.7945\n",
      "        24   StandardScalerWrapper XGBoostClassifier        0:00:47       0.7823    0.7945\n",
      "        25   TruncatedSVDWrapper XGBoostClassifier          0:01:00       0.7507    0.7945\n",
      "        26   SparseNormalizer XGBoostClassifier             0:01:08       0.7782    0.7945\n",
      "        27   SparseNormalizer ExtremeRandomTrees            0:00:52       0.7507    0.7945\n",
      "        28   StandardScalerWrapper XGBoostClassifier        0:01:02       0.7932    0.7945\n",
      "        29   SparseNormalizer LightGBM                      0:00:54       0.7735    0.7945\n",
      "        30   MaxAbsScaler LightGBM                          0:01:27       0.7607    0.7945\n",
      "        31   StandardScalerWrapper LightGBM                 0:01:17       0.7965    0.7965\n",
      "        32   SparseNormalizer XGBoostClassifier             0:01:00       0.7775    0.7965\n",
      "        33   MaxAbsScaler LightGBM                          0:00:56       0.7523    0.7965\n",
      "        34   StandardScalerWrapper LightGBM                 0:00:50       0.7507    0.7965\n",
      "        35   MaxAbsScaler LightGBM                          0:00:49       0.7507    0.7965\n",
      "        36   SparseNormalizer XGBoostClassifier             0:01:01       0.7817    0.7965\n",
      "        37   StandardScalerWrapper LightGBM                 0:00:50       0.7954    0.7965\n",
      "        38   MaxAbsScaler ExtremeRandomTrees                0:01:17       0.7507    0.7965\n",
      "        39   SparseNormalizer XGBoostClassifier             0:00:56       0.7780    0.7965\n",
      "        40   MaxAbsScaler LightGBM                          0:00:47       0.7507    0.7965\n",
      "        41   StandardScalerWrapper XGBoostClassifier        0:00:50       0.7823    0.7965\n",
      "        42   SparseNormalizer XGBoostClassifier             0:00:59       0.7804    0.7965\n",
      "        43   StandardScalerWrapper ExtremeRandomTrees       0:01:00       0.7507    0.7965\n",
      "        44   SparseNormalizer XGBoostClassifier             0:01:04          nan    0.7965\n",
      "        45   MaxAbsScaler LightGBM                          0:00:47       0.7940    0.7965\n",
      "        46                                                  0:00:17          nan    0.7965\n",
      "        47                                                  0:00:18          nan    0.7965\n",
      "        48    VotingEnsemble                                0:01:40       0.8004    0.8004\n",
      "        49    StackEnsemble                                 0:01:46       0.7960    0.8004\n"
     ]
    },
    {
     "data": {
      "text/plain": [
       "{'runId': 'AutoML_4c8b955c-9895-4d84-bbc7-96a12522b18d',\n",
       " 'target': 'demo-1-cluster',\n",
       " 'status': 'Completed',\n",
       " 'startTimeUtc': '2021-03-21T12:03:02.798092Z',\n",
       " 'endTimeUtc': '2021-03-21T12:34:21.700401Z',\n",
       " 'properties': {'num_iterations': '1000',\n",
       "  'training_type': 'TrainFull',\n",
       "  'acquisition_function': 'EI',\n",
       "  'primary_metric': 'accuracy',\n",
       "  'train_split': '0',\n",
       "  'acquisition_parameter': '0',\n",
       "  'num_cross_validation': '6',\n",
       "  'target': 'demo-1-cluster',\n",
       "  'AMLSettingsJsonString': '{\"path\":null,\"name\":\"automl-job-change-expt\",\"subscription_id\":\"610d6e37-4747-4a20-80eb-3aad70a55f43\",\"resource_group\":\"aml-quickstarts-141031\",\"workspace_name\":\"quick-starts-ws-141031\",\"region\":\"southcentralus\",\"compute_target\":\"demo-1-cluster\",\"spark_service\":null,\"azure_service\":\"remote\",\"many_models\":false,\"pipeline_fetch_max_batch_size\":1,\"enable_batch_run\":false,\"iterations\":1000,\"primary_metric\":\"accuracy\",\"task_type\":\"classification\",\"data_script\":null,\"validation_size\":0.0,\"n_cross_validations\":6,\"y_min\":null,\"y_max\":null,\"num_classes\":null,\"featurization\":\"auto\",\"_ignore_package_version_incompatibilities\":false,\"is_timeseries\":false,\"max_cores_per_iteration\":-1,\"max_concurrent_iterations\":4,\"iteration_timeout_minutes\":null,\"mem_in_mb\":null,\"enforce_time_on_windows\":false,\"experiment_timeout_minutes\":30,\"experiment_exit_score\":null,\"whitelist_models\":null,\"blacklist_algos\":[\"TensorFlowLinearClassifier\",\"TensorFlowDNN\"],\"supported_models\":[\"KNN\",\"RandomForest\",\"SGD\",\"LinearSVM\",\"ExtremeRandomTrees\",\"AveragedPerceptronClassifier\",\"DecisionTree\",\"SVM\",\"MultinomialNaiveBayes\",\"TensorFlowDNN\",\"LogisticRegression\",\"TensorFlowLinearClassifier\",\"XGBoostClassifier\",\"LightGBM\",\"BernoulliNaiveBayes\",\"GradientBoosting\"],\"private_models\":[],\"auto_blacklist\":true,\"blacklist_samples_reached\":false,\"exclude_nan_labels\":true,\"verbosity\":20,\"_debug_log\":\"azureml_automl.log\",\"show_warnings\":false,\"model_explainability\":true,\"service_url\":null,\"sdk_url\":null,\"sdk_packages\":null,\"enable_onnx_compatible_models\":false,\"enable_split_onnx_featurizer_estimator_models\":false,\"vm_type\":\"STANDARD_D2_V2\",\"telemetry_verbosity\":20,\"send_telemetry\":true,\"enable_dnn\":false,\"scenario\":\"SDK-1.13.0\",\"environment_label\":null,\"save_mlflow\":false,\"force_text_dnn\":false,\"enable_feature_sweeping\":true,\"enable_early_stopping\":true,\"early_stopping_n_iters\":10,\"metrics\":null,\"enable_metric_confidence\":false,\"enable_ensembling\":true,\"enable_stack_ensembling\":true,\"ensemble_iterations\":15,\"enable_tf\":false,\"enable_subsampling\":null,\"subsample_seed\":null,\"enable_nimbusml\":false,\"enable_streaming\":false,\"force_streaming\":false,\"track_child_runs\":true,\"allowed_private_models\":[],\"label_column_name\":\"target\",\"weight_column_name\":null,\"cv_split_column_names\":null,\"enable_local_managed\":false,\"_local_managed_run_id\":null,\"cost_mode\":1,\"lag_length\":0,\"metric_operation\":\"maximize\",\"preprocess\":true}',\n",
       "  'DataPrepJsonString': '{\\\\\"training_data\\\\\": \\\\\"{\\\\\\\\\\\\\"blocks\\\\\\\\\\\\\": [{\\\\\\\\\\\\\"id\\\\\\\\\\\\\": \\\\\\\\\\\\\"2c34e0c2-7327-45ef-b8c2-4c40d6343374\\\\\\\\\\\\\", \\\\\\\\\\\\\"type\\\\\\\\\\\\\": \\\\\\\\\\\\\"Microsoft.DPrep.GetDatastoreFilesBlock\\\\\\\\\\\\\", \\\\\\\\\\\\\"arguments\\\\\\\\\\\\\": {\\\\\\\\\\\\\"datastores\\\\\\\\\\\\\": [{\\\\\\\\\\\\\"datastoreName\\\\\\\\\\\\\": \\\\\\\\\\\\\"workspaceblobstore\\\\\\\\\\\\\", \\\\\\\\\\\\\"path\\\\\\\\\\\\\": \\\\\\\\\\\\\"UI/03-21-2021_113957_UTC/aug_train.csv\\\\\\\\\\\\\", \\\\\\\\\\\\\"resourceGroup\\\\\\\\\\\\\": \\\\\\\\\\\\\"aml-quickstarts-141031\\\\\\\\\\\\\", \\\\\\\\\\\\\"subscription\\\\\\\\\\\\\": \\\\\\\\\\\\\"610d6e37-4747-4a20-80eb-3aad70a55f43\\\\\\\\\\\\\", \\\\\\\\\\\\\"workspaceName\\\\\\\\\\\\\": \\\\\\\\\\\\\"quick-starts-ws-141031\\\\\\\\\\\\\"}]}, \\\\\\\\\\\\\"localData\\\\\\\\\\\\\": {}, \\\\\\\\\\\\\"isEnabled\\\\\\\\\\\\\": true, \\\\\\\\\\\\\"name\\\\\\\\\\\\\": null, \\\\\\\\\\\\\"annotation\\\\\\\\\\\\\": null}, {\\\\\\\\\\\\\"id\\\\\\\\\\\\\": \\\\\\\\\\\\\"f6bf6bfd-1260-4a19-a58a-18d3148c6995\\\\\\\\\\\\\", \\\\\\\\\\\\\"type\\\\\\\\\\\\\": \\\\\\\\\\\\\"Microsoft.DPrep.ParseDelimitedBlock\\\\\\\\\\\\\", \\\\\\\\\\\\\"arguments\\\\\\\\\\\\\": {\\\\\\\\\\\\\"columnHeadersMode\\\\\\\\\\\\\": 1, \\\\\\\\\\\\\"fileEncoding\\\\\\\\\\\\\": 0, \\\\\\\\\\\\\"handleQuotedLineBreaks\\\\\\\\\\\\\": false, \\\\\\\\\\\\\"preview\\\\\\\\\\\\\": false, \\\\\\\\\\\\\"separator\\\\\\\\\\\\\": \\\\\\\\\\\\\",\\\\\\\\\\\\\", \\\\\\\\\\\\\"skipRows\\\\\\\\\\\\\": 0, \\\\\\\\\\\\\"skipRowsMode\\\\\\\\\\\\\": 0}, \\\\\\\\\\\\\"localData\\\\\\\\\\\\\": {}, \\\\\\\\\\\\\"isEnabled\\\\\\\\\\\\\": true, \\\\\\\\\\\\\"name\\\\\\\\\\\\\": null, \\\\\\\\\\\\\"annotation\\\\\\\\\\\\\": null}, {\\\\\\\\\\\\\"id\\\\\\\\\\\\\": \\\\\\\\\\\\\"87f6d012-fce5-43b5-8a5f-76528f4e2869\\\\\\\\\\\\\", \\\\\\\\\\\\\"type\\\\\\\\\\\\\": \\\\\\\\\\\\\"Microsoft.DPrep.DropColumnsBlock\\\\\\\\\\\\\", \\\\\\\\\\\\\"arguments\\\\\\\\\\\\\": {\\\\\\\\\\\\\"columns\\\\\\\\\\\\\": {\\\\\\\\\\\\\"type\\\\\\\\\\\\\": 0, \\\\\\\\\\\\\"details\\\\\\\\\\\\\": {\\\\\\\\\\\\\"selectedColumns\\\\\\\\\\\\\": [\\\\\\\\\\\\\"Path\\\\\\\\\\\\\"]}}}, \\\\\\\\\\\\\"localData\\\\\\\\\\\\\": {}, \\\\\\\\\\\\\"isEnabled\\\\\\\\\\\\\": true, \\\\\\\\\\\\\"name\\\\\\\\\\\\\": null, \\\\\\\\\\\\\"annotation\\\\\\\\\\\\\": null}, {\\\\\\\\\\\\\"id\\\\\\\\\\\\\": \\\\\\\\\\\\\"f68eb1f1-54ed-4265-a0eb-26edcbc1cace\\\\\\\\\\\\\", \\\\\\\\\\\\\"type\\\\\\\\\\\\\": \\\\\\\\\\\\\"Microsoft.DPrep.SetColumnTypesBlock\\\\\\\\\\\\\", \\\\\\\\\\\\\"arguments\\\\\\\\\\\\\": {\\\\\\\\\\\\\"columnConversion\\\\\\\\\\\\\": [{\\\\\\\\\\\\\"column\\\\\\\\\\\\\": {\\\\\\\\\\\\\"type\\\\\\\\\\\\\": 2, \\\\\\\\\\\\\"details\\\\\\\\\\\\\": {\\\\\\\\\\\\\"selectedColumn\\\\\\\\\\\\\": \\\\\\\\\\\\\"Path\\\\\\\\\\\\\"}}, \\\\\\\\\\\\\"typeProperty\\\\\\\\\\\\\": 0}, {\\\\\\\\\\\\\"column\\\\\\\\\\\\\": {\\\\\\\\\\\\\"type\\\\\\\\\\\\\": 2, \\\\\\\\\\\\\"details\\\\\\\\\\\\\": {\\\\\\\\\\\\\"selectedColumn\\\\\\\\\\\\\": \\\\\\\\\\\\\"enrollee_id\\\\\\\\\\\\\"}}, \\\\\\\\\\\\\"typeProperty\\\\\\\\\\\\\": 2}, {\\\\\\\\\\\\\"column\\\\\\\\\\\\\": {\\\\\\\\\\\\\"type\\\\\\\\\\\\\": 2, \\\\\\\\\\\\\"details\\\\\\\\\\\\\": {\\\\\\\\\\\\\"selectedColumn\\\\\\\\\\\\\": \\\\\\\\\\\\\"city\\\\\\\\\\\\\"}}, \\\\\\\\\\\\\"typeProperty\\\\\\\\\\\\\": 0}, {\\\\\\\\\\\\\"column\\\\\\\\\\\\\": {\\\\\\\\\\\\\"type\\\\\\\\\\\\\": 2, \\\\\\\\\\\\\"details\\\\\\\\\\\\\": {\\\\\\\\\\\\\"selectedColumn\\\\\\\\\\\\\": \\\\\\\\\\\\\"city_development_index\\\\\\\\\\\\\"}}, \\\\\\\\\\\\\"typeProperty\\\\\\\\\\\\\": 3}, {\\\\\\\\\\\\\"column\\\\\\\\\\\\\": {\\\\\\\\\\\\\"type\\\\\\\\\\\\\": 2, \\\\\\\\\\\\\"details\\\\\\\\\\\\\": {\\\\\\\\\\\\\"selectedColumn\\\\\\\\\\\\\": \\\\\\\\\\\\\"gender\\\\\\\\\\\\\"}}, \\\\\\\\\\\\\"typeProperty\\\\\\\\\\\\\": 0}, {\\\\\\\\\\\\\"column\\\\\\\\\\\\\": {\\\\\\\\\\\\\"type\\\\\\\\\\\\\": 2, \\\\\\\\\\\\\"details\\\\\\\\\\\\\": {\\\\\\\\\\\\\"selectedColumn\\\\\\\\\\\\\": \\\\\\\\\\\\\"relevent_experience\\\\\\\\\\\\\"}}, \\\\\\\\\\\\\"typeProperty\\\\\\\\\\\\\": 0}, {\\\\\\\\\\\\\"column\\\\\\\\\\\\\": {\\\\\\\\\\\\\"type\\\\\\\\\\\\\": 2, \\\\\\\\\\\\\"details\\\\\\\\\\\\\": {\\\\\\\\\\\\\"selectedColumn\\\\\\\\\\\\\": \\\\\\\\\\\\\"enrolled_university\\\\\\\\\\\\\"}}, \\\\\\\\\\\\\"typeProperty\\\\\\\\\\\\\": 0}, {\\\\\\\\\\\\\"column\\\\\\\\\\\\\": {\\\\\\\\\\\\\"type\\\\\\\\\\\\\": 2, \\\\\\\\\\\\\"details\\\\\\\\\\\\\": {\\\\\\\\\\\\\"selectedColumn\\\\\\\\\\\\\": \\\\\\\\\\\\\"education_level\\\\\\\\\\\\\"}}, \\\\\\\\\\\\\"typeProperty\\\\\\\\\\\\\": 0}, {\\\\\\\\\\\\\"column\\\\\\\\\\\\\": {\\\\\\\\\\\\\"type\\\\\\\\\\\\\": 2, \\\\\\\\\\\\\"details\\\\\\\\\\\\\": {\\\\\\\\\\\\\"selectedColumn\\\\\\\\\\\\\": \\\\\\\\\\\\\"major_discipline\\\\\\\\\\\\\"}}, \\\\\\\\\\\\\"typeProperty\\\\\\\\\\\\\": 0}, {\\\\\\\\\\\\\"column\\\\\\\\\\\\\": {\\\\\\\\\\\\\"type\\\\\\\\\\\\\": 2, \\\\\\\\\\\\\"details\\\\\\\\\\\\\": {\\\\\\\\\\\\\"selectedColumn\\\\\\\\\\\\\": \\\\\\\\\\\\\"experience\\\\\\\\\\\\\"}}, \\\\\\\\\\\\\"typeProperty\\\\\\\\\\\\\": 0}, {\\\\\\\\\\\\\"column\\\\\\\\\\\\\": {\\\\\\\\\\\\\"type\\\\\\\\\\\\\": 2, \\\\\\\\\\\\\"details\\\\\\\\\\\\\": {\\\\\\\\\\\\\"selectedColumn\\\\\\\\\\\\\": \\\\\\\\\\\\\"company_size\\\\\\\\\\\\\"}}, \\\\\\\\\\\\\"typeProperty\\\\\\\\\\\\\": 0}, {\\\\\\\\\\\\\"column\\\\\\\\\\\\\": {\\\\\\\\\\\\\"type\\\\\\\\\\\\\": 2, \\\\\\\\\\\\\"details\\\\\\\\\\\\\": {\\\\\\\\\\\\\"selectedColumn\\\\\\\\\\\\\": \\\\\\\\\\\\\"company_type\\\\\\\\\\\\\"}}, \\\\\\\\\\\\\"typeProperty\\\\\\\\\\\\\": 0}, {\\\\\\\\\\\\\"column\\\\\\\\\\\\\": {\\\\\\\\\\\\\"type\\\\\\\\\\\\\": 2, \\\\\\\\\\\\\"details\\\\\\\\\\\\\": {\\\\\\\\\\\\\"selectedColumn\\\\\\\\\\\\\": \\\\\\\\\\\\\"last_new_job\\\\\\\\\\\\\"}}, \\\\\\\\\\\\\"typeProperty\\\\\\\\\\\\\": 0}, {\\\\\\\\\\\\\"column\\\\\\\\\\\\\": {\\\\\\\\\\\\\"type\\\\\\\\\\\\\": 2, \\\\\\\\\\\\\"details\\\\\\\\\\\\\": {\\\\\\\\\\\\\"selectedColumn\\\\\\\\\\\\\": \\\\\\\\\\\\\"training_hours\\\\\\\\\\\\\"}}, \\\\\\\\\\\\\"typeProperty\\\\\\\\\\\\\": 2}, {\\\\\\\\\\\\\"column\\\\\\\\\\\\\": {\\\\\\\\\\\\\"type\\\\\\\\\\\\\": 2, \\\\\\\\\\\\\"details\\\\\\\\\\\\\": {\\\\\\\\\\\\\"selectedColumn\\\\\\\\\\\\\": \\\\\\\\\\\\\"target\\\\\\\\\\\\\"}}, \\\\\\\\\\\\\"typeProperty\\\\\\\\\\\\\": 3}]}, \\\\\\\\\\\\\"localData\\\\\\\\\\\\\": {}, \\\\\\\\\\\\\"isEnabled\\\\\\\\\\\\\": true, \\\\\\\\\\\\\"name\\\\\\\\\\\\\": null, \\\\\\\\\\\\\"annotation\\\\\\\\\\\\\": null}, {\\\\\\\\\\\\\"id\\\\\\\\\\\\\": \\\\\\\\\\\\\"c0f08ace-dcde-4b48-ba1a-7618425443cd\\\\\\\\\\\\\", \\\\\\\\\\\\\"type\\\\\\\\\\\\\": \\\\\\\\\\\\\"Microsoft.DPrep.DropColumnsBlock\\\\\\\\\\\\\", \\\\\\\\\\\\\"arguments\\\\\\\\\\\\\": {\\\\\\\\\\\\\"columns\\\\\\\\\\\\\": {\\\\\\\\\\\\\"type\\\\\\\\\\\\\": 0, \\\\\\\\\\\\\"details\\\\\\\\\\\\\": {\\\\\\\\\\\\\"selectedColumns\\\\\\\\\\\\\": [\\\\\\\\\\\\\"enrollee_id\\\\\\\\\\\\\", \\\\\\\\\\\\\"city\\\\\\\\\\\\\"]}}}, \\\\\\\\\\\\\"localData\\\\\\\\\\\\\": {}, \\\\\\\\\\\\\"isEnabled\\\\\\\\\\\\\": true, \\\\\\\\\\\\\"name\\\\\\\\\\\\\": null, \\\\\\\\\\\\\"annotation\\\\\\\\\\\\\": null}], \\\\\\\\\\\\\"inspectors\\\\\\\\\\\\\": [], \\\\\\\\\\\\\"meta\\\\\\\\\\\\\": {\\\\\\\\\\\\\"savedDatasetId\\\\\\\\\\\\\": \\\\\\\\\\\\\"c99c92b9-14b3-41af-8af4-ea479fc85c5d\\\\\\\\\\\\\", \\\\\\\\\\\\\"datasetType\\\\\\\\\\\\\": \\\\\\\\\\\\\"tabular\\\\\\\\\\\\\", \\\\\\\\\\\\\"subscriptionId\\\\\\\\\\\\\": \\\\\\\\\\\\\"610d6e37-4747-4a20-80eb-3aad70a55f43\\\\\\\\\\\\\", \\\\\\\\\\\\\"workspaceId\\\\\\\\\\\\\": \\\\\\\\\\\\\"2f58ce15-0d8a-491a-b594-11f1331eea5e\\\\\\\\\\\\\", \\\\\\\\\\\\\"workspaceLocation\\\\\\\\\\\\\": \\\\\\\\\\\\\"southcentralus\\\\\\\\\\\\\", \\\\\\\\\\\\\"partition_keys\\\\\\\\\\\\\": \\\\\\\\\\\\\"true\\\\\\\\\\\\\"}}\\\\\", \\\\\"activities\\\\\": 0}',\n",
       "  'EnableSubsampling': None,\n",
       "  'runTemplate': 'AutoML',\n",
       "  'azureml.runsource': 'automl',\n",
       "  'display_task_type': 'classification',\n",
       "  'dependencies_versions': '{\"azureml-widgets\": \"1.24.0\", \"azureml-train\": \"1.24.0\", \"azureml-train-restclients-hyperdrive\": \"1.24.0\", \"azureml-train-core\": \"1.24.0\", \"azureml-train-automl\": \"1.24.0\", \"azureml-train-automl-runtime\": \"1.24.0\", \"azureml-train-automl-client\": \"1.24.0\", \"azureml-tensorboard\": \"1.24.0\", \"azureml-telemetry\": \"1.24.0\", \"azureml-sdk\": \"1.24.0\", \"azureml-samples\": \"0+unknown\", \"azureml-pipeline\": \"1.24.0\", \"azureml-pipeline-steps\": \"1.24.0\", \"azureml-pipeline-core\": \"1.24.0\", \"azureml-opendatasets\": \"1.24.0\", \"azureml-model-management-sdk\": \"1.0.1b6.post1\", \"azureml-mlflow\": \"1.24.0\", \"azureml-interpret\": \"1.24.0\", \"azureml-explain-model\": \"1.24.0\", \"azureml-defaults\": \"1.24.0\", \"azureml-dataset-runtime\": \"1.24.0\", \"azureml-dataprep\": \"2.11.1\", \"azureml-dataprep-rslex\": \"1.9.0\", \"azureml-dataprep-native\": \"30.0.0\", \"azureml-datadrift\": \"1.24.0\", \"azureml-core\": \"1.24.0\", \"azureml-contrib-services\": \"1.24.0\", \"azureml-contrib-server\": \"1.24.0\", \"azureml-contrib-reinforcementlearning\": \"1.24.0\", \"azureml-contrib-pipeline-steps\": \"1.24.0\", \"azureml-contrib-notebook\": \"1.24.0\", \"azureml-contrib-gbdt\": \"1.24.0\", \"azureml-contrib-fairness\": \"1.24.0\", \"azureml-contrib-dataset\": \"1.24.0\", \"azureml-cli-common\": \"1.24.0\", \"azureml-automl-runtime\": \"1.24.0\", \"azureml-automl-dnn-nlp\": \"1.24.0\", \"azureml-automl-core\": \"1.24.0\", \"azureml-accel-models\": \"1.24.0\"}',\n",
       "  '_aml_system_scenario_identification': 'Remote.Parent',\n",
       "  'ClientType': 'SDK',\n",
       "  'environment_cpu_name': 'AzureML-AutoML',\n",
       "  'environment_cpu_label': 'prod',\n",
       "  'environment_gpu_name': 'AzureML-AutoML-GPU',\n",
       "  'environment_gpu_label': 'prod',\n",
       "  'root_attribution': 'automl',\n",
       "  'attribution': 'AutoML',\n",
       "  'Orchestrator': 'AutoML',\n",
       "  'CancelUri': 'https://southcentralus.experiments.azureml.net/jasmine/v1.0/subscriptions/610d6e37-4747-4a20-80eb-3aad70a55f43/resourceGroups/aml-quickstarts-141031/providers/Microsoft.MachineLearningServices/workspaces/quick-starts-ws-141031/experimentids/35738bf7-994c-4abb-9d37-108158899477/cancel/AutoML_4c8b955c-9895-4d84-bbc7-96a12522b18d',\n",
       "  'ClientSdkVersion': '1.24.0',\n",
       "  'snapshotId': '00000000-0000-0000-0000-000000000000',\n",
       "  'SetupRunId': 'AutoML_4c8b955c-9895-4d84-bbc7-96a12522b18d_setup',\n",
       "  'SetupRunContainerId': 'dcid.AutoML_4c8b955c-9895-4d84-bbc7-96a12522b18d_setup',\n",
       "  'FeaturizationRunJsonPath': 'featurizer_container.json',\n",
       "  'FeaturizationRunId': 'AutoML_4c8b955c-9895-4d84-bbc7-96a12522b18d_featurize',\n",
       "  'ProblemInfoJsonString': '{\"dataset_num_categorical\": 0, \"is_sparse\": true, \"subsampling\": false, \"dataset_classes\": 2, \"dataset_features\": 78, \"dataset_samples\": 19158, \"single_frequency_class_detected\": false}',\n",
       "  'ModelExplainRunId': 'AutoML_4c8b955c-9895-4d84-bbc7-96a12522b18d_ModelExplain'},\n",
       " 'inputDatasets': [{'dataset': {'id': 'c99c92b9-14b3-41af-8af4-ea479fc85c5d'}, 'consumptionDetails': {'type': 'RunInput', 'inputName': 'training_data', 'mechanism': 'Direct'}}],\n",
       " 'outputDatasets': [],\n",
       " 'logFiles': {},\n",
       " 'submittedBy': 'ODL_User 141031'}"
      ]
     },
     "execution_count": 10,
     "metadata": {},
     "output_type": "execute_result"
    }
   ],
   "source": [
    "remote_run.wait_for_completion(show_output=True)"
   ]
  },
  {
   "cell_type": "markdown",
   "metadata": {},
   "source": [
    "## Best Model\n",
    "\n",
    "\n",
    "\n"
   ]
  },
  {
   "cell_type": "code",
   "execution_count": 11,
   "metadata": {},
   "outputs": [
    {
     "data": {
      "text/html": [
       "<table style=\"width:100%\"><tr><th>Experiment</th><th>Id</th><th>Type</th><th>Status</th><th>Details Page</th><th>Docs Page</th></tr><tr><td>automl-job-change-expt</td><td>AutoML_4c8b955c-9895-4d84-bbc7-96a12522b18d_48</td><td>azureml.scriptrun</td><td>Completed</td><td><a href=\"https://ml.azure.com/experiments/automl-job-change-expt/runs/AutoML_4c8b955c-9895-4d84-bbc7-96a12522b18d_48?wsid=/subscriptions/610d6e37-4747-4a20-80eb-3aad70a55f43/resourcegroups/aml-quickstarts-141031/workspaces/quick-starts-ws-141031\" target=\"_blank\" rel=\"noopener\">Link to Azure Machine Learning studio</a></td><td><a href=\"https://docs.microsoft.com/en-us/python/api/azureml-core/azureml.core.run.Run?view=azure-ml-py\" target=\"_blank\" rel=\"noopener\">Link to Documentation</a></td></tr></table>"
      ],
      "text/plain": [
       "Run(Experiment: automl-job-change-expt,\n",
       "Id: AutoML_4c8b955c-9895-4d84-bbc7-96a12522b18d_48,\n",
       "Type: azureml.scriptrun,\n",
       "Status: Completed)"
      ]
     },
     "execution_count": 11,
     "metadata": {},
     "output_type": "execute_result"
    }
   ],
   "source": [
    "automl_best_run, model= remote_run.get_output()\n",
    "automl_best_run"
   ]
  },
  {
   "cell_type": "code",
   "execution_count": 12,
   "metadata": {
    "gather": {
     "logged": 1598431426111
    },
    "jupyter": {
     "outputs_hidden": false,
     "source_hidden": false
    },
    "nteract": {
     "transient": {
      "deleting": false
     }
    }
   },
   "outputs": [
    {
     "name": "stdout",
     "output_type": "stream",
     "text": [
      "Best Run ID:  AutoML_4c8b955c-9895-4d84-bbc7-96a12522b18d_48\n",
      "Accuracy:  0.8004488986324251\n"
     ]
    }
   ],
   "source": [
    "metrics = automl_best_run.get_metrics()\n",
    "parameters = automl_best_run.get_details()\n",
    "\n",
    "print(\"Best Run ID: \",automl_best_run.id)\n",
    "print(\"Accuracy: \",metrics[\"accuracy\"])"
   ]
  },
  {
   "cell_type": "code",
   "execution_count": 13,
   "metadata": {},
   "outputs": [
    {
     "data": {
      "text/plain": [
       "PreFittedSoftVotingClassifier(classification_labels=None,\n",
       "                              estimators=[('31',\n",
       "                                           Pipeline(memory=None,\n",
       "                                                    steps=[('standardscalerwrapper',\n",
       "                                                            <azureml.automl.runtime.shared.model_wrappers.StandardScalerWrapper object at 0x7fadc75c9c50>),\n",
       "                                                           ('lightgbmclassifier',\n",
       "                                                            LightGBMClassifier(boosting_type='gbdt',\n",
       "                                                                               class_weight=None,\n",
       "                                                                               colsample_bytree=0.6933333333333332,\n",
       "                                                                               importance_typ...\n",
       "                                                                                   min_samples_split=0.2442105263157895,\n",
       "                                                                                   min_weight_fraction_leaf=0.0,\n",
       "                                                                                   n_estimators=10,\n",
       "                                                                                   n_jobs=-1,\n",
       "                                                                                   oob_score=False,\n",
       "                                                                                   random_state=None,\n",
       "                                                                                   verbose=0,\n",
       "                                                                                   warm_start=False))],\n",
       "                                                    verbose=False))],\n",
       "                              flatten_transform=None,\n",
       "                              weights=[0.26666666666666666, 0.06666666666666667,\n",
       "                                       0.06666666666666667, 0.06666666666666667,\n",
       "                                       0.06666666666666667, 0.06666666666666667,\n",
       "                                       0.13333333333333333,\n",
       "                                       0.26666666666666666])"
      ]
     },
     "execution_count": 13,
     "metadata": {},
     "output_type": "execute_result"
    }
   ],
   "source": [
    "model._final_estimator"
   ]
  },
  {
   "cell_type": "code",
   "execution_count": 14,
   "metadata": {},
   "outputs": [
    {
     "data": {
      "text/plain": [
       "['outputs/automl_model.joblib']"
      ]
     },
     "execution_count": 14,
     "metadata": {},
     "output_type": "execute_result"
    }
   ],
   "source": [
    "# Save the best model\n",
    "joblib.dump(model, filename=\"outputs/automl_model.joblib\")"
   ]
  },
  {
   "cell_type": "code",
   "execution_count": 15,
   "metadata": {},
   "outputs": [
    {
     "data": {
      "text/plain": [
       "'AutoML4c8b955c948'"
      ]
     },
     "execution_count": 15,
     "metadata": {},
     "output_type": "execute_result"
    }
   ],
   "source": [
    "model_name = automl_best_run.properties['model_name']\n",
    "model_name"
   ]
  },
  {
   "cell_type": "markdown",
   "metadata": {},
   "source": [
    "## Model Deployment\n",
    "\n"
   ]
  },
  {
   "cell_type": "code",
   "execution_count": 16,
   "metadata": {
    "gather": {
     "logged": 1598431435189
    },
    "jupyter": {
     "outputs_hidden": false,
     "source_hidden": false
    },
    "nteract": {
     "transient": {
      "deleting": false
     }
    }
   },
   "outputs": [],
   "source": [
    "env = automl_best_run.get_environment().save_to_directory(path='environments')\n",
    "\n",
    "script_file= 'score.py'\n",
    "\n",
    "automl_best_run.download_file('outputs/scoring_file_v_1_0_0.py', script_file)"
   ]
  },
  {
   "cell_type": "code",
   "execution_count": 17,
   "metadata": {},
   "outputs": [
    {
     "data": {
      "text/plain": [
       "'AutoML4c8b955c948:1'"
      ]
     },
     "execution_count": 17,
     "metadata": {},
     "output_type": "execute_result"
    }
   ],
   "source": [
    "model = remote_run.register_model(model_name = model_name, description = 'AutoML best model')\n",
    "\n",
    "model.id"
   ]
  },
  {
   "cell_type": "code",
   "execution_count": 18,
   "metadata": {},
   "outputs": [],
   "source": [
    "inference_config= InferenceConfig(entry_script = script_file, environment = env)\n",
    "aci_config= AciWebservice.deploy_configuration(cpu_cores = 1, memory_gb = 1)"
   ]
  },
  {
   "cell_type": "code",
   "execution_count": 19,
   "metadata": {},
   "outputs": [
    {
     "name": "stdout",
     "output_type": "stream",
     "text": [
      "Tips: You can try get_logs(): https://aka.ms/debugimage#dockerlog or local deployment: https://aka.ms/debugimage#debug-locally to debug if deployment takes longer than 10 minutes.\n",
      "Running\n",
      "2021-03-21 12:42:08+00:00 Creating Container Registry if not exists.\n",
      "2021-03-21 12:42:09+00:00 Use the existing image.\n",
      "2021-03-21 12:42:09+00:00 Generating deployment configuration.\n",
      "2021-03-21 12:42:11+00:00 Submitting deployment to compute..\n",
      "2021-03-21 12:42:16+00:00 Checking the status of deployment analytics-api..\n",
      "2021-03-21 12:45:54+00:00 Checking the status of inference endpoint analytics-api.\n",
      "Succeeded\n",
      "ACI service creation operation finished, operation \"Succeeded\"\n"
     ]
    }
   ],
   "source": [
    "service = Model.deploy(ws, 'analytics-api', [model], inference_config, aci_config)\n",
    "service.wait_for_deployment(True)"
   ]
  },
  {
   "cell_type": "code",
   "execution_count": 20,
   "metadata": {},
   "outputs": [
    {
     "name": "stdout",
     "output_type": "stream",
     "text": [
      "State: Healthy\n",
      "Scoring URI: http://62222515-5a71-4175-a1ae-13605caa2184.southcentralus.azurecontainer.io/score\n"
     ]
    }
   ],
   "source": [
    "print(\"State: \" + service.state)\n",
    "print(\"Scoring URI: \" + service.scoring_uri)"
   ]
  },
  {
   "cell_type": "code",
   "execution_count": 21,
   "metadata": {},
   "outputs": [
    {
     "name": "stdout",
     "output_type": "stream",
     "text": [
      "{\"result\": [0.0, 0.0, 0.0]}\n"
     ]
    }
   ],
   "source": [
    "%run endpoint.py"
   ]
  },
  {
   "cell_type": "code",
   "execution_count": 26,
   "metadata": {},
   "outputs": [],
   "source": [
    "service.delete()"
   ]
  }
 ],
 "metadata": {
  "kernel_info": {
   "name": "python3-azureml"
  },
  "kernelspec": {
   "display_name": "Python 3",
   "language": "python",
   "name": "python3"
  },
  "language_info": {
   "codemirror_mode": {
    "name": "ipython",
    "version": 3
   },
   "file_extension": ".py",
   "mimetype": "text/x-python",
   "name": "python",
   "nbconvert_exporter": "python",
   "pygments_lexer": "ipython3",
   "version": "3.6.9"
  },
  "nteract": {
   "version": "nteract-front-end@1.0.0"
  }
 },
 "nbformat": 4,
 "nbformat_minor": 2
}
